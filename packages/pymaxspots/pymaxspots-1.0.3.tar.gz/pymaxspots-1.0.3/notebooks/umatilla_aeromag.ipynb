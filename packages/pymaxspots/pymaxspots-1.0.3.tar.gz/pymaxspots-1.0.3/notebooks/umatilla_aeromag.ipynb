{
 "cells": [
  {
   "cell_type": "markdown",
   "id": "7c8cba11",
   "metadata": {},
   "source": [
    "## Demonstrating PyMaxspots with the Umatilla aeromagnetics dataset"
   ]
  },
  {
   "cell_type": "markdown",
   "id": "c1737fbe-d0de-4244-9e35-8cd7aa3142a9",
   "metadata": {},
   "source": [
    "In this notebook, we will demonstrate how to use the **pymaxpots** package to identify max spots and create lineations from aeromagnetic data.\n",
    "\n",
    "First we import some necessary libraries."
   ]
  },
  {
   "cell_type": "code",
   "execution_count": 1,
   "id": "0adfdf14-0f2d-4b92-b498-881235476088",
   "metadata": {},
   "outputs": [],
   "source": [
    "import numpy as np\n",
    "import pandas as pd\n",
    "import pathlib\n",
    "import rasterio"
   ]
  },
  {
   "cell_type": "markdown",
   "id": "70a151ad-4eef-4b88-9cd2-f91c47b23205",
   "metadata": {},
   "source": [
    "Next we load the **pymaxspots** library."
   ]
  },
  {
   "cell_type": "code",
   "execution_count": 2,
   "id": "41569afa-53c4-4fa2-8c94-3378774a4ab9",
   "metadata": {},
   "outputs": [],
   "source": [
    "import pymaxspots"
   ]
  },
  {
   "cell_type": "markdown",
   "id": "d19f63dd-5bb8-4ab6-91d9-86a98b80161b",
   "metadata": {},
   "source": [
    "Now we load the dataset from northeastern Oregon (Earney and others, 2022).  This dataset contains the pseudogravity transform from the aeromagnetic data."
   ]
  },
  {
   "cell_type": "code",
   "execution_count": null,
   "id": "f82de1a1-57e4-4e3c-8683-963225c213f4",
   "metadata": {},
   "outputs": [
    {
     "ename": "RasterioIOError",
     "evalue": "data\\Umatilla_final_220308\\Magnetics\\Umatilla_aeromag_Pseudogravity.tif: No such file or directory",
     "output_type": "error",
     "traceback": [
      "\u001b[31m---------------------------------------------------------------------------\u001b[39m",
      "\u001b[31mCPLE_OpenFailedError\u001b[39m                      Traceback (most recent call last)",
      "\u001b[36mFile \u001b[39m\u001b[32mrasterio\\\\_base.pyx:310\u001b[39m, in \u001b[36mrasterio._base.DatasetBase.__init__\u001b[39m\u001b[34m()\u001b[39m\n",
      "\u001b[36mFile \u001b[39m\u001b[32mrasterio\\\\_base.pyx:221\u001b[39m, in \u001b[36mrasterio._base.open_dataset\u001b[39m\u001b[34m()\u001b[39m\n",
      "\u001b[36mFile \u001b[39m\u001b[32mrasterio\\\\_err.pyx:359\u001b[39m, in \u001b[36mrasterio._err.exc_wrap_pointer\u001b[39m\u001b[34m()\u001b[39m\n",
      "\u001b[31mCPLE_OpenFailedError\u001b[39m: data\\Umatilla_final_220308\\Magnetics\\Umatilla_aeromag_Pseudogravity.tif: No such file or directory",
      "\nDuring handling of the above exception, another exception occurred:\n",
      "\u001b[31mRasterioIOError\u001b[39m                           Traceback (most recent call last)",
      "\u001b[36mCell\u001b[39m\u001b[36m \u001b[39m\u001b[32mIn[3]\u001b[39m\u001b[32m, line 2\u001b[39m\n\u001b[32m      1\u001b[39m pseudograv_raster_path = pathlib.Path(\u001b[33m\"\u001b[39m\u001b[33mdata/Umatilla_final_220308/Magnetics/Umatilla_aeromag_Pseudogravity.tif\u001b[39m\u001b[33m\"\u001b[39m)\n\u001b[32m----> \u001b[39m\u001b[32m2\u001b[39m pseudograv_dataset = \u001b[43mrasterio\u001b[49m\u001b[43m.\u001b[49m\u001b[43mopen\u001b[49m\u001b[43m(\u001b[49m\u001b[43mpseudograv_raster_path\u001b[49m\u001b[43m)\u001b[49m\n",
      "\u001b[36mFile \u001b[39m\u001b[32mc:\\Users\\ccronkite-ratcliff\\AppData\\Local\\miniforge3\\envs\\pymaxspots_review\\Lib\\site-packages\\rasterio\\env.py:463\u001b[39m, in \u001b[36mensure_env_with_credentials.<locals>.wrapper\u001b[39m\u001b[34m(*args, **kwds)\u001b[39m\n\u001b[32m    460\u001b[39m     session = DummySession()\n\u001b[32m    462\u001b[39m \u001b[38;5;28;01mwith\u001b[39;00m env_ctor(session=session):\n\u001b[32m--> \u001b[39m\u001b[32m463\u001b[39m     \u001b[38;5;28;01mreturn\u001b[39;00m \u001b[43mf\u001b[49m\u001b[43m(\u001b[49m\u001b[43m*\u001b[49m\u001b[43margs\u001b[49m\u001b[43m,\u001b[49m\u001b[43m \u001b[49m\u001b[43m*\u001b[49m\u001b[43m*\u001b[49m\u001b[43mkwds\u001b[49m\u001b[43m)\u001b[49m\n",
      "\u001b[36mFile \u001b[39m\u001b[32mc:\\Users\\ccronkite-ratcliff\\AppData\\Local\\miniforge3\\envs\\pymaxspots_review\\Lib\\site-packages\\rasterio\\__init__.py:368\u001b[39m, in \u001b[36mopen\u001b[39m\u001b[34m(fp, mode, driver, width, height, count, crs, transform, dtype, nodata, sharing, opener, **kwargs)\u001b[39m\n\u001b[32m    365\u001b[39m     path = _parse_path(raw_dataset_path)\n\u001b[32m    367\u001b[39m \u001b[38;5;28;01mif\u001b[39;00m mode == \u001b[33m\"\u001b[39m\u001b[33mr\u001b[39m\u001b[33m\"\u001b[39m:\n\u001b[32m--> \u001b[39m\u001b[32m368\u001b[39m     dataset = \u001b[43mDatasetReader\u001b[49m\u001b[43m(\u001b[49m\u001b[43mpath\u001b[49m\u001b[43m,\u001b[49m\u001b[43m \u001b[49m\u001b[43mdriver\u001b[49m\u001b[43m=\u001b[49m\u001b[43mdriver\u001b[49m\u001b[43m,\u001b[49m\u001b[43m \u001b[49m\u001b[43msharing\u001b[49m\u001b[43m=\u001b[49m\u001b[43msharing\u001b[49m\u001b[43m,\u001b[49m\u001b[43m \u001b[49m\u001b[43m*\u001b[49m\u001b[43m*\u001b[49m\u001b[43mkwargs\u001b[49m\u001b[43m)\u001b[49m\n\u001b[32m    369\u001b[39m \u001b[38;5;28;01melif\u001b[39;00m mode == \u001b[33m\"\u001b[39m\u001b[33mr+\u001b[39m\u001b[33m\"\u001b[39m:\n\u001b[32m    370\u001b[39m     dataset = get_writer_for_path(path, driver=driver)(\n\u001b[32m    371\u001b[39m         path, mode, driver=driver, sharing=sharing, **kwargs\n\u001b[32m    372\u001b[39m     )\n",
      "\u001b[36mFile \u001b[39m\u001b[32mrasterio\\\\_base.pyx:312\u001b[39m, in \u001b[36mrasterio._base.DatasetBase.__init__\u001b[39m\u001b[34m()\u001b[39m\n",
      "\u001b[31mRasterioIOError\u001b[39m: data\\Umatilla_final_220308\\Magnetics\\Umatilla_aeromag_Pseudogravity.tif: No such file or directory"
     ]
    }
   ],
   "source": [
    "pseudograv_raster_path = pathlib.Path(\"../data/Umatilla_final_220308/Magnetics/Umatilla_aeromag_Pseudogravity.tif\")\n",
    "pseudograv_dataset = rasterio.open(pseudograv_raster_path)"
   ]
  },
  {
   "cell_type": "markdown",
   "id": "eadcf686-5d4a-4e8a-b240-fe18f9c96216",
   "metadata": {},
   "source": [
    "Now we read the pseudogravity data from the dataset.  We need to take some additional steps to replace any \"nodata\" values to NAN, to ensure that these values are not used to calculate the maxspots."
   ]
  },
  {
   "cell_type": "code",
   "execution_count": null,
   "id": "79a21290-40fc-46c0-b7ed-76e88f82a15c",
   "metadata": {},
   "outputs": [],
   "source": [
    "masked_img = pseudograv_dataset.read(1, masked=True) # get the first band from the file\n",
    "pseudograv = masked_img.filled(np.nan) # replace all instances of the nodata value with np.nan"
   ]
  },
  {
   "cell_type": "markdown",
   "id": "db36143b-ecdd-4000-a681-a44d6d6b844e",
   "metadata": {},
   "source": [
    "Now we get the \"geotransform\" which is the parameters that define the grid.  Note that by default, `dy` is usually negative, but **pymaxspots** requires that both `dx` and `dy` be positive."
   ]
  },
  {
   "cell_type": "code",
   "execution_count": null,
   "id": "cf2a96bc-cc56-4532-b07f-069e1019ebce",
   "metadata": {},
   "outputs": [],
   "source": [
    "ulx, dx, rr, uly, cr, dy = pseudograv_dataset.get_transform()\n",
    "dy_abs = np.abs(dy) # ensuring that dy is represented as a positive value"
   ]
  },
  {
   "cell_type": "markdown",
   "id": "c44f556b",
   "metadata": {},
   "source": [
    "Next, we use `pymaxspots.horizontal_gradient_magnitude()` to calculate the horizontal gradient magnitude (HGM) of the pseudogravity data."
   ]
  },
  {
   "cell_type": "code",
   "execution_count": null,
   "id": "a32fd6d4",
   "metadata": {},
   "outputs": [],
   "source": [
    "hgm = pymaxspots.horizontal_gradient_magnitude(pseudograv, dx, dy_abs)"
   ]
  },
  {
   "cell_type": "markdown",
   "id": "f0c97722-cd98-4cd4-8e03-93fbff99473d",
   "metadata": {},
   "source": [
    "Now we are ready to use `pymaxspots.maxspots()` to calculate the maxspots:"
   ]
  },
  {
   "cell_type": "code",
   "execution_count": null,
   "id": "d3879ac7-58ff-45b5-af34-67f9cbe7538d",
   "metadata": {},
   "outputs": [],
   "source": [
    "max_spots = pymaxspots.maxspots(hgm, ulx, uly, dx, dy_abs)"
   ]
  },
  {
   "cell_type": "markdown",
   "id": "4018518c",
   "metadata": {},
   "source": [
    "`pymaxspots.maxspots()` returns a structured numpy array, with each row representing a different point.  The columns are as follows:\n",
    "- `ID` (str): string description of shape of curvature of max point.\n",
    "- `X` (float): x-coordinate.\n",
    "- `Y` (float): y-coordinate.\n",
    "- `HGM` (float): value of horizontal gradient magnitude at the max spot.\n",
    "- `elong` (float): elongation ratio (e1/e2).\n",
    "- `strike` (float): azimuth of principle direction of elongation.\n",
    "- `e1` (float): big eigenvalue.\n",
    "- `e2` (float): small eigenvalue.\n",
    "- `type` (int): integer number denoting curvature shape."
   ]
  },
  {
   "cell_type": "code",
   "execution_count": null,
   "id": "7d875ff5-1f7e-49ce-9084-877d4aec1e14",
   "metadata": {},
   "outputs": [],
   "source": [
    "max_spots"
   ]
  },
  {
   "cell_type": "markdown",
   "id": "29ca374e",
   "metadata": {},
   "source": [
    "We can easily convert this array into a **pandas** data frame for easier data manipulation:"
   ]
  },
  {
   "cell_type": "code",
   "execution_count": null,
   "id": "59582364",
   "metadata": {},
   "outputs": [],
   "source": [
    "max_spots_df = pd.DataFrame(max_spots)"
   ]
  },
  {
   "cell_type": "markdown",
   "id": "e72bfaef",
   "metadata": {},
   "source": [
    "Now, we will convert the data frame object `max_spots_df` into a geospatial object using **geopandas**, and save it as a shapefile.  To do this, we need the coordinate system of the data, which we will get from the HGM file. "
   ]
  },
  {
   "cell_type": "code",
   "execution_count": null,
   "id": "e443ba05",
   "metadata": {},
   "outputs": [],
   "source": [
    "import geopandas as gpd\n",
    "\n",
    "crs_from_hgm = pseudograv_dataset.crs # get the coordinate system from the HGM file\n",
    "\n",
    "max_points_gdf = gpd.GeoDataFrame(max_spots_df,\n",
    "                                  geometry=gpd.points_from_xy(max_spots_df['X'],\n",
    "                                  max_spots_df['Y'], crs=crs_from_hgm))\n",
    "\n",
    "max_points_gdf.to_file(\"umatilla_aeromag_maxspots.shp\", driver=\"ESRI Shapefile\")"
   ]
  },
  {
   "cell_type": "markdown",
   "id": "83ef64f8",
   "metadata": {},
   "source": [
    "Now we will display the most interesting subset of these points on a map.\n",
    "\n",
    "Typically we are most interested in points where the curvature shape is classified as a \"ridge\" because these points form linear features that can be associated with geologic structures, such as faults.\n",
    "\n",
    "We will select the maxspots that have a shape classification of \"ridge\":"
   ]
  },
  {
   "cell_type": "code",
   "execution_count": null,
   "id": "cf5368e0",
   "metadata": {},
   "outputs": [],
   "source": [
    "max_spots_df_ridge = max_spots_df[max_spots_df[\"ID\"]==\"ridge\"]"
   ]
  },
  {
   "cell_type": "markdown",
   "id": "fd0d39d9",
   "metadata": {},
   "source": [
    "Now we will display these points in map view using the **matplotlib** package."
   ]
  },
  {
   "cell_type": "code",
   "execution_count": null,
   "id": "bdc9e069",
   "metadata": {},
   "outputs": [],
   "source": [
    "import matplotlib.pyplot as plt\n",
    "\n",
    "fig, ax = plt.subplots(1, 1)\n",
    "ax.scatter(max_spots_df_ridge[\"X\"], max_spots_df_ridge[\"Y\"], s=0.5)\n",
    "ax.set_xlabel(\"Easting (m)\")\n",
    "ax.set_ylabel(\"Northing (m)\")\n",
    "ax.set_aspect(\"equal\")"
   ]
  },
  {
   "cell_type": "markdown",
   "id": "b2cb5c89",
   "metadata": {},
   "source": [
    "Now, we will connect these \"ridge\" points into lines using the `pymaxspots.maxspots_lineations()` function.\n",
    "\n",
    "This function connects the points together into lines if they are within a maximum distance of each other (set by the `dist_tol` parameter), and if each subsequent line segment is within a maximum azimuth angle (set by the `azimuth_tol` parameter) of the previous segment.  Lines must have a minimum number of points (set by the `min_line_segments` parameter).\n",
    "\n",
    "The user does not need to input any of these parameters, as they will be set by default, but we will demonstrate how to use them here.\n",
    "\n",
    "First, we can assign the maximum distance tolerance as 1.75 times the the mean distance between nearest neighbor pairs."
   ]
  },
  {
   "cell_type": "code",
   "execution_count": null,
   "id": "489aa836",
   "metadata": {},
   "outputs": [],
   "source": [
    "mean_nn_dist = pymaxspots.mean_nearest_neighbor_distance(max_spots_df_ridge[\"X\"], max_spots_df_ridge[\"Y\"])\n",
    "dist_tol = 1.75 * mean_nn_dist\n",
    "print(\"dist_tol = {}\".format(dist_tol))"
   ]
  },
  {
   "cell_type": "markdown",
   "id": "06feff3a",
   "metadata": {},
   "source": [
    "Let's now use `pymaxspots.maxspots_lineations()` to connect the points into lines.  We will use the previously calculated distance tolerance, and we will set an azimuth tolerance of 40 degrees and set the minimum number of line segments to 3."
   ]
  },
  {
   "cell_type": "code",
   "execution_count": null,
   "id": "79dcef11",
   "metadata": {},
   "outputs": [],
   "source": [
    "# find the lineations\n",
    "lines = pymaxspots.maxspots_lineations(max_spots_df_ridge[\"X\"], max_spots_df_ridge[\"Y\"], dist_tol=dist_tol, azimuth_tol=40, min_line_segments=3)"
   ]
  },
  {
   "cell_type": "markdown",
   "id": "ce2d37d4",
   "metadata": {},
   "source": [
    "Note that `pymaxspots.maxspots_lineations()` returns a list of \"lines\".  Each \"line\" is a list of the indices of the `x, y` coordinates, ordered in the sequence in which they are connected.\n",
    "\n",
    "We can obtain the connected sequence of coordinates by using these indices.  By using the **shapely** library, we can convert each line into a vector line feature."
   ]
  },
  {
   "cell_type": "code",
   "execution_count": null,
   "id": "3efdbeb1",
   "metadata": {},
   "outputs": [],
   "source": [
    "from shapely.geometry import LineString\n",
    "\n",
    "X = np.c_[max_spots_df_ridge[\"X\"], max_spots_df_ridge[\"Y\"]]\n",
    "lines_xy = [LineString([X[i] for i in line]) for line in lines]"
   ]
  },
  {
   "cell_type": "markdown",
   "id": "92565b53",
   "metadata": {},
   "source": [
    "We can also save these line features as a shapefile using **geopandas**."
   ]
  },
  {
   "cell_type": "code",
   "execution_count": null,
   "id": "fde514b5",
   "metadata": {},
   "outputs": [],
   "source": [
    "lines_xy_gdf = gpd.GeoDataFrame(geometry=lines_xy, crs=crs_from_hgm)\n",
    "lines_xy_gdf.to_file(\"umatilla_aeromag_lineations.shp\", driver=\"ESRI Shapefile\")"
   ]
  },
  {
   "cell_type": "markdown",
   "id": "2136c5cf",
   "metadata": {},
   "source": [
    "We can also display the line features in map view using **matplotlib**:"
   ]
  },
  {
   "cell_type": "code",
   "execution_count": null,
   "id": "6c36ea53",
   "metadata": {},
   "outputs": [],
   "source": [
    "fig, ax = plt.subplots()\n",
    "\n",
    "lines_xy_gdf.plot(ax=ax, lw=0.5, color=\"red\")\n",
    "ax.set_xlabel(\"Easting (m)\")\n",
    "ax.set_ylabel(\"Northing (m)\")\n",
    "ax.set_aspect(\"equal\")"
   ]
  }
 ],
 "metadata": {
  "kernelspec": {
   "display_name": "pymaxspots_review",
   "language": "python",
   "name": "python3"
  },
  "language_info": {
   "codemirror_mode": {
    "name": "ipython",
    "version": 3
   },
   "file_extension": ".py",
   "mimetype": "text/x-python",
   "name": "python",
   "nbconvert_exporter": "python",
   "pygments_lexer": "ipython3",
   "version": "3.13.5"
  }
 },
 "nbformat": 4,
 "nbformat_minor": 5
}
