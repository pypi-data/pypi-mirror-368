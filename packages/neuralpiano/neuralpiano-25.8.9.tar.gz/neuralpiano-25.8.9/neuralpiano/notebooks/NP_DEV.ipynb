{
 "cells": [
  {
   "cell_type": "markdown",
   "id": "2071766f-f7f8-40ce-a039-37625a2f5bdb",
   "metadata": {},
   "source": [
    "# Setup"
   ]
  },
  {
   "cell_type": "code",
   "execution_count": null,
   "id": "e2cdfc8b-610f-4942-aa27-51194901eac9",
   "metadata": {},
   "outputs": [],
   "source": [
    "!git clone https://github.com/asigalov61/neuralpiano"
   ]
  },
  {
   "cell_type": "code",
   "execution_count": null,
   "id": "24b851ed-a71e-4dcd-bfdf-193183d72ad8",
   "metadata": {
    "scrolled": true
   },
   "outputs": [],
   "source": [
    "%cd /home/ubuntu/neuralpiano\n",
    "!pip install -r requirements.txt\n",
    "%cd /home/ubuntu/"
   ]
  },
  {
   "cell_type": "code",
   "execution_count": null,
   "id": "42c1b81e-066b-4e6d-bd3c-10b2dadc25cd",
   "metadata": {},
   "outputs": [],
   "source": [
    "import torch\n",
    "\n",
    "print(torch.__version__)\n",
    "\n",
    "import torchaudio\n",
    "\n",
    "print(torchaudio.__version__)"
   ]
  },
  {
   "cell_type": "code",
   "execution_count": null,
   "id": "52615d06-be84-4b2f-91f0-78a9f42a7b47",
   "metadata": {},
   "outputs": [],
   "source": [
    "import sys\n",
    "\n",
    "sys.path.append('/home/ubuntu/neuralpiano/neuralpiano/')"
   ]
  },
  {
   "cell_type": "markdown",
   "id": "3e3a668f-4933-4915-a767-d759b4d0cbfb",
   "metadata": {},
   "source": [
    "# Training"
   ]
  },
  {
   "cell_type": "code",
   "execution_count": null,
   "id": "ad8bb3e6-ecf7-4da8-8b3b-3a2548567716",
   "metadata": {
    "scrolled": true
   },
   "outputs": [],
   "source": [
    "%cd neuralpiano/neuralpiano/msd/\n",
    "\n",
    "!python main.py fit --config cfg/diff_base_44k.yaml\n",
    "\n",
    "%cd ~"
   ]
  },
  {
   "cell_type": "markdown",
   "id": "82bff3c6-7801-470c-858e-22b19456ee24",
   "metadata": {},
   "source": [
    "# Inference"
   ]
  },
  {
   "cell_type": "code",
   "execution_count": null,
   "id": "84288877-f3ac-4af5-9129-ec3fc8a2f3ba",
   "metadata": {
    "scrolled": true
   },
   "outputs": [],
   "source": [
    "%cd neuralpiano/neuralpiano/msd/\n",
    "\n",
    "!python infer_bvg_2.py \\\n",
    "/home/ubuntu/neuralpiano/neuralpiano/msd/test.mid \\\n",
    "/home/ubuntu/last.ckpt /home/ubuntu/neuralpiano/neuralpiano/msd/diff_base_44k.yaml \\\n",
    "/home/ubuntu/output.wav\n",
    "            \n",
    "%cd ~"
   ]
  },
  {
   "cell_type": "markdown",
   "id": "e1292714-606f-407f-945b-2842e0bd644f",
   "metadata": {},
   "source": [
    "# Other stuff"
   ]
  },
  {
   "cell_type": "code",
   "execution_count": null,
   "id": "3a9c6600-5c90-40f9-8d38-07ca226cbce3",
   "metadata": {},
   "outputs": [],
   "source": [
    "!pip install -U torchaudio"
   ]
  },
  {
   "cell_type": "code",
   "execution_count": null,
   "id": "1d103cba-4c5a-423e-88f2-5cd049b781b3",
   "metadata": {},
   "outputs": [],
   "source": [
    "!pip install -U importlib"
   ]
  },
  {
   "cell_type": "code",
   "execution_count": null,
   "id": "a2a6328a-6ba2-4384-a49a-177e1d3ab4f5",
   "metadata": {},
   "outputs": [],
   "source": [
    "!pip uninstall torch torchvision -y"
   ]
  },
  {
   "cell_type": "code",
   "execution_count": null,
   "id": "a4297ff7-316a-4030-a855-597d85dc01d2",
   "metadata": {},
   "outputs": [],
   "source": [
    "!pip uninstall lightning[extra] -y"
   ]
  },
  {
   "cell_type": "code",
   "execution_count": null,
   "id": "285b5b76-239f-4795-8043-ffe4afa60c1d",
   "metadata": {},
   "outputs": [],
   "source": [
    "!pip install -U lightning[extra]"
   ]
  },
  {
   "cell_type": "code",
   "execution_count": null,
   "id": "517f9a1a-cbd1-41c6-87ce-1886133837e7",
   "metadata": {},
   "outputs": [],
   "source": [
    "import os\n",
    "\n",
    "def merge_text_files(files, output_path, title):\n",
    "    sep = \"=\" * 120\n",
    "\n",
    "    # If output exists, wipe it so we start clean\n",
    "    if os.path.exists(output_path):\n",
    "        os.remove(output_path)\n",
    "\n",
    "    with open(output_path, \"w\", encoding=\"utf-8\") as out:\n",
    "        # 1) Title header\n",
    "        out.write(f\"{sep} {title} {sep}\\n\\n\")\n",
    "\n",
    "        # 2) Each file\n",
    "        for path in files:\n",
    "            name = os.path.basename(path)\n",
    "            out.write(f\"{sep} {name} {sep}\\n\\n\")\n",
    "\n",
    "            with open(path, \"r\", encoding=\"utf-8\") as inp:\n",
    "                for line in inp:\n",
    "                    # ensure exactly one newline per line\n",
    "                    out.write(line.rstrip(\"\\n\") + \"\\n\")\n",
    "            out.write(\"\\n\")  # blank line after file\n",
    "\n",
    "    print(f\"✅ Merged {len(files)} files into {output_path}\")\n",
    "\n",
    "# Example usage\n",
    "file_list = ['/home/ubuntu/music-spectrogram-diffusion-pytorch/cfg/diff_base_44k.yaml',\n",
    "             '/home/ubuntu/music-spectrogram-diffusion-pytorch/lightning/diff.py', \n",
    "             '/home/ubuntu/music-spectrogram-diffusion-pytorch/models/diff_decoder.py', \n",
    "             '/home/ubuntu/music-spectrogram-diffusion-pytorch/lightning/mel_db.py'\n",
    "            ]\n",
    "\n",
    "output_file = '/home/ubuntu/model.txt'\n",
    "title = 'MIDI 2 Spectrogram Diffusion Model Code'\n",
    "\n",
    "merge_text_files(file_list, output_file, title)"
   ]
  }
 ],
 "metadata": {
  "kernelspec": {
   "display_name": "Python 3 (ipykernel)",
   "language": "python",
   "name": "python3"
  },
  "language_info": {
   "codemirror_mode": {
    "name": "ipython",
    "version": 3
   },
   "file_extension": ".py",
   "mimetype": "text/x-python",
   "name": "python",
   "nbconvert_exporter": "python",
   "pygments_lexer": "ipython3",
   "version": "3.10.12"
  }
 },
 "nbformat": 4,
 "nbformat_minor": 5
}
