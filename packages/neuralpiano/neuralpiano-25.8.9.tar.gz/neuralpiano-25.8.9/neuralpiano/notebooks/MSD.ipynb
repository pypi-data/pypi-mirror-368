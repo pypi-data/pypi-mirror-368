{
 "cells": [
  {
   "cell_type": "code",
   "execution_count": null,
   "id": "e2cdfc8b-610f-4942-aa27-51194901eac9",
   "metadata": {},
   "outputs": [],
   "source": [
    "!git clone https://github.com/asigalov61/music-spectrogram-diffusion-pytorch"
   ]
  },
  {
   "cell_type": "code",
   "execution_count": null,
   "id": "24b851ed-a71e-4dcd-bfdf-193183d72ad8",
   "metadata": {
    "scrolled": true
   },
   "outputs": [],
   "source": [
    "%cd music-spectrogram-diffusion-pytorch\n",
    "!pip install -r requirements.txt"
   ]
  },
  {
   "cell_type": "code",
   "execution_count": null,
   "id": "164e9c14-ec80-4d3f-9f6f-deb06c686651",
   "metadata": {
    "scrolled": true
   },
   "outputs": [],
   "source": [
    "%cd /home/ubuntu/\n",
    "!git clone https://github.com/NVIDIA/BigVGAN\n",
    "%cd /home/ubuntu/BigVGAN/\n",
    "!pip install -r requirements.txt\n",
    "%cd /home/ubuntu/"
   ]
  },
  {
   "cell_type": "code",
   "execution_count": null,
   "id": "bda452ff-4afa-407f-9a22-bb0b92af7e23",
   "metadata": {},
   "outputs": [],
   "source": [
    "!pip install diffusers"
   ]
  },
  {
   "cell_type": "code",
   "execution_count": null,
   "id": "56f2c871-691d-4d87-a4bc-3c1828c65b68",
   "metadata": {},
   "outputs": [],
   "source": [
    "!pip install transformers"
   ]
  },
  {
   "cell_type": "code",
   "execution_count": null,
   "id": "3a9c6600-5c90-40f9-8d38-07ca226cbce3",
   "metadata": {},
   "outputs": [],
   "source": [
    "!pip install -U torchaudio"
   ]
  },
  {
   "cell_type": "code",
   "execution_count": null,
   "id": "e25ce168-3768-490c-bda2-07c682ca791c",
   "metadata": {},
   "outputs": [],
   "source": [
    "!pip install torchaudio==2.7.0"
   ]
  },
  {
   "cell_type": "code",
   "execution_count": null,
   "id": "1c2117e4-bb9d-48cf-a25a-0aa507146587",
   "metadata": {},
   "outputs": [],
   "source": [
    "!pip uninstall torch torchaudio -y"
   ]
  },
  {
   "cell_type": "code",
   "execution_count": null,
   "id": "42c1b81e-066b-4e6d-bd3c-10b2dadc25cd",
   "metadata": {},
   "outputs": [],
   "source": [
    "import torch\n",
    "\n",
    "print(torch.__version__)\n",
    "\n",
    "import torchaudio\n",
    "\n",
    "print(torchaudio.__version__)"
   ]
  },
  {
   "cell_type": "code",
   "execution_count": null,
   "id": "c2410da8-c8fd-4158-ba89-da0ba4a499db",
   "metadata": {},
   "outputs": [],
   "source": [
    "!pip install --upgrade pytorch-lightning\n"
   ]
  },
  {
   "cell_type": "code",
   "execution_count": null,
   "id": "ad8bb3e6-ecf7-4da8-8b3b-3a2548567716",
   "metadata": {
    "scrolled": true
   },
   "outputs": [],
   "source": [
    "%cd music-spectrogram-diffusion-pytorch\n",
    "\n",
    "!python main.py fit --config cfg/diff_base_44k.yaml\n",
    "\n",
    "%cd ~"
   ]
  },
  {
   "cell_type": "code",
   "execution_count": null,
   "id": "84288877-f3ac-4af5-9129-ec3fc8a2f3ba",
   "metadata": {
    "scrolled": true
   },
   "outputs": [],
   "source": [
    "%cd music-spectrogram-diffusion-pytorch\n",
    "\n",
    "!python infer_bvg_2.py test.mid /home/ubuntu/last.ckpt /home/ubuntu/music-spectrogram-diffusion-pytorch/cfg/diff_base_44k.yaml output.wav\n",
    "%cd ~"
   ]
  },
  {
   "cell_type": "code",
   "execution_count": null,
   "id": "517f9a1a-cbd1-41c6-87ce-1886133837e7",
   "metadata": {},
   "outputs": [],
   "source": [
    "import os\n",
    "\n",
    "def merge_text_files(files, output_path, title):\n",
    "    sep = \"=\" * 120\n",
    "\n",
    "    # If output exists, wipe it so we start clean\n",
    "    if os.path.exists(output_path):\n",
    "        os.remove(output_path)\n",
    "\n",
    "    with open(output_path, \"w\", encoding=\"utf-8\") as out:\n",
    "        # 1) Title header\n",
    "        out.write(f\"{sep} {title} {sep}\\n\\n\")\n",
    "\n",
    "        # 2) Each file\n",
    "        for path in files:\n",
    "            name = os.path.basename(path)\n",
    "            out.write(f\"{sep} {name} {sep}\\n\\n\")\n",
    "\n",
    "            with open(path, \"r\", encoding=\"utf-8\") as inp:\n",
    "                for line in inp:\n",
    "                    # ensure exactly one newline per line\n",
    "                    out.write(line.rstrip(\"\\n\") + \"\\n\")\n",
    "            out.write(\"\\n\")  # blank line after file\n",
    "\n",
    "    print(f\"✅ Merged {len(files)} files into {output_path}\")\n",
    "\n",
    "# Example usage\n",
    "file_list = ['/home/ubuntu/music-spectrogram-diffusion-pytorch/cfg/diff_base_44k.yaml',\n",
    "             '/home/ubuntu/music-spectrogram-diffusion-pytorch/lightning/diff.py', \n",
    "             '/home/ubuntu/music-spectrogram-diffusion-pytorch/models/diff_decoder.py', \n",
    "             '/home/ubuntu/music-spectrogram-diffusion-pytorch/lightning/mel_db.py'\n",
    "            ]\n",
    "\n",
    "output_file = '/home/ubuntu/model.txt'\n",
    "title = 'MIDI 2 Spectrogram Diffusion Model Code'\n",
    "\n",
    "merge_text_files(file_list, output_file, title)"
   ]
  },
  {
   "cell_type": "code",
   "execution_count": null,
   "id": "f9ae26c8-6add-4374-bbb5-2e90d44f9a96",
   "metadata": {},
   "outputs": [],
   "source": []
  }
 ],
 "metadata": {
  "kernelspec": {
   "display_name": "Python 3 (ipykernel)",
   "language": "python",
   "name": "python3"
  },
  "language_info": {
   "codemirror_mode": {
    "name": "ipython",
    "version": 3
   },
   "file_extension": ".py",
   "mimetype": "text/x-python",
   "name": "python",
   "nbconvert_exporter": "python",
   "pygments_lexer": "ipython3",
   "version": "3.10.12"
  }
 },
 "nbformat": 4,
 "nbformat_minor": 5
}
