{
 "cells": [
  {
   "cell_type": "code",
   "execution_count": null,
   "id": "d59bcc0f-0a9f-4305-bc94-aef6cfdfa974",
   "metadata": {},
   "outputs": [],
   "source": [
    "import pkg_resources\n",
    "import os\n",
    "\n",
    "def freeze_requirements(input_file='requirements.txt', output_file='requirements_freeze.txt'):\n",
    "    if not os.path.exists(input_file):\n",
    "        raise FileNotFoundError(f\"{input_file} not found.\")\n",
    "\n",
    "    frozen_lines = []\n",
    "    with open(input_file, 'r') as f:\n",
    "        for line in f:\n",
    "            package = line.strip()\n",
    "            if not package or package.startswith('#'):\n",
    "                continue  # Skip empty lines and comments\n",
    "\n",
    "            try:\n",
    "                # Extract base package name (ignore version specifiers)\n",
    "                base_name = pkg_resources.Requirement.parse(package).project_name\n",
    "                version = pkg_resources.get_distribution(base_name).version\n",
    "                frozen_lines.append(f\"{base_name}=={version}\")\n",
    "            except pkg_resources.DistributionNotFound:\n",
    "                print(f\"⚠️ Package '{package}' not found in the current environment.\")\n",
    "                frozen_lines.append(package)  # Keep original line if not found\n",
    "\n",
    "    with open(output_file, 'w') as f_out:\n",
    "        f_out.write('\\n'.join(frozen_lines))\n",
    "\n",
    "    print(f\"✅ Frozen requirements written to '{output_file}'\")"
   ]
  },
  {
   "cell_type": "code",
   "execution_count": null,
   "id": "557ddb62-d83d-4c94-9cf5-54bf071e3f8c",
   "metadata": {},
   "outputs": [],
   "source": [
    "freeze_requirements()"
   ]
  }
 ],
 "metadata": {
  "kernelspec": {
   "display_name": "Python 3 (ipykernel)",
   "language": "python",
   "name": "python3"
  },
  "language_info": {
   "codemirror_mode": {
    "name": "ipython",
    "version": 3
   },
   "file_extension": ".py",
   "mimetype": "text/x-python",
   "name": "python",
   "nbconvert_exporter": "python",
   "pygments_lexer": "ipython3",
   "version": "3.10.12"
  }
 },
 "nbformat": 4,
 "nbformat_minor": 5
}
