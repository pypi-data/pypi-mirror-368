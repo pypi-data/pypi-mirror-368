{
 "cells": [
  {
   "cell_type": "markdown",
   "id": "b1d5fcfc-813b-46e4-bc35-3266f459916a",
   "metadata": {},
   "source": [
    "# Fast download"
   ]
  },
  {
   "cell_type": "code",
   "execution_count": null,
   "id": "16bd7006-d021-4c51-ad8b-6e01e7ace5c9",
   "metadata": {},
   "outputs": [],
   "source": [
    "!pip install huggingface_hub\n",
    "!pip install hf-transfer\n",
    "!pip install tqdm\n",
    "!pip install ipywidgets\n",
    "\n",
    "!sudo apt install p7zip-full -y"
   ]
  },
  {
   "cell_type": "code",
   "execution_count": null,
   "id": "90096a2f-8cc1-44b5-8385-270562f13f8b",
   "metadata": {},
   "outputs": [],
   "source": [
    "from huggingface_hub import hf_hub_download\n",
    "\n",
    "hf_hub_download(repo_id='projectlosangeles/maestro-v3.0.0',\n",
    "                filename='maestro-v3.0.0.zip',\n",
    "                local_dir='/home/ubuntu/',\n",
    "                repo_type='dataset'\n",
    "                )"
   ]
  },
  {
   "cell_type": "code",
   "execution_count": null,
   "id": "bfe82843-8577-4e61-867c-571b29e53f0d",
   "metadata": {},
   "outputs": [],
   "source": [
    "!7z x 'maestro-v3.0.0.zip' -o'./MAESTRO' -mmt -y"
   ]
  },
  {
   "cell_type": "markdown",
   "id": "fa707467-b48c-408c-ac0f-bf585ad56c3f",
   "metadata": {},
   "source": [
    "# Source download"
   ]
  },
  {
   "cell_type": "code",
   "execution_count": null,
   "id": "32dab513-902e-49cc-a0b6-37bd9a2fbec2",
   "metadata": {},
   "outputs": [],
   "source": [
    "!mkdir MAESTRO\n",
    "\n",
    "%cd /home/ubuntu/MAESTRO\n",
    "!wget https://storage.googleapis.com/magentadata/datasets/maestro/v3.0.0/maestro-v3.0.0.zip\n",
    "!unzip maestro-v3.0.0.zip > /dev/null\n",
    "%cd ~"
   ]
  }
 ],
 "metadata": {
  "kernelspec": {
   "display_name": "Python 3 (ipykernel)",
   "language": "python",
   "name": "python3"
  },
  "language_info": {
   "codemirror_mode": {
    "name": "ipython",
    "version": 3
   },
   "file_extension": ".py",
   "mimetype": "text/x-python",
   "name": "python",
   "nbconvert_exporter": "python",
   "pygments_lexer": "ipython3",
   "version": "3.10.12"
  }
 },
 "nbformat": 4,
 "nbformat_minor": 5
}
