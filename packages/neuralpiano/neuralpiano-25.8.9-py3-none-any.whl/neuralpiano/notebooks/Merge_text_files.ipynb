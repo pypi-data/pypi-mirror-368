{
 "cells": [
  {
   "cell_type": "code",
   "execution_count": null,
   "id": "97131b1e-7957-4235-b4e1-fb3a5e0d0566",
   "metadata": {},
   "outputs": [],
   "source": [
    "import os\n",
    "\n",
    "def merge_text_files(files, output_path, title):\n",
    "    sep = \"=\" * 120\n",
    "\n",
    "    # If output exists, wipe it so we start clean\n",
    "    if os.path.exists(output_path):\n",
    "        os.remove(output_path)\n",
    "\n",
    "    with open(output_path, \"w\", encoding=\"utf-8\") as out:\n",
    "        # 1) Title header\n",
    "        out.write(f\"{sep} {title} {sep}\\n\\n\")\n",
    "\n",
    "        # 2) Each file\n",
    "        for path in files:\n",
    "            name = os.path.basename(path)\n",
    "            out.write(f\"{sep} {name} {sep}\\n\\n\")\n",
    "\n",
    "            with open(path, \"r\", encoding=\"utf-8\") as inp:\n",
    "                for line in inp:\n",
    "                    # ensure exactly one newline per line\n",
    "                    out.write(line.rstrip(\"\\n\") + \"\\n\")\n",
    "            out.write(\"\\n\")  # blank line after file\n",
    "\n",
    "    print(f\"✅ Merged {len(files)} files into {output_path}\")\n",
    "\n",
    "# Example usage\n",
    "file_list = ['/home/ubuntu/neuralpiano/neuralpiano/msd/diff_base_44k.yaml',\n",
    "             '/home/ubuntu/neuralpiano/neuralpiano/msd/diff.py', \n",
    "             '/home/ubuntu/neuralpiano/neuralpiano/msd/diff_decoder.py', \n",
    "             '/home/ubuntu/neuralpiano/neuralpiano/msd/mel.py'\n",
    "            ]\n",
    "\n",
    "output_file = '/home/ubuntu/model.txt'\n",
    "title = 'MIDI 2 Spectrogram Diffusion Model Code'\n",
    "\n",
    "merge_text_files(file_list, output_file, title)"
   ]
  }
 ],
 "metadata": {
  "kernelspec": {
   "display_name": "Python 3 (ipykernel)",
   "language": "python",
   "name": "python3"
  },
  "language_info": {
   "codemirror_mode": {
    "name": "ipython",
    "version": 3
   },
   "file_extension": ".py",
   "mimetype": "text/x-python",
   "name": "python",
   "nbconvert_exporter": "python",
   "pygments_lexer": "ipython3",
   "version": "3.10.12"
  }
 },
 "nbformat": 4,
 "nbformat_minor": 5
}
