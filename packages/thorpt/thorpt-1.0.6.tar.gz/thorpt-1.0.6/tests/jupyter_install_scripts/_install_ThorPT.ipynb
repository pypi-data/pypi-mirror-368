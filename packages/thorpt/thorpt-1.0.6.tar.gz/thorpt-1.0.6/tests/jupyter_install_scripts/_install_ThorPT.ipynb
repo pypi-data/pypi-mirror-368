{
 "cells": [
  {
   "cell_type": "markdown",
   "metadata": {},
   "source": [
    "This is the installtion script to use ThorPT in the jupyter notebook environment.\n",
    "\n",
    "Before to use the software we have to install ThorPT and some necessary dependencies.\n",
    "\n",
    "Please run now the cells to install first the dependencies and then ThorPT to your python environment.\n",
    "\n",
    "Advanced users might want to use a virtual environment."
   ]
  },
  {
   "cell_type": "code",
   "execution_count": null,
   "metadata": {},
   "outputs": [],
   "source": [
    "%pip install numpy\n",
    "%pip install seaborn\n",
    "%pip install matplotlib\n",
    "%pip install pandas\n",
    "%pip install h5py\n",
    "%pip install scipy\n",
    "%pip install imageio\n",
    "%pip install PyQt5\n",
    "%pip install pygame\n"
   ]
  },
  {
   "cell_type": "code",
   "execution_count": null,
   "metadata": {},
   "outputs": [],
   "source": [
    "%pip install -i https://test.pypi.org/simple/ thorpt\n",
    "%pip install -i https://test.pypi.org/simple/ thorpt -U"
   ]
  },
  {
   "cell_type": "markdown",
   "metadata": {},
   "source": [
    "The latest updates included the link to Julia packages for this we have to take care on 3 things\n",
    "1) Install the programming language Julia on your computer (https://julialang.org/)\n",
    "2) Import Julia\n",
    "3) Julia has to be installed to your python environment once before usage\n",
    "\n",
    "Steps 2 and 3 can be done by excuting the cell below"
   ]
  },
  {
   "cell_type": "code",
   "execution_count": null,
   "metadata": {},
   "outputs": [],
   "source": [
    "import julia\n",
    "julia.install()"
   ]
  }
 ],
 "metadata": {
  "kernelspec": {
   "display_name": "Python 3 (ipykernel)",
   "language": "python",
   "name": "python3"
  },
  "language_info": {
   "codemirror_mode": {
    "name": "ipython",
    "version": 3
   },
   "file_extension": ".py",
   "mimetype": "text/x-python",
   "name": "python",
   "nbconvert_exporter": "python",
   "pygments_lexer": "ipython3",
   "version": "3.9.6"
  }
 },
 "nbformat": 4,
 "nbformat_minor": 2
}
