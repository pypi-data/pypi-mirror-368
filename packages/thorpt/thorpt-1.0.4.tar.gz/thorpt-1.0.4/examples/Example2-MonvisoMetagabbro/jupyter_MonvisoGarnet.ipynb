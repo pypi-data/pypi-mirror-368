{
 "cells": [
  {
   "cell_type": "markdown",
   "metadata": {},
   "source": [
    "__This cell executes ThorPT__"
   ]
  },
  {
   "cell_type": "code",
   "execution_count": null,
   "metadata": {},
   "outputs": [],
   "source": [
    "from thorpt import start_ThorPT\n",
    "%matplotlib qt\n",
    "start_ThorPT.run_main_routine()"
   ]
  },
  {
   "cell_type": "markdown",
   "metadata": {},
   "source": [
    "Loading the hdf5 data file"
   ]
  },
  {
   "cell_type": "code",
   "execution_count": null,
   "metadata": {},
   "outputs": [],
   "source": [
    "# Import the functions\n",
    "from thorpt.xorki import *\n",
    "\n",
    "# Read data from a hdf5 to a variable\n",
    "data = ThorPT_hdf5_reader()\n",
    "data.open_ThorPT_hdf5()\n",
    "\n",
    "# Activate the plotting module\n",
    "compPlot = ThorPT_plots(data.filename, data.mainfolder, data.rock, data.compiledrock)"
   ]
  },
  {
   "cell_type": "markdown",
   "metadata": {},
   "source": [
    "Phase assemblage and garnet diffusion plot"
   ]
  },
  {
   "cell_type": "code",
   "execution_count": null,
   "metadata": {},
   "outputs": [],
   "source": [
    "for key in data.rock.keys():\n",
    "    print(key)\n",
    "    # Phase assemblage plot\n",
    "    compPlot.phases_stack_plot(rock_tag=key, img_save=True,\n",
    "                            val_tag='volume', transparent=False, fluid_porosity=True)\n",
    "\n",
    "    # Garnet visualization with diffusion modelling\n",
    "    compPlot.garnet_visualization_diffusion(\n",
    "        key, garnet_size=1000, diffusion_time=20,\n",
    "        input_temperature=540, input_pressure=2.0,\n",
    "        img_save=True\n",
    "        )\n"
   ]
  },
  {
   "cell_type": "code",
   "execution_count": null,
   "metadata": {},
   "outputs": [],
   "source": []
  }
 ],
 "metadata": {
  "kernelspec": {
   "display_name": "Python 3 (ipykernel)",
   "language": "python",
   "name": "python3"
  },
  "language_info": {
   "codemirror_mode": {
    "name": "ipython",
    "version": 3
   },
   "file_extension": ".py",
   "mimetype": "text/x-python",
   "name": "python",
   "nbconvert_exporter": "python",
   "pygments_lexer": "ipython3",
   "version": "3.9.6"
  }
 },
 "nbformat": 4,
 "nbformat_minor": 2
}
