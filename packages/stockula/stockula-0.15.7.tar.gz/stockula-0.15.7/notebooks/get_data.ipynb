{
 "cells": [
  {
   "cell_type": "code",
   "execution_count": 1,
   "id": "e72f8da3-5405-41a8-9a3b-716da8bcbd82",
   "metadata": {},
   "outputs": [],
   "source": [
    "import numpy as np\n",
    "import pandas as pd\n",
    "import yfinance as yf"
   ]
  },
  {
   "cell_type": "code",
   "execution_count": 35,
   "id": "2f21f746-dc09-431c-80a1-8ec79afe3acf",
   "metadata": {},
   "outputs": [],
   "source": [
    "tickers = [\n",
    "    \"NVDA\",\n",
    "    \"AMD\",\n",
    "    \"TSM\",\n",
    "    \"AAPL\",\n",
    "    \"MSFT\",\n",
    "    \"GOOGL\",\n",
    "    \"AMZN\",\n",
    "    \"META\",\n",
    "    \"TSLA\",\n",
    "    \"PLTR\",\n",
    "    \"LIDR\",\n",
    "    \"OPEN\",\n",
    "    \"SOFI\",\n",
    "    \"IONQ\",\n",
    "]\n",
    "start, end = \"2025-04-25\", \"2025-07-25\"\n",
    "\n",
    "# 3‑month Treasury yield on 25 Jul 2025 ≈ 4.42 %\n",
    "rf_annual = 0.0442\n",
    "rf_daily = (1 + rf_annual) ** (1 / 252) - 1\n",
    "rf_monthly = (1 + rf_annual) ** (1 / 12) - 1"
   ]
  },
  {
   "cell_type": "code",
   "execution_count": 41,
   "id": "f3a6ae2b-b8e5-4156-af2b-4e371171bd8e",
   "metadata": {},
   "outputs": [
    {
     "name": "stderr",
     "output_type": "stream",
     "text": [
      "/var/folders/28/m7gm_18956vc6yqrg114c9wh0000gn/T/ipykernel_86393/783122381.py:7: FutureWarning: YF.download() has changed argument auto_adjust default to True\n",
      "  px = yf.download(t, start=start, end=end, progress=False)['Close']\n",
      "/var/folders/28/m7gm_18956vc6yqrg114c9wh0000gn/T/ipykernel_86393/783122381.py:11: FutureWarning: 'M' is deprecated and will be removed in a future version, please use 'ME' instead.\n",
      "  monthly_ret = px.resample('M').last().pct_change().dropna()\n",
      "/var/folders/28/m7gm_18956vc6yqrg114c9wh0000gn/T/ipykernel_86393/783122381.py:7: FutureWarning: YF.download() has changed argument auto_adjust default to True\n",
      "  px = yf.download(t, start=start, end=end, progress=False)['Close']\n",
      "/var/folders/28/m7gm_18956vc6yqrg114c9wh0000gn/T/ipykernel_86393/783122381.py:11: FutureWarning: 'M' is deprecated and will be removed in a future version, please use 'ME' instead.\n",
      "  monthly_ret = px.resample('M').last().pct_change().dropna()\n",
      "/var/folders/28/m7gm_18956vc6yqrg114c9wh0000gn/T/ipykernel_86393/783122381.py:7: FutureWarning: YF.download() has changed argument auto_adjust default to True\n",
      "  px = yf.download(t, start=start, end=end, progress=False)['Close']\n",
      "/var/folders/28/m7gm_18956vc6yqrg114c9wh0000gn/T/ipykernel_86393/783122381.py:11: FutureWarning: 'M' is deprecated and will be removed in a future version, please use 'ME' instead.\n",
      "  monthly_ret = px.resample('M').last().pct_change().dropna()\n",
      "/var/folders/28/m7gm_18956vc6yqrg114c9wh0000gn/T/ipykernel_86393/783122381.py:7: FutureWarning: YF.download() has changed argument auto_adjust default to True\n",
      "  px = yf.download(t, start=start, end=end, progress=False)['Close']\n",
      "/var/folders/28/m7gm_18956vc6yqrg114c9wh0000gn/T/ipykernel_86393/783122381.py:11: FutureWarning: 'M' is deprecated and will be removed in a future version, please use 'ME' instead.\n",
      "  monthly_ret = px.resample('M').last().pct_change().dropna()\n",
      "/var/folders/28/m7gm_18956vc6yqrg114c9wh0000gn/T/ipykernel_86393/783122381.py:7: FutureWarning: YF.download() has changed argument auto_adjust default to True\n",
      "  px = yf.download(t, start=start, end=end, progress=False)['Close']\n",
      "/var/folders/28/m7gm_18956vc6yqrg114c9wh0000gn/T/ipykernel_86393/783122381.py:11: FutureWarning: 'M' is deprecated and will be removed in a future version, please use 'ME' instead.\n",
      "  monthly_ret = px.resample('M').last().pct_change().dropna()\n",
      "/var/folders/28/m7gm_18956vc6yqrg114c9wh0000gn/T/ipykernel_86393/783122381.py:7: FutureWarning: YF.download() has changed argument auto_adjust default to True\n",
      "  px = yf.download(t, start=start, end=end, progress=False)['Close']\n",
      "/var/folders/28/m7gm_18956vc6yqrg114c9wh0000gn/T/ipykernel_86393/783122381.py:11: FutureWarning: 'M' is deprecated and will be removed in a future version, please use 'ME' instead.\n",
      "  monthly_ret = px.resample('M').last().pct_change().dropna()\n",
      "/var/folders/28/m7gm_18956vc6yqrg114c9wh0000gn/T/ipykernel_86393/783122381.py:7: FutureWarning: YF.download() has changed argument auto_adjust default to True\n",
      "  px = yf.download(t, start=start, end=end, progress=False)['Close']\n",
      "/var/folders/28/m7gm_18956vc6yqrg114c9wh0000gn/T/ipykernel_86393/783122381.py:11: FutureWarning: 'M' is deprecated and will be removed in a future version, please use 'ME' instead.\n",
      "  monthly_ret = px.resample('M').last().pct_change().dropna()\n",
      "/var/folders/28/m7gm_18956vc6yqrg114c9wh0000gn/T/ipykernel_86393/783122381.py:7: FutureWarning: YF.download() has changed argument auto_adjust default to True\n",
      "  px = yf.download(t, start=start, end=end, progress=False)['Close']\n",
      "/var/folders/28/m7gm_18956vc6yqrg114c9wh0000gn/T/ipykernel_86393/783122381.py:11: FutureWarning: 'M' is deprecated and will be removed in a future version, please use 'ME' instead.\n",
      "  monthly_ret = px.resample('M').last().pct_change().dropna()\n",
      "/var/folders/28/m7gm_18956vc6yqrg114c9wh0000gn/T/ipykernel_86393/783122381.py:7: FutureWarning: YF.download() has changed argument auto_adjust default to True\n",
      "  px = yf.download(t, start=start, end=end, progress=False)['Close']\n",
      "/var/folders/28/m7gm_18956vc6yqrg114c9wh0000gn/T/ipykernel_86393/783122381.py:11: FutureWarning: 'M' is deprecated and will be removed in a future version, please use 'ME' instead.\n",
      "  monthly_ret = px.resample('M').last().pct_change().dropna()\n",
      "/var/folders/28/m7gm_18956vc6yqrg114c9wh0000gn/T/ipykernel_86393/783122381.py:7: FutureWarning: YF.download() has changed argument auto_adjust default to True\n",
      "  px = yf.download(t, start=start, end=end, progress=False)['Close']\n",
      "/var/folders/28/m7gm_18956vc6yqrg114c9wh0000gn/T/ipykernel_86393/783122381.py:11: FutureWarning: 'M' is deprecated and will be removed in a future version, please use 'ME' instead.\n",
      "  monthly_ret = px.resample('M').last().pct_change().dropna()\n",
      "/var/folders/28/m7gm_18956vc6yqrg114c9wh0000gn/T/ipykernel_86393/783122381.py:7: FutureWarning: YF.download() has changed argument auto_adjust default to True\n",
      "  px = yf.download(t, start=start, end=end, progress=False)['Close']\n",
      "/var/folders/28/m7gm_18956vc6yqrg114c9wh0000gn/T/ipykernel_86393/783122381.py:11: FutureWarning: 'M' is deprecated and will be removed in a future version, please use 'ME' instead.\n",
      "  monthly_ret = px.resample('M').last().pct_change().dropna()\n",
      "/var/folders/28/m7gm_18956vc6yqrg114c9wh0000gn/T/ipykernel_86393/783122381.py:7: FutureWarning: YF.download() has changed argument auto_adjust default to True\n",
      "  px = yf.download(t, start=start, end=end, progress=False)['Close']\n",
      "/var/folders/28/m7gm_18956vc6yqrg114c9wh0000gn/T/ipykernel_86393/783122381.py:11: FutureWarning: 'M' is deprecated and will be removed in a future version, please use 'ME' instead.\n",
      "  monthly_ret = px.resample('M').last().pct_change().dropna()\n",
      "/var/folders/28/m7gm_18956vc6yqrg114c9wh0000gn/T/ipykernel_86393/783122381.py:7: FutureWarning: YF.download() has changed argument auto_adjust default to True\n",
      "  px = yf.download(t, start=start, end=end, progress=False)['Close']\n",
      "/var/folders/28/m7gm_18956vc6yqrg114c9wh0000gn/T/ipykernel_86393/783122381.py:11: FutureWarning: 'M' is deprecated and will be removed in a future version, please use 'ME' instead.\n",
      "  monthly_ret = px.resample('M').last().pct_change().dropna()\n",
      "/var/folders/28/m7gm_18956vc6yqrg114c9wh0000gn/T/ipykernel_86393/783122381.py:7: FutureWarning: YF.download() has changed argument auto_adjust default to True\n",
      "  px = yf.download(t, start=start, end=end, progress=False)['Close']\n",
      "/var/folders/28/m7gm_18956vc6yqrg114c9wh0000gn/T/ipykernel_86393/783122381.py:11: FutureWarning: 'M' is deprecated and will be removed in a future version, please use 'ME' instead.\n",
      "  monthly_ret = px.resample('M').last().pct_change().dropna()\n"
     ]
    }
   ],
   "source": [
    "def sharpe(series, rf):\n",
    "    excess = series - rf\n",
    "    return (excess.mean() / excess.std(ddof=0)).values[0]\n",
    "\n",
    "\n",
    "rows = []\n",
    "for t in tickers:\n",
    "    px = yf.download(t, start=start, end=end, progress=False)[\"Close\"]\n",
    "    daily_ret = px.pct_change().dropna()\n",
    "    ann_sharpe = np.sqrt(252) * sharpe(daily_ret, rf_daily)\n",
    "\n",
    "    monthly_ret = px.resample(\"M\").last().pct_change().dropna()\n",
    "    mon_sharpe = np.sqrt(12) * sharpe(monthly_ret, rf_monthly)\n",
    "\n",
    "    rows.append((t, ann_sharpe, mon_sharpe))"
   ]
  },
  {
   "cell_type": "code",
   "execution_count": 43,
   "id": "a97e7cd8-e317-4002-ae6a-d0f249b4f575",
   "metadata": {},
   "outputs": [
    {
     "name": "stdout",
     "output_type": "stream",
     "text": [
      "        Sharpe_Annual  Sharpe_Monthly\n",
      "Ticker                               \n",
      "NVDA             6.15           10.01\n",
      "MSFT             5.57            5.29\n",
      "AMD              5.40            9.53\n",
      "TSM              5.29            9.53\n",
      "SOFI             4.97            5.52\n",
      "META             3.83            3.50\n",
      "OPEN             3.36            2.12\n",
      "AMZN             3.22           11.62\n",
      "LIDR             2.64            3.29\n",
      "PLTR             2.54            7.24\n",
      "GOOGL            2.50            7.81\n",
      "IONQ             2.11            3.12\n",
      "TSLA             0.71            0.80\n",
      "AAPL             0.33           -0.03\n"
     ]
    }
   ],
   "source": [
    "out = pd.DataFrame(rows, columns=[\"Ticker\", \"Sharpe_Annual\", \"Sharpe_Monthly\"])\n",
    "print(out.set_index(\"Ticker\").round(2).sort_values(\"Sharpe_Annual\", ascending=False))"
   ]
  },
  {
   "cell_type": "code",
   "execution_count": null,
   "id": "da7bc08d-6618-455b-ba87-4607ce8892b0",
   "metadata": {},
   "outputs": [],
   "source": []
  }
 ],
 "metadata": {
  "kernelspec": {
   "display_name": "Python 3 (ipykernel)",
   "language": "python",
   "name": "python3"
  },
  "language_info": {
   "codemirror_mode": {
    "name": "ipython",
    "version": 3
   },
   "file_extension": ".py",
   "mimetype": "text/x-python",
   "name": "python",
   "nbconvert_exporter": "python",
   "pygments_lexer": "ipython3",
   "version": "3.13.3"
  }
 },
 "nbformat": 4,
 "nbformat_minor": 5
}
