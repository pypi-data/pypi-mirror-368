{
 "cells": [
  {
   "cell_type": "code",
   "execution_count": 1,
   "id": "b6ab9453",
   "metadata": {},
   "outputs": [
    {
     "name": "stdout",
     "output_type": "stream",
     "text": [
      "warning: failed to import ipdb\n"
     ]
    }
   ],
   "source": [
    "from qubic.rpc_server import run_rpc_server\n",
    "import logging\n",
    "from datetime import datetime\n",
    "logging.basicConfig(level=logging.DEBUG, format='%(asctime)s %(levelname)s: %(message)s',\n",
    "                    handlers=[logging.FileHandler(f\"rpc_server_logs/rpc_server_{datetime.now().isoformat(timespec='seconds')}.log\"), \n",
    "                              logging.StreamHandler()])"
   ]
  },
  {
   "cell_type": "code",
   "execution_count": null,
   "id": "a331ec9b",
   "metadata": {
    "scrolled": true
   },
   "outputs": [
    {
     "data": {
      "application/javascript": "\ntry {\nrequire(['notebook/js/codecell'], function(codecell) {\n  codecell.CodeCell.options_default.highlight_modes[\n      'magic_text/x-csrc'] = {'reg':[/^%%microblaze/]};\n  Jupyter.notebook.events.one('kernel_ready.Kernel', function(){\n      Jupyter.notebook.get_cells().map(function(cell){\n          if (cell.cell_type == 'code'){ cell.auto_highlight(); } }) ;\n  });\n});\n} catch (e) {};\n"
     },
     "metadata": {},
     "output_type": "display_data"
    },
    {
     "data": {
      "application/javascript": "\ntry {\nrequire(['notebook/js/codecell'], function(codecell) {\n  codecell.CodeCell.options_default.highlight_modes[\n      'magic_text/x-csrc'] = {'reg':[/^%%pybind11/]};\n  Jupyter.notebook.events.one('kernel_ready.Kernel', function(){\n      Jupyter.notebook.get_cells().map(function(cell){\n          if (cell.cell_type == 'code'){ cell.auto_highlight(); } }) ;\n  });\n});\n} catch (e) {};\n"
     },
     "metadata": {},
     "output_type": "display_data"
    },
    {
     "name": "stdout",
     "output_type": "stream",
     "text": [
      "mts: 0\n",
      "RPC server running on 192.168.1.247:9095\n"
     ]
    },
    {
     "name": "stderr",
     "output_type": "stream",
     "text": []
    }
   ],
   "source": [
    "# replace IP with the IP address of your board. Port number is arbitrary; it just has to match the client-side args\n",
    "#   the last argument ('f24f1615') is the commit hash of the PL (FPGA) gateware to use\n",
    "run_rpc_server('192.168.1.247', 9095, 'f24f1615')"
   ]
  },
  {
   "cell_type": "code",
   "execution_count": 5,
   "id": "3964e4a4",
   "metadata": {},
   "outputs": [
    {
     "data": {
      "text/plain": [
       "[<FileHandler /home/xilinx/jupyter_notebooks/rpc_server_2023-06-29T02:06:38.log (NOTSET)>,\n",
       " <StreamHandler stderr (NOTSET)>]"
      ]
     },
     "execution_count": 5,
     "metadata": {},
     "output_type": "execute_result"
    }
   ],
   "source": [
    "logging.root.handlers"
   ]
  },
  {
   "cell_type": "code",
   "execution_count": null,
   "id": "53d573b8",
   "metadata": {},
   "outputs": [],
   "source": []
  }
 ],
 "metadata": {
  "kernelspec": {
   "display_name": "Python 3 (ipykernel)",
   "language": "python",
   "name": "python3"
  },
  "language_info": {
   "codemirror_mode": {
    "name": "ipython",
    "version": 3
   },
   "file_extension": ".py",
   "mimetype": "text/x-python",
   "name": "python",
   "nbconvert_exporter": "python",
   "pygments_lexer": "ipython3",
   "version": "3.10.4"
  }
 },
 "nbformat": 4,
 "nbformat_minor": 5
}
