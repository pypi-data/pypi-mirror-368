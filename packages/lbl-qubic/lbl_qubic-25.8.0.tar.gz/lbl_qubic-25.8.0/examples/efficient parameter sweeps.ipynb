{
 "cells": [
  {
   "cell_type": "code",
   "execution_count": 1,
   "id": "4dcf1f30",
   "metadata": {},
   "outputs": [],
   "source": [
    "import qubic.toolchain as tc\n",
    "import qubic.rpc_client as rc\n",
    "import qubitconfig.qchip as qc\n",
    "from distproc.hwconfig import FPGAConfig, load_channel_configs\n",
    "import numpy as np"
   ]
  },
  {
   "cell_type": "markdown",
   "id": "2855f010",
   "metadata": {},
   "source": [
    "# Load Configs and Define Circuit"
   ]
  },
  {
   "cell_type": "markdown",
   "id": "053e4b2b",
   "metadata": {},
   "source": [
    "define FPGA config; this has timing information for the scheduler. For now it is fine to use the default config"
   ]
  },
  {
   "cell_type": "code",
   "execution_count": 2,
   "id": "f5c7a0c4",
   "metadata": {},
   "outputs": [],
   "source": [
    "fpga_config = FPGAConfig()"
   ]
  },
  {
   "cell_type": "markdown",
   "id": "92681d85",
   "metadata": {},
   "source": [
    "load channel configs (firmware channel mapping + configuration, see [Understanding Channel Configuration](https://gitlab.com/LBL-QubiC/software/-/wikis/Understanding-Channel-Configuration) for details), and QChip object, which contains calibrated gates + readout.\n"
   ]
  },
  {
   "cell_type": "code",
   "execution_count": 3,
   "id": "89e39c66",
   "metadata": {},
   "outputs": [],
   "source": [
    "channel_configs = load_channel_configs('channel_config.json')\n",
    "qchip = qc.QChip('qubitcfg.json')"
   ]
  },
  {
   "cell_type": "markdown",
   "id": "d153cd95",
   "metadata": {},
   "source": [
    "As an alternative to the above, if you're using the chipcalibration repository, you can load all three configs like this:"
   ]
  },
  {
   "cell_type": "code",
   "execution_count": null,
   "id": "39c97603",
   "metadata": {},
   "outputs": [],
   "source": [
    "import chipcalibration.config as cfg\n",
    "chipname = 'X4Y2/sian' #this is a folder in the 'qchip' submodule of chipcalibration, containing the name of your chip\n",
    "fpga_config, qchip, channel_config = cfg.load_configs(chipname)"
   ]
  },
  {
   "cell_type": "markdown",
   "id": "8b68d5eb-5fa4-4644-9f14-d9da186ee052",
   "metadata": {},
   "source": [
    "# Example: Simple Amplitude Sweep"
   ]
  },
  {
   "cell_type": "markdown",
   "id": "bb55d32c-0b67-42fb-8023-a445e4dea5a1",
   "metadata": {},
   "source": [
    "This circuit applies a bit flip on `Q0` conditioned on the classical measurement result from `Q1`. Note that no delays need to be inserted between the `read` on `Q1` and the pulses applied to `Q0`; this is resolved by the compiler according to the `FPROCChannel` objects in the `FPGAConfig`."
   ]
  },
  {
   "cell_type": "code",
   "execution_count": 4,
   "id": "f8c53a13-cdb2-4cad-96b6-4e820c644250",
   "metadata": {},
   "outputs": [],
   "source": [
    "amp_start = 0.1\n",
    "amp_stop = 1\n",
    "amp_step = 0.1\n",
    "\n",
    "circuit = [\n",
    "    {'name': 'declare', 'var': 'amp', 'scope': ['Q0'], 'dtype': 'amp'},\n",
    "    {'name': 'set_var', 'value': amp_start, 'var': 'amp'}, # pulse amplitude is parameterized by processor register\n",
    "    \n",
    "    # loop + increment amplitude by amp_step until it reaches amp_stop\n",
    "    {'name': 'loop', 'cond_lhs': amp_stop, 'alu_cond': 'ge', 'cond_rhs': 'amp', 'scope': ['Q0'], \n",
    "     'body': [\n",
    "         \n",
    "         {'name': 'delay', 't': 500.e-6},\n",
    "         \n",
    "         {'name': 'pulse', 'phase': 0, 'freq': 4944383311, 'amp': 'amp', 'twidth': 2.4e-08,\n",
    "             'env': {'env_func': 'cos_edge_square', 'paradict': {'ramp_fraction': 0.25}},\n",
    "             'dest': 'Q0.qdrv'},\n",
    "         \n",
    "         {'name': 'read', 'qubit': 'Q0'},\n",
    "         \n",
    "         {'name': 'alu', 'op': 'add', 'lhs': amp_step, 'rhs': 'amp', 'out': 'amp'}\n",
    "\n",
    "\n",
    "         \n",
    "     ]}]"
   ]
  },
  {
   "cell_type": "markdown",
   "id": "4eaeeeb3",
   "metadata": {
    "tags": []
   },
   "source": [
    "## Compile and Assemble\n",
    "\n",
    "Compile the program. "
   ]
  },
  {
   "cell_type": "code",
   "execution_count": 5,
   "id": "c9867122",
   "metadata": {},
   "outputs": [
    {
     "name": "stderr",
     "output_type": "stream",
     "text": [
      "WARNING:distproc.ir.passes:Z-phase resolution inside loops not supported, be careful!\n"
     ]
    }
   ],
   "source": [
    "compiled_prog = tc.run_compile_stage(circuit, fpga_config, qchip)"
   ]
  },
  {
   "cell_type": "markdown",
   "id": "f0581293",
   "metadata": {},
   "source": [
    "Run the assembler to convert the above program into machine code that we can load onto the FPGA:"
   ]
  },
  {
   "cell_type": "code",
   "execution_count": 6,
   "id": "f970c778",
   "metadata": {},
   "outputs": [],
   "source": [
    "raw_asm = tc.run_assemble_stage(compiled_prog, channel_configs)"
   ]
  },
  {
   "cell_type": "markdown",
   "id": "657a52b9",
   "metadata": {},
   "source": [
    "## Connect to Server and Run Circuit\n",
    "\n",
    "Now that we've defined our circuit and compiled it to machine code, we can submit it to the ZCU216 and run it.\n",
    "\n",
    "Instantiate the runner client:"
   ]
  },
  {
   "cell_type": "markdown",
   "id": "03f240a8-a441-4c8b-8556-d6d15a813896",
   "metadata": {},
   "source": [
    "# Example: Compound Freq x Amplitude Sweep"
   ]
  },
  {
   "cell_type": "code",
   "execution_count": 7,
   "id": "d18731fe-0913-41d5-a8df-3dbac2d3c094",
   "metadata": {
    "tags": []
   },
   "outputs": [],
   "source": [
    "amp_start = 0.1\n",
    "amp_stop = 1\n",
    "amp_step = 0.1\n",
    "\n",
    "freqs = np.linspace(4.493e9, 4.495e9, 30) # frequencies can be an arbitrary array, \n",
    "                                          # since we're storing them in a table and accessing the address\n",
    "\n",
    "# first, declare all frequencies\n",
    "circuit = [{'name': 'declare_freq', 'freq': freq, 'scope': ['Q0.qdrv'], 'freq_ind': i} \n",
    "           for i, freq in enumerate(freqs)]\n",
    "\n",
    "# fill in the rest of the circuit\n",
    "circuit.extend([\n",
    "    {'name': 'declare', 'var': 'amp', 'scope': ['Q0'], 'dtype': 'amp'},\n",
    "    {'name': 'set_var', 'value': amp_start, 'var': 'amp'}, # pulse amplitude is parameterized by processor register\n",
    "    \n",
    "    {'name': 'declare', 'var': 'freq_ind', 'scope': ['Q0'], 'dtype': 'int'},\n",
    "    {'name': 'set_var', 'value': 0, 'var': 'freq_ind'}, # frequency index is parameterized by a register\n",
    "    \n",
    "    # outer loop over amplitude\n",
    "    {'name': 'loop', 'cond_lhs': amp_stop, 'alu_cond': 'ge', 'cond_rhs': 'amp', 'scope': ['Q0'], \n",
    "     'body': [\n",
    "         # inner loop over frequency\n",
    "         {'name': 'loop', 'cond_lhs': len(freqs), 'alu_cond': 'ge', 'cond_rhs': 'freq_ind', 'scope': ['Q0'], \n",
    "              'body': [\n",
    "\n",
    "                    {'name': 'delay', 't': 500.e-6},\n",
    "                  \n",
    "                    {'name': 'pulse', 'phase': 0, 'freq': 'freq_ind', 'amp': 'amp', 'twidth': 2.4e-08,\n",
    "                         'env': {'env_func': 'cos_edge_square', 'paradict': {'ramp_fraction': 0.25}},\n",
    "                         'dest': 'Q0.qdrv'},\n",
    "                  \n",
    "                    {'name': 'read', 'qubit': 'Q0'},\n",
    "                \n",
    "                    {'name': 'alu', 'op': 'add', 'lhs': 1, 'rhs': 'freq_ind', 'out': 'amp'},\n",
    "\n",
    "                  \n",
    "            ]},\n",
    "         {'name': 'alu', 'op': 'add', 'lhs': amp_step, 'rhs': 'amp', 'out': 'amp'},\n",
    "\n",
    "        ]\n",
    "    }\n",
    "])"
   ]
  },
  {
   "cell_type": "code",
   "execution_count": 8,
   "id": "dc14b9c7-dc90-475e-b7f7-12c7c5640c10",
   "metadata": {
    "tags": []
   },
   "outputs": [
    {
     "name": "stderr",
     "output_type": "stream",
     "text": [
      "WARNING:distproc.ir.passes:Z-phase resolution inside loops not supported, be careful!\n",
      "WARNING:distproc.ir.passes:Z-phase resolution inside loops not supported, be careful!\n"
     ]
    }
   ],
   "source": [
    "compiled_prog = tc.run_compile_stage(circuit, fpga_config, qchip)"
   ]
  },
  {
   "cell_type": "code",
   "execution_count": 9,
   "id": "e1de7cbd-aced-4c07-9057-201a9bf78de5",
   "metadata": {},
   "outputs": [
    {
     "data": {
      "text/plain": [
       "CompiledProgram(program={('Q0.qdrv', 'Q0.rdrv', 'Q0.rdlo'): [{'op': 'phase_reset'}, {'op': 'declare_freq', 'freq': np.float64(4493000000.0), 'channel': 'Q0.qdrv', 'freq_ind': 0}, {'op': 'declare_freq', 'freq': np.float64(4493068965.5172415), 'channel': 'Q0.qdrv', 'freq_ind': 1}, {'op': 'declare_freq', 'freq': np.float64(4493137931.034483), 'channel': 'Q0.qdrv', 'freq_ind': 2}, {'op': 'declare_freq', 'freq': np.float64(4493206896.551724), 'channel': 'Q0.qdrv', 'freq_ind': 3}, {'op': 'declare_freq', 'freq': np.float64(4493275862.068966), 'channel': 'Q0.qdrv', 'freq_ind': 4}, {'op': 'declare_freq', 'freq': np.float64(4493344827.586206), 'channel': 'Q0.qdrv', 'freq_ind': 5}, {'op': 'declare_freq', 'freq': np.float64(4493413793.103448), 'channel': 'Q0.qdrv', 'freq_ind': 6}, {'op': 'declare_freq', 'freq': np.float64(4493482758.620689), 'channel': 'Q0.qdrv', 'freq_ind': 7}, {'op': 'declare_freq', 'freq': np.float64(4493551724.137931), 'channel': 'Q0.qdrv', 'freq_ind': 8}, {'op': 'declare_freq', 'freq': np.float64(4493620689.655172), 'channel': 'Q0.qdrv', 'freq_ind': 9}, {'op': 'declare_freq', 'freq': np.float64(4493689655.172414), 'channel': 'Q0.qdrv', 'freq_ind': 10}, {'op': 'declare_freq', 'freq': np.float64(4493758620.689655), 'channel': 'Q0.qdrv', 'freq_ind': 11}, {'op': 'declare_freq', 'freq': np.float64(4493827586.206897), 'channel': 'Q0.qdrv', 'freq_ind': 12}, {'op': 'declare_freq', 'freq': np.float64(4493896551.724138), 'channel': 'Q0.qdrv', 'freq_ind': 13}, {'op': 'declare_freq', 'freq': np.float64(4493965517.24138), 'channel': 'Q0.qdrv', 'freq_ind': 14}, {'op': 'declare_freq', 'freq': np.float64(4494034482.75862), 'channel': 'Q0.qdrv', 'freq_ind': 15}, {'op': 'declare_freq', 'freq': np.float64(4494103448.275862), 'channel': 'Q0.qdrv', 'freq_ind': 16}, {'op': 'declare_freq', 'freq': np.float64(4494172413.793103), 'channel': 'Q0.qdrv', 'freq_ind': 17}, {'op': 'declare_freq', 'freq': np.float64(4494241379.310345), 'channel': 'Q0.qdrv', 'freq_ind': 18}, {'op': 'declare_freq', 'freq': np.float64(4494310344.827586), 'channel': 'Q0.qdrv', 'freq_ind': 19}, {'op': 'declare_freq', 'freq': np.float64(4494379310.344828), 'channel': 'Q0.qdrv', 'freq_ind': 20}, {'op': 'declare_freq', 'freq': np.float64(4494448275.862069), 'channel': 'Q0.qdrv', 'freq_ind': 21}, {'op': 'declare_freq', 'freq': np.float64(4494517241.379311), 'channel': 'Q0.qdrv', 'freq_ind': 22}, {'op': 'declare_freq', 'freq': np.float64(4494586206.896552), 'channel': 'Q0.qdrv', 'freq_ind': 23}, {'op': 'declare_freq', 'freq': np.float64(4494655172.413794), 'channel': 'Q0.qdrv', 'freq_ind': 24}, {'op': 'declare_freq', 'freq': np.float64(4494724137.931034), 'channel': 'Q0.qdrv', 'freq_ind': 25}, {'op': 'declare_freq', 'freq': np.float64(4494793103.448276), 'channel': 'Q0.qdrv', 'freq_ind': 26}, {'op': 'declare_freq', 'freq': np.float64(4494862068.965517), 'channel': 'Q0.qdrv', 'freq_ind': 27}, {'op': 'declare_freq', 'freq': np.float64(4494931034.4827585), 'channel': 'Q0.qdrv', 'freq_ind': 28}, {'op': 'declare_freq', 'freq': np.float64(4495000000.0), 'channel': 'Q0.qdrv', 'freq_ind': 29}, {'op': 'declare_reg', 'name': 'amp', 'dtype': 'amp'}, {'op': 'reg_alu', 'in0': 0.1, 'in1_reg': 'amp', 'alu_op': 'id0', 'out_reg': 'amp'}, {'op': 'declare_reg', 'name': 'freq_ind', 'dtype': 'int'}, {'op': 'reg_alu', 'in0': 0, 'in1_reg': 'freq_ind', 'alu_op': 'id0', 'out_reg': 'freq_ind'}, {'op': 'jump_label', 'dest_label': 'loop_0_loopctrl'}, {'op': 'jump_label', 'dest_label': 'loop_body_loop_0_loopctrl'}, {'op': 'pulse', 'freq': 'freq_ind', 'phase': 0, 'amp': 'amp', 'env': {'env_func': 'cos_edge_square', 'paradict': {'ramp_fraction': 0.25, 'twidth': 2.4e-08}}, 'start_time': 250013, 'dest': 'Q0.qdrv'}, {'op': 'pulse', 'freq': 6554327471.963202, 'phase': 0.0, 'amp': 0.01967670502549965, 'env': {'env_func': 'cos_edge_square', 'paradict': {'ramp_fraction': 0.25, 'twidth': 2e-06}}, 'start_time': 250025, 'dest': 'Q0.rdrv', 'tag': 'Q0read'}, {'op': 'pulse', 'freq': 6554327471.963202, 'phase': 1.4806632895920675, 'amp': 1.0, 'env': {'env_func': 'square', 'paradict': {'phase': 0.0, 'amplitude': 1.0, 'twidth': 2e-06}}, 'start_time': 250325, 'dest': 'Q0.rdlo', 'tag': 'Q0read'}, {'op': 'reg_alu', 'in0': 1, 'in1_reg': 'freq_ind', 'alu_op': 'add', 'out_reg': 'amp'}, {'op': 'inc_qclk', 'in0': -251318}, {'op': 'jump_cond', 'in0': 30, 'alu_op': 'ge', 'jump_label': 'loop_body_loop_0_loopctrl', 'in1_reg': 'freq_ind'}, {'op': 'reg_alu', 'in0': 0.1, 'in1_reg': 'amp', 'alu_op': 'add', 'out_reg': 'amp'}, {'op': 'inc_qclk', 'in0': -20}, {'op': 'jump_cond', 'in0': 1, 'alu_op': 'ge', 'jump_label': 'loop_0_loopctrl', 'in1_reg': 'amp'}, {'op': 'done_stb'}]}, fpga_config=None)"
      ]
     },
     "execution_count": 9,
     "metadata": {},
     "output_type": "execute_result"
    }
   ],
   "source": [
    "compiled_prog"
   ]
  },
  {
   "cell_type": "code",
   "execution_count": null,
   "id": "074d304f-8829-4e0f-9eea-9c9324b7bff6",
   "metadata": {},
   "outputs": [],
   "source": []
  }
 ],
 "metadata": {
  "kernelspec": {
   "display_name": "Python 3 (ipykernel)",
   "language": "python",
   "name": "python3"
  },
  "language_info": {
   "codemirror_mode": {
    "name": "ipython",
    "version": 3
   },
   "file_extension": ".py",
   "mimetype": "text/x-python",
   "name": "python",
   "nbconvert_exporter": "python",
   "pygments_lexer": "ipython3",
   "version": "3.10.16"
  }
 },
 "nbformat": 4,
 "nbformat_minor": 5
}
