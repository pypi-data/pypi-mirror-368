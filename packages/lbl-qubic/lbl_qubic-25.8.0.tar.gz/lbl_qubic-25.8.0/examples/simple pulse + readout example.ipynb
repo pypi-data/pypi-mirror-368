{
 "cells": [
  {
   "cell_type": "code",
   "execution_count": 1,
   "id": "a2c33014",
   "metadata": {
    "tags": []
   },
   "outputs": [],
   "source": [
    "import qubic.toolchain as tc\n",
    "import qubic.rpc_client as rc\n",
    "import qubitconfig.qchip as qc\n",
    "from distproc.hwconfig import FPGAConfig, load_channel_configs\n",
    "import numpy as np\n",
    "import matplotlib.pyplot as plt"
   ]
  },
  {
   "cell_type": "markdown",
   "id": "fb8b121e",
   "metadata": {},
   "source": [
    "## Load Configs and Define Circuit"
   ]
  },
  {
   "cell_type": "markdown",
   "id": "1e68f6d1",
   "metadata": {},
   "source": [
    "define FPGA config; this has timing information for the scheduler. For now it is fine to use the following default config"
   ]
  },
  {
   "cell_type": "code",
   "execution_count": 2,
   "id": "66196869",
   "metadata": {
    "tags": []
   },
   "outputs": [],
   "source": [
    "fpga_config = FPGAConfig()"
   ]
  },
  {
   "cell_type": "markdown",
   "id": "482dbaba",
   "metadata": {},
   "source": [
    "Load channel configs. The mapping between named `channel_configs` destination channels and physical channels can be found in `channel_map.txt`. Note that these configuration files correspond to the [25.05 ZCU216 8_2 gateware release](https://gitlab.com/LBL-QubiC/gateware/-/releases/v25.05_8_2). For instructions on how to update the QubiC board to use this (or any other) gateware release, see [these instructions](https://gitlab.com/LBL-QubiC/software/-/wikis/Getting-Started-with-QubiC-2.0-on-the-ZCU216#using-qubic-with-different-gateware-versions). For more details on firmware channel mapping + configuration, see [Understanding Channel Configuration](https://gitlab.com/LBL-QubiC/software/-/wikis/Understanding-Channel-Configuration).\n"
   ]
  },
  {
   "cell_type": "code",
   "execution_count": 3,
   "id": "7f604cfd",
   "metadata": {
    "tags": []
   },
   "outputs": [],
   "source": [
    "channel_configs = load_channel_configs('channel_config.json')"
   ]
  },
  {
   "cell_type": "markdown",
   "id": "8ee90e88",
   "metadata": {},
   "source": [
    "Define the quantum circuit. Here, we show an example where all operations are done at the pulse-level, without explicitly referencing calibrated gates/parameters. For details on the QubiC circuit format and supported operations, see [compiler.py](https://gitlab.com/LBL-QubiC/distributed_processor/-/blob/master/python/distproc/compiler.py)"
   ]
  },
  {
   "cell_type": "code",
   "execution_count": 4,
   "id": "3b43636e",
   "metadata": {
    "tags": []
   },
   "outputs": [],
   "source": [
    "circuit = [\n",
    "    #Allow qubit to decay to 0 state between shots\n",
    "    {'name': 'delay', 't': 500.e-6}, \n",
    "    \n",
    "    #play a pi/2 pulse on Q2\n",
    "    {'name': 'pulse', 'phase': 0, 'freq': 4944383311, 'amp': 0.334704954261188, 'twidth': 2.4e-08,\n",
    "     'env': {'env_func': 'cos_edge_square', 'paradict': {'ramp_fraction': 0.25}},\n",
    "     'dest': 'Q2.qdrv'}, \n",
    "    \n",
    "    #scheduling barrier ensures that Q2 readout starts after the pulse\n",
    "    {'name': 'barrier', 'scope': ['Q2.qdrv', 'Q2.rdrv', 'Q2.rdlo']},\n",
    "    \n",
    "    #play the readout drive pulse\n",
    "    {'name': 'pulse', 'phase': 0, 'freq': 6658138379, 'amp': 0.019780537935570334, 'twidth': 2e-06,\n",
    "     'env': {'env_func': 'cos_edge_square', 'paradict': {'ramp_fraction': 0.25}},\n",
    "     'dest': 'Q2.rdrv'},\n",
    "    \n",
    "    #add delay before demodulation (rdlo pulse)\n",
    "    {'name': 'delay', 't': 600.e-9},\n",
    "    \n",
    "    #play the readout demodulation pulse\n",
    "    {'name': 'pulse', 'phase': 0, 'freq': 6658138379, 'amp': 1, 'twidth': 2e-06,\n",
    "     'env': {'env_func': 'square', 'paradict': {'phase': 0.0, 'amplitude': 1.0}},\n",
    "     'dest': 'Q2.rdlo'}\n",
    "]"
   ]
  },
  {
   "cell_type": "markdown",
   "id": "0d312a98",
   "metadata": {},
   "source": [
    "## Compile and Assemble\n",
    "\n",
    "Compile the program. Since we don't have any references to gates, we can pass None to the qchip argument. The output of the compile stage is a distributed processor assembly program, which consists of initialization/termination statements, as well as a list of scheduled pulses for each core. Our program only uses one processor core, scoped to channels `('Q2.qdrv', 'Q2.rdrv', 'Q2.rdlo')`."
   ]
  },
  {
   "cell_type": "code",
   "execution_count": 6,
   "id": "809d68fb",
   "metadata": {
    "tags": []
   },
   "outputs": [
    {
     "data": {
      "text/plain": [
       "{('Q2.qdrv', 'Q2.rdrv', 'Q2.rdlo'): [{'op': 'phase_reset'},\n",
       "  {'op': 'pulse',\n",
       "   'freq': 4944383311,\n",
       "   'phase': 0,\n",
       "   'amp': 0.334704954261188,\n",
       "   'env': {'env_func': 'cos_edge_square',\n",
       "    'paradict': {'ramp_fraction': 0.25, 'twidth': 2.4e-08}},\n",
       "   'start_time': 250005,\n",
       "   'dest': 'Q2.qdrv'},\n",
       "  {'op': 'pulse',\n",
       "   'freq': 6658138379,\n",
       "   'phase': 0,\n",
       "   'amp': 0.019780537935570334,\n",
       "   'env': {'env_func': 'cos_edge_square',\n",
       "    'paradict': {'ramp_fraction': 0.25, 'twidth': 2e-06}},\n",
       "   'start_time': 250017,\n",
       "   'dest': 'Q2.rdrv'},\n",
       "  {'op': 'pulse',\n",
       "   'freq': 6658138379,\n",
       "   'phase': 0,\n",
       "   'amp': 1,\n",
       "   'env': {'env_func': 'square',\n",
       "    'paradict': {'phase': 0.0, 'amplitude': 1.0, 'twidth': 2e-06}},\n",
       "   'start_time': 250317,\n",
       "   'dest': 'Q2.rdlo'},\n",
       "  {'op': 'done_stb'}]}"
      ]
     },
     "execution_count": 6,
     "metadata": {},
     "output_type": "execute_result"
    }
   ],
   "source": [
    "compiled_prog = tc.run_compile_stage(circuit, fpga_config, None, \n",
    "                                     compiler_flags={'resolve_gates': False})\n",
    "compiled_prog.program"
   ]
  },
  {
   "cell_type": "markdown",
   "id": "795740b0",
   "metadata": {},
   "source": [
    "Run the assembler to convert the above program into machine code that we can load onto the FPGA:"
   ]
  },
  {
   "cell_type": "code",
   "execution_count": 7,
   "id": "e8892988",
   "metadata": {
    "tags": []
   },
   "outputs": [],
   "source": [
    "raw_asm = tc.run_assemble_stage(compiled_prog, channel_configs)"
   ]
  },
  {
   "cell_type": "markdown",
   "id": "74b4b500",
   "metadata": {},
   "source": [
    "## Connect to Server and Run Circuit\n",
    "\n",
    "Now that we've defined our circuit and compiled it to machine code, we can submit it to the ZCU216 and run it.\n",
    "\n",
    "Instantiate the runner client:"
   ]
  },
  {
   "cell_type": "code",
   "execution_count": 8,
   "id": "bc5adabb",
   "metadata": {
    "tags": []
   },
   "outputs": [],
   "source": [
    "runner = rc.CircuitRunnerClient(ip='192.168.1.122', port=9095)"
   ]
  },
  {
   "cell_type": "markdown",
   "id": "88d071e6",
   "metadata": {},
   "source": [
    "Submit the circuit to the server, and collect 5000 shots: "
   ]
  },
  {
   "cell_type": "code",
   "execution_count": 10,
   "id": "2ff52aa9",
   "metadata": {
    "tags": []
   },
   "outputs": [],
   "source": [
    "s11 = runner.run_circuit_batch([raw_asm], 5000)"
   ]
  },
  {
   "cell_type": "markdown",
   "id": "548c14ef",
   "metadata": {},
   "source": [
    "A list of dictionaries of downconverted + integrated complex (IQ) values is returned. The list has only one element since we only have one circuit. `s11[0]` has a key for each readout channel used in circuit 0. In this case, we only performed readout on Q2, so only channel 'Q0.rdlo' was returned."
   ]
  },
  {
   "cell_type": "code",
   "execution_count": null,
   "id": "6fddb286",
   "metadata": {},
   "outputs": [],
   "source": [
    "plt.hexbin(s11[0]['Q2.rdlo'].real, s11[0]['Q2.rdlo'].imag, gridsize=30)\n",
    "plt.title('Q2')"
   ]
  }
 ],
 "metadata": {
  "kernelspec": {
   "display_name": "Python 3",
   "language": "python",
   "name": "python3"
  },
  "language_info": {
   "codemirror_mode": {
    "name": "ipython",
    "version": 3
   },
   "file_extension": ".py",
   "mimetype": "text/x-python",
   "name": "python",
   "nbconvert_exporter": "python",
   "pygments_lexer": "ipython3",
   "version": "3.8.8"
  }
 },
 "nbformat": 4,
 "nbformat_minor": 5
}
