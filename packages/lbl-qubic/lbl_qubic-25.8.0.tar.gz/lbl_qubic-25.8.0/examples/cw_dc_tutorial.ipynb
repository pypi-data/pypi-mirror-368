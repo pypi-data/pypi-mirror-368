{
 "cells": [
  {
   "cell_type": "code",
   "execution_count": null,
   "metadata": {},
   "outputs": [],
   "source": [
    "import qubic.toolchain as tc\n",
    "import qubic.rpc_client as rc\n",
    "import qubitconfig.qchip as qc\n",
    "from distproc.hwconfig import FPGAConfig, load_channel_configs\n",
    "import numpy as np\n",
    "import matplotlib.pyplot as plt"
   ]
  },
  {
   "cell_type": "markdown",
   "metadata": {},
   "source": [
    "## Load Configs\n",
    "\n",
    "Define FPGA config; this has timing information for the scheduler. For now it is fine to use the following default config. After that, load channel configs (firmware channel mapping + configuration, see [Understanding Channel Configuration](https://gitlab.com/LBL-QubiC/software/-/wikis/Understanding-Channel-Configuration) for details)"
   ]
  },
  {
   "cell_type": "code",
   "execution_count": null,
   "metadata": {},
   "outputs": [],
   "source": [
    "fpga_config = FPGAConfig()\n",
    "channel_configs = load_channel_configs('channel_config.json')"
   ]
  },
  {
   "cell_type": "markdown",
   "metadata": {},
   "source": [
    "## Define CW pulse and Compile & Assemble"
   ]
  },
  {
   "cell_type": "markdown",
   "metadata": {},
   "source": [
    "CW stands for continuous wave, and is a toggleable pulse. That is, once you turn on the CW pulse, it will generate a pulse until a new pulse is called. Calling a CW pulse is similar to a regular pulse, except the `'env'` parameter is `'cw'`.\n",
    "\n",
    "In the following quantum circuit, we will call a CW pulse and let it run for 50 clock cycles before calling a non-CW pulse. This example if done at the pulse-level without referencing calibrated gates/parameters. Details on the QubiC circuit format and supported operations can be found [here](https://lbl-qubic.gitlab.io/distributed_processor/)"
   ]
  },
  {
   "cell_type": "code",
   "execution_count": null,
   "metadata": {},
   "outputs": [],
   "source": [
    "circuit = [\n",
    "    # Play the CW pulse\n",
    "    {'name': 'pulse', 'phase': 0, 'freq': 6658138379, 'amp': 0.5, 'twidth': 0,\n",
    "     'env': 'cw', 'dest': 'Q0.qdrv'},\n",
    "\n",
    "    # Allow CW pulse to run for 50 clock cycles\n",
    "    {'name': 'delay', 't': 100.e-9}, \n",
    "\n",
    "    # Play the second pulse\n",
    "    {'name': 'pulse', 'phase': 0, 'freq': 6658138379, 'amp': 1, 'twidth': 24e-9,\n",
    "     'env': {'env_func': 'square', 'paradict': {'phase': 0.0, 'amplitude': 1.0}},\n",
    "     'dest': 'Q0.qdrv'}\n",
    "]"
   ]
  },
  {
   "cell_type": "markdown",
   "metadata": {},
   "source": [
    "Instead of using a delay, the twidth parameter can also be used to control the length of a CW segment. So the following circuit is equivalent to the circuit defined above:"
   ]
  },
  {
   "cell_type": "code",
   "execution_count": null,
   "metadata": {},
   "outputs": [],
   "source": [
    "circuit = [\n",
    "    # Play the CW pulse\n",
    "    {'name': 'pulse', 'phase': 0, 'freq': 6658138379, 'amp': 0.5, 'twidth': 100.e-9, \n",
    "     'env': 'cw', 'dest': 'Q0.qdrv'}, # set the twidth parameter instead of using a delay\n",
    "\n",
    "    # Play the second pulse\n",
    "    {'name': 'pulse', 'phase': 0, 'freq': 6658138379, 'amp': 1, 'twidth': 24e-9,\n",
    "     'env': {'env_func': 'square', 'paradict': {'phase': 0.0, 'amplitude': 1.0}},\n",
    "     'dest': 'Q0.qdrv'}\n",
    "]"
   ]
  },
  {
   "cell_type": "code",
   "execution_count": null,
   "metadata": {},
   "outputs": [],
   "source": [
    "compiled_prog = tc.run_compile_stage(circuit, fpga_config, None, \n",
    "                                     compiler_flags={'resolve_gates': False})\n",
    "compiled_prog.program\n",
    "raw_asm = tc.run_assemble_stage(compiled_prog, channel_configs)"
   ]
  },
  {
   "cell_type": "markdown",
   "metadata": {},
   "source": [
    "If no pulse is played on the same channel after the CW pulse, a CW signal will play indefinitely, and the program will not halt, resulting in a timeout error. "
   ]
  },
  {
   "cell_type": "code",
   "execution_count": null,
   "metadata": {
    "tags": []
   },
   "outputs": [],
   "source": [
    "circuit = [\n",
    "    # Play the CW pulse\n",
    "    {'name': 'pulse', 'phase': 0, 'freq': 6658138379, 'amp': 0.5, 'twidth': 0,\n",
    "     'env': 'cw', 'dest': 'Q0.qdrv'}]\n",
    "# this will timeout, but the CW pulse will keep playing indefinitely, \n",
    "# which can be useful for debugging."
   ]
  },
  {
   "cell_type": "markdown",
   "metadata": {},
   "source": [
    "## Connect to Server and Run Circuit\n",
    "\n",
    "Now that we've defined our circuit and compiled it to machine code, we can submit it to the ZCU216 and run it. Connect an osciliscope to the signal generating channel to visualize the pulses that are being generated."
   ]
  },
  {
   "cell_type": "code",
   "execution_count": null,
   "metadata": {},
   "outputs": [],
   "source": [
    "# Instantiate the runner client:\n",
    "runner = rc.CircuitRunnerClient(ip='192.168.1.122', port=9095)\n",
    "\n",
    "# Submit the circuit to the server, and run it once. \n",
    "s11 = runner.run_circuit_batch([raw_asm], 1)"
   ]
  },
  {
   "cell_type": "markdown",
   "metadata": {},
   "source": [
    "You should be able to visualize the CW pulse on the osciliscope. Notice how it runs until the second pulse is called."
   ]
  },
  {
   "cell_type": "markdown",
   "metadata": {
    "tags": []
   },
   "source": [
    "## Define DC pulse and Compile & Assemble\n",
    "\n",
    "DC pulses need to be played on DC channels. Similar to a CW pulse, the DC pulse will play at the specified voltage level until another DC pulse is called. When calling a DC pulse, you are able to leave the frequency, envelope, and phase parameters as None, since they do not affect the DC pulse. The following circuit demonstrates the DC capability."
   ]
  },
  {
   "cell_type": "code",
   "execution_count": null,
   "metadata": {},
   "outputs": [],
   "source": [
    "prog = [{'name': 'pulse', 'dest': 'C0.dc', 'twidth': 0, 'amp': 0.5,\n",
    "             'freq': None, 'phase': 0, 'env': None},\n",
    "        \n",
    "             {'name': 'delay', 't': 20.e-9, 'scope': ['C0.dc']},\n",
    "        \n",
    "             {'name': 'pulse', 'dest': 'C0.dc', 'twidth': 0, 'amp': 0.0,\n",
    "              'freq': None, 'phase': 0, 'env': None},\n",
    "        \n",
    "             {'name': 'delay', 't': 20.e-9, 'scope': ['C0.dc']},\n",
    "        \n",
    "             {'name': 'pulse', 'dest': 'C0.dc', 'twidth': 0, 'amp': 1.0,\n",
    "              'freq': None, 'phase': 0, 'env': None},\n",
    " ]"
   ]
  },
  {
   "cell_type": "markdown",
   "metadata": {},
   "source": [
    "As with CW, DC pulses can replace the `delay` instruction with a nonzero `'twidth'` parameter."
   ]
  },
  {
   "cell_type": "code",
   "execution_count": null,
   "metadata": {},
   "outputs": [],
   "source": [
    "compiled_prog = tc.run_compile_stage(prog, fpga_config=fpga_config, qchip=None, compiler_flags={'resolve_gates': False},\n",
    "                                    proc_grouping=[('{qubit}.qdrv', '{qubit}.rdrv', '{qubit}.rdlo'),\n",
    "                                                    ('{qubit}.qdrv2',),\n",
    "                                                    ('{qubit}.cdrv', '{qubit}.dc')]) # Resolve gates = false, dont give it the qchip\n",
    "raw_asm = tc.run_assemble_stage(compiled_prog, channel_configs)"
   ]
  },
  {
   "cell_type": "markdown",
   "metadata": {},
   "source": [
    "Note that the proc_grouping grouping parameter is required to introduce DC channels to the compiler. Now connect to the server and run the circuit with the next code block."
   ]
  },
  {
   "cell_type": "code",
   "execution_count": null,
   "metadata": {},
   "outputs": [],
   "source": [
    "# Instantiate the runner client:\n",
    "runner = rc.CircuitRunnerClient(ip='192.168.1.122', port=9095)\n",
    "\n",
    "# Submit the circuit to the server, and run it once. \n",
    "s11 = runner.run_circuit_batch([raw_asm], 1)"
   ]
  }
 ],
 "metadata": {
  "kernelspec": {
   "display_name": "Python 3",
   "language": "python",
   "name": "python3"
  },
  "language_info": {
   "codemirror_mode": {
    "name": "ipython",
    "version": 3
   },
   "file_extension": ".py",
   "mimetype": "text/x-python",
   "name": "python",
   "nbconvert_exporter": "python",
   "pygments_lexer": "ipython3",
   "version": "3.8.8"
  }
 },
 "nbformat": 4,
 "nbformat_minor": 4
}
