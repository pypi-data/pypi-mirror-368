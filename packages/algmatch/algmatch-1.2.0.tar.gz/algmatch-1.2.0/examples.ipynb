{
 "cells": [
  {
   "cell_type": "markdown",
   "metadata": {},
   "source": [
    "# Example outputs for matching algorithms\n",
    "\n",
    "This is a file to outline usage and some example outputs for the implemented matching algorithms.\n",
    "Currently shown:\n",
    "- Hospital Residents\n",
    "- Stable Marriage\n",
    "- Student Project Allocation\n",
    "\n",
    "The files used here are in the `example_files` folder.\n",
    "Both file and dictionary formats for matching algorithms are defined in the `DATA_FORMAT_GUIDELINES` folder."
   ]
  },
  {
   "cell_type": "code",
   "execution_count": 1,
   "metadata": {},
   "outputs": [],
   "source": [
    "import os\n",
    "\n",
    "from algmatch import HR, SM, SPAS\n",
    "# can also use full name to import, e.g.\n",
    "# from algmatch import HospitalResidentsProblem, StableMarriage, StableRoommatesProblem\n",
    "\n",
    "file_locations = \"example_files\""
   ]
  },
  {
   "cell_type": "markdown",
   "metadata": {},
   "source": [
    "## Hospital Residents Problem\n",
    "\n",
    "Both the file and dictionary are run through both the hospital oriented and resident oriented version of the algorithm."
   ]
  },
  {
   "cell_type": "code",
   "execution_count": 2,
   "metadata": {},
   "outputs": [],
   "source": [
    "hr_instance_1 = os.path.join(file_locations, \"hr1.txt\")\n",
    "\n",
    "hr_1_hospital = HR(filename=hr_instance_1, optimised_side=\"hospitals\")\n",
    "hr_1_residents = HR(filename=hr_instance_1, optimised_side=\"residents\")"
   ]
  },
  {
   "cell_type": "code",
   "execution_count": 3,
   "metadata": {},
   "outputs": [
    {
     "name": "stdout",
     "output_type": "stream",
     "text": [
      "HR 1 hospital stable matching:\n",
      "{'resident_sided': {'r1': 'h2', 'r2': 'h1', 'r3': 'h1'}, 'hospital_sided': {'h1': ['r2', 'r3'], 'h2': ['r1']}}\n",
      "HR 1 residents stable matching:\n",
      "{'resident_sided': {'r1': 'h1', 'r2': 'h2', 'r3': 'h1'}, 'hospital_sided': {'h1': ['r1', 'r3'], 'h2': ['r2']}}\n"
     ]
    }
   ],
   "source": [
    "# get stable matchings from both sides\n",
    "hr_1_hospital_stable_matching = hr_1_hospital.get_stable_matching()\n",
    "hr_1_residents_stable_matching = hr_1_residents.get_stable_matching()\n",
    "\n",
    "print(\"HR 1 hospital stable matching:\")\n",
    "print(hr_1_hospital_stable_matching)\n",
    "\n",
    "print(\"HR 1 residents stable matching:\")\n",
    "print(hr_1_residents_stable_matching)"
   ]
  },
  {
   "cell_type": "code",
   "execution_count": 4,
   "metadata": {},
   "outputs": [],
   "source": [
    "hr_instance_2 = {\n",
    "    'residents': {\n",
    "        1: [1,2],\n",
    "        2: [2,1],\n",
    "        3: [1]\n",
    "    },\n",
    "    'hospitals': {\n",
    "        1: {\n",
    "            'capacity': 2,\n",
    "            'preferences': [3,2,1]\n",
    "        },\n",
    "        2: {\n",
    "            'capacity': 1,\n",
    "            'preferences': [1,2]\n",
    "        }\n",
    "    }\n",
    "}\n",
    "\n",
    "hr_2_hospital = HR(dictionary=hr_instance_2, optimised_side=\"hospitals\")\n",
    "hr_2_residents = HR(dictionary=hr_instance_2, optimised_side=\"residents\")"
   ]
  },
  {
   "cell_type": "code",
   "execution_count": 5,
   "metadata": {},
   "outputs": [
    {
     "name": "stdout",
     "output_type": "stream",
     "text": [
      "HR 2 hospital stable matching:\n",
      "{'resident_sided': {'r1': 'h2', 'r2': 'h1', 'r3': 'h1'}, 'hospital_sided': {'h1': ['r2', 'r3'], 'h2': ['r1']}}\n",
      "HR 2 residents stable matching:\n",
      "{'resident_sided': {'r1': 'h1', 'r2': 'h2', 'r3': 'h1'}, 'hospital_sided': {'h1': ['r1', 'r3'], 'h2': ['r2']}}\n"
     ]
    }
   ],
   "source": [
    "hr_2_hospital_stable_matching = hr_2_hospital.get_stable_matching()\n",
    "hr_2_residents_stable_matching = hr_2_residents.get_stable_matching()\n",
    "\n",
    "print(\"HR 2 hospital stable matching:\")\n",
    "print(hr_2_hospital_stable_matching)\n",
    "\n",
    "print(\"HR 2 residents stable matching:\")\n",
    "print(hr_2_residents_stable_matching)"
   ]
  },
  {
   "cell_type": "code",
   "execution_count": 6,
   "metadata": {},
   "outputs": [],
   "source": [
    "assert hr_2_hospital_stable_matching == hr_1_hospital_stable_matching\n",
    "assert hr_2_residents_stable_matching == hr_1_residents_stable_matching"
   ]
  },
  {
   "cell_type": "markdown",
   "metadata": {},
   "source": [
    "Since both the dictionary and the file have the same HR instance, you can see that they both evaluate to the same stable matching."
   ]
  },
  {
   "cell_type": "markdown",
   "metadata": {},
   "source": [
    "# Stable Marriage\n",
    "\n",
    "We follow a similar process. Both the `sm1.txt` file and the dictionary defined are run through both the man and woman oriented version of the algorithm."
   ]
  },
  {
   "cell_type": "code",
   "execution_count": 7,
   "metadata": {},
   "outputs": [],
   "source": [
    "sm_instance_1 = os.path.join(file_locations, \"sm1.txt\")\n",
    "\n",
    "sm_1_man = SM(filename=sm_instance_1, optimised_side=\"men\")\n",
    "sm_1_woman = SM(filename=sm_instance_1, optimised_side=\"women\")"
   ]
  },
  {
   "cell_type": "code",
   "execution_count": 8,
   "metadata": {},
   "outputs": [
    {
     "name": "stdout",
     "output_type": "stream",
     "text": [
      "SM 1 man stable matching:\n",
      "{'man_sided': {'m1': 'w4', 'm2': 'w3', 'm3': 'w2', 'm4': 'w1'}, 'woman_sided': {'w1': 'm4', 'w2': 'm3', 'w3': 'm2', 'w4': 'm1'}}\n",
      "SM 1 woman stable matching:\n",
      "{'man_sided': {'m1': 'w4', 'm2': 'w1', 'm3': 'w2', 'm4': 'w3'}, 'woman_sided': {'w1': 'm2', 'w2': 'm3', 'w3': 'm4', 'w4': 'm1'}}\n"
     ]
    }
   ],
   "source": [
    "# get stable matchings from both sides\n",
    "sm_1_man_stable_matching = sm_1_man.get_stable_matching()\n",
    "sm_1_woman_stable_matching = sm_1_woman.get_stable_matching()\n",
    "\n",
    "print(\"SM 1 man stable matching:\")\n",
    "print(sm_1_man_stable_matching)\n",
    "\n",
    "print(\"SM 1 woman stable matching:\")\n",
    "print(sm_1_woman_stable_matching)"
   ]
  },
  {
   "cell_type": "code",
   "execution_count": 9,
   "metadata": {},
   "outputs": [],
   "source": [
    "sm_instance_2 = {\n",
    "    'men': {\n",
    "        1: [2, 4, 1, 3],\n",
    "        2: [3, 1, 4, 2],\n",
    "        3: [2, 3, 1, 4],\n",
    "        4: [4, 1, 3, 2]\n",
    "    },\n",
    "    'women': {\n",
    "        1: [2, 1, 4, 3],\n",
    "        2: [4, 3, 1, 2],\n",
    "        3: [1, 4, 3, 2],\n",
    "        4: [2, 1, 4, 3]\n",
    "    }\n",
    "}\n",
    "\n",
    "sm_2_man = SM(dictionary=sm_instance_2, optimised_side=\"men\")\n",
    "sm_2_woman = SM(dictionary=sm_instance_2, optimised_side=\"women\")"
   ]
  },
  {
   "cell_type": "code",
   "execution_count": 10,
   "metadata": {},
   "outputs": [
    {
     "name": "stdout",
     "output_type": "stream",
     "text": [
      "SM 2 man stable matching:\n",
      "{'man_sided': {'m1': 'w4', 'm2': 'w3', 'm3': 'w2', 'm4': 'w1'}, 'woman_sided': {'w1': 'm4', 'w2': 'm3', 'w3': 'm2', 'w4': 'm1'}}\n",
      "SM 2 woman stable matching:\n",
      "{'man_sided': {'m1': 'w4', 'm2': 'w1', 'm3': 'w2', 'm4': 'w3'}, 'woman_sided': {'w1': 'm2', 'w2': 'm3', 'w3': 'm4', 'w4': 'm1'}}\n"
     ]
    }
   ],
   "source": [
    "sm_2_man_stable_matching = sm_2_man.get_stable_matching()\n",
    "sm_2_woman_stable_matching = sm_2_woman.get_stable_matching()\n",
    "\n",
    "print(\"SM 2 man stable matching:\")\n",
    "print(sm_2_man_stable_matching)\n",
    "\n",
    "print(\"SM 2 woman stable matching:\")\n",
    "print(sm_2_woman_stable_matching)"
   ]
  },
  {
   "cell_type": "code",
   "execution_count": 11,
   "metadata": {},
   "outputs": [],
   "source": [
    "assert sm_1_man_stable_matching == sm_2_man_stable_matching\n",
    "assert sm_1_woman_stable_matching == sm_2_woman_stable_matching"
   ]
  },
  {
   "cell_type": "markdown",
   "metadata": {},
   "source": [
    "# Student Project Allocation\n",
    "\n",
    "We follow a similar process. Both the `spa1.txt` file and the dictionary defined are run through both the student and lecturer oriented version of the algorithm."
   ]
  },
  {
   "cell_type": "code",
   "execution_count": 12,
   "metadata": {},
   "outputs": [],
   "source": [
    "spas_instance_1 = os.path.join(file_locations, \"spa1.txt\")\n",
    "\n",
    "spas_1_student = SPAS(filename=spas_instance_1, optimised_side=\"students\")\n",
    "spas_1_lecturer = SPAS(filename=spas_instance_1, optimised_side=\"lecturers\")"
   ]
  },
  {
   "cell_type": "code",
   "execution_count": 13,
   "metadata": {},
   "outputs": [
    {
     "name": "stdout",
     "output_type": "stream",
     "text": [
      "SPA 1 student stable matching:\n",
      "{'student_sided': {'s1': 'p1', 's2': 'p2', 's3': 'p3', 's4': 'p4'}, 'lecturer_sided': {'l1': ['s1', 's2'], 'l2': ['s3', 's4']}}\n",
      "SPA 1 lecturer stable matching:\n",
      "{'student_sided': {'s1': 'p2', 's2': 'p3', 's3': 'p1', 's4': 'p4'}, 'lecturer_sided': {'l1': ['s1', 's3'], 'l2': ['s2', 's4']}}\n"
     ]
    }
   ],
   "source": [
    "# get stable matchings from both sides\n",
    "spas_1_student_stable_matching = spas_1_student.get_stable_matching()\n",
    "spas_1_lecturer_stable_matching = spas_1_lecturer.get_stable_matching()\n",
    "\n",
    "print(\"SPA 1 student stable matching:\")\n",
    "print(spas_1_student_stable_matching)\n",
    "\n",
    "print(\"SPA 1 lecturer stable matching:\")\n",
    "print(spas_1_lecturer_stable_matching)"
   ]
  },
  {
   "cell_type": "code",
   "execution_count": 14,
   "metadata": {},
   "outputs": [],
   "source": [
    "spas_instance_2 = {\n",
    "    'students': {\n",
    "        1: [1, 2],\n",
    "        2: [2, 3],\n",
    "        3: [3, 1],\n",
    "        4: [4, 1]\n",
    "    },\n",
    "    'projects': {\n",
    "        1: {\n",
    "            'capacity': 1,\n",
    "            'lecturer': 1\n",
    "        },\n",
    "        2: {\n",
    "            'capacity': 1,\n",
    "            'lecturer': 1\n",
    "        },\n",
    "        3: {\n",
    "            'capacity': 1,\n",
    "            'lecturer': 2\n",
    "        },\n",
    "        4: {\n",
    "            'capacity': 1,\n",
    "            'lecturer': 2\n",
    "        }\n",
    "    },\n",
    "    'lecturers': {\n",
    "        1: {\n",
    "            'capacity': 2,\n",
    "            'preferences': [3, 1, 2, 4]\n",
    "        },\n",
    "        2: {\n",
    "            'capacity': 2,\n",
    "            'preferences': [2, 4, 3]\n",
    "        }\n",
    "    }\n",
    "}\n",
    "\n",
    "spas_2_student = SPAS(dictionary=spas_instance_2, optimised_side=\"students\")\n",
    "spas_2_lecturer = SPAS(dictionary=spas_instance_2, optimised_side=\"lecturers\")"
   ]
  },
  {
   "cell_type": "code",
   "execution_count": 15,
   "metadata": {},
   "outputs": [
    {
     "name": "stdout",
     "output_type": "stream",
     "text": [
      "SPA 2 student stable matching:\n",
      "{'student_sided': {'s1': 'p1', 's2': 'p2', 's3': 'p3', 's4': 'p4'}, 'lecturer_sided': {'l1': ['s1', 's2'], 'l2': ['s3', 's4']}}\n",
      "SPA 2 lecturer stable matching:\n",
      "{'student_sided': {'s1': 'p2', 's2': 'p3', 's3': 'p1', 's4': 'p4'}, 'lecturer_sided': {'l1': ['s1', 's3'], 'l2': ['s2', 's4']}}\n"
     ]
    }
   ],
   "source": [
    "spas_2_student_stable_matching = spas_2_student.get_stable_matching()\n",
    "spas_2_lecturer_stable_matching = spas_2_lecturer.get_stable_matching()\n",
    "\n",
    "print(\"SPA 2 student stable matching:\")\n",
    "print(spas_2_student_stable_matching)\n",
    "\n",
    "print(\"SPA 2 lecturer stable matching:\")\n",
    "print(spas_2_lecturer_stable_matching)"
   ]
  },
  {
   "cell_type": "code",
   "execution_count": 16,
   "metadata": {},
   "outputs": [],
   "source": [
    "assert spas_1_student_stable_matching == spas_2_student_stable_matching\n",
    "assert spas_1_lecturer_stable_matching == spas_2_lecturer_stable_matching"
   ]
  }
 ],
 "metadata": {
  "kernelspec": {
   "display_name": "Python 3",
   "language": "python",
   "name": "python3"
  },
  "language_info": {
   "codemirror_mode": {
    "name": "ipython",
    "version": 3
   },
   "file_extension": ".py",
   "mimetype": "text/x-python",
   "name": "python",
   "nbconvert_exporter": "python",
   "pygments_lexer": "ipython3",
   "version": "3.10.12"
  }
 },
 "nbformat": 4,
 "nbformat_minor": 2
}
