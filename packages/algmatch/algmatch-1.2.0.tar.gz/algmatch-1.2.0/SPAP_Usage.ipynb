{
 "cells": [
  {
   "cell_type": "markdown",
   "metadata": {},
   "source": [
    "# Usage guide for SPA-P modules\n",
    "\n",
    "*Note that you will require a valid Gurobi license set up to run the following algorithms.\n",
    "\n",
    "There are three ways to use the classes defined for the Student Project Allocation (with lecturer preferences over projects) (SPA-P) problem.\n",
    "\n",
    "1. `StudentProjectAllocationProjectsSingle` or `SPAP_Single`\n",
    "2. `StudentProjectAllocationProjectsMultiple` or `SPAP_Multiple`\n",
    "3. the `StudentProjectAllocationProjects.py` file itself.\n",
    "\n",
    "There are also two utility functions \n",
    "- `SPAP_utils.instance_to_numpy`\n",
    "- `SPAP_utils.solution_to_numpy`\n",
    "\n",
    "to turn instances and solutions into numpy objects, which specify the instance and solution, and also normalise the rows.\n",
    "\n",
    "## SPA-P Single instance\n",
    "\n",
    "First, we will go over running a isngle instance of the SPA-P algorithm. You can import the relevant class using either of the following:\n",
    "- `from algmatch import StudentProjectAllocationProjectsSingle`\n",
    "- `from algmatch import SPAP_Single`"
   ]
  },
  {
   "cell_type": "code",
   "execution_count": 1,
   "metadata": {},
   "outputs": [],
   "source": [
    "from algmatch import SPAP_Single"
   ]
  },
  {
   "cell_type": "markdown",
   "metadata": {},
   "source": [
    "To run an instance, initialise a object by providing it the following parameters:\n",
    "- `filename` (string): the path to the file that contains an instance of SPA-P. Must be either `.csv` or `.txt`\n",
    "- `output` (string): the path to the file to write the output to. If not provided, will output to console.\n",
    "- `output_flag` (boolean): whether to output the Gurobi solver output. `True` by default."
   ]
  },
  {
   "cell_type": "code",
   "execution_count": 2,
   "metadata": {},
   "outputs": [
    {
     "name": "stdout",
     "output_type": "stream",
     "text": [
      "Set parameter Username\n",
      "Set parameter LicenseID to value 2614470\n",
      "Academic license - for non-commercial use only - expires 2026-01-23\n"
     ]
    }
   ],
   "source": [
    "S = SPAP_Single(\n",
    "    filename=\"instances/instance_1.csv\",\n",
    "    output=\"solution.csv\",\n",
    "    output_flag=False\n",
    ")"
   ]
  },
  {
   "cell_type": "markdown",
   "metadata": {},
   "source": [
    "Then, use the `get_stable_matching` method to solve the instance."
   ]
  },
  {
   "cell_type": "code",
   "execution_count": 3,
   "metadata": {},
   "outputs": [],
   "source": [
    "matching = S.get_stable_matching()"
   ]
  },
  {
   "cell_type": "markdown",
   "metadata": {},
   "source": [
    "Note that the solution is written to the specified file, and also returned as a dictionary.\n",
    "\n",
    "We can run the same instance but output it to the console instead of a file, and also show the Gurobi output by running the following:"
   ]
  },
  {
   "cell_type": "code",
   "execution_count": 4,
   "metadata": {},
   "outputs": [
    {
     "name": "stdout",
     "output_type": "stream",
     "text": [
      "Set parameter OutputFlag to value 1\n",
      "Gurobi Optimizer version 12.0.0 build v12.0.0rc1 (linux64 - \"Ubuntu 22.04.5 LTS\")\n",
      "\n",
      "CPU model: 12th Gen Intel(R) Core(TM) i7-12650H, instruction set [SSE2|AVX|AVX2]\n",
      "Thread count: 16 physical cores, 16 logical processors, using up to 16 threads\n",
      "\n",
      "Optimize a model with 68 rows, 46 columns and 158 nonzeros\n",
      "Model fingerprint: 0xa689ff68\n",
      "Variable types: 0 continuous, 46 integer (41 binary)\n",
      "Coefficient statistics:\n",
      "  Matrix range     [1e+00, 5e+00]\n",
      "  Objective range  [1e+00, 1e+00]\n",
      "  Bounds range     [1e+00, 5e+00]\n",
      "  RHS range        [1e+00, 4e+00]\n",
      "Found heuristic solution: objective 4.0000000\n",
      "Presolve removed 68 rows and 46 columns\n",
      "Presolve time: 0.00s\n",
      "Presolve: All rows and columns removed\n",
      "\n",
      "Explored 0 nodes (0 simplex iterations) in 0.01 seconds (0.00 work units)\n",
      "Thread count was 1 (of 16 available processors)\n",
      "\n",
      "Solution count 1: 4 \n",
      "\n",
      "Optimal solution found (tolerance 1.00e-04)\n",
      "Best objective 4.000000000000e+00, best bound 4.000000000000e+00, gap 0.0000%\n",
      "2,9\n",
      "3,7\n",
      "4,3\n",
      "5,6\n"
     ]
    }
   ],
   "source": [
    "S = SPAP_Single(\n",
    "    filename=\"instances/instance_1.csv\"\n",
    ")\n",
    "\n",
    "matching = S.get_stable_matching()"
   ]
  },
  {
   "cell_type": "markdown",
   "metadata": {},
   "source": [
    "Additionally, we can view the returned matching."
   ]
  },
  {
   "cell_type": "code",
   "execution_count": 5,
   "metadata": {},
   "outputs": [
    {
     "name": "stdout",
     "output_type": "stream",
     "text": [
      "defaultdict(<class 'str'>,\n",
      "            {'s1': '',\n",
      "             's2': 'p9',\n",
      "             's3': 'p7',\n",
      "             's4': 'p3',\n",
      "             's5': 'p6'})\n"
     ]
    }
   ],
   "source": [
    "from pprint import pprint\n",
    "\n",
    "pprint(matching)"
   ]
  },
  {
   "cell_type": "markdown",
   "metadata": {},
   "source": [
    "## SPA-P Multiple instances\n",
    "\n",
    "We can also run several instances of SPA-P, by just specifying some parameters for the instances. The `StudentProjectAllocationMultiple` or `SPAP_Multiple` class will randomly generate several instances according to those specifications."
   ]
  },
  {
   "cell_type": "code",
   "execution_count": 6,
   "metadata": {},
   "outputs": [],
   "source": [
    "from algmatch import SPAP_Multiple"
   ]
  },
  {
   "cell_type": "markdown",
   "metadata": {},
   "source": [
    "We need to specify the following:\n",
    "- `iters` (integer): the number of iterations to run\n",
    "- `students` (integer): the number of students in an instance\n",
    "- `lower_bound` (integer): the lower bound of the number of projects a student can rank\n",
    "- `upper_bound` (integer): the upper bound of the number of projects a student can rank\n",
    "- `projects` (integer): the number of projects in an instance\n",
    "- `project_capacity` (integer): the capacity of all projects; if 0, capacity is random (0 by default)\n",
    "- `lecturers` (integer): the number of lecturers\n",
    "- `lecturer_capacity` (integer): the capacity of all lecturers; if 0, capacity is random (0 by default)\n",
    "- `instance_folder` (string): the folder to save the instances to (`instances/` by default)\n",
    "- `solutions_folder` (string): the folder to save the solutions to (`solutions/` by default)\n",
    "- `output_flag` (boolean): whether to output the Gurobi solver output (True by default)\n",
    "\n",
    "All of the above parameters are optional, and have default values they take if they are not specified."
   ]
  },
  {
   "cell_type": "code",
   "execution_count": 7,
   "metadata": {},
   "outputs": [],
   "source": [
    "S = SPAP_Multiple(\n",
    "    iters=10,\n",
    "    students=5,\n",
    "    lower_bound=3,\n",
    "    upper_bound=3,\n",
    "    projects=10,\n",
    "    project_capacity=1,\n",
    "    lecturers=5,\n",
    "    output_flag=False\n",
    ")"
   ]
  },
  {
   "cell_type": "markdown",
   "metadata": {},
   "source": [
    "We can then use the `run` method to run the solver for the specified number of instances. The outputs will be written to the specified folders."
   ]
  },
  {
   "cell_type": "code",
   "execution_count": 8,
   "metadata": {},
   "outputs": [
    {
     "name": "stderr",
     "output_type": "stream",
     "text": [
      "  0%|          | 0/10 [00:00<?, ?it/s]"
     ]
    },
    {
     "name": "stdout",
     "output_type": "stream",
     "text": [
      "Running 10 iterations of SPA-P algorithm.\n"
     ]
    },
    {
     "name": "stderr",
     "output_type": "stream",
     "text": [
      "100%|██████████| 10/10 [00:00<00:00, 194.18it/s]\n"
     ]
    }
   ],
   "source": [
    "S.run()"
   ]
  },
  {
   "cell_type": "markdown",
   "metadata": {},
   "source": [
    "## `StudentProjectALlocationProjects.py` file\n",
    "\n",
    "There is additionally a `main` method defined in the `StudentProjectAllocationProjects.py` file, that allows the user to specify arguments, and runs either the single or multiple solvers based on user input.\n",
    "\n",
    "To run this, you will need to clone this repository:\n",
    "```bash\n",
    "git clone https://github.com/VaradK62442/algmatch.git\n",
    "```\n",
    "or\n",
    "```bash\n",
    "git clone git@github.com:VaradK62442/algmatch.git\n",
    "```\n",
    "\n",
    "Then, assuming the current directory is the root directory of the project, you can use\n",
    "```bash\n",
    "python3 src/algmatch/studentProjectAllocationProjectsProjects.py [options]\n",
    "```\n",
    "to run the file.\n",
    "\n",
    "The options you can specify are as follows:\n",
    "- EITHER `--single` or `--multiple` (not both, not neither) to specify whether to run a single instance or multiple.\n",
    "- (Regardless of single or multiple) `--output_flag`: whether to output the Gurobi solver output (True by default)\n",
    "- If `--single` is specified, then \n",
    "    - `--filename FILENAME` to specify the filename of the instance to run SPA-P on.\n",
    "    - `--output FILENAME` to specify the filename to write the output to.\n",
    "- If `--multiple` is specified, then\n",
    "    - `--iters NUMBER`: the number of iterations to run\n",
    "    - `--students NUMBER`: the number of students in an instance\n",
    "    - `--lower_bound NUMBER`: the lower bound of the number of projects a student can rank\n",
    "    - `--upper_bound NUMBER`: the upper bound of the number of projects a student can rank\n",
    "    - `--length LENGTH`: the fixed number of projects a student can rank\n",
    "    - `--projects NUMBER`: the number of projects in an instance\n",
    "    - `--force_project_capacity CAPACITY`: the capacity of all projects; if 0, capacity is random (0 by default)\n",
    "    - `--lecturers NUMBER`: the number of lecturers\n",
    "    - `--force_lecturer_capacity CAPACITY`: the capacity of all lecturers; if 0, capacity is random (0 by default)\n",
    "    - `--instance_folder FOLDER`: the folder to save the instances to (`instances/` by default)\n",
    "    - `--solutions_folder FOLDER`: the folder to save the solutions to (`solutions/` by default)\n",
    "\n",
    "There are default values for all flags, so all flags are optional.\n",
    "\n",
    "An example usage is shown below (the `time` before the command is to just time how long the command takes to run)."
   ]
  },
  {
   "cell_type": "code",
   "execution_count": 9,
   "metadata": {},
   "outputs": [
    {
     "name": "stdout",
     "output_type": "stream",
     "text": [
      "Running 1000 iterations of SPA-P algorithm.\n",
      "  0%|                                                  | 0/1000 [00:00<?, ?it/s]Set parameter Username\n",
      "Set parameter LicenseID to value 2614470\n",
      "Academic license - for non-commercial use only - expires 2026-01-23\n",
      "100%|██████████████████████████████████████| 1000/1000 [00:03<00:00, 317.44it/s]\n",
      "\n",
      "real\t0m3.357s\n",
      "user\t0m3.649s\n",
      "sys\t0m1.153s\n"
     ]
    }
   ],
   "source": [
    "!time python3 src/algmatch/studentProjectAllocationProjects.py --multiple --iters 1000 --students 5 --length 3 --projects 10 --lecturers 5 --force_project_capacity 1 --force_lecturer_capacity 1"
   ]
  },
  {
   "cell_type": "markdown",
   "metadata": {},
   "source": [
    "## Instance generation\n",
    "\n",
    "There are several instance generation methods that can be used. By default, random instance generation is used for the `SPAP_Multiple` class. The following is a list of all possible instance generation methods and a brief description of them:\n",
    "- `random`: randomly generate instances (default).\n",
    "- `euclidean`: sample an n-dimensional point for each student, lecturer, and project. Students and lecturers rank projects increasingly according to the $l_2$ norm.\n",
    "- `reverse_euclidean`: similar to `euclidean`, but a proportion `prop_s` of students and a proportion `prop_l` of lecturers rank projects decreasingly according to the $l_2$ norm, while the rest rank increasingly as before.\n",
    "- `expectations_euclidean`: similar to `euclidean`, but after sampling a set of points $\\{x_1,...,x_k\\}$ for each project, the points are resampled for each project $p_j$ from a normal distribution with mean $x_j$ and some standard deviation.\n",
    "- `fame_euclidean`: similar to `euclidean`, but each project has a sampled \"fame score\", and students and lecturers rank increasingly according to the formula $l_2(p, p') - f'$ where $p$ is the student's / lecturer's sampled point, $p'$ is the project's sampled point, and $f'$ is the project's fame score.\n",
    "- `fame_euclidean_extended`: similar to `fame_euclidean`, but each project has two fame scores, one for students and one for lecturers.\n",
    "- `attributes`: similar to `euclidean`, but the dot product is used instead of the $l_2$ norm.\n",
    "\n",
    "Instance generator classes can be passed in to the `StudentProjectAllocationMultiple` class, as shown in the following code. Note that you can pass in any parameters of the instance generator class that need to change as shown, in a keyword argument dictionary."
   ]
  },
  {
   "cell_type": "code",
   "execution_count": 10,
   "metadata": {},
   "outputs": [
    {
     "name": "stderr",
     "output_type": "stream",
     "text": [
      "100%|██████████| 10/10 [00:00<00:00, 479.34it/s]"
     ]
    },
    {
     "name": "stdout",
     "output_type": "stream",
     "text": [
      "Running 10 iterations of SPA-P algorithm.\n"
     ]
    },
    {
     "name": "stderr",
     "output_type": "stream",
     "text": [
      "\n"
     ]
    }
   ],
   "source": [
    "from algmatch import SPAPIG\n",
    "\n",
    "\n",
    "S = SPAP_Multiple(\n",
    "    instance_generator=SPAPIG.SPAPIG_FameEuclideanExtended,\n",
    "    instance_generator_args={\n",
    "        \"num_dimensions\": 20,\n",
    "        \"max_fame_student\": 0.1,\n",
    "        \"max_fame_lecturer\": 0.4\n",
    "    },\n",
    "    iters=10,\n",
    "    project_capacity=1,\n",
    "    lecturer_capacity=1,\n",
    "    output_flag=False\n",
    ")\n",
    "\n",
    "S.run()"
   ]
  },
  {
   "cell_type": "markdown",
   "metadata": {},
   "source": [
    "The instance generators can also be used in the `StudentProjectAllocationProjects.py` command line, as shown below."
   ]
  },
  {
   "cell_type": "code",
   "execution_count": 11,
   "metadata": {},
   "outputs": [
    {
     "name": "stdout",
     "output_type": "stream",
     "text": [
      "Running 1000 iterations of SPA-P algorithm.\n",
      "  0%|                                                  | 0/1000 [00:00<?, ?it/s]Set parameter Username\n",
      "Set parameter LicenseID to value 2614470\n",
      "Academic license - for non-commercial use only - expires 2026-01-23\n",
      "100%|██████████████████████████████████████| 1000/1000 [00:04<00:00, 230.52it/s]\n",
      "\n",
      "real\t0m4.587s\n",
      "user\t0m4.937s\n",
      "sys\t0m1.104s\n"
     ]
    }
   ],
   "source": [
    "!time python3 src/algmatch/studentProjectAllocationProjects.py --multiple --instance_generator attributes --iters 1000 --students 5 --length 3"
   ]
  },
  {
   "cell_type": "markdown",
   "metadata": {},
   "source": [
    "## Utility functions\n",
    "\n",
    "There are a couple of utility functions included in the SPA-P module, namely `instance_to_numpy` and `solution_to_numpy`. To import these, run the following."
   ]
  },
  {
   "cell_type": "code",
   "execution_count": 12,
   "metadata": {},
   "outputs": [],
   "source": [
    "from algmatch import SPAP_utils"
   ]
  },
  {
   "cell_type": "markdown",
   "metadata": {},
   "source": [
    "### Converting instances to numpy objects\n",
    "\n",
    "To use the `instance_to_numpy` function, we need to specify the instance file we want to convert."
   ]
  },
  {
   "cell_type": "code",
   "execution_count": 13,
   "metadata": {},
   "outputs": [
    {
     "data": {
      "text/plain": [
       "array([[0.        , 0.        , 0.        , 0.        , 0.33333333,\n",
       "        0.        , 0.5       , 0.16666667, 0.        , 0.        ],\n",
       "       [0.16666667, 0.        , 0.        , 0.        , 0.5       ,\n",
       "        0.        , 0.33333333, 0.        , 0.        , 0.        ],\n",
       "       [0.        , 0.        , 0.        , 0.        , 0.5       ,\n",
       "        0.        , 0.33333333, 0.16666667, 0.        , 0.        ],\n",
       "       [0.        , 0.        , 0.        , 0.        , 0.33333333,\n",
       "        0.        , 0.16666667, 0.5       , 0.        , 0.        ],\n",
       "       [0.        , 0.        , 0.        , 0.        , 0.5       ,\n",
       "        0.        , 0.33333333, 0.16666667, 0.        , 0.        ],\n",
       "       [0.        , 0.        , 0.        , 0.        , 0.        ,\n",
       "        0.33333333, 0.        , 0.66666667, 0.        , 0.        ],\n",
       "       [0.        , 0.        , 0.        , 0.        , 1.        ,\n",
       "        0.        , 0.        , 0.        , 0.        , 0.        ],\n",
       "       [0.        , 0.        , 0.16666667, 0.5       , 0.        ,\n",
       "        0.        , 0.33333333, 0.        , 0.        , 0.        ],\n",
       "       [0.33333333, 0.66666667, 0.        , 0.        , 0.        ,\n",
       "        0.        , 0.        , 0.        , 0.        , 0.        ],\n",
       "       [0.        , 0.        , 0.        , 0.        , 0.        ,\n",
       "        0.        , 0.        , 0.        , 0.66666667, 0.33333333]])"
      ]
     },
     "execution_count": 13,
     "metadata": {},
     "output_type": "execute_result"
    }
   ],
   "source": [
    "SPAP_utils.instance_to_numpy(\"instances/instance_0.csv\")"
   ]
  },
  {
   "cell_type": "markdown",
   "metadata": {},
   "source": [
    "This outputs a numpy object with the following properties:\n",
    "- the shape of the matrix is `(num students + num lecturers, num projects)`\n",
    "- the summation of all the values on a row is 1\n",
    "- the values correspond to the preferences of the respective student / lecturer, with a higher value representing a higher preference"
   ]
  },
  {
   "cell_type": "markdown",
   "metadata": {},
   "source": [
    "### Converting solutions to numpy objects\n",
    "\n",
    "To use the `solution_to_numpy` function, we need to specify the solution file to convert, as well as the number of projects. This is because not all projects may be assigned in a given solution, so this needs to be specified to get the right output format of the numpy matrix."
   ]
  },
  {
   "cell_type": "code",
   "execution_count": 14,
   "metadata": {},
   "outputs": [
    {
     "data": {
      "text/plain": [
       "array([[0., 0., 0., 0., 0., 0., 1., 0., 0., 0.],\n",
       "       [1., 0., 0., 0., 0., 0., 0., 0., 0., 0.],\n",
       "       [0., 0., 0., 0., 0., 0., 0., 0., 0., 0.],\n",
       "       [0., 0., 0., 0., 0., 0., 0., 1., 0., 0.],\n",
       "       [0., 0., 0., 0., 1., 0., 0., 0., 0., 0.]])"
      ]
     },
     "execution_count": 14,
     "metadata": {},
     "output_type": "execute_result"
    }
   ],
   "source": [
    "SPAP_utils.solution_to_numpy(\"solutions/solution_0.csv\", 10)"
   ]
  },
  {
   "cell_type": "markdown",
   "metadata": {},
   "source": [
    "This outputs a numpy object with the following properties:\n",
    "- the shape of the matrix is `(num students, num projects)`\n",
    "- each `1` in the matrix represents the corresponding student being assigned to the corresponding project"
   ]
  }
 ],
 "metadata": {
  "kernelspec": {
   "display_name": "Python 3",
   "language": "python",
   "name": "python3"
  },
  "language_info": {
   "codemirror_mode": {
    "name": "ipython",
    "version": 3
   },
   "file_extension": ".py",
   "mimetype": "text/x-python",
   "name": "python",
   "nbconvert_exporter": "python",
   "pygments_lexer": "ipython3",
   "version": "3.10.12"
  }
 },
 "nbformat": 4,
 "nbformat_minor": 2
}
