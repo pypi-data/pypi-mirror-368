{
 "cells": [
  {
   "cell_type": "markdown",
   "metadata": {},
   "source": [
    "## General Exploration\n",
    "The goal of this phase is to get a general feel for the data and identify possible cleaning, feature engineering, and feature selection tasks."
   ]
  },
  {
   "cell_type": "code",
   "execution_count": 1,
   "metadata": {},
   "outputs": [],
   "source": [
    "import numpy as np\n",
    "import pandas as pd\n",
    "from settings import db_password, db_server, db_user\n",
    "\n",
    "import src.features.data_cleaning as data_clean\n",
    "import src.features.data_exploration as data_exp"
   ]
  },
  {
   "cell_type": "code",
   "execution_count": 2,
   "metadata": {},
   "outputs": [],
   "source": [
    "# these 'magic' functions allow you to adjust your code in an editor (e.g. Pycharm) and directly apply the changes in this notebook\n",
    "# https://ipython.org/ipython-doc/3/config/extensions/autoreload.html\n",
    "%load_ext autoreload\n",
    "%autoreload 2"
   ]
  },
  {
   "cell_type": "code",
   "execution_count": 3,
   "metadata": {},
   "outputs": [],
   "source": [
    "df = data_exp.return_dwh_table(\n",
    "    db_user, db_password, db_server, sql_query=\"SELECT * FROM eb_toon_churn_cltv\"\n",
    ")"
   ]
  },
  {
   "cell_type": "code",
   "execution_count": 4,
   "metadata": {},
   "outputs": [
    {
     "data": {
      "text/html": [
       "<div>\n",
       "<style scoped>\n",
       "    .dataframe tbody tr th:only-of-type {\n",
       "        vertical-align: middle;\n",
       "    }\n",
       "\n",
       "    .dataframe tbody tr th {\n",
       "        vertical-align: top;\n",
       "    }\n",
       "\n",
       "    .dataframe thead th {\n",
       "        text-align: right;\n",
       "    }\n",
       "</style>\n",
       "<table border=\"1\" class=\"dataframe\">\n",
       "  <thead>\n",
       "    <tr style=\"text-align: right;\">\n",
       "      <th></th>\n",
       "      <th>id_parent_klant</th>\n",
       "      <th>toon_churn</th>\n",
       "      <th>code_org_eigenaar_dwh</th>\n",
       "      <th>model_peildatum</th>\n",
       "      <th>ele_klant_ind</th>\n",
       "      <th>ele_contr_freq</th>\n",
       "      <th>ele_lpt_1jr_ind</th>\n",
       "      <th>ele_lpt_2jr_ind</th>\n",
       "      <th>ele_lpt_3jr_ind</th>\n",
       "      <th>ele_lpt_4jr_ind</th>\n",
       "      <th>...</th>\n",
       "      <th>app_sessie_last_dat</th>\n",
       "      <th>app_mobile_sessies_freq</th>\n",
       "      <th>app_saldo_overview_ind</th>\n",
       "      <th>app_voorschot_check_ind</th>\n",
       "      <th>app_transactie_aanvr_ind</th>\n",
       "      <th>app_voorschot_aanpassing_ind</th>\n",
       "      <th>app_energieprofiel_toevoeg_ind</th>\n",
       "      <th>app_bepaal_betaaldag_ind</th>\n",
       "      <th>app_mandaat_ja_ind</th>\n",
       "      <th>app_mandaat_nee_ind</th>\n",
       "    </tr>\n",
       "  </thead>\n",
       "  <tbody>\n",
       "    <tr>\n",
       "      <th>0</th>\n",
       "      <td>MI-46524513</td>\n",
       "      <td>0</td>\n",
       "      <td>ENECORET</td>\n",
       "      <td>2020-01-01</td>\n",
       "      <td>1</td>\n",
       "      <td>1</td>\n",
       "      <td>0</td>\n",
       "      <td>0</td>\n",
       "      <td>0</td>\n",
       "      <td>1</td>\n",
       "      <td>...</td>\n",
       "      <td>NaT</td>\n",
       "      <td>0</td>\n",
       "      <td>0</td>\n",
       "      <td>0</td>\n",
       "      <td>0</td>\n",
       "      <td>0</td>\n",
       "      <td>0</td>\n",
       "      <td>0</td>\n",
       "      <td>0</td>\n",
       "      <td>0</td>\n",
       "    </tr>\n",
       "    <tr>\n",
       "      <th>1</th>\n",
       "      <td>MI-46523434</td>\n",
       "      <td>0</td>\n",
       "      <td>ENECORET</td>\n",
       "      <td>2020-01-01</td>\n",
       "      <td>1</td>\n",
       "      <td>1</td>\n",
       "      <td>0</td>\n",
       "      <td>0</td>\n",
       "      <td>0</td>\n",
       "      <td>1</td>\n",
       "      <td>...</td>\n",
       "      <td>NaT</td>\n",
       "      <td>0</td>\n",
       "      <td>0</td>\n",
       "      <td>0</td>\n",
       "      <td>0</td>\n",
       "      <td>0</td>\n",
       "      <td>0</td>\n",
       "      <td>0</td>\n",
       "      <td>0</td>\n",
       "      <td>0</td>\n",
       "    </tr>\n",
       "    <tr>\n",
       "      <th>2</th>\n",
       "      <td>MI-46520280</td>\n",
       "      <td>0</td>\n",
       "      <td>ENECORET</td>\n",
       "      <td>2020-01-01</td>\n",
       "      <td>1</td>\n",
       "      <td>1</td>\n",
       "      <td>0</td>\n",
       "      <td>0</td>\n",
       "      <td>0</td>\n",
       "      <td>1</td>\n",
       "      <td>...</td>\n",
       "      <td>NaT</td>\n",
       "      <td>0</td>\n",
       "      <td>0</td>\n",
       "      <td>0</td>\n",
       "      <td>0</td>\n",
       "      <td>0</td>\n",
       "      <td>0</td>\n",
       "      <td>0</td>\n",
       "      <td>0</td>\n",
       "      <td>0</td>\n",
       "    </tr>\n",
       "    <tr>\n",
       "      <th>3</th>\n",
       "      <td>MI-46556716</td>\n",
       "      <td>1</td>\n",
       "      <td>ENECORET</td>\n",
       "      <td>2020-01-01</td>\n",
       "      <td>0</td>\n",
       "      <td>0</td>\n",
       "      <td>0</td>\n",
       "      <td>0</td>\n",
       "      <td>0</td>\n",
       "      <td>0</td>\n",
       "      <td>...</td>\n",
       "      <td>NaT</td>\n",
       "      <td>0</td>\n",
       "      <td>0</td>\n",
       "      <td>0</td>\n",
       "      <td>0</td>\n",
       "      <td>0</td>\n",
       "      <td>0</td>\n",
       "      <td>0</td>\n",
       "      <td>0</td>\n",
       "      <td>0</td>\n",
       "    </tr>\n",
       "    <tr>\n",
       "      <th>4</th>\n",
       "      <td>MI-46556286</td>\n",
       "      <td>0</td>\n",
       "      <td>ENECORET</td>\n",
       "      <td>2020-01-01</td>\n",
       "      <td>1</td>\n",
       "      <td>1</td>\n",
       "      <td>0</td>\n",
       "      <td>0</td>\n",
       "      <td>0</td>\n",
       "      <td>1</td>\n",
       "      <td>...</td>\n",
       "      <td>NaT</td>\n",
       "      <td>0</td>\n",
       "      <td>0</td>\n",
       "      <td>0</td>\n",
       "      <td>0</td>\n",
       "      <td>0</td>\n",
       "      <td>0</td>\n",
       "      <td>0</td>\n",
       "      <td>0</td>\n",
       "      <td>0</td>\n",
       "    </tr>\n",
       "    <tr>\n",
       "      <th>5</th>\n",
       "      <td>MI-45046840</td>\n",
       "      <td>1</td>\n",
       "      <td>ENECORET</td>\n",
       "      <td>2020-01-01</td>\n",
       "      <td>0</td>\n",
       "      <td>0</td>\n",
       "      <td>0</td>\n",
       "      <td>0</td>\n",
       "      <td>0</td>\n",
       "      <td>0</td>\n",
       "      <td>...</td>\n",
       "      <td>2019-01-05</td>\n",
       "      <td>2</td>\n",
       "      <td>0</td>\n",
       "      <td>0</td>\n",
       "      <td>0</td>\n",
       "      <td>0</td>\n",
       "      <td>0</td>\n",
       "      <td>0</td>\n",
       "      <td>0</td>\n",
       "      <td>0</td>\n",
       "    </tr>\n",
       "    <tr>\n",
       "      <th>6</th>\n",
       "      <td>MI-46038838</td>\n",
       "      <td>1</td>\n",
       "      <td>ENECORET</td>\n",
       "      <td>2020-01-01</td>\n",
       "      <td>0</td>\n",
       "      <td>0</td>\n",
       "      <td>0</td>\n",
       "      <td>0</td>\n",
       "      <td>0</td>\n",
       "      <td>0</td>\n",
       "      <td>...</td>\n",
       "      <td>2019-05-17</td>\n",
       "      <td>41</td>\n",
       "      <td>1</td>\n",
       "      <td>0</td>\n",
       "      <td>1</td>\n",
       "      <td>0</td>\n",
       "      <td>0</td>\n",
       "      <td>0</td>\n",
       "      <td>0</td>\n",
       "      <td>0</td>\n",
       "    </tr>\n",
       "    <tr>\n",
       "      <th>7</th>\n",
       "      <td>MI-45242170</td>\n",
       "      <td>1</td>\n",
       "      <td>ENECORET</td>\n",
       "      <td>2020-01-01</td>\n",
       "      <td>0</td>\n",
       "      <td>0</td>\n",
       "      <td>0</td>\n",
       "      <td>0</td>\n",
       "      <td>0</td>\n",
       "      <td>0</td>\n",
       "      <td>...</td>\n",
       "      <td>NaT</td>\n",
       "      <td>0</td>\n",
       "      <td>0</td>\n",
       "      <td>0</td>\n",
       "      <td>0</td>\n",
       "      <td>0</td>\n",
       "      <td>0</td>\n",
       "      <td>0</td>\n",
       "      <td>0</td>\n",
       "      <td>0</td>\n",
       "    </tr>\n",
       "    <tr>\n",
       "      <th>8</th>\n",
       "      <td>MI-685425</td>\n",
       "      <td>0</td>\n",
       "      <td>ENECORET</td>\n",
       "      <td>2020-01-01</td>\n",
       "      <td>1</td>\n",
       "      <td>1</td>\n",
       "      <td>0</td>\n",
       "      <td>0</td>\n",
       "      <td>0</td>\n",
       "      <td>0</td>\n",
       "      <td>...</td>\n",
       "      <td>NaT</td>\n",
       "      <td>0</td>\n",
       "      <td>0</td>\n",
       "      <td>0</td>\n",
       "      <td>0</td>\n",
       "      <td>0</td>\n",
       "      <td>0</td>\n",
       "      <td>0</td>\n",
       "      <td>0</td>\n",
       "      <td>0</td>\n",
       "    </tr>\n",
       "    <tr>\n",
       "      <th>9</th>\n",
       "      <td>MI-45154073</td>\n",
       "      <td>1</td>\n",
       "      <td>ENECORET</td>\n",
       "      <td>2020-01-01</td>\n",
       "      <td>0</td>\n",
       "      <td>0</td>\n",
       "      <td>0</td>\n",
       "      <td>0</td>\n",
       "      <td>0</td>\n",
       "      <td>0</td>\n",
       "      <td>...</td>\n",
       "      <td>NaT</td>\n",
       "      <td>0</td>\n",
       "      <td>0</td>\n",
       "      <td>0</td>\n",
       "      <td>0</td>\n",
       "      <td>0</td>\n",
       "      <td>0</td>\n",
       "      <td>0</td>\n",
       "      <td>0</td>\n",
       "      <td>0</td>\n",
       "    </tr>\n",
       "  </tbody>\n",
       "</table>\n",
       "<p>10 rows × 416 columns</p>\n",
       "</div>"
      ],
      "text/plain": [
       "  id_parent_klant  toon_churn code_org_eigenaar_dwh model_peildatum  \\\n",
       "0     MI-46524513           0              ENECORET      2020-01-01   \n",
       "1     MI-46523434           0              ENECORET      2020-01-01   \n",
       "2     MI-46520280           0              ENECORET      2020-01-01   \n",
       "3     MI-46556716           1              ENECORET      2020-01-01   \n",
       "4     MI-46556286           0              ENECORET      2020-01-01   \n",
       "5     MI-45046840           1              ENECORET      2020-01-01   \n",
       "6     MI-46038838           1              ENECORET      2020-01-01   \n",
       "7     MI-45242170           1              ENECORET      2020-01-01   \n",
       "8       MI-685425           0              ENECORET      2020-01-01   \n",
       "9     MI-45154073           1              ENECORET      2020-01-01   \n",
       "\n",
       "   ele_klant_ind  ele_contr_freq  ele_lpt_1jr_ind  ele_lpt_2jr_ind  \\\n",
       "0              1               1                0                0   \n",
       "1              1               1                0                0   \n",
       "2              1               1                0                0   \n",
       "3              0               0                0                0   \n",
       "4              1               1                0                0   \n",
       "5              0               0                0                0   \n",
       "6              0               0                0                0   \n",
       "7              0               0                0                0   \n",
       "8              1               1                0                0   \n",
       "9              0               0                0                0   \n",
       "\n",
       "   ele_lpt_3jr_ind  ele_lpt_4jr_ind  ...  app_sessie_last_dat  \\\n",
       "0                0                1  ...                  NaT   \n",
       "1                0                1  ...                  NaT   \n",
       "2                0                1  ...                  NaT   \n",
       "3                0                0  ...                  NaT   \n",
       "4                0                1  ...                  NaT   \n",
       "5                0                0  ...           2019-01-05   \n",
       "6                0                0  ...           2019-05-17   \n",
       "7                0                0  ...                  NaT   \n",
       "8                0                0  ...                  NaT   \n",
       "9                0                0  ...                  NaT   \n",
       "\n",
       "   app_mobile_sessies_freq  app_saldo_overview_ind  app_voorschot_check_ind  \\\n",
       "0                        0                       0                        0   \n",
       "1                        0                       0                        0   \n",
       "2                        0                       0                        0   \n",
       "3                        0                       0                        0   \n",
       "4                        0                       0                        0   \n",
       "5                        2                       0                        0   \n",
       "6                       41                       1                        0   \n",
       "7                        0                       0                        0   \n",
       "8                        0                       0                        0   \n",
       "9                        0                       0                        0   \n",
       "\n",
       "   app_transactie_aanvr_ind  app_voorschot_aanpassing_ind  \\\n",
       "0                         0                             0   \n",
       "1                         0                             0   \n",
       "2                         0                             0   \n",
       "3                         0                             0   \n",
       "4                         0                             0   \n",
       "5                         0                             0   \n",
       "6                         1                             0   \n",
       "7                         0                             0   \n",
       "8                         0                             0   \n",
       "9                         0                             0   \n",
       "\n",
       "   app_energieprofiel_toevoeg_ind  app_bepaal_betaaldag_ind  \\\n",
       "0                               0                         0   \n",
       "1                               0                         0   \n",
       "2                               0                         0   \n",
       "3                               0                         0   \n",
       "4                               0                         0   \n",
       "5                               0                         0   \n",
       "6                               0                         0   \n",
       "7                               0                         0   \n",
       "8                               0                         0   \n",
       "9                               0                         0   \n",
       "\n",
       "   app_mandaat_ja_ind  app_mandaat_nee_ind  \n",
       "0                   0                    0  \n",
       "1                   0                    0  \n",
       "2                   0                    0  \n",
       "3                   0                    0  \n",
       "4                   0                    0  \n",
       "5                   0                    0  \n",
       "6                   0                    0  \n",
       "7                   0                    0  \n",
       "8                   0                    0  \n",
       "9                   0                    0  \n",
       "\n",
       "[10 rows x 416 columns]"
      ]
     },
     "execution_count": 4,
     "metadata": {},
     "output_type": "execute_result"
    }
   ],
   "source": [
    "df.head(n=10)"
   ]
  },
  {
   "cell_type": "markdown",
   "metadata": {},
   "source": [
    "### notes describe_df\n",
    "- A Toon churner is likely to not longer be a customer of Eneco, thereby creating a lot of missing values for regularly\n",
    "updated data fiels\n",
    "- Which data is relevant up to the point of churning? \n",
    "- Can we retrieve these snapshots?"
   ]
  },
  {
   "cell_type": "code",
   "execution_count": 5,
   "metadata": {},
   "outputs": [
    {
     "name": "stdout",
     "output_type": "stream",
     "text": [
      "This dataframe has 57246 rows and 416 columns.\n",
      "\n",
      "The dependent variable consists of 50.0% of ones.\n",
      "\n",
      "The variables have the following data types:\n",
      "int64             378\n",
      "float64            19\n",
      "datetime64[ns]     12\n",
      "object              7\n",
      "dtype: int64\n",
      "\n",
      "The postfixes are distributed as follows:\n",
      "Counter({'ind': 333, 'freq': 42, 'dat': 13, 'cat': 9, 'num': 8, 'rec': 7, 'klant': 1, 'churn': 1, 'dwh': 1, 'peildatum': 1})\n",
      "\n",
      "The following variables have missing values:\n",
      "                             column  perc_missings\n",
      "325         ftr_dagen_sinds_lst_rec       1.000000\n",
      "324       contact_ftr_lst_datum_dat       1.000000\n",
      "322      klacht_dagen_sinds_lst_rec       0.997939\n",
      "321    contact_klacht_lst_datum_dat       0.997939\n",
      "381    web_tablet_laatst_actief_dat       0.942965\n",
      "379  web_pc_datum_laatst_actief_dat       0.762429\n",
      "406             app_sessie_last_dat       0.691472\n",
      "383    web_mobile_laatst_actief_dat       0.660378\n",
      "389      web_mijn_laatst_actief_dat       0.568861\n",
      "377     web_datum_laatst_actief_dat       0.502149\n",
      "30          ele_jvb_aandeel_dal_num       0.452363\n",
      "29          ele_jvb_geschat_dal_num       0.450774\n",
      "52              gas_geschat_jvb_num       0.445044\n",
      "28          ele_jvb_geschat_tot_num       0.425252\n",
      "318           contact_lst_datum_dat       0.416920\n",
      "319     contact_dagen_sinds_lst_rec       0.416920\n",
      "351           ltst_sale_werving_dat       0.390211\n",
      "128  energie_label_incl_vrlopig_cat       0.324162\n",
      "91         woon_avg_vloeropvlak_num       0.322555\n",
      "82            woon_avg_bouwjaar_num       0.322485\n",
      "174   werk_sector_hoogst_opleid_cat       0.322276\n",
      "100               woning_waarde_cat       0.322276\n",
      "232          video_geluid_appar_cat       0.322276\n",
      "129   leeftijd_hfdkostw_7kl_max_cat       0.322276\n",
      "130   leeftijd_hfdkostw_7kl_min_cat       0.322276\n",
      "160              sociale_klasse_cat       0.322276\n",
      "166     opleiding_hoogste_in_hh_cat       0.322276\n",
      "121               stedelijkheid_cat       0.321682\n",
      "287  mijn_eneco_jr_sinds_regstr_rec       0.150718\n",
      "364         sales_jr_sinds_last_rec       0.080303\n",
      "363                   ltst_sale_dat       0.080285\n",
      "\n",
      "\n"
     ]
    }
   ],
   "source": [
    "data_exp.describe_df(df, dependent_variable=\"toon_churn\")"
   ]
  },
  {
   "cell_type": "markdown",
   "metadata": {},
   "source": [
    "### Set aside a test set \n",
    "It may feel counter intuitive to set aside a significant part of the data at the beginning but to get the most reliable generalization error this step is *absolutely necessary*. \n",
    "- It is common practice to set aside 20% as a test set but with huge amounts of data this percentage should be lower \n",
    "- Note that all the transformations on the train set must also be applied on the test set\n",
    "- The train_set is also exported since the connection to the DWH is slow and loading the dataset from disk is faster"
   ]
  },
  {
   "cell_type": "code",
   "execution_count": null,
   "metadata": {},
   "outputs": [],
   "source": [
    "train_set = data_exp.set_aside_test_set(df, test_size=0.2, random_state=1337)"
   ]
  },
  {
   "cell_type": "code",
   "execution_count": null,
   "metadata": {},
   "outputs": [],
   "source": [
    "del df  # no longer needed"
   ]
  },
  {
   "cell_type": "markdown",
   "metadata": {},
   "source": [
    "### notes odds_ind \n",
    "- pay attention to the sum(y) variables, when (very) low the absolute and relative differences can be misleading\n",
    "- btwz_onbekend_ind -> obvious since a Toon customer will most likely leave, thereby stops paying\n",
    "- web_url_verhuizen_lst_jr_ind -> interesting & expected \n",
    "- incgrp_medium_risk_ind -> why? "
   ]
  },
  {
   "cell_type": "code",
   "execution_count": null,
   "metadata": {},
   "outputs": [],
   "source": [
    "df_odds_ind = data_exp.odds_ind(train_set, dependent_variable=\"toon_churn\")"
   ]
  },
  {
   "cell_type": "code",
   "execution_count": null,
   "metadata": {},
   "outputs": [],
   "source": [
    "df_odds_ind.iloc[:25]"
   ]
  },
  {
   "cell_type": "markdown",
   "metadata": {},
   "source": [
    "### notes freq insight\n",
    "- cont_kcm_admin_billing_freq > 0, chance on churn increases\n",
    "- remove variables from dataframe when abs < 0.05 \n",
    "- convert other low variance variables to indicators or combine (e.g., all sustainability variables)"
   ]
  },
  {
   "cell_type": "code",
   "execution_count": null,
   "metadata": {},
   "outputs": [],
   "source": [
    "data_exp.freq_insight(train_set)"
   ]
  },
  {
   "cell_type": "code",
   "execution_count": null,
   "metadata": {},
   "outputs": [],
   "source": [
    "pd.crosstab(train_set[\"cont_kcm_admin_billing_freq\"], train_set[\"toon_churn\"]).assign(\n",
    "    perc_churn=lambda x: x[1] / np.sum(x, axis=1)\n",
    ")[:10]"
   ]
  },
  {
   "cell_type": "markdown",
   "metadata": {},
   "source": [
    "### notes dates\n",
    "- Not all variables with a '_dat' postfix are actual datetimes\n",
    "- OutOfBoundsDatetime: Out of bounds nanosecond timestamp: 9999-12-31 00:00:00\n",
    "- If an einddatum is known then chances are that customers will stop using Toon, is this too obvious? In case no einddatum\n",
    "is known still 25% churns on Toon (in this dataset)\n",
    "- contact_ftr_lst_datum_dat can be removed (standard via nzv?)\n",
    "- ltst_sale_werving_dat and ltst_sale_dat can be converted to days since today:\n",
    "```python\n",
    "today = datetime.date.today()\n",
    "(today - df['ltst_sale_werving_dat'].dt.date).dt.days\n",
    "```\n",
    "but how to handle missings?\n",
    "- The same goes for web & app data"
   ]
  },
  {
   "cell_type": "code",
   "execution_count": null,
   "metadata": {},
   "outputs": [],
   "source": [
    "dates_list = data_exp.postfix_to_column(\n",
    "    train_set, postfix=\"dat\", dependent_variable=None\n",
    ")"
   ]
  },
  {
   "cell_type": "code",
   "execution_count": null,
   "metadata": {},
   "outputs": [],
   "source": [
    "train_set[dates_list].dtypes"
   ]
  },
  {
   "cell_type": "code",
   "execution_count": null,
   "metadata": {},
   "outputs": [],
   "source": [
    "train_set[dates_list].head()"
   ]
  },
  {
   "cell_type": "code",
   "execution_count": null,
   "metadata": {},
   "outputs": [],
   "source": [
    "train_set[\"max_eind_levering_ind\"] = np.where(\n",
    "    train_set[\"klant_max_eind_levering_dat\"].astype(\"str\") == \"9999-12-31 00:00:00\",\n",
    "    1,\n",
    "    0,\n",
    ")"
   ]
  },
  {
   "cell_type": "code",
   "execution_count": null,
   "metadata": {},
   "outputs": [],
   "source": [
    "pd.crosstab(train_set[\"max_eind_levering_ind\"], train_set[\"toon_churn\"]).assign(\n",
    "    perc_churn=lambda x: x[1] / np.sum(x, axis=1)\n",
    ")"
   ]
  },
  {
   "cell_type": "code",
   "execution_count": null,
   "metadata": {},
   "outputs": [],
   "source": [
    "import datetime"
   ]
  },
  {
   "cell_type": "code",
   "execution_count": null,
   "metadata": {},
   "outputs": [],
   "source": [
    "today = datetime.date.today()\n",
    "print(today)\n",
    "print((today - df[\"ltst_sale_werving_dat\"].dt.date).dt.days)"
   ]
  },
  {
   "cell_type": "markdown",
   "metadata": {},
   "source": [
    "### Notes categorical variables\n",
    "- fix cat_visu function: energie_label should get it's own distribution instead of auto remove\n",
    "- energie_label_incl_vrlopig_cat indicator for label = A? -> significant higher churn percentage (add unknown and fillna?)"
   ]
  },
  {
   "cell_type": "code",
   "execution_count": null,
   "metadata": {},
   "outputs": [],
   "source": [
    "data_exp.cat_visu(train_set, dependent_variable=\"toon_churn\")"
   ]
  },
  {
   "cell_type": "code",
   "execution_count": null,
   "metadata": {},
   "outputs": [],
   "source": [
    "pd.crosstab(\n",
    "    train_set[\"energie_label_incl_vrlopig_cat\"], train_set[\"toon_churn\"]\n",
    ").assign(perc_churn=lambda x: x[1] / np.sum(x, axis=1))"
   ]
  },
  {
   "cell_type": "markdown",
   "metadata": {},
   "source": [
    "### Notes numerical variables\n",
    "- log_trans_list = ['ele_jvb_geschat_tot_num', 'woon_avg_vloeropvlak_num']\n",
    "- Indicator functions for incasso_* variables * woon_avg_vloeropvlak_num\n",
    "- qcut functions for ele_jvb_*"
   ]
  },
  {
   "cell_type": "code",
   "execution_count": null,
   "metadata": {},
   "outputs": [],
   "source": [
    "data_exp.num_visu(train_set)"
   ]
  },
  {
   "cell_type": "markdown",
   "metadata": {},
   "source": [
    "### Notes rec variables\n",
    "- How to go about missings? Imputation make no sense in cae of complaints .. indicators? \n",
    "- Are they already present?\n",
    "- klacht_dagen_sinds_lst_rec & ftr_dagen_sinds_lst_rec can be removed due to lack of information"
   ]
  },
  {
   "cell_type": "code",
   "execution_count": null,
   "metadata": {},
   "outputs": [],
   "source": [
    "rec_list = data_exp.postfix_to_column(train_set, postfix=\"rec\", dependent_variable=None)"
   ]
  },
  {
   "cell_type": "code",
   "execution_count": null,
   "metadata": {},
   "outputs": [],
   "source": [
    "train_set[rec_list].head()"
   ]
  },
  {
   "cell_type": "code",
   "execution_count": null,
   "metadata": {},
   "outputs": [],
   "source": [
    "train_set[rec_list].info()"
   ]
  },
  {
   "cell_type": "markdown",
   "metadata": {},
   "source": [
    "### Notes correlation\n",
    "- Toon_abo_klant_ind should be removed for obvious reasons\n",
    "- A lot of other variables are extremely highly correlated and should be removed due to redundancy \n",
    "- Discuss with the team for future training datasets\n",
    "\n",
    "```python\n",
    "use list(df_multi_corr['drop_suggestion']) to produce the drop_list\n",
    "```"
   ]
  },
  {
   "cell_type": "code",
   "execution_count": null,
   "metadata": {},
   "outputs": [],
   "source": [
    "df_multi_corr = data_exp.multicollinearity(\n",
    "    train_set, cut_off=0.9, dependent_variable=\"toon_churn\"\n",
    ")"
   ]
  },
  {
   "cell_type": "code",
   "execution_count": null,
   "metadata": {},
   "outputs": [],
   "source": [
    "with pd.option_context(\"display.max_rows\", 100):\n",
    "    display(df_multi_corr.sort_values(by=\"corr\", ascending=False))"
   ]
  },
  {
   "cell_type": "markdown",
   "metadata": {},
   "source": [
    "### Notes PCA\n",
    "- Not surpisingly the results indicates that a lot of the variance can be captured in just 3 dimensions\n",
    "- Try this modeling route -> saves time :)"
   ]
  },
  {
   "cell_type": "code",
   "execution_count": null,
   "metadata": {},
   "outputs": [],
   "source": [
    "df_pca_obj = data_exp.pca_visu(train_set, dependent_variable=\"toon_churn\")"
   ]
  },
  {
   "cell_type": "code",
   "execution_count": null,
   "metadata": {},
   "outputs": [],
   "source": [
    "cumulative_variance = pd.Series(np.cumsum(df_pca_obj.explained_variance_ratio_))\n",
    "cumulative_variance[cumulative_variance < 0.98]"
   ]
  }
 ],
 "metadata": {
  "kernelspec": {
   "display_name": "Python 3",
   "language": "python",
   "name": "python3"
  },
  "language_info": {
   "codemirror_mode": {
    "name": "ipython",
    "version": 3
   },
   "file_extension": ".py",
   "mimetype": "text/x-python",
   "name": "python",
   "nbconvert_exporter": "python",
   "pygments_lexer": "ipython3",
   "version": "3.9.5"
  }
 },
 "nbformat": 4,
 "nbformat_minor": 4
}