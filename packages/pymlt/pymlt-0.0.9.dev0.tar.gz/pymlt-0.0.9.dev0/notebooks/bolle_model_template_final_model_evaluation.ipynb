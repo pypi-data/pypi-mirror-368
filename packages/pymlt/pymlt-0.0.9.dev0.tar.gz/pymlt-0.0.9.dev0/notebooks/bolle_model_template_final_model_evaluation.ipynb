{
 "cells": [
  {
   "cell_type": "markdown",
   "metadata": {},
   "source": [
    "### Final model evaluation\n",
    "- Check the performance of the trained model on the test set which was set aside in the exploration phase\n",
    "- This performance is the best estimator for performance in 'the real world'"
   ]
  },
  {
   "cell_type": "code",
   "execution_count": 1,
   "metadata": {},
   "outputs": [],
   "source": [
    "import datetime\n",
    "import os\n",
    "import pickle\n",
    "\n",
    "import pandas as pd\n",
    "from sklearn.metrics import classification_report, confusion_matrix\n",
    "\n",
    "import src.features.data_cleaning as data_clean\n",
    "import src.features.data_exploration as data_exp\n",
    "import src.features.feature_engineering as feat_eng"
   ]
  },
  {
   "cell_type": "markdown",
   "metadata": {},
   "source": [
    "#### Load the model"
   ]
  },
  {
   "cell_type": "code",
   "execution_count": 2,
   "metadata": {},
   "outputs": [
    {
     "name": "stdout",
     "output_type": "stream",
     "text": [
      ".gitkeep\n",
      "20200304_lightgbm_45796_rows\n",
      "lightgbm_first_round.sav\n"
     ]
    }
   ],
   "source": [
    "models_path = os.path.join(\"..\", \"models\")\n",
    "\n",
    "for file in os.scandir(models_path):\n",
    "    print(file.name)"
   ]
  },
  {
   "cell_type": "code",
   "execution_count": 3,
   "metadata": {},
   "outputs": [],
   "source": [
    "filename = os.path.join(models_path, \"20200304_lightgbm_45796_rows\")"
   ]
  },
  {
   "cell_type": "code",
   "execution_count": 4,
   "metadata": {},
   "outputs": [],
   "source": [
    "lightgbm = pickle.load(open(filename, \"rb\"))"
   ]
  },
  {
   "cell_type": "markdown",
   "metadata": {},
   "source": [
    "#### Load the data"
   ]
  },
  {
   "cell_type": "code",
   "execution_count": 5,
   "metadata": {},
   "outputs": [],
   "source": [
    "test_path = os.path.join(\"..\", \"data\", \"test_set\")"
   ]
  },
  {
   "cell_type": "code",
   "execution_count": 6,
   "metadata": {},
   "outputs": [],
   "source": [
    "test_set = pd.read_csv(\n",
    "    test_path, sep=\";\", decimal=\".\", low_memory=False, compression=\"zip\"\n",
    ")"
   ]
  },
  {
   "cell_type": "code",
   "execution_count": 7,
   "metadata": {},
   "outputs": [
    {
     "data": {
      "text/plain": [
       "(11450, 416)"
      ]
     },
     "execution_count": 7,
     "metadata": {},
     "output_type": "execute_result"
    }
   ],
   "source": [
    "test_set.shape"
   ]
  },
  {
   "cell_type": "markdown",
   "metadata": {},
   "source": [
    "#### Load the feature list"
   ]
  },
  {
   "cell_type": "code",
   "execution_count": 8,
   "metadata": {},
   "outputs": [],
   "source": [
    "feature_path = os.path.join(\"..\", \"feature_lists\", \"combined_list_4_votes\")"
   ]
  },
  {
   "cell_type": "code",
   "execution_count": 9,
   "metadata": {},
   "outputs": [],
   "source": [
    "feature_list = list(pd.read_csv(feature_path, sep=\";\")[\"features\"])"
   ]
  },
  {
   "cell_type": "code",
   "execution_count": 10,
   "metadata": {},
   "outputs": [
    {
     "data": {
      "text/plain": [
       "['ele_bron_ecostroom_ind',\n",
       " 'ele_bron_wind_eu_ind',\n",
       " 'ele_vbr_prf_1b_ind',\n",
       " 'gas_klant_ind',\n",
       " 'gas_lpt_4jr_ind',\n",
       " 'gas_type_prijs_vast_ind',\n",
       " 'vzgebied_stedin_buiten_ind',\n",
       " 'woon_eigendom_koop_ind',\n",
       " 'ntal_kind_in_huis_geen_ind',\n",
       " 'ntal_volwassen_in_huis_1_ind',\n",
       " 'ntal_volwassen_in_huis_2_ind',\n",
       " 'postorder_koper_ind',\n",
       " 'auto_bezit_geen_ind',\n",
       " 'auto_bezit_eigen_ind',\n",
       " 'bezit_spelcomputer_ind',\n",
       " 'web_activit_zeer_veel_ind',\n",
       " 'btwz_onbekend_ind',\n",
       " 'incgrp_medium_risk_ind',\n",
       " 'incgrp_low_risk_ind',\n",
       " 'contact_lst_jr_aant_freq',\n",
       " 'cont_kcm_soort_service_freq',\n",
       " 'sale_lstjr_knl_last_inb_ind',\n",
       " 'web_url_app_lst_jr_ind',\n",
       " 'web_url_meterstnden_lst_jr_ind',\n",
       " 'web_url_verhuizen_lst_jr_ind',\n",
       " 'days_since_ltst_sale_num',\n",
       " 'klant_jr_sinds_frst_start_rec']"
      ]
     },
     "execution_count": 10,
     "metadata": {},
     "output_type": "execute_result"
    }
   ],
   "source": [
    "feature_list"
   ]
  },
  {
   "cell_type": "markdown",
   "metadata": {},
   "source": [
    "### Incorporate cleaning & changes to the final dataset\n",
    "- In this case there is only 1 additional feature added, the rest is the same as the original\n",
    "- most cleaning consisted of removing items"
   ]
  },
  {
   "cell_type": "code",
   "execution_count": 11,
   "metadata": {},
   "outputs": [],
   "source": [
    "today = datetime.date.today()\n",
    "test_set[\"days_since_ltst_sale_num\"] = (\n",
    "    today - pd.to_datetime(test_set[\"ltst_sale_dat\"]).dt.date\n",
    ").dt.days\n",
    "test_set[\"days_since_ltst_sale_num\"] = test_set[\"days_since_ltst_sale_num\"].fillna(\n",
    "    test_set[\"days_since_ltst_sale_num\"].median()\n",
    ")"
   ]
  },
  {
   "cell_type": "code",
   "execution_count": 13,
   "metadata": {},
   "outputs": [],
   "source": [
    "feature_list.insert(0, \"toon_churn\")"
   ]
  },
  {
   "cell_type": "code",
   "execution_count": 15,
   "metadata": {},
   "outputs": [
    {
     "name": "stdout",
     "output_type": "stream",
     "text": [
      "This dataframe has 11450 rows and 28 columns.\n",
      "\n",
      "The dependent variable consists of 49.7% of ones.\n",
      "\n",
      "The variables have the following data types:\n",
      "int64      26\n",
      "float64     2\n",
      "dtype: int64\n",
      "\n",
      "The postfixes are distributed as follows:\n",
      "Counter({'ind': 23, 'freq': 2, 'churn': 1, 'num': 1, 'rec': 1})\n",
      "\n",
      "The following variables have missing values:\n",
      "Empty DataFrame\n",
      "Columns: [column, perc_missings]\n",
      "Index: []\n",
      "\n",
      "\n"
     ]
    }
   ],
   "source": [
    "data_exp.describe_df(test_set[feature_list], dependent_variable=\"toon_churn\")"
   ]
  },
  {
   "cell_type": "markdown",
   "metadata": {},
   "source": [
    "### Final results\n",
    "- Very slight decrease in performance .. bueno"
   ]
  },
  {
   "cell_type": "code",
   "execution_count": 19,
   "metadata": {},
   "outputs": [],
   "source": [
    "y = test_set[\"toon_churn\"]\n",
    "X = test_set[feature_list].drop(\"toon_churn\", axis=1)"
   ]
  },
  {
   "cell_type": "code",
   "execution_count": 20,
   "metadata": {},
   "outputs": [],
   "source": [
    "lightgbm_prediction = lightgbm.predict(X)"
   ]
  },
  {
   "cell_type": "code",
   "execution_count": 21,
   "metadata": {},
   "outputs": [
    {
     "name": "stdout",
     "output_type": "stream",
     "text": [
      "[[5351 1002]\n",
      " [ 403 4694]]\n",
      "              precision    recall  f1-score   support\n",
      "\n",
      "           0       0.93      0.84      0.88      6353\n",
      "           1       0.82      0.92      0.87      5097\n",
      "\n",
      "    accuracy                           0.88     11450\n",
      "   macro avg       0.88      0.88      0.88     11450\n",
      "weighted avg       0.88      0.88      0.88     11450\n",
      "\n"
     ]
    }
   ],
   "source": [
    "print(confusion_matrix(lightgbm_prediction, y))\n",
    "print(classification_report(lightgbm_prediction, y))"
   ]
  },
  {
   "cell_type": "markdown",
   "metadata": {},
   "source": [
    "#### Next steps\n",
    "- Create a make_dataset function which collects only the necessary columns for this model\n",
    "- Create seperate functions to re-train the model or use it to predict toon churn for new customers\n",
    "- Create a hyperopt function\n",
    "- Add the above mentioned functions in a script\n",
    "- Plug the model in on the future DS & DE platform"
   ]
  }
 ],
 "metadata": {
  "kernelspec": {
   "display_name": "Python 3",
   "language": "python",
   "name": "python3"
  },
  "language_info": {
   "codemirror_mode": {
    "name": "ipython",
    "version": 3
   },
   "file_extension": ".py",
   "mimetype": "text/x-python",
   "name": "python",
   "nbconvert_exporter": "python",
   "pygments_lexer": "ipython3",
   "version": "3.9.5"
  }
 },
 "nbformat": 4,
 "nbformat_minor": 4
}