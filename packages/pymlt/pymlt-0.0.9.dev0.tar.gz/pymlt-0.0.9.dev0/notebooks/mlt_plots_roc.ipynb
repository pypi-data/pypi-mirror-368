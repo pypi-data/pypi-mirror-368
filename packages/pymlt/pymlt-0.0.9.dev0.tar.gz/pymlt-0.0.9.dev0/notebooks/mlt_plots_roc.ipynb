{
 "cells": [
  {
   "cell_type": "code",
   "execution_count": null,
   "id": "8155d460-e6cc-4c62-b770-3e6b269b0a75",
   "metadata": {},
   "outputs": [],
   "source": [
    "import matplotlib.pyplot as plt\n",
    "from sklearn import datasets, metrics, model_selection, svm\n",
    "\n",
    "X, y = datasets.make_classification(n_samples=100_000)\n",
    "X_train, X_test, y_train, y_test = model_selection.train_test_split(X, y)\n",
    "clf = svm.SVC()\n",
    "clf.fit(X_train, y_train)\n",
    "\n",
    "\n",
    "def get_roc_plot(clf, X_test, y_test):\n",
    "    metrics.plot_roc_curve(clf, X_test, y_test)\n",
    "\n",
    "    plt.title(\"ROC curve\")\n",
    "    plt.xlabel(\"FP rate\")\n",
    "    plt.ylabel(\"TP rate\")\n",
    "    plt.savefig(f\"model_roc_curve.jpeg\", dpi=200)\n",
    "\n",
    "\n",
    "get_roc_plot(clf, X_test, y_test)"
   ]
  },
  {
   "cell_type": "code",
   "execution_count": 37,
   "id": "3e1aff2d-4d06-42b6-9767-3345a1e6e423",
   "metadata": {},
   "outputs": [],
   "source": [
    "from sklearn.metrics import PrecisionRecallDisplay"
   ]
  },
  {
   "cell_type": "code",
   "execution_count": 38,
   "id": "cf39b309-0feb-4e5c-b434-f49d4c1f88fe",
   "metadata": {},
   "outputs": [
    {
     "data": {
      "image/png": "[encoded data removed]",
      "text/plain": [
       "<Figure size 432x288 with 1 Axes>"
      ]
     },
     "metadata": {
      "needs_background": "light"
     },
     "output_type": "display_data"
    }
   ],
   "source": [
    "def plot_precision_recall(\n",
    "    ax, y, y_pred_proba, legend_loc=\"best\", label=None, *args, **kwargs\n",
    "):\n",
    "    auc = average_precision_score(y, y_pred_proba)\n",
    "    precision, recall, threshold = precision_recall_curve(y, y_pred_proba)\n",
    "\n",
    "    ax.set_title(\"Precision-Recall Curve\")\n",
    "    ax.set_xlabel(\"Recall\")\n",
    "    ax.set_ylabel(\"Precision\")\n",
    "    ax.set_xlim([-0.05, 1.05])\n",
    "    ax.set_ylim([-0.05, 1.05])\n",
    "\n",
    "    if label is None:\n",
    "        plot_label = \"area = {:0.2f}\".format(auc)\n",
    "    else:\n",
    "        plot_label = \"{}: area = {:0.2f}\".format(label, auc)\n",
    "\n",
    "    ax.plot(recall, precision, label=plot_label, *args, **kwargs)\n",
    "    ax.legend(loc=legend_loc)\n",
    "    return ax"
   ]
  },
  {
   "cell_type": "code",
   "execution_count": null,
   "id": "75cdcfdf-4429-4273-8462-2233a2002149",
   "metadata": {},
   "outputs": [],
   "source": []
  }
 ],
 "metadata": {
  "kernelspec": {
   "display_name": "Python 3",
   "language": "python",
   "name": "python3"
  },
  "language_info": {
   "codemirror_mode": {
    "name": "ipython",
    "version": 3
   },
   "file_extension": ".py",
   "mimetype": "text/x-python",
   "name": "python",
   "nbconvert_exporter": "python",
   "pygments_lexer": "ipython3",
   "version": "3.9.5"
  }
 },
 "nbformat": 4,
 "nbformat_minor": 5
}
