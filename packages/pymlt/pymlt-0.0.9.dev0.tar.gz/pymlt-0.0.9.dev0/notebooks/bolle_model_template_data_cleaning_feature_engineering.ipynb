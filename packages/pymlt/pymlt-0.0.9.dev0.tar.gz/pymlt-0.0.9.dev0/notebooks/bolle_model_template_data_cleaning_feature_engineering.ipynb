{
 "cells": [
  {
   "cell_type": "markdown",
   "metadata": {},
   "source": [
    "## Data Cleaning & Feature Engineering\n",
    "- For now most of the attention is focused on data cleaning, this is due:\n",
    "    - speed\n",
    "    - going through the general process lots of times in order to improve the MI modeling template\n",
    "- However, when the *process* is stable feature engineering is one of the most important aspects to focus on"
   ]
  },
  {
   "cell_type": "code",
   "execution_count": 2,
   "metadata": {},
   "outputs": [],
   "source": [
    "import datetime\n",
    "import os\n",
    "\n",
    "import numpy as np\n",
    "import pandas as pd\n",
    "\n",
    "import src.features.data_cleaning as data_clean\n",
    "import src.features.data_exploration as data_exp"
   ]
  },
  {
   "cell_type": "code",
   "execution_count": null,
   "metadata": {},
   "outputs": [],
   "source": [
    "%load_ext autoreload\n",
    "%autoreload 2"
   ]
  },
  {
   "cell_type": "code",
   "execution_count": 4,
   "metadata": {},
   "outputs": [],
   "source": [
    "train_path = os.path.join(\"..\", \"data\", \"train_set\")"
   ]
  },
  {
   "cell_type": "code",
   "execution_count": 6,
   "metadata": {},
   "outputs": [],
   "source": [
    "df = pd.read_csv(train_path, sep=\";\", decimal=\",\", low_memory=False, compression=\"zip\")"
   ]
  },
  {
   "cell_type": "code",
   "execution_count": 7,
   "metadata": {},
   "outputs": [
    {
     "data": {
      "text/plain": [
       "(45796, 416)"
      ]
     },
     "execution_count": 7,
     "metadata": {},
     "output_type": "execute_result"
    }
   ],
   "source": [
    "df.shape"
   ]
  },
  {
   "cell_type": "markdown",
   "metadata": {},
   "source": [
    "### Drop variables\n",
    "- without relevant information or a perfect explainer of the dependent variable (e.g., id-parent-klant, model_peildatum, toon_abo, ..)\n",
    "- with almost no variance \n",
    "    - currently only applied on frequency variales, should be applied on other types of variables as well\n",
    "- highly correlated features\n",
    "- with (too much) missing values\n",
    "- without variance (only 1 unique value per variable)\n",
    "\n",
    "Instead of using the precompiled drop_* functons I am going to show the function which is used behind the scenes:\n",
    "```python\n",
    "help(df.drop)\n",
    "```\n",
    "\n",
    "In this case I use sets to make sure only unique values are used and to easily control for a possible overlap between the variables we want to drop.\n",
    "#### not relevant | near zero variance | highly correlated | zero variance |"
   ]
  },
  {
   "cell_type": "code",
   "execution_count": 8,
   "metadata": {},
   "outputs": [],
   "source": [
    "no_relevant_information = set(\n",
    "    [\n",
    "        \"id_parent_klant\",\n",
    "        \"code_org_eigenaar_dwh\",\n",
    "        \"model_peildatum\",\n",
    "        \"toon_abo_klant_ind\",\n",
    "        \"klant_max_eind_levering_dat\",\n",
    "    ]\n",
    ")"
   ]
  },
  {
   "cell_type": "code",
   "execution_count": 9,
   "metadata": {},
   "outputs": [],
   "source": [
    "df_freq_insight = data_exp.freq_insight(df)\n",
    "low_variance = set(df_freq_insight.index[df_freq_insight[\"abs\"] < 0.05])"
   ]
  },
  {
   "cell_type": "code",
   "execution_count": 10,
   "metadata": {},
   "outputs": [],
   "source": [
    "df_multi_corr = data_exp.multicollinearity(\n",
    "    df, cut_off=0.9, dependent_variable=\"toon_churn\"\n",
    ")"
   ]
  },
  {
   "cell_type": "code",
   "execution_count": 11,
   "metadata": {},
   "outputs": [],
   "source": [
    "high_correlated = set(df_multi_corr[\"drop_suggestion\"])\n",
    "high_correlated.remove(\"toon_churn\")  # keep the dependent variable :)"
   ]
  },
  {
   "cell_type": "code",
   "execution_count": 12,
   "metadata": {},
   "outputs": [],
   "source": [
    "variables_to_drop = list(no_relevant_information | low_variance | high_correlated)"
   ]
  },
  {
   "cell_type": "code",
   "execution_count": 13,
   "metadata": {},
   "outputs": [],
   "source": [
    "df_cleaned = df.drop(variables_to_drop, axis=1)"
   ]
  },
  {
   "cell_type": "markdown",
   "metadata": {},
   "source": [
    "#### Missings & No variance\n",
    "- before removing variables with missings we are going to engineer a new 'days_since_last_sale_num' feature"
   ]
  },
  {
   "cell_type": "code",
   "execution_count": 14,
   "metadata": {},
   "outputs": [],
   "source": [
    "today = datetime.date.today()"
   ]
  },
  {
   "cell_type": "code",
   "execution_count": 15,
   "metadata": {},
   "outputs": [],
   "source": [
    "df_cleaned[\"days_since_ltst_sale_num\"] = (\n",
    "    today - pd.to_datetime(df_cleaned[\"ltst_sale_dat\"]).dt.date\n",
    ").dt.days"
   ]
  },
  {
   "cell_type": "code",
   "execution_count": 16,
   "metadata": {},
   "outputs": [],
   "source": [
    "df_cleaned[\"days_since_ltst_sale_num\"] = df_cleaned[\"days_since_ltst_sale_num\"].fillna(\n",
    "    df_cleaned[\"days_since_ltst_sale_num\"].median()\n",
    ")"
   ]
  },
  {
   "cell_type": "code",
   "execution_count": 17,
   "metadata": {},
   "outputs": [
    {
     "name": "stdout",
     "output_type": "stream",
     "text": [
      "drop_missings finished in 0.27 seconds with 45796 rows and 335 columns.\n"
     ]
    }
   ],
   "source": [
    "df_cleaned = data_clean.drop_missings(df_cleaned, threshold=0.05)"
   ]
  },
  {
   "cell_type": "code",
   "execution_count": 18,
   "metadata": {},
   "outputs": [
    {
     "name": "stdout",
     "output_type": "stream",
     "text": [
      "nzv finished in 0.76 seconds with 45796 rows and 312 columns.\n"
     ]
    }
   ],
   "source": [
    "df_cleaned = data_clean.nzv(df_cleaned)"
   ]
  },
  {
   "cell_type": "markdown",
   "metadata": {},
   "source": [
    "### Feature engineering\n",
    "As mentioned in the introduction we will skip this section for now but this is a **very** important step to take. Focus for latter:\n",
    "- check for and handle outliers (freq & numeric) \n",
    "- insight: we have a lot of indicators, possibly without that much variance (nzv for indicators?)\n",
    "- we will leave the (near zero variance) indicators for now since combinations of them could be useful -> how do automatically incorporate interactions? standard lightgbm?\n",
    "\n",
    "Notes:\n",
    "- klant_jr_sinds_frst_start_rec & klant_jr_sinds_ltste_start_rec should be converted to float when loaded\n",
    "- klant_min_begindatum_dat is redundant"
   ]
  },
  {
   "cell_type": "code",
   "execution_count": 19,
   "metadata": {},
   "outputs": [
    {
     "name": "stdout",
     "output_type": "stream",
     "text": [
      "This dataframe has 45796 rows and 312 columns.\n",
      "\n",
      "The dependent variable consists of 50.0% of ones.\n",
      "\n",
      "The variables have the following data types:\n",
      "int64      308\n",
      "object       3\n",
      "float64      1\n",
      "dtype: int64\n",
      "\n",
      "The postfixes are distributed as follows:\n",
      "Counter({'ind': 291, 'freq': 14, 'num': 3, 'rec': 2, 'churn': 1, 'dat': 1})\n",
      "\n",
      "The following variables have missing values:\n",
      "Empty DataFrame\n",
      "Columns: [column, perc_missings]\n",
      "Index: []\n",
      "\n",
      "\n"
     ]
    }
   ],
   "source": [
    "data_exp.describe_df(df_cleaned, dependent_variable=\"toon_churn\")"
   ]
  },
  {
   "cell_type": "code",
   "execution_count": 20,
   "metadata": {},
   "outputs": [
    {
     "data": {
      "text/html": [
       "<div>\n",
       "<style scoped>\n",
       "    .dataframe tbody tr th:only-of-type {\n",
       "        vertical-align: middle;\n",
       "    }\n",
       "\n",
       "    .dataframe tbody tr th {\n",
       "        vertical-align: top;\n",
       "    }\n",
       "\n",
       "    .dataframe thead th {\n",
       "        text-align: right;\n",
       "    }\n",
       "</style>\n",
       "<table border=\"1\" class=\"dataframe\">\n",
       "  <thead>\n",
       "    <tr style=\"text-align: right;\">\n",
       "      <th></th>\n",
       "      <th>klant_min_begindatum_dat</th>\n",
       "      <th>klant_jr_sinds_frst_start_rec</th>\n",
       "      <th>klant_jr_sinds_ltste_start_rec</th>\n",
       "    </tr>\n",
       "  </thead>\n",
       "  <tbody>\n",
       "    <tr>\n",
       "      <th>0</th>\n",
       "      <td>2013-10-31 00:00:00</td>\n",
       "      <td>6.17</td>\n",
       "      <td>6.17</td>\n",
       "    </tr>\n",
       "    <tr>\n",
       "      <th>1</th>\n",
       "      <td>2001-10-31 00:00:00</td>\n",
       "      <td>18.18</td>\n",
       "      <td>0.84</td>\n",
       "    </tr>\n",
       "    <tr>\n",
       "      <th>2</th>\n",
       "      <td>2004-04-01 00:00:00</td>\n",
       "      <td>15.76</td>\n",
       "      <td>15.76</td>\n",
       "    </tr>\n",
       "    <tr>\n",
       "      <th>3</th>\n",
       "      <td>1992-12-31 00:00:00</td>\n",
       "      <td>27.02</td>\n",
       "      <td>0.9</td>\n",
       "    </tr>\n",
       "    <tr>\n",
       "      <th>4</th>\n",
       "      <td>2016-06-14 00:00:00</td>\n",
       "      <td>3.55</td>\n",
       "      <td>0.94</td>\n",
       "    </tr>\n",
       "  </tbody>\n",
       "</table>\n",
       "</div>"
      ],
      "text/plain": [
       "  klant_min_begindatum_dat klant_jr_sinds_frst_start_rec  \\\n",
       "0      2013-10-31 00:00:00                          6.17   \n",
       "1      2001-10-31 00:00:00                         18.18   \n",
       "2      2004-04-01 00:00:00                         15.76   \n",
       "3      1992-12-31 00:00:00                         27.02   \n",
       "4      2016-06-14 00:00:00                          3.55   \n",
       "\n",
       "  klant_jr_sinds_ltste_start_rec  \n",
       "0                           6.17  \n",
       "1                           0.84  \n",
       "2                          15.76  \n",
       "3                            0.9  \n",
       "4                           0.94  "
      ]
     },
     "execution_count": 20,
     "metadata": {},
     "output_type": "execute_result"
    }
   ],
   "source": [
    "df_cleaned.select_dtypes(include=\"object\").head()"
   ]
  },
  {
   "cell_type": "markdown",
   "metadata": {},
   "source": [
    "### Indicator nzv start"
   ]
  },
  {
   "cell_type": "code",
   "execution_count": null,
   "metadata": {},
   "outputs": [],
   "source": [
    "ind_list = data_exp.postfix_to_column(\n",
    "    df_cleaned, postfix=\"ind\", dependent_variable=None\n",
    ")"
   ]
  },
  {
   "cell_type": "code",
   "execution_count": null,
   "metadata": {},
   "outputs": [],
   "source": [
    "df_cleaned[ind_list].head()"
   ]
  },
  {
   "cell_type": "code",
   "execution_count": null,
   "metadata": {},
   "outputs": [],
   "source": [
    "ind_dict = {}"
   ]
  },
  {
   "cell_type": "code",
   "execution_count": null,
   "metadata": {},
   "outputs": [],
   "source": [
    "# The most prevalent value comes first, regardless whether its 0, or 1\n",
    "for col in df_cleaned[ind_list]:\n",
    "    ind_dict[col] = list(df_cleaned[col].value_counts(normalize=True))[0]"
   ]
  },
  {
   "cell_type": "code",
   "execution_count": null,
   "metadata": {},
   "outputs": [],
   "source": [
    "ind_dict"
   ]
  },
  {
   "cell_type": "code",
   "execution_count": null,
   "metadata": {},
   "outputs": [],
   "source": [
    "near_zero_var_indicators = {\n",
    "    key: value for key, value in ind_dict.items() if value > 0.95\n",
    "}"
   ]
  },
  {
   "cell_type": "code",
   "execution_count": null,
   "metadata": {},
   "outputs": [],
   "source": [
    "len(near_zero_var_indicators)"
   ]
  },
  {
   "cell_type": "markdown",
   "metadata": {},
   "source": [
    "#### The following section is very memory intensive so for now we will leave this part but it is something to think about"
   ]
  },
  {
   "cell_type": "code",
   "execution_count": null,
   "metadata": {},
   "outputs": [],
   "source": [
    "from sklearn.preprocessing import PolynomialFeatures"
   ]
  },
  {
   "cell_type": "code",
   "execution_count": null,
   "metadata": {},
   "outputs": [],
   "source": [
    "X = df_cleaned[ind_list]"
   ]
  },
  {
   "cell_type": "code",
   "execution_count": null,
   "metadata": {},
   "outputs": [],
   "source": [
    "poly_transformation = PolynomialFeatures(2, interaction_only=True, include_bias=False)"
   ]
  },
  {
   "cell_type": "code",
   "execution_count": null,
   "metadata": {},
   "outputs": [],
   "source": [
    "X_t = poly_transformation.fit_transform(X)"
   ]
  },
  {
   "cell_type": "code",
   "execution_count": null,
   "metadata": {},
   "outputs": [],
   "source": [
    "type(X_t)"
   ]
  },
  {
   "cell_type": "markdown",
   "metadata": {},
   "source": [
    "### Export set\n",
    "- We will come back to feature engineering but for now we want to keep moving forward\n",
    "- Only the objects need to handle in the next section via a drop and convert to float"
   ]
  },
  {
   "cell_type": "code",
   "execution_count": 21,
   "metadata": {},
   "outputs": [],
   "source": [
    "train_path_cleaned = os.path.join(\"..\", \"data\", \"train_set_cleaned\")"
   ]
  },
  {
   "cell_type": "code",
   "execution_count": 22,
   "metadata": {},
   "outputs": [],
   "source": [
    "df_cleaned.to_csv(\n",
    "    train_path_cleaned, sep=\";\", encoding=\"utf-8\", index=False, compression=\"zip\"\n",
    ")"
   ]
  }
 ],
 "metadata": {
  "kernelspec": {
   "display_name": "Python 3",
   "language": "python",
   "name": "python3"
  },
  "language_info": {
   "codemirror_mode": {
    "name": "ipython",
    "version": 3
   },
   "file_extension": ".py",
   "mimetype": "text/x-python",
   "name": "python",
   "nbconvert_exporter": "python",
   "pygments_lexer": "ipython3",
   "version": "3.9.5"
  }
 },
 "nbformat": 4,
 "nbformat_minor": 4
}
