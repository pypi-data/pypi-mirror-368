{
 "cells": [
  {
   "cell_type": "code",
   "execution_count": 1,
   "id": "18c7bf9a-3dc5-4edb-a06e-cb2be2d8021f",
   "metadata": {},
   "outputs": [
    {
     "name": "stdout",
     "output_type": "stream",
     "text": [
      "\u001b[32m[INF]\u001b[0m \u001b[1m\u001b[34m\u001b[1m\u001b[34mstack-pyramid\u001b[0m: \u001b[34m: 6 files in folder: ./input/img-jpg\u001b[0m\u001b[0m                              \n",
      "\u001b[32m[INF]\u001b[0m \u001b[1m\u001b[34m\u001b[1m\u001b[34mstack-pyramid\u001b[0m: \u001b[34mfocus stacking\u001b[0m\u001b[0m                              \n",
      "\u001b[32m[INF]\u001b[0m \u001b[1m\u001b[32mstack-pyramid: \u001b[0m\u001b[32melapsed time: 00:00:01.73s\u001b[0m                                                                              \n",
      "\u001b[32m[INF]\u001b[0m \u001b[1m\u001b[32mstack-pyramid: \u001b[0m\u001b[32mcompleted\u001b[0m                              \n",
      "\u001b[32m[INF]\u001b[0m \u001b[1m\u001b[32mjob: \u001b[0m\u001b[32melapsed time: 00:00:01.73s\u001b[0m                              \n",
      "\u001b[32m[INF]\u001b[0m \u001b[1m\u001b[32mjob: \u001b[0m\u001b[32mcompleted\u001b[0m                              \n",
      "\u001b[32m[INF]\u001b[0m \u001b[1m\u001b[34m\u001b[1m\u001b[34mstack-pyramid\u001b[0m: \u001b[34m: 6 files in folder: ./input/img-tif\u001b[0m\u001b[0m                              \n",
      "\u001b[32m[INF]\u001b[0m \u001b[1m\u001b[34m\u001b[1m\u001b[34mstack-pyramid\u001b[0m: \u001b[34mfocus stacking\u001b[0m\u001b[0m                              \n",
      "\u001b[32m[INF]\u001b[0m \u001b[1m\u001b[32mstack-pyramid: \u001b[0m\u001b[32melapsed time: 00:00:01.59s\u001b[0m                                                                     \n",
      "\u001b[32m[INF]\u001b[0m \u001b[1m\u001b[32mstack-pyramid: \u001b[0m\u001b[32mcompleted\u001b[0m                              \n",
      "\u001b[32m[INF]\u001b[0m \u001b[1m\u001b[32mjob: \u001b[0m\u001b[32melapsed time: 00:00:01.59s\u001b[0m                              \n",
      "\u001b[32m[INF]\u001b[0m \u001b[1m\u001b[32mjob: \u001b[0m\u001b[32mcompleted\u001b[0m                              \n",
      "\u001b[32m[INF]\u001b[0m \u001b[1m\u001b[34m\u001b[1m\u001b[34mstack-sequential\u001b[0m: \u001b[34m: 6 files in folder: ./input/img-jpg\u001b[0m\u001b[0m                              \n",
      "\u001b[32m[INF]\u001b[0m \u001b[1m\u001b[34m\u001b[1m\u001b[34mstack-sequential\u001b[0m: \u001b[34mfocus stacking\u001b[0m\u001b[0m                              \n",
      "\u001b[32m[INF]\u001b[0m \u001b[1m\u001b[32mstack-sequential: \u001b[0m\u001b[32melapsed time: 00:00:01.43s\u001b[0m                                                                              \n",
      "\u001b[32m[INF]\u001b[0m \u001b[1m\u001b[32mstack-sequential: \u001b[0m\u001b[32mcompleted\u001b[0m                              \n",
      "\u001b[32m[INF]\u001b[0m \u001b[1m\u001b[32mjob: \u001b[0m\u001b[32melapsed time: 00:00:01.43s\u001b[0m                              \n",
      "\u001b[32m[INF]\u001b[0m \u001b[1m\u001b[32mjob: \u001b[0m\u001b[32mcompleted\u001b[0m                              \n",
      "\u001b[32m[INF]\u001b[0m \u001b[1m\u001b[34m\u001b[1m\u001b[34mstack-sequential\u001b[0m: \u001b[34m: 6 files in folder: ./input/img-tif\u001b[0m\u001b[0m                              \n",
      "\u001b[32m[INF]\u001b[0m \u001b[1m\u001b[34m\u001b[1m\u001b[34mstack-sequential\u001b[0m: \u001b[34mfocus stacking\u001b[0m\u001b[0m                              \n",
      "\u001b[32m[INF]\u001b[0m \u001b[1m\u001b[32mstack-sequential: \u001b[0m\u001b[32melapsed time: 00:00:01.28s\u001b[0m                                                  \n",
      "\u001b[32m[INF]\u001b[0m \u001b[1m\u001b[32mstack-sequential: \u001b[0m\u001b[32mcompleted\u001b[0m                              \n",
      "\u001b[32m[INF]\u001b[0m \u001b[1m\u001b[32mjob: \u001b[0m\u001b[32melapsed time: 00:00:01.28s\u001b[0m                              \n",
      "\u001b[32m[INF]\u001b[0m \u001b[1m\u001b[32mjob: \u001b[0m\u001b[32mcompleted\u001b[0m                              \n",
      "\u001b[32m[INF]\u001b[0m \u001b[1m\u001b[34m\u001b[1m\u001b[34mstack-depthmap\u001b[0m: \u001b[34m: 6 files in folder: ./input/img-jpg\u001b[0m\u001b[0m                              \n",
      "\u001b[32m[INF]\u001b[0m \u001b[1m\u001b[34m\u001b[1m\u001b[34mstack-depthmap\u001b[0m: \u001b[34mfocus stacking\u001b[0m\u001b[0m                              \n",
      "\u001b[32m[INF]\u001b[0m \u001b[1m\u001b[32mstack-depthmap: \u001b[0m\u001b[32melapsed time: 00:00:02.17s\u001b[0m                                                                              \n",
      "\u001b[32m[INF]\u001b[0m \u001b[1m\u001b[32mstack-depthmap: \u001b[0m\u001b[32mcompleted\u001b[0m                              \n",
      "\u001b[32m[INF]\u001b[0m \u001b[1m\u001b[32mjob: \u001b[0m\u001b[32melapsed time: 00:00:02.17s\u001b[0m                              \n",
      "\u001b[32m[INF]\u001b[0m \u001b[1m\u001b[32mjob: \u001b[0m\u001b[32mcompleted\u001b[0m                              \n",
      "\u001b[32m[INF]\u001b[0m \u001b[1m\u001b[34m\u001b[1m\u001b[34mstack-pyramid\u001b[0m: begin run\u001b[0m                              \n"
     ]
    },
    {
     "data": {
      "application/vnd.jupyter.widget-view+json": {
       "model_id": "1dec0ce03e8e4e4d82ba9b2cf1384683",
       "version_major": 2,
       "version_minor": 0
      },
      "text/plain": [
       "stack-pyramid:   0%|          | 0/2 [00:00<?, ?it/s]"
      ]
     },
     "metadata": {},
     "output_type": "display_data"
    },
    {
     "name": "stdout",
     "output_type": "stream",
     "text": [
      "\u001b[32m[INF]\u001b[0m \u001b[1m\u001b[32mstack-pyramid: \u001b[0m\u001b[32melapsed time: 00:00:02.00s\u001b[0m                                                                               \n",
      "\u001b[32m[INF]\u001b[0m \u001b[1m\u001b[32mstack-pyramid: \u001b[0m\u001b[32mcompleted\u001b[0m                              \n",
      "\u001b[32m[INF]\u001b[0m \u001b[1m\u001b[32mjob: \u001b[0m\u001b[32melapsed time: 00:00:02.00s\u001b[0m                              \n",
      "\u001b[32m[INF]\u001b[0m \u001b[1m\u001b[32mjob: \u001b[0m\u001b[32mcompleted\u001b[0m                              \n"
     ]
    }
   ],
   "source": [
    "%run -i \"test_0060_stack.py\""
   ]
  }
 ],
 "metadata": {
  "kernelspec": {
   "display_name": "Python [conda env:base] *",
   "language": "python",
   "name": "conda-base-py"
  },
  "language_info": {
   "codemirror_mode": {
    "name": "ipython",
    "version": 3
   },
   "file_extension": ".py",
   "mimetype": "text/x-python",
   "name": "python",
   "nbconvert_exporter": "python",
   "pygments_lexer": "ipython3",
   "version": "3.12.7"
  }
 },
 "nbformat": 4,
 "nbformat_minor": 5
}
