{
 "cells": [
  {
   "cell_type": "code",
   "execution_count": 1,
   "id": "091aff2a-06e1-4fef-948f-4a491b3f809b",
   "metadata": {},
   "outputs": [
    {
     "name": "stdout",
     "output_type": "stream",
     "text": [
      "\u001b[32m[INF]\u001b[0m Started\n",
      "\u001b[36m[DEB]\u001b[0m pi = 3.14\n",
      "\u001b[33m[WAR]\u001b[0m warning...!\n",
      "\u001b[31m[ERR]\u001b[0m crash...!\n",
      "\u001b[31;1m[CRI]\u001b[0m stop...!\n",
      "\u001b[32m[INF]\u001b[0m \u001b[32mcolored message, b&w on log file\u001b[0m\n",
      "\u001b[32m[INF]\u001b[0m this message is in log file and on console\n",
      "\u001b[32m[INF]\u001b[0m Finished\n"
     ]
    },
    {
     "data": {
      "application/vnd.jupyter.widget-view+json": {
       "model_id": "d64741fb85c44c458146f105d3e0c3af",
       "version_major": 2,
       "version_minor": 0
      },
      "text/plain": [
       "progress bar:   0%|          | 0/50 [00:00<?, ?it/s]"
      ]
     },
     "metadata": {},
     "output_type": "display_data"
    },
    {
     "data": {
      "application/vnd.jupyter.widget-view+json": {
       "model_id": "50a3134c4ecc461aa4cb29002420b4d3",
       "version_major": 2,
       "version_minor": 0
      },
      "text/plain": []
     },
     "metadata": {},
     "output_type": "display_data"
    },
    {
     "name": "stdout",
     "output_type": "stream",
     "text": [
      "\u001b[32m[INF]\u001b[0m \u001b[AStep: 0\n",
      "\u001b[32m[INF]\u001b[0m \u001b[AStep: 5\n",
      "\u001b[32m[INF]\u001b[0m \u001b[AStep: 10\n",
      "\u001b[32m[INF]\u001b[0m \u001b[AStep: 15\n",
      "\u001b[32m[INF]\u001b[0m \u001b[AStep: 20\n",
      "\u001b[32m[INF]\u001b[0m \u001b[AStep: 25\n",
      "\u001b[32m[INF]\u001b[0m \u001b[AStep: 30\n",
      "\u001b[32m[INF]\u001b[0m \u001b[AStep: 35\n",
      "\u001b[32m[INF]\u001b[0m \u001b[AStep: 40\n",
      "\u001b[32m[INF]\u001b[0m \u001b[AStep: 45\n",
      "\u001b[32m[INF]\u001b[0m Finished\n"
     ]
    }
   ],
   "source": [
    "%run -i \"test_0000_logging.py\""
   ]
  }
 ],
 "metadata": {
  "kernelspec": {
   "display_name": "Python 3 (ipykernel)",
   "language": "python",
   "name": "python3"
  },
  "language_info": {
   "codemirror_mode": {
    "name": "ipython",
    "version": 3
   },
   "file_extension": ".py",
   "mimetype": "text/x-python",
   "name": "python",
   "nbconvert_exporter": "python",
   "pygments_lexer": "ipython3",
   "version": "3.13.3"
  }
 },
 "nbformat": 4,
 "nbformat_minor": 5
}
