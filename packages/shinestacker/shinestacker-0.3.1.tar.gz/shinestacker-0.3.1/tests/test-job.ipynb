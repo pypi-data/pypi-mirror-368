{
 "cells": [
  {
   "cell_type": "code",
   "execution_count": 1,
   "id": "ee0d7651-93ad-43ef-838f-e2f6fa38b7d5",
   "metadata": {},
   "outputs": [
    {
     "name": "stdout",
     "output_type": "stream",
     "text": [
      "\u001b[32m[INF]\u001b[0m \u001b[1m\u001b[34m\u001b[1m\u001b[34maction 1\u001b[0m: \u001b[1m\u001b[34mrun 1\u001b[0m\u001b[0m                              \n",
      "\u001b[32m[INF]\u001b[0m \u001b[1m\u001b[34m\u001b[1m\u001b[34maction 2\u001b[0m: \u001b[1m\u001b[34mrun 2\u001b[0m\u001b[0m                              \n",
      "\u001b[32m[INF]\u001b[0m \u001b[1m\u001b[34m\u001b[1m\u001b[34mmy actions\u001b[0m: begin run\u001b[0m                              \n"
     ]
    },
    {
     "data": {
      "application/vnd.jupyter.widget-view+json": {
       "model_id": "4691f9bec9724890ad60b8b425c92bb2",
       "version_major": 2,
       "version_minor": 0
      },
      "text/plain": [
       "my actions:   0%|          | 0/10 [00:00<?, ?it/s]"
      ]
     },
     "metadata": {},
     "output_type": "display_data"
    },
    {
     "name": "stdout",
     "output_type": "stream",
     "text": [
      "\u001b[32m[INF]\u001b[0m \u001b[1m\u001b[34m\u001b[1m\u001b[34mmy actions\u001b[0m: \u001b[34maction: 1\u001b[0m\u001b[0m                              \n",
      "\u001b[32m[INF]\u001b[0m \u001b[1m\u001b[34m\u001b[1m\u001b[34mmy actions\u001b[0m: \u001b[34maction: 2\u001b[0m\u001b[0m                              \n",
      "\u001b[32m[INF]\u001b[0m \u001b[1m\u001b[34m\u001b[1m\u001b[34mmy actions\u001b[0m: \u001b[34maction: 3\u001b[0m\u001b[0m                              \n",
      "\u001b[32m[INF]\u001b[0m \u001b[1m\u001b[34m\u001b[1m\u001b[34mmy actions\u001b[0m: \u001b[34maction: 4\u001b[0m\u001b[0m                              \n",
      "\u001b[32m[INF]\u001b[0m \u001b[1m\u001b[34m\u001b[1m\u001b[34mmy actions\u001b[0m: \u001b[34maction: 5\u001b[0m\u001b[0m                              \n",
      "\u001b[32m[INF]\u001b[0m \u001b[1m\u001b[34m\u001b[1m\u001b[34mmy actions\u001b[0m: \u001b[34maction: 6\u001b[0m\u001b[0m                              \n",
      "\u001b[32m[INF]\u001b[0m \u001b[1m\u001b[34m\u001b[1m\u001b[34mmy actions\u001b[0m: \u001b[34maction: 7\u001b[0m\u001b[0m                              \n",
      "\u001b[32m[INF]\u001b[0m \u001b[1m\u001b[34m\u001b[1m\u001b[34mmy actions\u001b[0m: \u001b[34maction: 8\u001b[0m\u001b[0m                              \n",
      "\u001b[32m[INF]\u001b[0m \u001b[1m\u001b[34m\u001b[1m\u001b[34mmy actions\u001b[0m: \u001b[34maction: 9\u001b[0m\u001b[0m                              \n",
      "\u001b[32m[INF]\u001b[0m \u001b[1m\u001b[34m\u001b[1m\u001b[34mmy actions\u001b[0m: \u001b[34maction: 10\u001b[0m\u001b[0m                              \n",
      "\u001b[32m[INF]\u001b[0m \u001b[1m\u001b[32mmy actions: \u001b[0m\u001b[32melapsed time: 00:00:01.13s\u001b[0m                              \n",
      "\u001b[32m[INF]\u001b[0m \u001b[1m\u001b[32mmy actions: \u001b[0m\u001b[32mcompleted\u001b[0m                              \n",
      "\u001b[32m[INF]\u001b[0m \u001b[1m\u001b[32mjob: \u001b[0m\u001b[32melapsed time: 00:00:02.34s\u001b[0m                              \n",
      "\u001b[32m[INF]\u001b[0m \u001b[1m\u001b[32mjob: \u001b[0m\u001b[32mcompleted\u001b[0m                              \n"
     ]
    }
   ],
   "source": [
    "%run -i \"test_0010_job.py\""
   ]
  }
 ],
 "metadata": {
  "kernelspec": {
   "display_name": "Python [conda env:base] *",
   "language": "python",
   "name": "conda-base-py"
  },
  "language_info": {
   "codemirror_mode": {
    "name": "ipython",
    "version": 3
   },
   "file_extension": ".py",
   "mimetype": "text/x-python",
   "name": "python",
   "nbconvert_exporter": "python",
   "pygments_lexer": "ipython3",
   "version": "3.12.7"
  }
 },
 "nbformat": 4,
 "nbformat_minor": 5
}
