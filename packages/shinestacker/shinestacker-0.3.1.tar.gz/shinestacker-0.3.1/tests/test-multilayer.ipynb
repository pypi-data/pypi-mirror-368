{
 "cells": [
  {
   "cell_type": "code",
   "execution_count": 1,
   "id": "e66bd304-a33e-496a-8091-cd70524f39c9",
   "metadata": {},
   "outputs": [
    {
     "name": "stdout",
     "output_type": "stream",
     "text": [
      "\u001b[32m[INF]\u001b[0m \u001b[1m\u001b[34m\u001b[1m\u001b[34mimg-jpg-multilayer\u001b[0m: \u001b[34mmerging frames in folders: ./img-jpg, ./img-jpg-stack\u001b[0m\u001b[0m                              \n",
      "\u001b[32m[INF]\u001b[0m \u001b[1m\u001b[34m\u001b[1m\u001b[34mimg-jpg-multilayer\u001b[0m: \u001b[34mframes: 0002.jpg, 0003.jpg, 0001.jpg, 0000.jpg, 0004.jpg, 0005.jpg, 0000_pyr.jpg, 0000_dm_dm.jpg, 0000_dm.jpg, 0000_dm_pyr.jpg\u001b[0m\u001b[0m                              \n",
      "\u001b[32m[INF]\u001b[0m \u001b[1m\u001b[34m\u001b[1m\u001b[34mimg-jpg-multilayer\u001b[0m: \u001b[34mreading files\u001b[0m\u001b[0m                              \n",
      "\u001b[32m[INF]\u001b[0m \u001b[1m\u001b[34m\u001b[1m\u001b[34mimg-jpg-multilayer\u001b[0m: \u001b[34mwriting multilayer tiff img-jpg-multilayer/0000_dm_pyr.tif\u001b[0m\u001b[0m                              \n"
     ]
    },
    {
     "name": "stderr",
     "output_type": "stream",
     "text": [
      "Corrupt JPEG data: 2 extraneous bytes before marker 0xe1\n",
      "Corrupt JPEG data: 2 extraneous bytes before marker 0xe1\n"
     ]
    },
    {
     "name": "stdout",
     "output_type": "stream",
     "text": [
      "\u001b[32m[INF]\u001b[0m \u001b[1m\u001b[32mimg-jpg-multilayer: \u001b[0m\u001b[32melapsed time: 00:00:04.11s\u001b[0m                              \n",
      "\u001b[32m[INF]\u001b[0m \u001b[1m\u001b[32mimg-jpg-multilayer: \u001b[0m\u001b[32mcompleted\u001b[0m                              \n",
      "\u001b[32m[INF]\u001b[0m \u001b[1m\u001b[32mjob: \u001b[0m\u001b[32melapsed time: 00:00:04.11s\u001b[0m                              \n",
      "\u001b[32m[INF]\u001b[0m \u001b[1m\u001b[32mjob: \u001b[0m\u001b[32mcompleted\u001b[0m                              \n",
      "\u001b[32m[INF]\u001b[0m \u001b[1m\u001b[34m\u001b[1m\u001b[34mimg-tiff-multilayer\u001b[0m: \u001b[34mmerging frames in folders: ./img-tif, ./img-tif-stack\u001b[0m\u001b[0m                              \n",
      "\u001b[32m[INF]\u001b[0m \u001b[1m\u001b[34m\u001b[1m\u001b[34mimg-tiff-multilayer\u001b[0m: \u001b[34mframes: 0005.tif, 0004.tif, 0003.tif, 0002.tif, 0000.tif, 0001.tif, 0000_pyr.tif, 0000_pyr_pyr.tif\u001b[0m\u001b[0m                              \n",
      "\u001b[32m[INF]\u001b[0m \u001b[1m\u001b[34m\u001b[1m\u001b[34mimg-tiff-multilayer\u001b[0m: \u001b[34mreading files\u001b[0m\u001b[0m                              \n",
      "\u001b[32m[INF]\u001b[0m \u001b[1m\u001b[34m\u001b[1m\u001b[34mimg-tiff-multilayer\u001b[0m: \u001b[34mwriting multilayer tiff img-tiff-multilayer/0000_pyr_pyr.tif\u001b[0m\u001b[0m                              \n",
      "\u001b[32m[INF]\u001b[0m \u001b[1m\u001b[32mimg-tiff-multilayer: \u001b[0m\u001b[32melapsed time: 00:00:03.85s\u001b[0m                              \n",
      "\u001b[32m[INF]\u001b[0m \u001b[1m\u001b[32mimg-tiff-multilayer: \u001b[0m\u001b[32mcompleted\u001b[0m                              \n",
      "\u001b[32m[INF]\u001b[0m \u001b[1m\u001b[32mjob: \u001b[0m\u001b[32melapsed time: 00:00:03.85s\u001b[0m                              \n",
      "\u001b[32m[INF]\u001b[0m \u001b[1m\u001b[32mjob: \u001b[0m\u001b[32mcompleted\u001b[0m                              \n"
     ]
    }
   ],
   "source": [
    "%run -i \"test_0070_multilayer.py\""
   ]
  }
 ],
 "metadata": {
  "kernelspec": {
   "display_name": "Python [conda env:base] *",
   "language": "python",
   "name": "conda-base-py"
  },
  "language_info": {
   "codemirror_mode": {
    "name": "ipython",
    "version": 3
   },
   "file_extension": ".py",
   "mimetype": "text/x-python",
   "name": "python",
   "nbconvert_exporter": "python",
   "pygments_lexer": "ipython3",
   "version": "3.12.7"
  }
 },
 "nbformat": 4,
 "nbformat_minor": 5
}
