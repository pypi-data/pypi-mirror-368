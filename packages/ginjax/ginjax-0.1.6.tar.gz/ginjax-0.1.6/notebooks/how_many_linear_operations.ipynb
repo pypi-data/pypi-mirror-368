{
 "cells": [
  {
   "cell_type": "markdown",
   "id": "0134ced9",
   "metadata": {},
   "source": [
    "# Ask questions about how many linear ops there are\n",
    "\n",
    "## Authors:\n",
    "- **David W. Hogg** (NYU) (MPIA) (Flatiron)\n",
    "- **Soledad Villar** (JHU)\n",
    "\n",
    "## To-do items and bugs:\n",
    "- Do something."
   ]
  },
  {
   "cell_type": "code",
   "execution_count": null,
   "id": "cb453713",
   "metadata": {},
   "outputs": [],
   "source": [
    "import itertools as it\n",
    "import numpy as np\n",
    "import ginjax.geometric as geom\n",
    "import ginjax.utils as utils\n",
    "import finufft\n",
    "import pylab as plt\n",
    "%load_ext autoreload\n",
    "%autoreload 2"
   ]
  },
  {
   "cell_type": "code",
   "execution_count": null,
   "id": "d7457f4b",
   "metadata": {},
   "outputs": [],
   "source": [
    "D = 2\n",
    "group_operators = geom.make_all_operators(D)\n",
    "print(len(group_operators))"
   ]
  },
  {
   "cell_type": "code",
   "execution_count": null,
   "id": "39f44472",
   "metadata": {},
   "outputs": [],
   "source": [
    "allfilters, maxn = geom.get_invariant_filters([3], [0,1,2], [0,1], D, group_operators, return_type='dict', return_maxn=True)\n",
    "for key in allfilters.keys():\n",
    "    D, M, k, parity = key\n",
    "    names = [\"{} {}\".format(geom.tensor_name(k, parity), i) for i in range(len(allfilters[key]))]\n",
    "    fig = utils.plot_filters(allfilters[key], names, maxn[(D, M)])"
   ]
  },
  {
   "cell_type": "code",
   "execution_count": null,
   "id": "154cf39a",
   "metadata": {},
   "outputs": [],
   "source": [
    "# Make a sensible vector image on a D-torus\n",
    "N = 3\n",
    "np.random.seed(42)\n",
    "if D == 2:\n",
    "    imagex = np.random.normal(size=(N, N))\n",
    "    imagey = np.random.normal(size=(N, N))\n",
    "    package = np.zeros((N, N, D))\n",
    "    filtered = False # True if you want the image to be \"smooth\".\n",
    "    if filtered:\n",
    "        foo = np.pi * np.arange(-1. + 1. / N, 1., 2. / N)\n",
    "        ys, xs = np.meshgrid(foo, foo) # ys, xs or xs, ys??\n",
    "        ftx = finufft.nufft2d1(xs.flatten(), ys.flatten(), imagex.flatten().astype(complex), (12, 12))\n",
    "        fty = finufft.nufft2d1(xs.flatten(), ys.flatten(), imagey.flatten().astype(complex), (12, 12))\n",
    "        package[:, :, 0] = finufft.nufft2d2(xs.flatten(), ys.flatten(), ftx).reshape(N, N).real\n",
    "        package[:, :, 1] = finufft.nufft2d2(xs.flatten(), ys.flatten(), fty).reshape(N, N).real\n",
    "    else:\n",
    "        package[:, :, 0] = imagex\n",
    "        package[:, :, 1] = imagey\n",
    "if D == 3:\n",
    "    package = np.random.normal(size=(N, N, N, D))\n",
    "package /= np.sqrt(np.mean(package ** 2))\n",
    "print(package.shape)\n",
    "vector_image = geom.GeometricImage(package, 0, D).normalize()\n",
    "print(vector_image)"
   ]
  },
  {
   "cell_type": "code",
   "execution_count": null,
   "id": "3443110b",
   "metadata": {},
   "outputs": [],
   "source": [
    "if D == 2:\n",
    "    fig = utils.plot_image(vector_image)"
   ]
  },
  {
   "cell_type": "code",
   "execution_count": null,
   "id": "29d29333",
   "metadata": {},
   "outputs": [],
   "source": [
    "# How can we make a vector image from this vector image?\n",
    "# 1. Convolve with scalar filters\n",
    "M = 3\n",
    "key = (D, M, 0, 0) # D M k parity\n",
    "v_images = [vector_image.convolve_with(ff).normalize() for ff in allfilters[key]]\n",
    "print(len(v_images))"
   ]
  },
  {
   "cell_type": "code",
   "execution_count": null,
   "id": "b2c6e6ab",
   "metadata": {},
   "outputs": [],
   "source": [
    "# 2. Convolve with pseudoscalar filters and Levi-Civita contract\n",
    "# Oh wait, we don't have any pseudoscalars at 3x3!\n",
    "key = (D, M, 0, 1) # D M k parity\n",
    "v_images += [vector_image.convolve_with(ff).levi_civita_contract(0).normalize() for ff in allfilters[key]]\n",
    "print(len(v_images))"
   ]
  },
  {
   "cell_type": "code",
   "execution_count": null,
   "id": "9001715f",
   "metadata": {},
   "outputs": [],
   "source": [
    "# 3. Convolve with 2-tensor filters and contract\n",
    "key = (D, M, 2, 0) # D M k parity\n",
    "v_images += [vector_image.convolve_with(ff).contract(0, 1).normalize() for ff in allfilters[key]]\n",
    "v_images += [vector_image.convolve_with(ff).contract(0, 2).normalize() for ff in allfilters[key]]\n",
    "print(len(v_images))"
   ]
  },
  {
   "cell_type": "code",
   "execution_count": null,
   "id": "b25e3815",
   "metadata": {},
   "outputs": [],
   "source": [
    "# 4.A Convolve with 2-pseudotensor filters, Levi-Civita contract, and contract\n",
    "if D == 2:\n",
    "    key = (D, M, 2, 1) # D M k parity\n",
    "    v_images += [vector_image.convolve_with(ff).levi_civita_contract(0).contract(0, 1).normalize() for ff in allfilters[key]]\n",
    "    v_images += [vector_image.convolve_with(ff).levi_civita_contract(0).contract(0, 2).normalize() for ff in allfilters[key]]\n",
    "    print(len(v_images))"
   ]
  },
  {
   "cell_type": "code",
   "execution_count": null,
   "id": "6603ec71",
   "metadata": {},
   "outputs": [],
   "source": [
    "# 4.B Convolve with pseudovector filters, Levi-Civita contract (ie, cross product!)\n",
    "if D == 3:\n",
    "    key = (D, M, 1, 1) # D M k parity\n",
    "    v_images += [vector_image.convolve_with(ff).levi_civita_contract([0, 1]).normalize() for ff in allfilters[key]]\n",
    "    print(len(v_images))"
   ]
  },
  {
   "cell_type": "code",
   "execution_count": null,
   "id": "a74b0cc9",
   "metadata": {},
   "outputs": [],
   "source": [
    "datablock = np.array([im.data.flatten() for im in v_images])\n",
    "print(datablock.shape)\n",
    "u, s, v = np.linalg.svd(datablock)\n",
    "print(\"there are\", np.sum(s > geom.TINY), \"different images\")"
   ]
  },
  {
   "cell_type": "code",
   "execution_count": null,
   "id": "d2142f7e",
   "metadata": {},
   "outputs": [],
   "source": []
  }
 ],
 "metadata": {
  "kernelspec": {
   "display_name": "base",
   "language": "python",
   "name": "python3"
  },
  "language_info": {
   "codemirror_mode": {
    "name": "ipython",
    "version": 3
   },
   "file_extension": ".py",
   "mimetype": "text/x-python",
   "name": "python",
   "nbconvert_exporter": "python",
   "pygments_lexer": "ipython3",
   "version": "3.9.12 (main, Apr  5 2022, 06:56:58) \n[GCC 7.5.0]"
  },
  "vscode": {
   "interpreter": {
    "hash": "590b2bbfea5103420f8cb948745fb799b4c8d27df1b5f342d4b01709a9b939dc"
   }
  }
 },
 "nbformat": 4,
 "nbformat_minor": 5
}
