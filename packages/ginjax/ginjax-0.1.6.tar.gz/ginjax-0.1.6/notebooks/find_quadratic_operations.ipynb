{
 "cells": [
  {
   "cell_type": "code",
   "execution_count": null,
   "id": "d22f6181",
   "metadata": {},
   "outputs": [],
   "source": [
    "import itertools as it\n",
    "import numpy as np\n",
    "import jax.numpy as jnp\n",
    "import jax.random as random\n",
    "import ginjax.geometric as geom\n",
    "import ginjax.utils as utils\n",
    "%load_ext autoreload\n",
    "%autoreload 2"
   ]
  },
  {
   "cell_type": "code",
   "execution_count": null,
   "id": "63a56152",
   "metadata": {
    "scrolled": false
   },
   "outputs": [],
   "source": [
    "D = 2\n",
    "N = 3\n",
    "img_k = 1\n",
    "max_k = 2\n",
    "group_operators = geom.make_all_operators(D)\n",
    "print(len(group_operators))"
   ]
  },
  {
   "cell_type": "code",
   "execution_count": null,
   "id": "019077b6",
   "metadata": {
    "scrolled": false
   },
   "outputs": [],
   "source": [
    "allfilters, maxn = geom.get_invariant_filters(\n",
    "    [N], \n",
    "    range(max_k+1), \n",
    "    [0,1], \n",
    "    D, \n",
    "    group_operators, \n",
    "    scale='one', \n",
    "    return_type='dict',\n",
    "    return_maxn=True,\n",
    ")\n",
    "for key in allfilters.keys():\n",
    "    D, M, k, parity = key\n",
    "    names = [\"{} {}\".format(geom.tensor_name(k, parity), i) for i in range(len(allfilters[key]))]\n",
    "    utils.plot_filters(allfilters[key], names, maxn[(D, M)])"
   ]
  },
  {
   "cell_type": "code",
   "execution_count": null,
   "id": "015c15d7",
   "metadata": {},
   "outputs": [],
   "source": [
    "#Under contractions, the 3 scalar filters are the same as the first 3 k=2 filters. Thus we ignore them.\n",
    "trimmed_filters = allfilters\n",
    "trimmed_filters[(D,N,0,0)] = []\n",
    "trimmed_filters[(D,N,0,1)] = []\n",
    "\n",
    "filter_list = list(it.chain(*list(allfilters.values())))\n",
    "print(len(filter_list))"
   ]
  },
  {
   "cell_type": "code",
   "execution_count": null,
   "id": "bb5e53fb",
   "metadata": {},
   "outputs": [],
   "source": [
    "# Make an N side length, parity=0 geometric vector image on a D-torus\n",
    "key = random.PRNGKey(0)\n",
    "vector_images = []\n",
    "if (N == 3):\n",
    "    num_images = 3\n",
    "elif (N == 5):\n",
    "    num_images = 7\n",
    "    \n",
    "key, subkey = random.split(key)\n",
    "img_shape = ((num_images,) + (N,)*D + (D,)*img_k)\n",
    "geom_img = geom.BatchGeometricImage(random.normal(subkey, shape=img_shape), 0, D)"
   ]
  },
  {
   "cell_type": "code",
   "execution_count": null,
   "id": "43810918",
   "metadata": {},
   "outputs": [],
   "source": [
    "def quadratic_filter(img, c1, c2, c3):\n",
    "    return (img.convolve_with(c1) * img.convolve_with(c2)).convolve_with(c3)"
   ]
  },
  {
   "cell_type": "code",
   "execution_count": null,
   "id": "63b9163d",
   "metadata": {},
   "outputs": [],
   "source": [
    "def getVectorImgs(vector_image):\n",
    "    vector_images = []\n",
    "    names = []\n",
    "    for c1_idx, c2_idx, c3_idx in it.combinations(range(len(filter_list)), 3):\n",
    "        c1 = filter_list[c1_idx]\n",
    "        c2 = filter_list[c2_idx]\n",
    "        c3 = filter_list[c3_idx]\n",
    "\n",
    "        #conditions suitable for a sequence of kronecker contractions\n",
    "        if (\n",
    "            ((c1.k + c2.k + c3.k + vector_image.k)%2 == 0) and \n",
    "            ((c1.parity + c2.parity + c3.parity + vector_image.parity)%2 == 0)\n",
    "        ):\n",
    "            print(c1_idx, c2_idx, c3_idx)\n",
    "            img = quadratic_filter(vector_image, c1, c2, c3)\n",
    "\n",
    "            for idxs in geom.get_contraction_indices(img.k, vector_image.k):\n",
    "\n",
    "                img_contracted = img.multicontract(idxs)\n",
    "                assert img_contracted.shape() == vector_image.shape()\n",
    "\n",
    "                vector_images.append(img_contracted.data.flatten())\n",
    "                \n",
    "    return jnp.array(vector_images)"
   ]
  },
  {
   "cell_type": "code",
   "execution_count": null,
   "id": "2a424a43",
   "metadata": {},
   "outputs": [],
   "source": [
    "datablock = getVectorImgs(geom_img)"
   ]
  },
  {
   "cell_type": "code",
   "execution_count": null,
   "id": "def03cec",
   "metadata": {},
   "outputs": [],
   "source": [
    "print(datablock.shape)\n",
    "print(jnp.unique(datablock, axis=0).shape)"
   ]
  },
  {
   "cell_type": "code",
   "execution_count": null,
   "id": "b4bb16be",
   "metadata": {},
   "outputs": [],
   "source": [
    "u, s, v = jnp.linalg.svd(jnp.unique(datablock, axis=0))\n",
    "print(\"there are\", np.sum(s > 100*geom.TINY), \"different images\")"
   ]
  },
  {
   "cell_type": "code",
   "execution_count": null,
   "id": "acca8829",
   "metadata": {},
   "outputs": [],
   "source": []
  }
 ],
 "metadata": {
  "kernelspec": {
   "display_name": "Python 3 (ipykernel)",
   "language": "python",
   "name": "python3"
  },
  "language_info": {
   "codemirror_mode": {
    "name": "ipython",
    "version": 3
   },
   "file_extension": ".py",
   "mimetype": "text/x-python",
   "name": "python",
   "nbconvert_exporter": "python",
   "pygments_lexer": "ipython3",
   "version": "3.9.10"
  }
 },
 "nbformat": 4,
 "nbformat_minor": 5
}
