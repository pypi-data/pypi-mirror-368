{
 "cells": [
  {
   "cell_type": "markdown",
   "id": "0134ced9",
   "metadata": {},
   "source": [
    "# Make figures for paper on geometric images\n",
    "\n",
    "## Authors:\n",
    "- **David W. Hogg** (NYU) (MPIA) (Flatiron)\n",
    "- **Soledad Villar** (JHU)\n",
    "\n",
    "## To-do items and bugs:\n",
    "- Make plots (and maybe a LaTeX table) that illustrate the group B_d.\n",
    "- Figure out a better way to plot in `D=3`."
   ]
  },
  {
   "cell_type": "code",
   "execution_count": null,
   "id": "cb453713",
   "metadata": {},
   "outputs": [],
   "source": [
    "%env CUDA_DEVICE_ORDER=PCI_BUS_ID\n",
    "%env CUDA_VISIBLE_DEVICES=3\n",
    "\n",
    "import matplotlib.pyplot as plt\n",
    "import numpy as np\n",
    "\n",
    "import jax.numpy as jnp\n",
    "from jax import random\n",
    "\n",
    "import ginjax.geometric as geom\n",
    "import ginjax.utils as utils\n",
    "\n",
    "%load_ext autoreload\n",
    "%autoreload 2"
   ]
  },
  {
   "cell_type": "code",
   "execution_count": null,
   "id": "d7457f4b",
   "metadata": {},
   "outputs": [],
   "source": [
    "D = 2\n",
    "group_operators = geom.make_all_operators(D)\n",
    "dpi = 300\n",
    "plt.rcParams['font.family'] = 'serif'\n",
    "plt.rcParams['font.serif'] = 'STIXGeneral'\n",
    "\n",
    "# set save_plots to true and specify the save folder to save the images as pdfs\n",
    "save_plots = False \n",
    "save_folder = '../../images/paper_images/'"
   ]
  },
  {
   "cell_type": "code",
   "execution_count": null,
   "id": "2ad2a13f",
   "metadata": {},
   "outputs": [],
   "source": [
    "# Plot the 3x3 filters of tensor order 0,1,2 and parity 0 and 1.\n",
    "N = 3\n",
    "max_k = 2\n",
    "\n",
    "allfilters_N3, maxn = geom.get_invariant_filters_dict(\n",
    "    [N], \n",
    "    range(max_k+1), \n",
    "    [0,1], \n",
    "    D, \n",
    "    group_operators, \n",
    "    scale='one', \n",
    ")\n",
    "\n",
    "maxlen = maxn[(D,N)]\n",
    "# 3 scalar filters\n",
    "names = [f'{geom.tensor_name(image.k, image.parity)} {i}' for i, image in enumerate(allfilters_N3[(D,N,0,0)])]\n",
    "utils.plot_grid(allfilters_N3[(D,N,0,0)], names, maxlen)\n",
    "\n",
    "# 2 vector filters and 2 pseudovector filters\n",
    "names = [f'{geom.tensor_name(image.k, image.parity)} {i}' for i, image in enumerate(allfilters_N3[(D,N,1,0)] + allfilters_N3[(D,N,1,1)])]\n",
    "utils.plot_grid(allfilters_N3[(D,N,1,0)] + allfilters_N3[(D,N,1,1)], names, maxlen)\n",
    "\n",
    "# 5 tensor filters\n",
    "names = [f'{geom.tensor_name(image.k, image.parity)} {i}' for i, image in enumerate(allfilters_N3[(D,N,2,0)])]\n",
    "utils.plot_grid(allfilters_N3[(D,N,2,0)], names, maxlen)\n",
    "\n",
    "# 5 pseudotensor filters\n",
    "names = [f'{geom.tensor_name(image.k, image.parity)} {i}' for i, image in enumerate(allfilters_N3[(D,N,2,1)])]\n",
    "utils.plot_grid(allfilters_N3[(D,N,2,1)], names, maxlen);"
   ]
  },
  {
   "cell_type": "code",
   "execution_count": null,
   "id": "5d0d7478",
   "metadata": {},
   "outputs": [],
   "source": [
    "# Plot the 5x5 filters of tensor order 0,1 and parity 0 and 1.\n",
    "N = 5\n",
    "max_k = 1\n",
    "\n",
    "allfilters_N5, maxn = geom.get_invariant_filters_dict(\n",
    "    [N], \n",
    "    range(max_k+1), \n",
    "    [0,1], \n",
    "    D, \n",
    "    group_operators, \n",
    "    scale='one', \n",
    ")\n",
    "\n",
    "maxlen = 7\n",
    "# 6 scalar filters + 1 pseudoscalar filter\n",
    "filters_scalar_N5 = allfilters_N5[(D,N,0,0)]+allfilters_N5[(D,N,0,1)]\n",
    "names = [f'{geom.tensor_name(image.k, image.parity)} {i}' for i, image in zip(list(range(6)) + [0], filters_scalar_N5)]\n",
    "utils.plot_grid(filters_scalar_N5, names, maxlen)\n",
    "if save_plots:\n",
    "    plt.savefig(save_folder + 'filters_m5_row1.pdf')\n",
    "\n",
    "maxlen = 6\n",
    "# 6 vector filters\n",
    "names = [f'{geom.tensor_name(image.k, image.parity)} {i}' for i, image in enumerate(allfilters_N5[(D,N,1,0)])]\n",
    "utils.plot_grid(allfilters_N5[(D,N,1,0)], names, maxlen)\n",
    "if save_plots:\n",
    "    plt.savefig(save_folder + 'filters_m5_row2.pdf')\n",
    "\n",
    "# 6 pseudovector filters\n",
    "names = [f'{geom.tensor_name(image.k, image.parity)} {i}' for i, image in enumerate(allfilters_N5[(D,N,1,1)])]\n",
    "fig = utils.plot_grid(allfilters_N5[(D,N,1,1)], names, maxlen)\n",
    "if save_plots:\n",
    "    plt.savefig(save_folder + 'filters_m5_row3.pdf')"
   ]
  },
  {
   "cell_type": "code",
   "execution_count": null,
   "id": "cc45ee60",
   "metadata": {},
   "outputs": [],
   "source": [
    "# make a sensible smooth scalar image on a 2-torus\n",
    "N = 16\n",
    "D = 2\n",
    "key = random.PRNGKey(42)\n",
    "image = random.normal(key, shape=(N,)*D)\n",
    "\n",
    "scalar_image = geom.GeometricImage(image, 1, D)\n",
    "smoothing_filter = allfilters_N3[(D,3,0,0)][0] + allfilters_N3[(D,3,0,0)][1] + allfilters_N3[(D,3,0,0)][2]\n",
    "scalar_image = scalar_image.convolve_with(smoothing_filter).convolve_with(smoothing_filter)"
   ]
  },
  {
   "cell_type": "code",
   "execution_count": null,
   "id": "fb4d08ba",
   "metadata": {},
   "outputs": [],
   "source": [
    "filters = [\n",
    "    (allfilters_N5[(D,5,0,0)][4], r\"C_{s}\"), \n",
    "    (allfilters_N3[(D,3,1,0)][0], r\"C_{v}\"), \n",
    "    (allfilters_N3[(D,3,1,1)][1], r\"C_{pv}\"), \n",
    "    (allfilters_N5[(D,5,0,1)][0], r\"C_{ps}\"),\n",
    "]"
   ]
  },
  {
   "cell_type": "code",
   "execution_count": null,
   "id": "c5ee2568",
   "metadata": {},
   "outputs": [],
   "source": [
    "monomials = {}\n",
    "monomials[1] = [(scalar_image.normalize(), r\"s\"), ]\n",
    "monomials[1] += [(scalar_image.convolve_with(ff).normalize(), r\"s\\ast \" + tt) for ff, tt in filters]"
   ]
  },
  {
   "cell_type": "code",
   "execution_count": null,
   "id": "67db08c6",
   "metadata": {},
   "outputs": [],
   "source": [
    "fig = monomials[1][0][0].plot() #scalar image\n",
    "if save_plots:\n",
    "    plt.savefig(save_folder + 'scalar_img.pdf', bbox_inches='tight')"
   ]
  },
  {
   "cell_type": "code",
   "execution_count": null,
   "id": "9d5a0000",
   "metadata": {},
   "outputs": [],
   "source": [
    "fig = monomials[1][1][0].plot() # scalar image convolved with scalar filter\n",
    "if save_plots:\n",
    "    plt.savefig(save_folder + 'scalar_img_convolved.pdf', bbox_inches='tight')"
   ]
  },
  {
   "cell_type": "code",
   "execution_count": null,
   "id": "bf65f404",
   "metadata": {},
   "outputs": [],
   "source": [
    "fig = monomials[1][2][0].plot() #scalar image convolved with vector filter\n",
    "if save_plots:\n",
    "    plt.savefig(save_folder + 'img_convolved_vector_ff.pdf', bbox_inches='tight')"
   ]
  },
  {
   "cell_type": "code",
   "execution_count": null,
   "id": "3cb11e21",
   "metadata": {},
   "outputs": [],
   "source": [
    "fig = monomials[1][3][0].plot() #scalar image convolved with pseudovector filter\n",
    "if save_plots:\n",
    "    plt.savefig(save_folder + 'img_convolved_pseudovector_ff.pdf', bbox_inches='tight')"
   ]
  },
  {
   "cell_type": "code",
   "execution_count": null,
   "id": "059000d5",
   "metadata": {},
   "outputs": [],
   "source": [
    "fig = monomials[1][4][0].plot() #scalar image convolved with pseudoscalar filter\n",
    "if save_plots:\n",
    "    plt.savefig(save_folder + 'img_convolved_pseudoscalar_ff.pdf', bbox_inches='tight')"
   ]
  },
  {
   "cell_type": "code",
   "execution_count": null,
   "id": "e6d50b2d",
   "metadata": {},
   "outputs": [],
   "source": [
    "fig = allfilters_N5[(D,5,0,0)][4].plot() # scalar filter\n",
    "if save_plots:\n",
    "    plt.savefig(save_folder + 'scalar_filter.pdf', bbox_inches='tight')"
   ]
  },
  {
   "cell_type": "code",
   "execution_count": null,
   "id": "47179211",
   "metadata": {},
   "outputs": [],
   "source": [
    "fig = allfilters_N3[(D,3,1,0)][0].plot() # vector filter\n",
    "if save_plots:\n",
    "    plt.savefig(save_folder + 'vector_filter.pdf', bbox_inches='tight')"
   ]
  },
  {
   "cell_type": "code",
   "execution_count": null,
   "id": "3f9b714e",
   "metadata": {},
   "outputs": [],
   "source": [
    "fig = allfilters_N3[(D,3,1,1)][1].plot() # pseudovector filter\n",
    "if save_plots:\n",
    "    plt.savefig(save_folder + 'pseudovector_filter.pdf', bbox_inches='tight')"
   ]
  },
  {
   "cell_type": "code",
   "execution_count": null,
   "id": "8d6a2cfd",
   "metadata": {},
   "outputs": [],
   "source": [
    "fig = allfilters_N5[(D,5,0,1)][0].plot() # pseudoscalar filter\n",
    "if save_plots:\n",
    "    plt.savefig(save_folder + 'pseudoscalar_filter.pdf', bbox_inches='tight')"
   ]
  },
  {
   "cell_type": "code",
   "execution_count": null,
   "id": "4ca621a0",
   "metadata": {},
   "outputs": [],
   "source": [
    "# Plot the action of B_2 on a vector\n",
    "\n",
    "def plot_vec(original_arrow, rotated_arrow, title, ax):\n",
    "    ax.set_title(title)\n",
    "    ax.spines['left'].set_position('zero')\n",
    "    ax.spines['right'].set_color('none')\n",
    "    ax.spines['bottom'].set_position('zero')\n",
    "    ax.spines['top'].set_color('none')\n",
    "\n",
    "    # remove the ticks from the top and right edges\n",
    "    ax.xaxis.set_ticks([])\n",
    "    ax.yaxis.set_ticks([])\n",
    "    ax.set_xlim(-1,1)\n",
    "    ax.set_ylim(-1,1)\n",
    "    \n",
    "    ax.arrow(\n",
    "        0,\n",
    "        0,\n",
    "        original_arrow[0],\n",
    "        original_arrow[1], \n",
    "        length_includes_head=True,\n",
    "        head_width= 0.24 * 0.33,\n",
    "        head_length=0.72 * 0.33,\n",
    "    )\n",
    "    \n",
    "    ax.arrow(\n",
    "        0,\n",
    "        0,\n",
    "        rotated_arrow[0],\n",
    "        rotated_arrow[1], \n",
    "        length_includes_head=True,\n",
    "        head_width= 0.24 * 0.33,\n",
    "        head_length=0.72 * 0.33,\n",
    "        facecolor='red',\n",
    "        edgecolor='black',\n",
    "    )\n",
    "\n",
    "sorted_operators = np.stack(group_operators)[[0,5,3,6,1,2,7,4]]\n",
    "original_arrow = jnp.array([2,1])/jnp.linalg.norm(jnp.array([2,1]))\n",
    "rotated_arrows = [gg @ original_arrow for gg in sorted_operators]\n",
    "names = [\n",
    "    'Identity', \n",
    "    r'Rot $90^{}$'.format('{\\circ}'), \n",
    "    r'Rot $180^{}$'.format('{\\circ}'), \n",
    "    r'Rot $270^{}$'.format('{\\circ}'), \n",
    "    'Flip X', \n",
    "    'Flip Y', \n",
    "    r'Rot $90^{}$, Flip X'.format('{\\circ}'),\n",
    "    r'Rot $270^{}$, Flip X'.format('{\\circ}'), \n",
    "]\n",
    "\n",
    "num_rows = 2\n",
    "num_cols = 4\n",
    "bar = 8. # figure width in inches?\n",
    "fig, axes = plt.subplots(num_rows, num_cols, figsize = (bar, 1.15 * bar * num_rows / num_cols), # magic\n",
    "                         squeeze=False)\n",
    "axes = axes.flatten()\n",
    "plt.subplots_adjust(left=0.001/num_cols, right=1-0.001/num_cols, wspace=0.5/num_cols,\n",
    "                    bottom=0.001/num_rows, top=1-0.1/num_rows, hspace=0.5/num_rows)\n",
    "\n",
    "for i, rotated_arrow in enumerate(rotated_arrows):\n",
    "    plot_vec(original_arrow, rotated_arrow, names[i], axes[i])\n",
    "    \n"
   ]
  },
  {
   "cell_type": "code",
   "execution_count": null,
   "id": "c9c5e391",
   "metadata": {},
   "outputs": [],
   "source": []
  }
 ],
 "metadata": {
  "kernelspec": {
   "display_name": "gi_net",
   "language": "python",
   "name": "python3"
  },
  "language_info": {
   "codemirror_mode": {
    "name": "ipython",
    "version": 3
   },
   "file_extension": ".py",
   "mimetype": "text/x-python",
   "name": "python",
   "nbconvert_exporter": "python",
   "pygments_lexer": "ipython3",
   "version": "3.12.1"
  }
 },
 "nbformat": 4,
 "nbformat_minor": 5
}
