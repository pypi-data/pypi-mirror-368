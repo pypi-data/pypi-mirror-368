{
 "cells": [
  {
   "cell_type": "markdown",
   "id": "0",
   "metadata": {},
   "source": [
    "# Notebook template for executing code using DerivaML.\n",
    "\n",
    "This notebook should be modified to perform the desired calcuation and *COMITTED* to Gihub prior to execution."
   ]
  },
  {
   "metadata": {
    "ExecuteTime": {
     "end_time": "2025-04-18T20:05:17.505817Z",
     "start_time": "2025-04-18T20:05:16.235245Z"
    }
   },
   "cell_type": "code",
   "source": [
    "from deriva_ml import DerivaML, MLVocab as vc\n",
    "import os"
   ],
   "id": "2c6cbcfe94814682",
   "outputs": [],
   "execution_count": 1
  },
  {
   "metadata": {},
   "cell_type": "markdown",
   "source": "## Parameters cell\n",
   "id": "2af30ff79278ba00"
  },
  {
   "metadata": {
    "tags": [
     "parameters"
    ]
   },
   "cell_type": "code",
   "outputs": [],
   "execution_count": null,
   "source": [
    "hostname = None\n",
    "catalog_id = None"
   ],
   "id": "3"
  },
  {
   "metadata": {},
   "cell_type": "code",
   "outputs": [],
   "execution_count": null,
   "source": [
    "# Modify these to your desired server and catalog.\n",
    "hostname = hostname or os.environ.get(\"DERIVA_HOST\")\n",
    "catalog_id = catalog_id or os.environ.get(\"DERIVA_CATALOG_ID\")\n",
    "\n",
    "# Change this line to call the domain specific class derived from DerivaML\n",
    "deriva_ml = DerivaML(hostname=hostname, catalog_id=catalog_id)\n",
    "deriva_ml.add_term(vc.asset_type, \"Test Model\", description=\"Model for our Test workflow\")\n",
    "deriva_ml.add_term(vc.workflow_type, \"Test Workflow\", description=\"A ML Workflow that uses Deriva ML API\")\n",
    "api_workflow = deriva_ml.create_workflow(\n",
    "    name=\"Test Workflow One\",\n",
    "    workflow_type=\"Test Workflow\",\n",
    "    description=\"A test operation\",\n",
    ")\n"
   ],
   "id": "1"
  }
 ],
 "metadata": {
  "kernelspec": {
   "display_name": "deriva-test",
   "language": "python",
   "name": "deriva-test"
  },
  "language_info": {
   "codemirror_mode": {
    "name": "ipython",
    "version": 2
   },
   "file_extension": ".py",
   "mimetype": "text/x-python",
   "name": "python",
   "nbconvert_exporter": "python",
   "pygments_lexer": "ipython2",
   "version": "2.7.6"
  }
 },
 "nbformat": 4,
 "nbformat_minor": 5
}
