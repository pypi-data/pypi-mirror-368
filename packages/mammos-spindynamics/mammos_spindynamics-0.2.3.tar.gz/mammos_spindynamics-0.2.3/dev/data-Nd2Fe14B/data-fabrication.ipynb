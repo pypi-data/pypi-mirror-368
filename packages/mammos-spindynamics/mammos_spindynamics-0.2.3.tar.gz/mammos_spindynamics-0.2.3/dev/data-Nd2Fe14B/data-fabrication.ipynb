{
 "cells": [
  {
   "cell_type": "code",
   "execution_count": 1,
   "id": "7f433975-b41b-40de-91ff-3f03c7f74f6a",
   "metadata": {},
   "outputs": [],
   "source": [
    "import numpy as np\n",
    "import pandas as pd"
   ]
  },
  {
   "cell_type": "code",
   "execution_count": 2,
   "id": "544e60a8-158f-4813-9c77-efaa8fb2e0dc",
   "metadata": {},
   "outputs": [],
   "source": [
    "M_0 = 1.46  # MA/m\n",
    "T_c = 602  # K\n",
    "alpha = 1.802\n",
    "beta = 0.418"
   ]
  },
  {
   "cell_type": "code",
   "execution_count": 3,
   "id": "ae7341b1-0654-4c30-a5df-ab5f5de79c46",
   "metadata": {},
   "outputs": [],
   "source": [
    "temperature = np.linspace(0, 600, 20)"
   ]
  },
  {
   "cell_type": "code",
   "execution_count": 4,
   "id": "23dae1e9-1d55-4903-857f-849e3efeb513",
   "metadata": {},
   "outputs": [],
   "source": [
    "spontaneous_magnetisation = (lambda T: M_0 * (1 - (T / T_c) ** alpha) ** beta)(\n",
    "    temperature\n",
    ")"
   ]
  },
  {
   "cell_type": "code",
   "execution_count": 6,
   "id": "7ddb8b1f-4b6e-49de-811b-a1ecf30a5a3f",
   "metadata": {},
   "outputs": [],
   "source": [
    "df = pd.DataFrame(\n",
    "    {\"Temperature (K)\": temperature, \"Ms (MA/m)\": spontaneous_magnetisation}\n",
    ")"
   ]
  },
  {
   "cell_type": "code",
   "execution_count": 7,
   "id": "dbb6a446-2aa5-4989-bc03-614ee1d87c24",
   "metadata": {},
   "outputs": [
    {
     "data": {
      "text/html": [
       "<div>\n",
       "<style scoped>\n",
       "    .dataframe tbody tr th:only-of-type {\n",
       "        vertical-align: middle;\n",
       "    }\n",
       "\n",
       "    .dataframe tbody tr th {\n",
       "        vertical-align: top;\n",
       "    }\n",
       "\n",
       "    .dataframe thead th {\n",
       "        text-align: right;\n",
       "    }\n",
       "</style>\n",
       "<table border=\"1\" class=\"dataframe\">\n",
       "  <thead>\n",
       "    <tr style=\"text-align: right;\">\n",
       "      <th></th>\n",
       "      <th>Temperature (K)</th>\n",
       "      <th>Ms (MA/m)</th>\n",
       "    </tr>\n",
       "  </thead>\n",
       "  <tbody>\n",
       "    <tr>\n",
       "      <th>0</th>\n",
       "      <td>0.000000</td>\n",
       "      <td>1.460000</td>\n",
       "    </tr>\n",
       "    <tr>\n",
       "      <th>1</th>\n",
       "      <td>31.578947</td>\n",
       "      <td>1.456985</td>\n",
       "    </tr>\n",
       "    <tr>\n",
       "      <th>2</th>\n",
       "      <td>63.157895</td>\n",
       "      <td>1.449450</td>\n",
       "    </tr>\n",
       "    <tr>\n",
       "      <th>3</th>\n",
       "      <td>94.736842</td>\n",
       "      <td>1.437973</td>\n",
       "    </tr>\n",
       "    <tr>\n",
       "      <th>4</th>\n",
       "      <td>126.315789</td>\n",
       "      <td>1.422737</td>\n",
       "    </tr>\n",
       "    <tr>\n",
       "      <th>5</th>\n",
       "      <td>157.894737</td>\n",
       "      <td>1.403779</td>\n",
       "    </tr>\n",
       "    <tr>\n",
       "      <th>6</th>\n",
       "      <td>189.473684</td>\n",
       "      <td>1.381044</td>\n",
       "    </tr>\n",
       "    <tr>\n",
       "      <th>7</th>\n",
       "      <td>221.052632</td>\n",
       "      <td>1.354392</td>\n",
       "    </tr>\n",
       "    <tr>\n",
       "      <th>8</th>\n",
       "      <td>252.631579</td>\n",
       "      <td>1.323601</td>\n",
       "    </tr>\n",
       "    <tr>\n",
       "      <th>9</th>\n",
       "      <td>284.210526</td>\n",
       "      <td>1.288354</td>\n",
       "    </tr>\n",
       "    <tr>\n",
       "      <th>10</th>\n",
       "      <td>315.789474</td>\n",
       "      <td>1.248213</td>\n",
       "    </tr>\n",
       "    <tr>\n",
       "      <th>11</th>\n",
       "      <td>347.368421</td>\n",
       "      <td>1.202584</td>\n",
       "    </tr>\n",
       "    <tr>\n",
       "      <th>12</th>\n",
       "      <td>378.947368</td>\n",
       "      <td>1.150645</td>\n",
       "    </tr>\n",
       "    <tr>\n",
       "      <th>13</th>\n",
       "      <td>410.526316</td>\n",
       "      <td>1.091238</td>\n",
       "    </tr>\n",
       "    <tr>\n",
       "      <th>14</th>\n",
       "      <td>442.105263</td>\n",
       "      <td>1.022661</td>\n",
       "    </tr>\n",
       "    <tr>\n",
       "      <th>15</th>\n",
       "      <td>473.684211</td>\n",
       "      <td>0.942264</td>\n",
       "    </tr>\n",
       "    <tr>\n",
       "      <th>16</th>\n",
       "      <td>505.263158</td>\n",
       "      <td>0.845538</td>\n",
       "    </tr>\n",
       "    <tr>\n",
       "      <th>17</th>\n",
       "      <td>536.842105</td>\n",
       "      <td>0.723618</td>\n",
       "    </tr>\n",
       "    <tr>\n",
       "      <th>18</th>\n",
       "      <td>568.421053</td>\n",
       "      <td>0.553555</td>\n",
       "    </tr>\n",
       "    <tr>\n",
       "      <th>19</th>\n",
       "      <td>600.000000</td>\n",
       "      <td>0.171781</td>\n",
       "    </tr>\n",
       "  </tbody>\n",
       "</table>\n",
       "</div>"
      ],
      "text/plain": [
       "    Temperature (K)  Ms (MA/m)\n",
       "0          0.000000   1.460000\n",
       "1         31.578947   1.456985\n",
       "2         63.157895   1.449450\n",
       "3         94.736842   1.437973\n",
       "4        126.315789   1.422737\n",
       "5        157.894737   1.403779\n",
       "6        189.473684   1.381044\n",
       "7        221.052632   1.354392\n",
       "8        252.631579   1.323601\n",
       "9        284.210526   1.288354\n",
       "10       315.789474   1.248213\n",
       "11       347.368421   1.202584\n",
       "12       378.947368   1.150645\n",
       "13       410.526316   1.091238\n",
       "14       442.105263   1.022661\n",
       "15       473.684211   0.942264\n",
       "16       505.263158   0.845538\n",
       "17       536.842105   0.723618\n",
       "18       568.421053   0.553555\n",
       "19       600.000000   0.171781"
      ]
     },
     "execution_count": 7,
     "metadata": {},
     "output_type": "execute_result"
    }
   ],
   "source": [
    "df"
   ]
  },
  {
   "cell_type": "code",
   "execution_count": 10,
   "id": "93f0a8fe-e6d5-4441-be0d-a2266060a23a",
   "metadata": {},
   "outputs": [
    {
     "data": {
      "text/plain": [
       "<Axes: xlabel='Temperature (K)'>"
      ]
     },
     "execution_count": 10,
     "metadata": {},
     "output_type": "execute_result"
    },
    {
     "data": {
      "image/png": "[encoded data removed]",
      "text/plain": [
       "<Figure size 640x480 with 1 Axes>"
      ]
     },
     "metadata": {},
     "output_type": "display_data"
    }
   ],
   "source": [
    "df.plot(\"Temperature (K)\", \"Ms (MA/m)\")"
   ]
  },
  {
   "cell_type": "code",
   "execution_count": 11,
   "id": "366e3809-c3fd-43ae-890e-82479232f4e0",
   "metadata": {},
   "outputs": [],
   "source": [
    "df.to_csv(\"Nd2Fe14B_Ms_T.csv\", index=False)"
   ]
  }
 ],
 "metadata": {
  "kernelspec": {
   "display_name": "Python 3 (ipykernel)",
   "language": "python",
   "name": "python3"
  },
  "language_info": {
   "codemirror_mode": {
    "name": "ipython",
    "version": 3
   },
   "file_extension": ".py",
   "mimetype": "text/x-python",
   "name": "python",
   "nbconvert_exporter": "python",
   "pygments_lexer": "ipython3",
   "version": "3.13.3"
  }
 },
 "nbformat": 4,
 "nbformat_minor": 5
}
