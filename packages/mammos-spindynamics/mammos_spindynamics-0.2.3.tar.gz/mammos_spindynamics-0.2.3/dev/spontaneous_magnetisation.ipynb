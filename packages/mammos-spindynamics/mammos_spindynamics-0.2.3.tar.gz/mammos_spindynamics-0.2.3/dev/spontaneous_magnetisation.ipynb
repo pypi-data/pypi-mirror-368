{
 "cells": [
  {
   "cell_type": "markdown",
   "metadata": {},
   "source": [
    "# Material structure to intrinsic properties lookup"
   ]
  },
  {
   "cell_type": "markdown",
   "metadata": {},
   "source": [
    "Instead of using a particular spin dynamics software and querying the input files, we start from the material structure and extract the intrinsic properties as a function of temperature."
   ]
  },
  {
   "cell_type": "code",
   "execution_count": 1,
   "metadata": {},
   "outputs": [],
   "source": [
    "from mammos_spindynamics.db import find_materials, get_spontaneous_magnetisation"
   ]
  },
  {
   "cell_type": "markdown",
   "metadata": {},
   "source": [
    "## How to search for a material?\n",
    "We can use the function `find_material` to list all materials satisfying certain filters. When used without filters, it will return all available materials in the database."
   ]
  },
  {
   "cell_type": "code",
   "execution_count": 2,
   "metadata": {},
   "outputs": [
    {
     "data": {
      "text/html": [
       "<div>\n",
       "<style scoped>\n",
       "    .dataframe tbody tr th:only-of-type {\n",
       "        vertical-align: middle;\n",
       "    }\n",
       "\n",
       "    .dataframe tbody tr th {\n",
       "        vertical-align: top;\n",
       "    }\n",
       "\n",
       "    .dataframe thead th {\n",
       "        text-align: right;\n",
       "    }\n",
       "</style>\n",
       "<table border=\"1\" class=\"dataframe\">\n",
       "  <thead>\n",
       "    <tr style=\"text-align: right;\">\n",
       "      <th></th>\n",
       "      <th>chemical_formula</th>\n",
       "      <th>space_group_name</th>\n",
       "      <th>space_group_number</th>\n",
       "      <th>cell_length_a</th>\n",
       "      <th>cell_length_b</th>\n",
       "      <th>cell_length_c</th>\n",
       "      <th>cell_angle_alpha</th>\n",
       "      <th>cell_angle_beta</th>\n",
       "      <th>cell_angle_gamma</th>\n",
       "      <th>cell_volume</th>\n",
       "      <th>ICSD_label</th>\n",
       "      <th>OQMD_label</th>\n",
       "      <th>label</th>\n",
       "    </tr>\n",
       "  </thead>\n",
       "  <tbody>\n",
       "    <tr>\n",
       "      <th>0</th>\n",
       "      <td>Co2Fe2H4</td>\n",
       "      <td>P6_3/mmc</td>\n",
       "      <td>194</td>\n",
       "      <td>2.645345 Angstrom</td>\n",
       "      <td>2.645314 Angstrom</td>\n",
       "      <td>8.539476 Angstrom</td>\n",
       "      <td>90.0 deg</td>\n",
       "      <td>90.0 deg</td>\n",
       "      <td>120.0 deg</td>\n",
       "      <td>51.751119 Angstrom3</td>\n",
       "      <td></td>\n",
       "      <td></td>\n",
       "      <td>0001</td>\n",
       "    </tr>\n",
       "    <tr>\n",
       "      <th>1</th>\n",
       "      <td>Y2Ti4Fe18</td>\n",
       "      <td>P4/mbm</td>\n",
       "      <td>127</td>\n",
       "      <td>8.186244 Angstrom</td>\n",
       "      <td>8.186244 Angstrom</td>\n",
       "      <td>4.892896 Angstrom</td>\n",
       "      <td>90.0 deg</td>\n",
       "      <td>90.0 deg</td>\n",
       "      <td>90.0 deg</td>\n",
       "      <td>327.8954234 Angstrom3</td>\n",
       "      <td></td>\n",
       "      <td></td>\n",
       "      <td>0002</td>\n",
       "    </tr>\n",
       "    <tr>\n",
       "      <th>2</th>\n",
       "      <td>Nd2Fe14B</td>\n",
       "      <td>P42/mnm</td>\n",
       "      <td>136</td>\n",
       "      <td>8.78 Angstrom</td>\n",
       "      <td>8.78 Angstrom</td>\n",
       "      <td>12.12 Angstrom</td>\n",
       "      <td>90.0 deg</td>\n",
       "      <td>90.0 deg</td>\n",
       "      <td>90.0 deg</td>\n",
       "      <td>933.42 Angstrom</td>\n",
       "      <td></td>\n",
       "      <td></td>\n",
       "      <td>0003</td>\n",
       "    </tr>\n",
       "  </tbody>\n",
       "</table>\n",
       "</div>"
      ],
      "text/plain": [
       "  chemical_formula space_group_name  space_group_number      cell_length_a  \\\n",
       "0         Co2Fe2H4         P6_3/mmc                 194  2.645345 Angstrom   \n",
       "1        Y2Ti4Fe18           P4/mbm                 127  8.186244 Angstrom   \n",
       "2         Nd2Fe14B          P42/mnm                 136      8.78 Angstrom   \n",
       "\n",
       "       cell_length_b      cell_length_c cell_angle_alpha cell_angle_beta  \\\n",
       "0  2.645314 Angstrom  8.539476 Angstrom         90.0 deg        90.0 deg   \n",
       "1  8.186244 Angstrom  4.892896 Angstrom         90.0 deg        90.0 deg   \n",
       "2      8.78 Angstrom     12.12 Angstrom         90.0 deg        90.0 deg   \n",
       "\n",
       "  cell_angle_gamma            cell_volume ICSD_label OQMD_label label  \n",
       "0        120.0 deg    51.751119 Angstrom3                        0001  \n",
       "1         90.0 deg  327.8954234 Angstrom3                        0002  \n",
       "2         90.0 deg        933.42 Angstrom                        0003  "
      ]
     },
     "execution_count": 2,
     "metadata": {},
     "output_type": "execute_result"
    }
   ],
   "source": [
    "find_materials()"
   ]
  },
  {
   "cell_type": "code",
   "execution_count": 3,
   "metadata": {},
   "outputs": [
    {
     "data": {
      "text/html": [
       "<div>\n",
       "<style scoped>\n",
       "    .dataframe tbody tr th:only-of-type {\n",
       "        vertical-align: middle;\n",
       "    }\n",
       "\n",
       "    .dataframe tbody tr th {\n",
       "        vertical-align: top;\n",
       "    }\n",
       "\n",
       "    .dataframe thead th {\n",
       "        text-align: right;\n",
       "    }\n",
       "</style>\n",
       "<table border=\"1\" class=\"dataframe\">\n",
       "  <thead>\n",
       "    <tr style=\"text-align: right;\">\n",
       "      <th></th>\n",
       "      <th>chemical_formula</th>\n",
       "      <th>space_group_name</th>\n",
       "      <th>space_group_number</th>\n",
       "      <th>cell_length_a</th>\n",
       "      <th>cell_length_b</th>\n",
       "      <th>cell_length_c</th>\n",
       "      <th>cell_angle_alpha</th>\n",
       "      <th>cell_angle_beta</th>\n",
       "      <th>cell_angle_gamma</th>\n",
       "      <th>cell_volume</th>\n",
       "      <th>ICSD_label</th>\n",
       "      <th>OQMD_label</th>\n",
       "      <th>label</th>\n",
       "    </tr>\n",
       "  </thead>\n",
       "  <tbody>\n",
       "    <tr>\n",
       "      <th>2</th>\n",
       "      <td>Nd2Fe14B</td>\n",
       "      <td>P42/mnm</td>\n",
       "      <td>136</td>\n",
       "      <td>8.78 Angstrom</td>\n",
       "      <td>8.78 Angstrom</td>\n",
       "      <td>12.12 Angstrom</td>\n",
       "      <td>90.0 deg</td>\n",
       "      <td>90.0 deg</td>\n",
       "      <td>90.0 deg</td>\n",
       "      <td>933.42 Angstrom</td>\n",
       "      <td></td>\n",
       "      <td></td>\n",
       "      <td>0003</td>\n",
       "    </tr>\n",
       "  </tbody>\n",
       "</table>\n",
       "</div>"
      ],
      "text/plain": [
       "  chemical_formula space_group_name  space_group_number  cell_length_a  \\\n",
       "2         Nd2Fe14B          P42/mnm                 136  8.78 Angstrom   \n",
       "\n",
       "   cell_length_b   cell_length_c cell_angle_alpha cell_angle_beta  \\\n",
       "2  8.78 Angstrom  12.12 Angstrom         90.0 deg        90.0 deg   \n",
       "\n",
       "  cell_angle_gamma      cell_volume ICSD_label OQMD_label label  \n",
       "2         90.0 deg  933.42 Angstrom                        0003  "
      ]
     },
     "execution_count": 3,
     "metadata": {},
     "output_type": "execute_result"
    }
   ],
   "source": [
    "find_materials(chemical_formula=\"Nd2Fe14B\")"
   ]
  },
  {
   "cell_type": "markdown",
   "metadata": {},
   "source": [
    "## Get spontaneous magnetisation data"
   ]
  },
  {
   "cell_type": "markdown",
   "metadata": {},
   "source": [
    "We use a `short_label` containing the chemical formula and the space group number to extract the spontaneous magnetisation data from the database."
   ]
  },
  {
   "cell_type": "code",
   "execution_count": 4,
   "metadata": {},
   "outputs": [
    {
     "data": {
      "text/html": [
       "<pre style=\"white-space:pre;overflow-x:auto;line-height:normal;font-family:Menlo,'DejaVu Sans Mono',consolas,'Courier New',monospace\">Found material in database.\n",
       "</pre>\n"
      ],
      "text/plain": [
       "Found material in database.\n"
      ]
     },
     "metadata": {},
     "output_type": "display_data"
    },
    {
     "data": {
      "text/html": [
       "<pre style=\"white-space:pre;overflow-x:auto;line-height:normal;font-family:Menlo,'DejaVu Sans Mono',consolas,'Courier New',monospace\">\n",
       "Chemical Formula: Nd2Fe14B\n",
       "Space group name: P42/mnm\n",
       "Space group number: <span style=\"color: #008080; text-decoration-color: #008080; font-weight: bold\">136</span>\n",
       "Cell length a: <span style=\"color: #008080; text-decoration-color: #008080; font-weight: bold\">8.78</span> Angstrom\n",
       "Cell length b: <span style=\"color: #008080; text-decoration-color: #008080; font-weight: bold\">8.78</span> Angstrom\n",
       "Cell length c: <span style=\"color: #008080; text-decoration-color: #008080; font-weight: bold\">12.12</span> Angstrom\n",
       "Cell angle alpha: <span style=\"color: #008080; text-decoration-color: #008080; font-weight: bold\">90.0</span> deg\n",
       "Cell angle beta: <span style=\"color: #008080; text-decoration-color: #008080; font-weight: bold\">90.0</span> deg\n",
       "Cell angle gamma: <span style=\"color: #008080; text-decoration-color: #008080; font-weight: bold\">90.0</span> deg\n",
       "Cell volume: <span style=\"color: #008080; text-decoration-color: #008080; font-weight: bold\">933.42</span> Angstrom\n",
       "ICSD_label: \n",
       "OQMD_label: \n",
       "\n",
       "</pre>\n"
      ],
      "text/plain": [
       "\n",
       "Chemical Formula: Nd2Fe14B\n",
       "Space group name: P42/mnm\n",
       "Space group number: \u001b[1;36m136\u001b[0m\n",
       "Cell length a: \u001b[1;36m8.78\u001b[0m Angstrom\n",
       "Cell length b: \u001b[1;36m8.78\u001b[0m Angstrom\n",
       "Cell length c: \u001b[1;36m12.12\u001b[0m Angstrom\n",
       "Cell angle alpha: \u001b[1;36m90.0\u001b[0m deg\n",
       "Cell angle beta: \u001b[1;36m90.0\u001b[0m deg\n",
       "Cell angle gamma: \u001b[1;36m90.0\u001b[0m deg\n",
       "Cell volume: \u001b[1;36m933.42\u001b[0m Angstrom\n",
       "ICSD_label: \n",
       "OQMD_label: \n",
       "\n"
      ]
     },
     "metadata": {},
     "output_type": "display_data"
    }
   ],
   "source": [
    "magnetisation_data = get_spontaneous_magnetisation(short_label=\"Nd2Fe14B-136\")"
   ]
  },
  {
   "cell_type": "markdown",
   "metadata": {},
   "source": [
    "## Lookup using UppASD calculation files\n",
    "Database entries can be also searched using UppASD input files (`jfile`, `momfile`, `posfile`)."
   ]
  },
  {
   "cell_type": "code",
   "execution_count": 5,
   "metadata": {},
   "outputs": [
    {
     "data": {
      "text/html": [
       "<pre style=\"white-space:pre;overflow-x:auto;line-height:normal;font-family:Menlo,'DejaVu Sans Mono',consolas,'Courier New',monospace\">Found material in database.\n",
       "</pre>\n"
      ],
      "text/plain": [
       "Found material in database.\n"
      ]
     },
     "metadata": {},
     "output_type": "display_data"
    },
    {
     "data": {
      "text/html": [
       "<pre style=\"white-space:pre;overflow-x:auto;line-height:normal;font-family:Menlo,'DejaVu Sans Mono',consolas,'Courier New',monospace\">\n",
       "Chemical Formula: Co2Fe2H4\n",
       "Space group name: P6_3/mmc\n",
       "Space group number: <span style=\"color: #008080; text-decoration-color: #008080; font-weight: bold\">194</span>\n",
       "Cell length a: <span style=\"color: #008080; text-decoration-color: #008080; font-weight: bold\">2.645345</span> Angstrom\n",
       "Cell length b: <span style=\"color: #008080; text-decoration-color: #008080; font-weight: bold\">2.645314</span> Angstrom\n",
       "Cell length c: <span style=\"color: #008080; text-decoration-color: #008080; font-weight: bold\">8.539476</span> Angstrom\n",
       "Cell angle alpha: <span style=\"color: #008080; text-decoration-color: #008080; font-weight: bold\">90.0</span> deg\n",
       "Cell angle beta: <span style=\"color: #008080; text-decoration-color: #008080; font-weight: bold\">90.0</span> deg\n",
       "Cell angle gamma: <span style=\"color: #008080; text-decoration-color: #008080; font-weight: bold\">120.0</span> deg\n",
       "Cell volume: <span style=\"color: #008080; text-decoration-color: #008080; font-weight: bold\">51.751119</span> Angstrom3\n",
       "ICSD_label: \n",
       "OQMD_label: \n",
       "\n",
       "</pre>\n"
      ],
      "text/plain": [
       "\n",
       "Chemical Formula: Co2Fe2H4\n",
       "Space group name: P6_3/mmc\n",
       "Space group number: \u001b[1;36m194\u001b[0m\n",
       "Cell length a: \u001b[1;36m2.645345\u001b[0m Angstrom\n",
       "Cell length b: \u001b[1;36m2.645314\u001b[0m Angstrom\n",
       "Cell length c: \u001b[1;36m8.539476\u001b[0m Angstrom\n",
       "Cell angle alpha: \u001b[1;36m90.0\u001b[0m deg\n",
       "Cell angle beta: \u001b[1;36m90.0\u001b[0m deg\n",
       "Cell angle gamma: \u001b[1;36m120.0\u001b[0m deg\n",
       "Cell volume: \u001b[1;36m51.751119\u001b[0m Angstrom3\n",
       "ICSD_label: \n",
       "OQMD_label: \n",
       "\n"
      ]
     },
     "metadata": {},
     "output_type": "display_data"
    }
   ],
   "source": [
    "_ = get_spontaneous_magnetisation(\n",
    "    jfile=\"known_material/jfile\",\n",
    "    momfile=\"known_material/momfile\",\n",
    "    posfile=\"known_material/posfile\",\n",
    ")"
   ]
  },
  {
   "cell_type": "markdown",
   "metadata": {},
   "source": [
    "## `MagnetisationData` objects"
   ]
  },
  {
   "cell_type": "code",
   "execution_count": 6,
   "metadata": {},
   "outputs": [
    {
     "data": {
      "text/plain": [
       "mammos_spindynamics.db.MagnetisationData"
      ]
     },
     "execution_count": 6,
     "metadata": {},
     "output_type": "execute_result"
    }
   ],
   "source": [
    "type(magnetisation_data)"
   ]
  },
  {
   "cell_type": "markdown",
   "metadata": {},
   "source": [
    "The object `magnetisation_data` contains the dataframe of observation and a dictionary connecting each name with a `mammos_entity.Entity` object."
   ]
  },
  {
   "cell_type": "code",
   "execution_count": 7,
   "metadata": {},
   "outputs": [
    {
     "data": {
      "text/html": [
       "<div>\n",
       "<style scoped>\n",
       "    .dataframe tbody tr th:only-of-type {\n",
       "        vertical-align: middle;\n",
       "    }\n",
       "\n",
       "    .dataframe tbody tr th {\n",
       "        vertical-align: top;\n",
       "    }\n",
       "\n",
       "    .dataframe thead th {\n",
       "        text-align: right;\n",
       "    }\n",
       "</style>\n",
       "<table border=\"1\" class=\"dataframe\">\n",
       "  <thead>\n",
       "    <tr style=\"text-align: right;\">\n",
       "      <th></th>\n",
       "      <th>T[K]</th>\n",
       "      <th>M[A/m]</th>\n",
       "    </tr>\n",
       "  </thead>\n",
       "  <tbody>\n",
       "    <tr>\n",
       "      <th>0</th>\n",
       "      <td>0.000000</td>\n",
       "      <td>1.460000e+06</td>\n",
       "    </tr>\n",
       "    <tr>\n",
       "      <th>1</th>\n",
       "      <td>31.578947</td>\n",
       "      <td>1.456985e+06</td>\n",
       "    </tr>\n",
       "    <tr>\n",
       "      <th>2</th>\n",
       "      <td>63.157895</td>\n",
       "      <td>1.449450e+06</td>\n",
       "    </tr>\n",
       "    <tr>\n",
       "      <th>3</th>\n",
       "      <td>94.736842</td>\n",
       "      <td>1.437973e+06</td>\n",
       "    </tr>\n",
       "    <tr>\n",
       "      <th>4</th>\n",
       "      <td>126.315789</td>\n",
       "      <td>1.422737e+06</td>\n",
       "    </tr>\n",
       "    <tr>\n",
       "      <th>5</th>\n",
       "      <td>157.894737</td>\n",
       "      <td>1.403779e+06</td>\n",
       "    </tr>\n",
       "    <tr>\n",
       "      <th>6</th>\n",
       "      <td>189.473684</td>\n",
       "      <td>1.381044e+06</td>\n",
       "    </tr>\n",
       "    <tr>\n",
       "      <th>7</th>\n",
       "      <td>221.052632</td>\n",
       "      <td>1.354392e+06</td>\n",
       "    </tr>\n",
       "    <tr>\n",
       "      <th>8</th>\n",
       "      <td>252.631579</td>\n",
       "      <td>1.323601e+06</td>\n",
       "    </tr>\n",
       "    <tr>\n",
       "      <th>9</th>\n",
       "      <td>284.210526</td>\n",
       "      <td>1.288354e+06</td>\n",
       "    </tr>\n",
       "    <tr>\n",
       "      <th>10</th>\n",
       "      <td>315.789474</td>\n",
       "      <td>1.248213e+06</td>\n",
       "    </tr>\n",
       "    <tr>\n",
       "      <th>11</th>\n",
       "      <td>347.368421</td>\n",
       "      <td>1.202584e+06</td>\n",
       "    </tr>\n",
       "    <tr>\n",
       "      <th>12</th>\n",
       "      <td>378.947368</td>\n",
       "      <td>1.150645e+06</td>\n",
       "    </tr>\n",
       "    <tr>\n",
       "      <th>13</th>\n",
       "      <td>410.526316</td>\n",
       "      <td>1.091238e+06</td>\n",
       "    </tr>\n",
       "    <tr>\n",
       "      <th>14</th>\n",
       "      <td>442.105263</td>\n",
       "      <td>1.022661e+06</td>\n",
       "    </tr>\n",
       "    <tr>\n",
       "      <th>15</th>\n",
       "      <td>473.684211</td>\n",
       "      <td>9.422640e+05</td>\n",
       "    </tr>\n",
       "    <tr>\n",
       "      <th>16</th>\n",
       "      <td>505.263158</td>\n",
       "      <td>8.455383e+05</td>\n",
       "    </tr>\n",
       "    <tr>\n",
       "      <th>17</th>\n",
       "      <td>536.842105</td>\n",
       "      <td>7.236178e+05</td>\n",
       "    </tr>\n",
       "    <tr>\n",
       "      <th>18</th>\n",
       "      <td>568.421053</td>\n",
       "      <td>5.535552e+05</td>\n",
       "    </tr>\n",
       "    <tr>\n",
       "      <th>19</th>\n",
       "      <td>600.000000</td>\n",
       "      <td>1.717811e+05</td>\n",
       "    </tr>\n",
       "  </tbody>\n",
       "</table>\n",
       "</div>"
      ],
      "text/plain": [
       "          T[K]        M[A/m]\n",
       "0     0.000000  1.460000e+06\n",
       "1    31.578947  1.456985e+06\n",
       "2    63.157895  1.449450e+06\n",
       "3    94.736842  1.437973e+06\n",
       "4   126.315789  1.422737e+06\n",
       "5   157.894737  1.403779e+06\n",
       "6   189.473684  1.381044e+06\n",
       "7   221.052632  1.354392e+06\n",
       "8   252.631579  1.323601e+06\n",
       "9   284.210526  1.288354e+06\n",
       "10  315.789474  1.248213e+06\n",
       "11  347.368421  1.202584e+06\n",
       "12  378.947368  1.150645e+06\n",
       "13  410.526316  1.091238e+06\n",
       "14  442.105263  1.022661e+06\n",
       "15  473.684211  9.422640e+05\n",
       "16  505.263158  8.455383e+05\n",
       "17  536.842105  7.236178e+05\n",
       "18  568.421053  5.535552e+05\n",
       "19  600.000000  1.717811e+05"
      ]
     },
     "execution_count": 7,
     "metadata": {},
     "output_type": "execute_result"
    }
   ],
   "source": [
    "magnetisation_data.dataframe"
   ]
  },
  {
   "cell_type": "code",
   "execution_count": 8,
   "metadata": {},
   "outputs": [
    {
     "data": {
      "text/plain": [
       "(ThermodynamicTemperature(value=[  0.          31.57894737  63.15789474  94.73684211 126.31578947\n",
       "  157.89473684 189.47368421 221.05263158 252.63157895 284.21052632\n",
       "  315.78947368 347.36842105 378.94736842 410.52631579 442.10526316\n",
       "  473.68421053 505.26315789 536.84210526 568.42105263 600.        ], unit=K),\n",
       " SpontaneousMagnetization(value=[1460000.         1456985.36046193 1449449.93657199 1437972.77253639\n",
       "  1422736.58364638 1403779.39648225 1381044.11152378 1354391.97626968\n",
       "  1323600.99407897 1288353.67899904 1248213.31769096 1202584.11677895\n",
       "  1150645.20320241 1091237.80552561 1022660.54963577  942263.95974459\n",
       "   845538.33920183  723617.755767    553555.21471405  171781.14820705], unit=A / m))"
      ]
     },
     "execution_count": 8,
     "metadata": {},
     "output_type": "execute_result"
    }
   ],
   "source": [
    "magnetisation_data.entity_map[\"T\"], magnetisation_data.entity_map[\"Ms\"]"
   ]
  },
  {
   "cell_type": "markdown",
   "metadata": {},
   "source": [
    "## Plotting magnetisation data"
   ]
  },
  {
   "cell_type": "markdown",
   "metadata": {},
   "source": [
    "We can use the `panda`'s plotting to plot the dataframe."
   ]
  },
  {
   "cell_type": "code",
   "execution_count": 9,
   "metadata": {},
   "outputs": [
    {
     "data": {
      "text/plain": [
       "<Axes: xlabel='T[K]'>"
      ]
     },
     "execution_count": 9,
     "metadata": {},
     "output_type": "execute_result"
    },
    {
     "data": {
      "image/png": "[encoded data removed]",
      "text/plain": [
       "<Figure size 640x480 with 1 Axes>"
      ]
     },
     "metadata": {},
     "output_type": "display_data"
    }
   ],
   "source": [
    "magnetisation_data.dataframe.plot(x=\"T[K]\", y=\"M[A/m]\")"
   ]
  },
  {
   "cell_type": "markdown",
   "metadata": {},
   "source": [
    "Alternative, we can use `matplotlib` to plot the entities like `numpy.ndarray` objects."
   ]
  },
  {
   "cell_type": "code",
   "execution_count": 10,
   "metadata": {},
   "outputs": [
    {
     "data": {
      "image/png": "[encoded data removed]",
      "text/plain": [
       "<Figure size 640x480 with 1 Axes>"
      ]
     },
     "metadata": {},
     "output_type": "display_data"
    }
   ],
   "source": [
    "import matplotlib.pyplot as plt\n",
    "\n",
    "T = magnetisation_data.entity_map[\"T\"]\n",
    "Ms = magnetisation_data.entity_map[\"Ms\"]\n",
    "\n",
    "plt.plot(T, Ms, \"x-\")\n",
    "plt.title(\"Spontaneous Magnetisation\")\n",
    "plt.xlabel(\"T [K]\")\n",
    "plt.ylabel(\"Ms [A/m]\")\n",
    "plt.show()"
   ]
  }
 ],
 "metadata": {
  "kernelspec": {
   "display_name": "Python 3 (ipykernel)",
   "language": "python",
   "name": "python3"
  },
  "language_info": {
   "codemirror_mode": {
    "name": "ipython",
    "version": 3
   },
   "file_extension": ".py",
   "mimetype": "text/x-python",
   "name": "python",
   "nbconvert_exporter": "python",
   "pygments_lexer": "ipython3",
   "version": "3.13.3"
  }
 },
 "nbformat": 4,
 "nbformat_minor": 4
}
