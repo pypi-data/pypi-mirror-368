{
 "cells": [
  {
   "cell_type": "markdown",
   "id": "744ad64d",
   "metadata": {},
   "source": [
    "# Possible lookup failures\n",
    "We show two possible errors when querying for database entries."
   ]
  },
  {
   "cell_type": "code",
   "execution_count": 1,
   "id": "23d7a62d",
   "metadata": {},
   "outputs": [],
   "source": [
    "from mammos_spindynamics.db import get_spontaneous_magnetisation"
   ]
  },
  {
   "cell_type": "markdown",
   "id": "eb7589eb",
   "metadata": {},
   "source": [
    "## 1: Unknown material\n",
    "When the requested material is not found in the database, we get a `LookupError`."
   ]
  },
  {
   "cell_type": "code",
   "execution_count": 2,
   "id": "f82c9a33",
   "metadata": {},
   "outputs": [
    {
     "ename": "LookupError",
     "evalue": "Requested simulation not found in database.",
     "output_type": "error",
     "traceback": [
      "\u001b[31m---------------------------------------------------------------------------\u001b[39m",
      "\u001b[31mLookupError\u001b[39m                               Traceback (most recent call last)",
      "\u001b[36mCell\u001b[39m\u001b[36m \u001b[39m\u001b[32mIn[2]\u001b[39m\u001b[32m, line 1\u001b[39m\n\u001b[32m----> \u001b[39m\u001b[32m1\u001b[39m \u001b[43mget_spontaneous_magnetisation\u001b[49m\u001b[43m(\u001b[49m\n\u001b[32m      2\u001b[39m \u001b[43m    \u001b[49m\u001b[43mjfile\u001b[49m\u001b[43m=\u001b[49m\u001b[33;43m\"\u001b[39;49m\u001b[33;43munknown_material/jfile\u001b[39;49m\u001b[33;43m\"\u001b[39;49m\u001b[43m,\u001b[49m\n\u001b[32m      3\u001b[39m \u001b[43m    \u001b[49m\u001b[43mmomfile\u001b[49m\u001b[43m=\u001b[49m\u001b[33;43m\"\u001b[39;49m\u001b[33;43munknown_material/momfile\u001b[39;49m\u001b[33;43m\"\u001b[39;49m\u001b[43m,\u001b[49m\n\u001b[32m      4\u001b[39m \u001b[43m    \u001b[49m\u001b[43mposfile\u001b[49m\u001b[43m=\u001b[49m\u001b[33;43m\"\u001b[39;49m\u001b[33;43munknown_material/posfile\u001b[39;49m\u001b[33;43m\"\u001b[39;49m\u001b[43m,\u001b[49m\n\u001b[32m      5\u001b[39m \u001b[43m)\u001b[49m\n\u001b[32m      6\u001b[39m \u001b[38;5;66;03m# LookupError\u001b[39;00m\n",
      "\u001b[36mFile \u001b[39m\u001b[32m~/repo/mammos/mammos-spindynamics/src/mammos_spindynamics/db.py:110\u001b[39m, in \u001b[36mget_spontaneous_magnetisation\u001b[39m\u001b[34m(short_label, chemical_formula, space_group_name, space_group_number, cell_length_a, cell_length_b, cell_length_c, cell_angle_alpha, cell_angle_beta, cell_angle_gamma, cell_volume, ICSD_label, OQMD_label, jfile, momfile, posfile, print_info, interpolation_kind)\u001b[39m\n\u001b[32m     61\u001b[39m \u001b[38;5;250m\u001b[39m\u001b[33;03m\"\"\"Get spontaneous magnetization interpolator from a database.\u001b[39;00m\n\u001b[32m     62\u001b[39m \n\u001b[32m     63\u001b[39m \u001b[33;03mThis function retrieves the temperature-dependent spontaneous magnetization\u001b[39;00m\n\u001b[32m   (...)\u001b[39m\u001b[32m    107\u001b[39m \u001b[33;03m:rtype: scipy.interpolate.iterp1d\u001b[39;00m\n\u001b[32m    108\u001b[39m \u001b[33;03m\"\"\"\u001b[39;00m\n\u001b[32m    109\u001b[39m \u001b[38;5;28;01mif\u001b[39;00m posfile \u001b[38;5;129;01mis\u001b[39;00m \u001b[38;5;129;01mnot\u001b[39;00m \u001b[38;5;28;01mNone\u001b[39;00m:\n\u001b[32m--> \u001b[39m\u001b[32m110\u001b[39m     table = \u001b[43mload_uppasd_simulation\u001b[49m\u001b[43m(\u001b[49m\n\u001b[32m    111\u001b[39m \u001b[43m        \u001b[49m\u001b[43mjfile\u001b[49m\u001b[43m=\u001b[49m\u001b[43mjfile\u001b[49m\u001b[43m,\u001b[49m\u001b[43m \u001b[49m\u001b[43mmomfile\u001b[49m\u001b[43m=\u001b[49m\u001b[43mmomfile\u001b[49m\u001b[43m,\u001b[49m\u001b[43m \u001b[49m\u001b[43mposfile\u001b[49m\u001b[43m=\u001b[49m\u001b[43mposfile\u001b[49m\u001b[43m,\u001b[49m\u001b[43m \u001b[49m\u001b[43mprint_info\u001b[49m\u001b[43m=\u001b[49m\u001b[43mprint_info\u001b[49m\n\u001b[32m    112\u001b[39m \u001b[43m    \u001b[49m\u001b[43m)\u001b[49m\n\u001b[32m    113\u001b[39m \u001b[38;5;28;01melse\u001b[39;00m:\n\u001b[32m    114\u001b[39m     \u001b[38;5;28;01mif\u001b[39;00m short_label \u001b[38;5;129;01mis\u001b[39;00m \u001b[38;5;129;01mnot\u001b[39;00m \u001b[38;5;28;01mNone\u001b[39;00m:\n",
      "\u001b[36mFile \u001b[39m\u001b[32m~/repo/mammos/mammos-spindynamics/src/mammos_spindynamics/db.py:167\u001b[39m, in \u001b[36mload_uppasd_simulation\u001b[39m\u001b[34m(jfile, momfile, posfile, print_info)\u001b[39m\n\u001b[32m    165\u001b[39m             \u001b[38;5;28mprint\u001b[39m(describe_material(material_label=ii.name))\n\u001b[32m    166\u001b[39m         \u001b[38;5;28;01mreturn\u001b[39;00m table\n\u001b[32m--> \u001b[39m\u001b[32m167\u001b[39m \u001b[38;5;28;01mraise\u001b[39;00m \u001b[38;5;167;01mLookupError\u001b[39;00m(\u001b[33m\"\u001b[39m\u001b[33mRequested simulation not found in database.\u001b[39m\u001b[33m\"\u001b[39m)\n",
      "\u001b[31mLookupError\u001b[39m: Requested simulation not found in database."
     ]
    }
   ],
   "source": [
    "get_spontaneous_magnetisation(\n",
    "    jfile=\"unknown_material/jfile\",\n",
    "    momfile=\"unknown_material/momfile\",\n",
    "    posfile=\"unknown_material/posfile\",\n",
    ")\n",
    "# LookupError"
   ]
  },
  {
   "cell_type": "markdown",
   "id": "4a678310",
   "metadata": {},
   "source": [
    "## 2. Wrong formatting\n",
    "When the software is not able to parse an input file, we get a `Syntax Error`.\n",
    "Here the wrong file will be specified and a link to the correct syntax is given."
   ]
  },
  {
   "cell_type": "code",
   "execution_count": 4,
   "id": "79583528",
   "metadata": {},
   "outputs": [
    {
     "ename": "SyntaxError",
     "evalue": "\nUnable to parse momfile.\nPlease check syntax according to\nhttps://uppasd.github.io/UppASD-manual/input/#momfile\n (<string>)",
     "output_type": "error",
     "traceback": [
      "Traceback \u001b[36m(most recent call last)\u001b[39m:\n",
      "  File \u001b[92m~/repo/mammos/mammos-spindynamics/.pixi/envs/examples/lib/python3.13/site-packages/IPython/core/interactiveshell.py:3670\u001b[39m in \u001b[95mrun_code\u001b[39m\n    exec(code_obj, self.user_global_ns, self.user_ns)\n",
      "  Cell \u001b[92mIn[4]\u001b[39m\u001b[92m, line 1\u001b[39m\n    get_spontaneous_magnetisation(\n",
      "  File \u001b[92m~/repo/mammos/mammos-spindynamics/src/mammos_spindynamics/db.py:110\u001b[39m in \u001b[95mget_spontaneous_magnetisation\u001b[39m\n    table = load_uppasd_simulation(\n",
      "  File \u001b[92m~/repo/mammos/mammos-spindynamics/src/mammos_spindynamics/db.py:158\u001b[39m in \u001b[95mload_uppasd_simulation\u001b[39m\n    mom = parse_momfile(momfile)\n",
      "\u001b[36m  \u001b[39m\u001b[36mFile \u001b[39m\u001b[32m~/repo/mammos/mammos-spindynamics/src/mammos_spindynamics/db.py:237\u001b[39m\u001b[36m in \u001b[39m\u001b[35mparse_momfile\u001b[39m\n\u001b[31m    \u001b[39m\u001b[31mraise SyntaxError(\u001b[39m\n",
      "  \u001b[36mFile \u001b[39m\u001b[32m<string>\u001b[39m\n\u001b[31mSyntaxError\u001b[39m\u001b[31m:\u001b[39m \nUnable to parse momfile.\nPlease check syntax according to\nhttps://uppasd.github.io/UppASD-manual/input/#momfile\n\n"
     ]
    }
   ],
   "source": [
    "get_spontaneous_magnetisation(\n",
    "    jfile=\"wrong_data/jfile\",\n",
    "    momfile=\"wrong_data/momfile\",\n",
    "    posfile=\"wrong_data/posfile\",\n",
    ")\n",
    "# SyntaxError"
   ]
  }
 ],
 "metadata": {
  "kernelspec": {
   "display_name": "Python 3 (ipykernel)",
   "language": "python",
   "name": "python3"
  },
  "language_info": {
   "codemirror_mode": {
    "name": "ipython",
    "version": 3
   },
   "file_extension": ".py",
   "mimetype": "text/x-python",
   "name": "python",
   "nbconvert_exporter": "python",
   "pygments_lexer": "ipython3",
   "version": "3.13.3"
  }
 },
 "nbformat": 4,
 "nbformat_minor": 5
}
