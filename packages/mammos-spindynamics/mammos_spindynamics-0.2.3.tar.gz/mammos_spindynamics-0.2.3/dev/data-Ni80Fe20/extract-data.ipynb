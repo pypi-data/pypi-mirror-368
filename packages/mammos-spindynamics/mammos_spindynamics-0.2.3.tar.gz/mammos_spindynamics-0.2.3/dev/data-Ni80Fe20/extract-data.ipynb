{
 "cells": [
  {
   "cell_type": "markdown",
   "id": "df9fad27-33cf-4fe5-a441-d21582b2e691",
   "metadata": {},
   "source": [
    "# Fe80Ni20 data source"
   ]
  },
  {
   "cell_type": "code",
   "execution_count": 1,
   "id": "70160432-2009-4bac-ba4e-1b81e86adfc9",
   "metadata": {},
   "outputs": [],
   "source": [
    "import pandas as pd\n",
    "import matplotlib.pyplot as plt"
   ]
  },
  {
   "cell_type": "markdown",
   "id": "d58bbae2-f685-437d-a491-d60310af58be",
   "metadata": {},
   "source": [
    "# Provenance"
   ]
  },
  {
   "cell_type": "markdown",
   "id": "f381881e-ef54-49ea-ac18-ec39f61e4451",
   "metadata": {},
   "source": [
    "Data source: *Massively parallel atomistic simulation of ultrafast thermal spin dynamics of a permalloy vortex*,\n",
    " Daniel Meilak, Sarah Jenkins, Rory Pond, and Richard F. L. Evans,\n",
    "Department of Physics, The University of York, York, YO10 5DD, UK (2019), https://arxiv.org/abs/1908.08885\n",
    "\n",
    "The associated data files [input](input), [output.txt](output.txt), [Pymat.txt](Pymat.txt) and [MvsT.gpl](MvsT.gpl) were kindly provided by Richard Evans."
   ]
  },
  {
   "cell_type": "markdown",
   "id": "930acb17-2b5c-4d49-9a3c-1b2500f7c927",
   "metadata": {},
   "source": [
    "# Processing\n",
    "\n",
    "Convert data into mammos-spindynamics.db format."
   ]
  },
  {
   "cell_type": "code",
   "execution_count": 2,
   "id": "8ab2fa5e-0ba4-4ad2-aa63-c40023c94f32",
   "metadata": {},
   "outputs": [
    {
     "data": {
      "text/html": [
       "<div>\n",
       "<style scoped>\n",
       "    .dataframe tbody tr th:only-of-type {\n",
       "        vertical-align: middle;\n",
       "    }\n",
       "\n",
       "    .dataframe tbody tr th {\n",
       "        vertical-align: top;\n",
       "    }\n",
       "\n",
       "    .dataframe thead th {\n",
       "        text-align: right;\n",
       "    }\n",
       "</style>\n",
       "<table border=\"1\" class=\"dataframe\">\n",
       "  <thead>\n",
       "    <tr style=\"text-align: right;\">\n",
       "      <th></th>\n",
       "      <th>0</th>\n",
       "      <th>1</th>\n",
       "      <th>2</th>\n",
       "      <th>3</th>\n",
       "      <th>4</th>\n",
       "      <th>5</th>\n",
       "      <th>6</th>\n",
       "      <th>7</th>\n",
       "      <th>8</th>\n",
       "      <th>9</th>\n",
       "      <th>...</th>\n",
       "      <th>17</th>\n",
       "      <th>18</th>\n",
       "      <th>19</th>\n",
       "      <th>20</th>\n",
       "      <th>21</th>\n",
       "      <th>22</th>\n",
       "      <th>23</th>\n",
       "      <th>24</th>\n",
       "      <th>25</th>\n",
       "      <th>26</th>\n",
       "    </tr>\n",
       "  </thead>\n",
       "  <tbody>\n",
       "    <tr>\n",
       "      <th>0</th>\n",
       "      <td>2.000000e-11</td>\n",
       "      <td>0</td>\n",
       "      <td>0.000000</td>\n",
       "      <td>0.000000</td>\n",
       "      <td>1.000000</td>\n",
       "      <td>1.000000</td>\n",
       "      <td>0.000000</td>\n",
       "      <td>0.000000</td>\n",
       "      <td>1.000000</td>\n",
       "      <td>1.000000</td>\n",
       "      <td>...</td>\n",
       "      <td>0.000000</td>\n",
       "      <td>0.000000e+00</td>\n",
       "      <td>0.000000e+00</td>\n",
       "      <td>0.000000</td>\n",
       "      <td>0.000000</td>\n",
       "      <td>0.000000e+00</td>\n",
       "      <td>0.000000e+00</td>\n",
       "      <td>0.000000</td>\n",
       "      <td>-0.000000</td>\n",
       "      <td>0.000000</td>\n",
       "    </tr>\n",
       "    <tr>\n",
       "      <th>1</th>\n",
       "      <td>4.000000e-11</td>\n",
       "      <td>10</td>\n",
       "      <td>-0.000449</td>\n",
       "      <td>-0.001741</td>\n",
       "      <td>0.999998</td>\n",
       "      <td>0.999759</td>\n",
       "      <td>-0.000381</td>\n",
       "      <td>-0.001705</td>\n",
       "      <td>0.999998</td>\n",
       "      <td>0.999756</td>\n",
       "      <td>...</td>\n",
       "      <td>0.005314</td>\n",
       "      <td>3.993890e-08</td>\n",
       "      <td>1.441520e-08</td>\n",
       "      <td>0.002663</td>\n",
       "      <td>0.006300</td>\n",
       "      <td>5.210560e-08</td>\n",
       "      <td>2.439170e-08</td>\n",
       "      <td>0.005423</td>\n",
       "      <td>0.004677</td>\n",
       "      <td>0.002243</td>\n",
       "    </tr>\n",
       "    <tr>\n",
       "      <th>2</th>\n",
       "      <td>6.000000e-11</td>\n",
       "      <td>20</td>\n",
       "      <td>0.007115</td>\n",
       "      <td>0.000048</td>\n",
       "      <td>0.999975</td>\n",
       "      <td>0.999248</td>\n",
       "      <td>0.007548</td>\n",
       "      <td>0.000231</td>\n",
       "      <td>0.999971</td>\n",
       "      <td>0.999245</td>\n",
       "      <td>...</td>\n",
       "      <td>0.004009</td>\n",
       "      <td>1.794690e-07</td>\n",
       "      <td>7.463850e-08</td>\n",
       "      <td>0.012092</td>\n",
       "      <td>0.004518</td>\n",
       "      <td>2.476640e-07</td>\n",
       "      <td>1.322360e-07</td>\n",
       "      <td>0.013040</td>\n",
       "      <td>0.010932</td>\n",
       "      <td>0.005546</td>\n",
       "    </tr>\n",
       "    <tr>\n",
       "      <th>3</th>\n",
       "      <td>8.000000e-11</td>\n",
       "      <td>30</td>\n",
       "      <td>0.018003</td>\n",
       "      <td>0.014082</td>\n",
       "      <td>0.999739</td>\n",
       "      <td>0.998554</td>\n",
       "      <td>0.017370</td>\n",
       "      <td>0.014469</td>\n",
       "      <td>0.999744</td>\n",
       "      <td>0.998548</td>\n",
       "      <td>...</td>\n",
       "      <td>0.004506</td>\n",
       "      <td>3.203870e-06</td>\n",
       "      <td>1.603230e-07</td>\n",
       "      <td>0.008005</td>\n",
       "      <td>0.005450</td>\n",
       "      <td>3.718350e-06</td>\n",
       "      <td>2.818210e-07</td>\n",
       "      <td>0.021603</td>\n",
       "      <td>0.018624</td>\n",
       "      <td>0.008663</td>\n",
       "    </tr>\n",
       "    <tr>\n",
       "      <th>4</th>\n",
       "      <td>1.000000e-10</td>\n",
       "      <td>40</td>\n",
       "      <td>0.030487</td>\n",
       "      <td>0.017969</td>\n",
       "      <td>0.999374</td>\n",
       "      <td>0.997645</td>\n",
       "      <td>0.030556</td>\n",
       "      <td>0.018661</td>\n",
       "      <td>0.999359</td>\n",
       "      <td>0.997658</td>\n",
       "      <td>...</td>\n",
       "      <td>0.009775</td>\n",
       "      <td>9.720060e-06</td>\n",
       "      <td>3.235340e-07</td>\n",
       "      <td>0.011421</td>\n",
       "      <td>0.011051</td>\n",
       "      <td>1.142050e-05</td>\n",
       "      <td>5.995970e-07</td>\n",
       "      <td>0.031482</td>\n",
       "      <td>0.026493</td>\n",
       "      <td>0.013582</td>\n",
       "    </tr>\n",
       "  </tbody>\n",
       "</table>\n",
       "<p>5 rows × 27 columns</p>\n",
       "</div>"
      ],
      "text/plain": [
       "             0   1         2         3         4         5         6   \\\n",
       "0  2.000000e-11   0  0.000000  0.000000  1.000000  1.000000  0.000000   \n",
       "1  4.000000e-11  10 -0.000449 -0.001741  0.999998  0.999759 -0.000381   \n",
       "2  6.000000e-11  20  0.007115  0.000048  0.999975  0.999248  0.007548   \n",
       "3  8.000000e-11  30  0.018003  0.014082  0.999739  0.998554  0.017370   \n",
       "4  1.000000e-10  40  0.030487  0.017969  0.999374  0.997645  0.030556   \n",
       "\n",
       "         7         8         9   ...        17            18            19  \\\n",
       "0  0.000000  1.000000  1.000000  ...  0.000000  0.000000e+00  0.000000e+00   \n",
       "1 -0.001705  0.999998  0.999756  ...  0.005314  3.993890e-08  1.441520e-08   \n",
       "2  0.000231  0.999971  0.999245  ...  0.004009  1.794690e-07  7.463850e-08   \n",
       "3  0.014469  0.999744  0.998548  ...  0.004506  3.203870e-06  1.603230e-07   \n",
       "4  0.018661  0.999359  0.997658  ...  0.009775  9.720060e-06  3.235340e-07   \n",
       "\n",
       "         20        21            22            23        24        25  \\\n",
       "0  0.000000  0.000000  0.000000e+00  0.000000e+00  0.000000 -0.000000   \n",
       "1  0.002663  0.006300  5.210560e-08  2.439170e-08  0.005423  0.004677   \n",
       "2  0.012092  0.004518  2.476640e-07  1.322360e-07  0.013040  0.010932   \n",
       "3  0.008005  0.005450  3.718350e-06  2.818210e-07  0.021603  0.018624   \n",
       "4  0.011421  0.011051  1.142050e-05  5.995970e-07  0.031482  0.026493   \n",
       "\n",
       "         26  \n",
       "0  0.000000  \n",
       "1  0.002243  \n",
       "2  0.005546  \n",
       "3  0.008663  \n",
       "4  0.013582  \n",
       "\n",
       "[5 rows x 27 columns]"
      ]
     },
     "execution_count": 2,
     "metadata": {},
     "output_type": "execute_result"
    }
   ],
   "source": [
    "data = pd.read_csv(\"output.txt\", comment=\"#\", sep=r\"\\t\", header=None, engine='python')\n",
    "data.head()"
   ]
  },
  {
   "cell_type": "markdown",
   "id": "7e8e1fc2-2cc5-4a51-9e9a-2a5d6e1b3119",
   "metadata": {},
   "source": [
    "Inferred from the gnuplot script:\n",
    "\n",
    "- column 1 is temperature\n",
    "- column 5 is Ms for Fe\n",
    "- column 9 is Ms for Ni"
   ]
  },
  {
   "cell_type": "code",
   "execution_count": 3,
   "id": "a93746d9-2a19-4890-b410-bf215bcacb27",
   "metadata": {},
   "outputs": [
    {
     "data": {
      "text/plain": [
       "<Axes: xlabel='1'>"
      ]
     },
     "execution_count": 3,
     "metadata": {},
     "output_type": "execute_result"
    },
    {
     "data": {
      "image/png": "[encoded data removed]",
      "text/plain": [
       "<Figure size 640x480 with 1 Axes>"
      ]
     },
     "metadata": {},
     "output_type": "display_data"
    }
   ],
   "source": [
    "data.plot(x=1, y=[5, 9])"
   ]
  },
  {
   "cell_type": "markdown",
   "id": "c29eed35-c523-48ea-acb3-5f939abbb52c",
   "metadata": {},
   "source": [
    "Is there any significant difference between the Fe and Ni data?"
   ]
  },
  {
   "cell_type": "code",
   "execution_count": 4,
   "id": "af94baf1-3473-4399-a480-626a38a75b04",
   "metadata": {},
   "outputs": [
    {
     "data": {
      "text/plain": [
       "[<matplotlib.lines.Line2D at 0x14d44d4d0>]"
      ]
     },
     "execution_count": 4,
     "metadata": {},
     "output_type": "execute_result"
    },
    {
     "data": {
      "image/png": "[encoded data removed]",
      "text/plain": [
       "<Figure size 640x480 with 1 Axes>"
      ]
     },
     "metadata": {},
     "output_type": "display_data"
    }
   ],
   "source": [
    "plt.plot(data[1], data[5] - data[9])"
   ]
  },
  {
   "cell_type": "markdown",
   "id": "15d14b51-a2b8-48a9-9c7c-4769635cd035",
   "metadata": {},
   "source": [
    "We use temperature-dependence for Fe (at T=0 this is 1).\n",
    "\n",
    "We need to establish Ms(T=0)."
   ]
  },
  {
   "cell_type": "code",
   "execution_count": 5,
   "id": "0bb8b374-0e7a-4f8f-954a-00691ac5b8d5",
   "metadata": {},
   "outputs": [],
   "source": [
    "import mammos_units as u"
   ]
  },
  {
   "cell_type": "markdown",
   "id": "39fc61e4-88ba-47a9-81d6-46ec0377edb9",
   "metadata": {},
   "source": [
    "Magnetic moments from the paper https://arxiv.org/pdf/1908.08885, also in [Pymat.txt](Pymat.txt)."
   ]
  },
  {
   "cell_type": "code",
   "execution_count": 6,
   "id": "884f1916-968e-40db-ad07-3c30092aa750",
   "metadata": {},
   "outputs": [
    {
     "data": {
      "text/latex": [
       "$892184.69 \\; \\mathrm{\\frac{A}{m}}$"
      ],
      "text/plain": [
       "<Quantity 892184.69121101 A / m>"
      ]
     },
     "execution_count": 6,
     "metadata": {},
     "output_type": "execute_result"
    }
   ],
   "source": [
    "# Permalloy is FCC structure, with randomly distributed Ni and Fe in ratio 20:80\n",
    "fu_per_fcc_unit_cell = 4  # 4 basis points in each fcc-cell\n",
    "\n",
    "m_fe = 2.9 * u.mu_B\n",
    "fraction_fe = 0.2  # 20%\n",
    "m_ni = 0.62 * u.mu_B\n",
    "fraction_ni = 0.8  # 80% \n",
    "# Effective magnetic moment per formula unit\n",
    "magnetic_moment_per_fu = (m_fe * fraction_fe + m_ni * fraction_ni) / u.fu\n",
    "\n",
    "# volume occupied per formula unit\n",
    "vol_per_fu = (3.55 * u.Angstrom) ** 3 / fu_per_fcc_unit_cell / u.fu\n",
    "\n",
    "# magnetisation is magnetic moment per volume\n",
    "magnetization = magnetic_moment_per_fu / vol_per_fu\n",
    "Ms0 = magnetization.si  # force conversion from muB to si base units\n",
    "Ms0"
   ]
  },
  {
   "cell_type": "markdown",
   "id": "6488e1ae-b1d8-452b-b05e-a35db8d52978",
   "metadata": {},
   "source": [
    "Pick the Fe data (normalised to be 1 at $T=0$):"
   ]
  },
  {
   "cell_type": "code",
   "execution_count": 7,
   "id": "f8ba2f67-102c-436b-a5a6-a545b57906a8",
   "metadata": {},
   "outputs": [],
   "source": [
    "sel = data[[1,5]]"
   ]
  },
  {
   "cell_type": "markdown",
   "id": "37ed7721-c386-461c-912a-c24b6b9d17ea",
   "metadata": {},
   "source": [
    "Multiply with the Ms(T=0):"
   ]
  },
  {
   "cell_type": "code",
   "execution_count": 8,
   "id": "a3e8b85b-6d48-427d-9926-75600d735326",
   "metadata": {},
   "outputs": [],
   "source": [
    "sel.loc[:, 5] *= Ms0"
   ]
  },
  {
   "cell_type": "markdown",
   "id": "8d597e69-1ab6-4197-88d8-67c93eb64d5a",
   "metadata": {},
   "source": [
    "Write as table to disk"
   ]
  },
  {
   "cell_type": "code",
   "execution_count": 9,
   "id": "eed64a8f-3fd8-4cc6-a164-9fb15dc885c8",
   "metadata": {},
   "outputs": [],
   "source": [
    "sel.columns = [\"T[K]\", \"M[A/m]\"]\n",
    "sel = sel.set_index(\"T[K]\")"
   ]
  },
  {
   "cell_type": "code",
   "execution_count": 10,
   "id": "6a3dbb5e-1b0d-46e5-8516-d89edc3d2122",
   "metadata": {},
   "outputs": [
    {
     "data": {
      "text/html": [
       "<div>\n",
       "<style scoped>\n",
       "    .dataframe tbody tr th:only-of-type {\n",
       "        vertical-align: middle;\n",
       "    }\n",
       "\n",
       "    .dataframe tbody tr th {\n",
       "        vertical-align: top;\n",
       "    }\n",
       "\n",
       "    .dataframe thead th {\n",
       "        text-align: right;\n",
       "    }\n",
       "</style>\n",
       "<table border=\"1\" class=\"dataframe\">\n",
       "  <thead>\n",
       "    <tr style=\"text-align: right;\">\n",
       "      <th></th>\n",
       "      <th>M[A/m]</th>\n",
       "    </tr>\n",
       "    <tr>\n",
       "      <th>T[K]</th>\n",
       "      <th></th>\n",
       "    </tr>\n",
       "  </thead>\n",
       "  <tbody>\n",
       "    <tr>\n",
       "      <th>0</th>\n",
       "      <td>892184.691211</td>\n",
       "    </tr>\n",
       "    <tr>\n",
       "      <th>10</th>\n",
       "      <td>891969.674700</td>\n",
       "    </tr>\n",
       "    <tr>\n",
       "      <th>20</th>\n",
       "      <td>891513.768323</td>\n",
       "    </tr>\n",
       "    <tr>\n",
       "      <th>30</th>\n",
       "      <td>890894.592148</td>\n",
       "    </tr>\n",
       "    <tr>\n",
       "      <th>40</th>\n",
       "      <td>890083.596263</td>\n",
       "    </tr>\n",
       "    <tr>\n",
       "      <th>...</th>\n",
       "      <td>...</td>\n",
       "    </tr>\n",
       "    <tr>\n",
       "      <th>960</th>\n",
       "      <td>10183.931376</td>\n",
       "    </tr>\n",
       "    <tr>\n",
       "      <th>970</th>\n",
       "      <td>6629.182067</td>\n",
       "    </tr>\n",
       "    <tr>\n",
       "      <th>980</th>\n",
       "      <td>13175.694301</td>\n",
       "    </tr>\n",
       "    <tr>\n",
       "      <th>990</th>\n",
       "      <td>9669.140809</td>\n",
       "    </tr>\n",
       "    <tr>\n",
       "      <th>1000</th>\n",
       "      <td>6273.316360</td>\n",
       "    </tr>\n",
       "  </tbody>\n",
       "</table>\n",
       "<p>101 rows × 1 columns</p>\n",
       "</div>"
      ],
      "text/plain": [
       "             M[A/m]\n",
       "T[K]               \n",
       "0     892184.691211\n",
       "10    891969.674700\n",
       "20    891513.768323\n",
       "30    890894.592148\n",
       "40    890083.596263\n",
       "...             ...\n",
       "960    10183.931376\n",
       "970     6629.182067\n",
       "980    13175.694301\n",
       "990     9669.140809\n",
       "1000    6273.316360\n",
       "\n",
       "[101 rows x 1 columns]"
      ]
     },
     "execution_count": 10,
     "metadata": {},
     "output_type": "execute_result"
    }
   ],
   "source": [
    "sel"
   ]
  },
  {
   "cell_type": "code",
   "execution_count": 11,
   "id": "d0b4be85-4a7d-43b9-a5f3-43b3562127ac",
   "metadata": {},
   "outputs": [
    {
     "data": {
      "text/plain": [
       "np.float64(833918.7855820971)"
      ]
     },
     "execution_count": 11,
     "metadata": {},
     "output_type": "execute_result"
    }
   ],
   "source": [
    "# what is Ms at T=300K?\n",
    "sel['M[A/m]'][300]"
   ]
  },
  {
   "cell_type": "code",
   "execution_count": 12,
   "id": "de29b3d3-6448-4ba6-885c-edfffc5ecf8a",
   "metadata": {},
   "outputs": [],
   "source": [
    "sel.to_csv(\"M.csv\")"
   ]
  },
  {
   "cell_type": "code",
   "execution_count": 13,
   "id": "41ce00ae-6d17-4d08-a35d-3b47b2c87408",
   "metadata": {},
   "outputs": [
    {
     "name": "stdout",
     "output_type": "stream",
     "text": [
      "T[K],M[A/m]\n",
      "0,892184.6912110149\n",
      "10,891969.6747004329\n",
      "20,891513.7683232242\n",
      "30,890894.5921475238\n",
      "40,890083.596263213\n",
      "50,889199.4412342228\n",
      "60,888171.6444699477\n",
      "70,887053.7370518603\n",
      "80,885671.7429651745\n"
     ]
    }
   ],
   "source": [
    "!head M.csv"
   ]
  },
  {
   "cell_type": "code",
   "execution_count": null,
   "id": "0fea24b3-efe0-45b5-a665-4e14b7ddf6ec",
   "metadata": {},
   "outputs": [],
   "source": []
  }
 ],
 "metadata": {
  "kernelspec": {
   "display_name": "Python 3 (ipykernel)",
   "language": "python",
   "name": "python3"
  },
  "language_info": {
   "codemirror_mode": {
    "name": "ipython",
    "version": 3
   },
   "file_extension": ".py",
   "mimetype": "text/x-python",
   "name": "python",
   "nbconvert_exporter": "python",
   "pygments_lexer": "ipython3",
   "version": "3.11.0"
  }
 },
 "nbformat": 4,
 "nbformat_minor": 5
}
