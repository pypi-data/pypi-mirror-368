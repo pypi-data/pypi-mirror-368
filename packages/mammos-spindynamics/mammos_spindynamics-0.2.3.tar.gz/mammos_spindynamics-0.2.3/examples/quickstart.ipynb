{
 "cells": [
  {
   "cell_type": "markdown",
   "id": "c61d016f-5e80-4f9c-903a-6e75d204ca26",
   "metadata": {},
   "source": [
    "# `mammos_spindynamics` quickstart\n",
    "\n",
    "`mammos_spindynamics` provides temperature-dependent spontaneous magnetization values.\n",
    "\n",
    "- `db` contains pre-computed materials"
   ]
  },
  {
   "cell_type": "code",
   "execution_count": 1,
   "id": "5ee47c84-328e-4641-ac89-c061dd7fe804",
   "metadata": {},
   "outputs": [],
   "source": [
    "import mammos_spindynamics"
   ]
  },
  {
   "cell_type": "markdown",
   "id": "c877208d-55ae-42f6-b6ec-da3914828127",
   "metadata": {},
   "source": [
    "## Querying the database – `mammos_spindynamics.db`\n",
    "\n",
    "Use the following function to get a list of all available materials:"
   ]
  },
  {
   "cell_type": "code",
   "execution_count": 2,
   "id": "0d4da988-2845-4b30-b463-e0387f33ddcb",
   "metadata": {},
   "outputs": [
    {
     "data": {
      "text/html": [
       "<div>\n",
       "<style scoped>\n",
       "    .dataframe tbody tr th:only-of-type {\n",
       "        vertical-align: middle;\n",
       "    }\n",
       "\n",
       "    .dataframe tbody tr th {\n",
       "        vertical-align: top;\n",
       "    }\n",
       "\n",
       "    .dataframe thead th {\n",
       "        text-align: right;\n",
       "    }\n",
       "</style>\n",
       "<table border=\"1\" class=\"dataframe\">\n",
       "  <thead>\n",
       "    <tr style=\"text-align: right;\">\n",
       "      <th></th>\n",
       "      <th>chemical_formula</th>\n",
       "      <th>space_group_name</th>\n",
       "      <th>space_group_number</th>\n",
       "      <th>cell_length_a</th>\n",
       "      <th>cell_length_b</th>\n",
       "      <th>cell_length_c</th>\n",
       "      <th>cell_angle_alpha</th>\n",
       "      <th>cell_angle_beta</th>\n",
       "      <th>cell_angle_gamma</th>\n",
       "      <th>cell_volume</th>\n",
       "      <th>ICSD_label</th>\n",
       "      <th>OQMD_label</th>\n",
       "      <th>label</th>\n",
       "      <th>source</th>\n",
       "    </tr>\n",
       "  </thead>\n",
       "  <tbody>\n",
       "    <tr>\n",
       "      <th>0</th>\n",
       "      <td>Co2Fe2H4</td>\n",
       "      <td>P6_3/mmc</td>\n",
       "      <td>194</td>\n",
       "      <td>2.645345 Angstrom</td>\n",
       "      <td>2.645314 Angstrom</td>\n",
       "      <td>8.539476 Angstrom</td>\n",
       "      <td>90.0 deg</td>\n",
       "      <td>90.0 deg</td>\n",
       "      <td>120.0 deg</td>\n",
       "      <td>51.751119 Angstrom3</td>\n",
       "      <td></td>\n",
       "      <td></td>\n",
       "      <td>0001</td>\n",
       "      <td>Uppsala</td>\n",
       "    </tr>\n",
       "    <tr>\n",
       "      <th>1</th>\n",
       "      <td>Y2Ti4Fe18</td>\n",
       "      <td>P4/mbm</td>\n",
       "      <td>127</td>\n",
       "      <td>8.186244 Angstrom</td>\n",
       "      <td>8.186244 Angstrom</td>\n",
       "      <td>4.892896 Angstrom</td>\n",
       "      <td>90.0 deg</td>\n",
       "      <td>90.0 deg</td>\n",
       "      <td>90.0 deg</td>\n",
       "      <td>327.8954234 Angstrom3</td>\n",
       "      <td></td>\n",
       "      <td></td>\n",
       "      <td>0002</td>\n",
       "      <td>Uppsala</td>\n",
       "    </tr>\n",
       "    <tr>\n",
       "      <th>2</th>\n",
       "      <td>Nd2Fe14B</td>\n",
       "      <td>P42/mnm</td>\n",
       "      <td>136</td>\n",
       "      <td>8.78 Angstrom</td>\n",
       "      <td>8.78 Angstrom</td>\n",
       "      <td>12.12 Angstrom</td>\n",
       "      <td>90.0 deg</td>\n",
       "      <td>90.0 deg</td>\n",
       "      <td>90.0 deg</td>\n",
       "      <td>933.42 Angstrom3</td>\n",
       "      <td></td>\n",
       "      <td></td>\n",
       "      <td>0003</td>\n",
       "      <td>https://doi.org/10.1103/PhysRevB.99.214409</td>\n",
       "    </tr>\n",
       "    <tr>\n",
       "      <th>3</th>\n",
       "      <td>Fe16N2</td>\n",
       "      <td>?</td>\n",
       "      <td>0</td>\n",
       "      <td>nan Angstrom</td>\n",
       "      <td>nan Angstrom</td>\n",
       "      <td>nan Angstrom</td>\n",
       "      <td>nan deg</td>\n",
       "      <td>nan deg</td>\n",
       "      <td>nan deg</td>\n",
       "      <td>nan Angstrom3</td>\n",
       "      <td></td>\n",
       "      <td></td>\n",
       "      <td>0005</td>\n",
       "      <td>Uppsala</td>\n",
       "    </tr>\n",
       "    <tr>\n",
       "      <th>4</th>\n",
       "      <td>Ni80Fe20</td>\n",
       "      <td>Pm-3m</td>\n",
       "      <td>221</td>\n",
       "      <td>3.55 Angstrom</td>\n",
       "      <td>3.55 Angstrom</td>\n",
       "      <td>3.55 Angstrom</td>\n",
       "      <td>90.0 deg</td>\n",
       "      <td>90.0 deg</td>\n",
       "      <td>90.0 deg</td>\n",
       "      <td>44.738875 Angstrom3</td>\n",
       "      <td></td>\n",
       "      <td></td>\n",
       "      <td>0006</td>\n",
       "      <td>https://doi.org/10.48550/arXiv.1908.08885; spa...</td>\n",
       "    </tr>\n",
       "  </tbody>\n",
       "</table>\n",
       "</div>"
      ],
      "text/plain": [
       "  chemical_formula space_group_name  space_group_number      cell_length_a  \\\n",
       "0         Co2Fe2H4         P6_3/mmc                 194  2.645345 Angstrom   \n",
       "1        Y2Ti4Fe18           P4/mbm                 127  8.186244 Angstrom   \n",
       "2         Nd2Fe14B          P42/mnm                 136      8.78 Angstrom   \n",
       "3           Fe16N2                ?                   0       nan Angstrom   \n",
       "4         Ni80Fe20            Pm-3m                 221      3.55 Angstrom   \n",
       "\n",
       "       cell_length_b      cell_length_c cell_angle_alpha cell_angle_beta  \\\n",
       "0  2.645314 Angstrom  8.539476 Angstrom         90.0 deg        90.0 deg   \n",
       "1  8.186244 Angstrom  4.892896 Angstrom         90.0 deg        90.0 deg   \n",
       "2      8.78 Angstrom     12.12 Angstrom         90.0 deg        90.0 deg   \n",
       "3       nan Angstrom       nan Angstrom          nan deg         nan deg   \n",
       "4      3.55 Angstrom      3.55 Angstrom         90.0 deg        90.0 deg   \n",
       "\n",
       "  cell_angle_gamma            cell_volume ICSD_label OQMD_label label  \\\n",
       "0        120.0 deg    51.751119 Angstrom3                        0001   \n",
       "1         90.0 deg  327.8954234 Angstrom3                        0002   \n",
       "2         90.0 deg       933.42 Angstrom3                        0003   \n",
       "3          nan deg          nan Angstrom3                        0005   \n",
       "4         90.0 deg    44.738875 Angstrom3                        0006   \n",
       "\n",
       "                                              source  \n",
       "0                                            Uppsala  \n",
       "1                                            Uppsala  \n",
       "2         https://doi.org/10.1103/PhysRevB.99.214409  \n",
       "3                                            Uppsala  \n",
       "4  https://doi.org/10.48550/arXiv.1908.08885; spa...  "
      ]
     },
     "execution_count": 2,
     "metadata": {},
     "output_type": "execute_result"
    }
   ],
   "source": [
    "mammos_spindynamics.db.find_materials()"
   ]
  },
  {
   "cell_type": "markdown",
   "id": "5b3e8c55-cac6-4741-93e0-0519ea47aee7",
   "metadata": {},
   "source": [
    "Use the following function to get an object that contains spontaneous magnetization `Ms` at temperatures `T`:"
   ]
  },
  {
   "cell_type": "code",
   "execution_count": 3,
   "id": "93351fbd-8af7-4539-b472-01495f3c9b22",
   "metadata": {},
   "outputs": [],
   "source": [
    "results_spindynamics = mammos_spindynamics.db.get_spontaneous_magnetization(\"Co2Fe2H4\")"
   ]
  },
  {
   "cell_type": "markdown",
   "id": "fb249f57-1aea-490a-91df-63217a3faeb0",
   "metadata": {},
   "source": [
    "The result object provides a function to plot the data for visual inspection:"
   ]
  },
  {
   "cell_type": "code",
   "execution_count": 4,
   "id": "e84ad7b4-b91d-4492-a320-7be02b841fbb",
   "metadata": {},
   "outputs": [
    {
     "data": {
      "text/plain": [
       "<Axes: xlabel='Thermodynamic Temperature (K)', ylabel='Spontaneous Magnetization (A / m)'>"
      ]
     },
     "execution_count": 4,
     "metadata": {},
     "output_type": "execute_result"
    },
    {
     "data": {
      "image/png": "[encoded data removed]",
      "text/plain": [
       "<Figure size 640x480 with 1 Axes>"
      ]
     },
     "metadata": {},
     "output_type": "display_data"
    }
   ],
   "source": [
    "results_spindynamics.plot()"
   ]
  },
  {
   "cell_type": "markdown",
   "id": "930131fb-9e47-4c97-b151-345ba01bddd5",
   "metadata": {},
   "source": [
    "We can access the `Ms` and `T` attributes and get `mammos_entity.Entity` objects:"
   ]
  },
  {
   "cell_type": "code",
   "execution_count": 5,
   "id": "bd4e066b-6077-4463-a07e-173c4c2fcd61",
   "metadata": {},
   "outputs": [
    {
     "data": {
      "text/plain": [
       "SpontaneousMagnetization(value=\n",
       "[1160762.15152728 1152764.540031   1144332.38021977 1136095.4237953\n",
       " 1128134.37709324 1119860.36127139 1111776.43793683 1102918.50364088\n",
       " 1094392.01798628 1085670.06372291 1076778.81897829 1067425.28513189\n",
       " 1057970.97409635 1048538.21055569 1039913.8221449  1029517.07701433\n",
       " 1019718.19960104 1010212.40682623 1000827.01766803  990071.55620798\n",
       "  977847.7971226   967365.03404838  957943.74673504  945368.08824221\n",
       "  933306.33678552  924042.80638082  911156.5370935   898923.20851189\n",
       "  886959.86875088  874610.18656417  859777.5032481   846674.7339648\n",
       "  833341.85234593  817215.36597138  802915.55664802  788770.83767705\n",
       "  767322.55015624  749504.37038855  733715.25355713  716555.57268794\n",
       "  695546.66554008  675931.69422208  650394.96667178  623964.15571257\n",
       "  595267.15471822  574337.71381396  540677.01870906  506480.06838947\n",
       "  465749.37929254  419581.94398809  363556.9147052   283780.87532889\n",
       "  116330.7659029    45920.08375439   28204.38382936   22252.02685696\n",
       "   18336.06448858   16018.35637159   14232.77360447   13649.49689592\n",
       "   12290.85695223   11386.3050879    10781.61435564   10306.54019184\n",
       "    9665.93883184    9395.09234065    8975.25861354    8438.06343775\n",
       "    8343.59372938    8102.70528087    7747.89846694    7593.11190125\n",
       "    7321.35684554    7307.02274373    7047.92251168    7129.16483945\n",
       "    6674.61311621    6599.17726486    6616.13202518   12484.21016472],\n",
       " unit=A / m)"
      ]
     },
     "execution_count": 5,
     "metadata": {},
     "output_type": "execute_result"
    }
   ],
   "source": [
    "results_spindynamics.Ms"
   ]
  },
  {
   "cell_type": "code",
   "execution_count": 6,
   "id": "721ea3e3-0a5f-4b04-acc7-ac67e4ca196b",
   "metadata": {},
   "outputs": [
    {
     "data": {
      "text/plain": [
       "ThermodynamicTemperature(value=\n",
       "[  20.   40.   60.   80.  100.  120.  140.  160.  180.  200.  220.  240.\n",
       "  260.  280.  300.  320.  340.  360.  380.  400.  420.  440.  460.  480.\n",
       "  500.  520.  540.  560.  580.  600.  620.  640.  660.  680.  700.  720.\n",
       "  740.  760.  780.  800.  820.  840.  860.  880.  900.  920.  940.  960.\n",
       "  980. 1000. 1020. 1040. 1060. 1080. 1100. 1120. 1140. 1160. 1180. 1200.\n",
       " 1220. 1240. 1260. 1280. 1300. 1320. 1340. 1360. 1380. 1400. 1420. 1440.\n",
       " 1460. 1480. 1500. 1520. 1540. 1560. 1580. 1600.],\n",
       " unit=K)"
      ]
     },
     "execution_count": 6,
     "metadata": {},
     "output_type": "execute_result"
    }
   ],
   "source": [
    "results_spindynamics.T"
   ]
  },
  {
   "cell_type": "markdown",
   "id": "56aa63fa-25a6-49e4-9af9-5fd22911db54",
   "metadata": {},
   "source": [
    "To work with the data we can also get it as `pandas.DataFrame`. The dataframe only contains the values (not units)."
   ]
  },
  {
   "cell_type": "code",
   "execution_count": 7,
   "id": "48c0fe28-35e4-4880-9a98-739ed9302b08",
   "metadata": {},
   "outputs": [
    {
     "data": {
      "text/html": [
       "<div>\n",
       "<style scoped>\n",
       "    .dataframe tbody tr th:only-of-type {\n",
       "        vertical-align: middle;\n",
       "    }\n",
       "\n",
       "    .dataframe tbody tr th {\n",
       "        vertical-align: top;\n",
       "    }\n",
       "\n",
       "    .dataframe thead th {\n",
       "        text-align: right;\n",
       "    }\n",
       "</style>\n",
       "<table border=\"1\" class=\"dataframe\">\n",
       "  <thead>\n",
       "    <tr style=\"text-align: right;\">\n",
       "      <th></th>\n",
       "      <th>T</th>\n",
       "      <th>Ms</th>\n",
       "    </tr>\n",
       "  </thead>\n",
       "  <tbody>\n",
       "    <tr>\n",
       "      <th>0</th>\n",
       "      <td>20.0</td>\n",
       "      <td>1.160762e+06</td>\n",
       "    </tr>\n",
       "    <tr>\n",
       "      <th>1</th>\n",
       "      <td>40.0</td>\n",
       "      <td>1.152765e+06</td>\n",
       "    </tr>\n",
       "    <tr>\n",
       "      <th>2</th>\n",
       "      <td>60.0</td>\n",
       "      <td>1.144332e+06</td>\n",
       "    </tr>\n",
       "    <tr>\n",
       "      <th>3</th>\n",
       "      <td>80.0</td>\n",
       "      <td>1.136095e+06</td>\n",
       "    </tr>\n",
       "    <tr>\n",
       "      <th>4</th>\n",
       "      <td>100.0</td>\n",
       "      <td>1.128134e+06</td>\n",
       "    </tr>\n",
       "    <tr>\n",
       "      <th>...</th>\n",
       "      <td>...</td>\n",
       "      <td>...</td>\n",
       "    </tr>\n",
       "    <tr>\n",
       "      <th>75</th>\n",
       "      <td>1520.0</td>\n",
       "      <td>7.129165e+03</td>\n",
       "    </tr>\n",
       "    <tr>\n",
       "      <th>76</th>\n",
       "      <td>1540.0</td>\n",
       "      <td>6.674613e+03</td>\n",
       "    </tr>\n",
       "    <tr>\n",
       "      <th>77</th>\n",
       "      <td>1560.0</td>\n",
       "      <td>6.599177e+03</td>\n",
       "    </tr>\n",
       "    <tr>\n",
       "      <th>78</th>\n",
       "      <td>1580.0</td>\n",
       "      <td>6.616132e+03</td>\n",
       "    </tr>\n",
       "    <tr>\n",
       "      <th>79</th>\n",
       "      <td>1600.0</td>\n",
       "      <td>1.248421e+04</td>\n",
       "    </tr>\n",
       "  </tbody>\n",
       "</table>\n",
       "<p>80 rows × 2 columns</p>\n",
       "</div>"
      ],
      "text/plain": [
       "         T            Ms\n",
       "0     20.0  1.160762e+06\n",
       "1     40.0  1.152765e+06\n",
       "2     60.0  1.144332e+06\n",
       "3     80.0  1.136095e+06\n",
       "4    100.0  1.128134e+06\n",
       "..     ...           ...\n",
       "75  1520.0  7.129165e+03\n",
       "76  1540.0  6.674613e+03\n",
       "77  1560.0  6.599177e+03\n",
       "78  1580.0  6.616132e+03\n",
       "79  1600.0  1.248421e+04\n",
       "\n",
       "[80 rows x 2 columns]"
      ]
     },
     "execution_count": 7,
     "metadata": {},
     "output_type": "execute_result"
    }
   ],
   "source": [
    "results_spindynamics.dataframe"
   ]
  }
 ],
 "metadata": {
  "kernelspec": {
   "display_name": "Python 3 (ipykernel)",
   "language": "python",
   "name": "python3"
  },
  "language_info": {
   "codemirror_mode": {
    "name": "ipython",
    "version": 3
   },
   "file_extension": ".py",
   "mimetype": "text/x-python",
   "name": "python",
   "nbconvert_exporter": "python",
   "pygments_lexer": "ipython3",
   "version": "3.11.0"
  }
 },
 "nbformat": 4,
 "nbformat_minor": 5
}
