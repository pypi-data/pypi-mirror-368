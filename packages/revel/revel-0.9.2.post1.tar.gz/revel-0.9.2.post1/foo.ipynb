{
 "cells": [
  {
   "cell_type": "code",
   "execution_count": 8,
   "metadata": {},
   "outputs": [
    {
     "name": "stdout",
     "output_type": "stream",
     "text": [
      "bar"
     ]
    },
    {
     "data": {
      "text/plain": [
       "3"
      ]
     },
     "execution_count": 8,
     "metadata": {},
     "output_type": "execute_result"
    }
   ],
   "source": [
    "# from stream_tui import *\n",
    "import time\n",
    "from sys import stdout\n",
    "\n",
    "# line = print(\"foo\", dock=True)\n",
    "\n",
    "# bar = print(ProgressBar(max=100), dock=True)\n",
    "\n",
    "# for ii in range(100):\n",
    "#     bar.progress = ii\n",
    "#     time.sleep(0.01)\n",
    "\n",
    "\n",
    "stdout.write('foo')\n",
    "stdout.flush()\n",
    "stdout.write('\\r')\n",
    "stdout.write(\"bar\")"
   ]
  },
  {
   "cell_type": "code",
   "execution_count": 1,
   "metadata": {},
   "outputs": [
    {
     "data": {
      "text/html": [
       "<pre style=\"white-space:pre;overflow-x:auto;line-height:normal;font-family:Menlo,'DejaVu Sans Mono',consolas,'Courier New',monospace\">foo</pre>\n"
      ],
      "text/plain": [
       "foo"
      ]
     },
     "metadata": {},
     "output_type": "display_data"
    },
    {
     "name": "stdout",
     "output_type": "stream",
     "text": [
      "\r"
     ]
    },
    {
     "data": {
      "text/html": [
       "<pre style=\"white-space:pre;overflow-x:auto;line-height:normal;font-family:Menlo,'DejaVu Sans Mono',consolas,'Courier New',monospace\">bar</pre>\n"
      ],
      "text/plain": [
       "bar"
      ]
     },
     "metadata": {},
     "output_type": "display_data"
    }
   ],
   "source": [
    "from stream_tui import *\n",
    "\n",
    "line = print(\"foo\", dock=True)\n",
    "line.text = \"bar\"\n",
    "\n",
    "# bar = print(ProgressBar(max=100), dock=True)\n",
    "\n",
    "# for ii in range(100):\n",
    "#     bar.progress = ii\n",
    "#     time.sleep(0.01)"
   ]
  },
  {
   "cell_type": "code",
   "execution_count": null,
   "metadata": {},
   "outputs": [],
   "source": []
  }
 ],
 "metadata": {
  "kernelspec": {
   "display_name": ".venv",
   "language": "python",
   "name": "python3"
  },
  "language_info": {
   "codemirror_mode": {
    "name": "ipython",
    "version": 3
   },
   "file_extension": ".py",
   "mimetype": "text/x-python",
   "name": "python",
   "nbconvert_exporter": "python",
   "pygments_lexer": "ipython3",
   "version": "3.11.5"
  },
  "orig_nbformat": 4
 },
 "nbformat": 4,
 "nbformat_minor": 2
}
