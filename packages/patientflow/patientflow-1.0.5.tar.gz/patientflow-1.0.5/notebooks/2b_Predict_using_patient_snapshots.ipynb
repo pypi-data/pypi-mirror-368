{
    "cells": [
        {
            "cell_type": "markdown",
            "metadata": {},
            "source": [
                "# 2b. Make predictions using patient-level snapshots\n",
                "\n",
                "Now that the data have been prepared in snapshot form, we have a dataset of unfinished visits. The ultimate goal is to make predictions about whether an outcome of interest (e.g. admission, discharge) will happen within a prediction window. For now, I will use a simple outcome variable of admission or not, without worrying about when that admission happened. \n",
                "\n",
                "Everything shown here is standard modelling, but there are some important considerations when working with unfinished hospital visits.\n",
                "\n",
                "## Things to consider when training predictive models using snapshots\n",
                "\n",
                "**Random versus temporal splits**\n",
                "\n",
                "When dividing your data into training, validation and test sets, a random allocation can give an optimistic assessment of prospective model performance, as the model’s robustness to any temporal changes in patient characteristics, flow-outcomes or the relationships between these goes untested. A more robust approach for testing models intended for prospective use is to apply temporal splits, where you train on earlier data and validate/test on later data, mimicking how the model would be deployed in a real-world setting. I show the application of temporal splits here.\n",
                "\n",
                "**Multiple snapshots per visit**\n",
                "\n",
                "To use `patientflow` your data should be in snapshot form. I showed how to create this in the last notebook. I defined a series of prediction times, and then sampled finished visits to get snapshots that represent those visits while still in progress. When you follow this method, you may end up with multiple snapshots per patient visit. Is this OK, for your analysis? You will need to decide whether you include all snapshots from a single visit into the training, validation or testing of a predictive model. Snapshots from the same visit are inherently correlated, which may violate assumptions of the statistical or machine learning methods you are using. For this reason, we chose to sample only one snapshot per patient visit. \n",
                "\n",
                "**Multiple visits per patient**\n",
                "\n",
                "The patient identifier is also important, because if the same patient appears in training and test sets, there is the potential for data leakage. We took the decision to probabilistically allocate each patient to training, validation or test set, where the probability of being allocated to each set is in proportion to the number of visits they made in any of those time periods. \n",
                "\n",
                "`patientflow` includes functions to handle all of these considerations. I demonstrate them here.\n"
            ]
        },
        {
            "cell_type": "code",
            "execution_count": 1,
            "metadata": {},
            "outputs": [],
            "source": [
                "# Reload functions every time\n",
                "%load_ext autoreload \n",
                "%autoreload 2"
            ]
        },
        {
            "cell_type": "markdown",
            "metadata": {},
            "source": [
                "## Create fake snapshots\n",
                "\n",
                "See the previous notebook for more information about how this is done. "
            ]
        },
        {
            "cell_type": "code",
            "execution_count": 2,
            "metadata": {},
            "outputs": [
                {
                    "data": {
                        "text/html": [
                            "<div>\n",
                            "<style scoped>\n",
                            "    .dataframe tbody tr th:only-of-type {\n",
                            "        vertical-align: middle;\n",
                            "    }\n",
                            "\n",
                            "    .dataframe tbody tr th {\n",
                            "        vertical-align: top;\n",
                            "    }\n",
                            "\n",
                            "    .dataframe thead th {\n",
                            "        text-align: right;\n",
                            "    }\n",
                            "</style>\n",
                            "<table border=\"1\" class=\"dataframe\">\n",
                            "  <thead>\n",
                            "    <tr style=\"text-align: right;\">\n",
                            "      <th></th>\n",
                            "      <th>snapshot_date</th>\n",
                            "      <th>prediction_time</th>\n",
                            "      <th>patient_id</th>\n",
                            "      <th>visit_number</th>\n",
                            "      <th>is_admitted</th>\n",
                            "      <th>age</th>\n",
                            "      <th>latest_triage_score</th>\n",
                            "      <th>num_urinalysis_orders</th>\n",
                            "      <th>num_troponin_orders</th>\n",
                            "      <th>num_bmp_orders</th>\n",
                            "      <th>num_cbc_orders</th>\n",
                            "      <th>num_d-dimer_orders</th>\n",
                            "    </tr>\n",
                            "    <tr>\n",
                            "      <th>snapshot_id</th>\n",
                            "      <th></th>\n",
                            "      <th></th>\n",
                            "      <th></th>\n",
                            "      <th></th>\n",
                            "      <th></th>\n",
                            "      <th></th>\n",
                            "      <th></th>\n",
                            "      <th></th>\n",
                            "      <th></th>\n",
                            "      <th></th>\n",
                            "      <th></th>\n",
                            "      <th></th>\n",
                            "    </tr>\n",
                            "  </thead>\n",
                            "  <tbody>\n",
                            "    <tr>\n",
                            "      <th>0</th>\n",
                            "      <td>2023-01-01</td>\n",
                            "      <td>(6, 0)</td>\n",
                            "      <td>1958</td>\n",
                            "      <td>26</td>\n",
                            "      <td>0</td>\n",
                            "      <td>37</td>\n",
                            "      <td>5.0</td>\n",
                            "      <td>1</td>\n",
                            "      <td>1</td>\n",
                            "      <td>0</td>\n",
                            "      <td>0</td>\n",
                            "      <td>0</td>\n",
                            "    </tr>\n",
                            "    <tr>\n",
                            "      <th>1</th>\n",
                            "      <td>2023-01-01</td>\n",
                            "      <td>(9, 30)</td>\n",
                            "      <td>1958</td>\n",
                            "      <td>26</td>\n",
                            "      <td>0</td>\n",
                            "      <td>37</td>\n",
                            "      <td>5.0</td>\n",
                            "      <td>1</td>\n",
                            "      <td>1</td>\n",
                            "      <td>0</td>\n",
                            "      <td>0</td>\n",
                            "      <td>0</td>\n",
                            "    </tr>\n",
                            "    <tr>\n",
                            "      <th>2</th>\n",
                            "      <td>2023-01-01</td>\n",
                            "      <td>(9, 30)</td>\n",
                            "      <td>2782</td>\n",
                            "      <td>36</td>\n",
                            "      <td>1</td>\n",
                            "      <td>28</td>\n",
                            "      <td>3.0</td>\n",
                            "      <td>0</td>\n",
                            "      <td>1</td>\n",
                            "      <td>1</td>\n",
                            "      <td>1</td>\n",
                            "      <td>0</td>\n",
                            "    </tr>\n",
                            "    <tr>\n",
                            "      <th>3</th>\n",
                            "      <td>2023-01-01</td>\n",
                            "      <td>(9, 30)</td>\n",
                            "      <td>504</td>\n",
                            "      <td>42</td>\n",
                            "      <td>0</td>\n",
                            "      <td>43</td>\n",
                            "      <td>4.0</td>\n",
                            "      <td>0</td>\n",
                            "      <td>1</td>\n",
                            "      <td>0</td>\n",
                            "      <td>0</td>\n",
                            "      <td>0</td>\n",
                            "    </tr>\n",
                            "    <tr>\n",
                            "      <th>4</th>\n",
                            "      <td>2023-01-01</td>\n",
                            "      <td>(9, 30)</td>\n",
                            "      <td>2405</td>\n",
                            "      <td>29</td>\n",
                            "      <td>0</td>\n",
                            "      <td>28</td>\n",
                            "      <td>4.0</td>\n",
                            "      <td>0</td>\n",
                            "      <td>0</td>\n",
                            "      <td>0</td>\n",
                            "      <td>0</td>\n",
                            "      <td>0</td>\n",
                            "    </tr>\n",
                            "  </tbody>\n",
                            "</table>\n",
                            "</div>"
                        ],
                        "text/plain": [
                            "            snapshot_date prediction_time  patient_id  visit_number  \\\n",
                            "snapshot_id                                                           \n",
                            "0              2023-01-01          (6, 0)        1958            26   \n",
                            "1              2023-01-01         (9, 30)        1958            26   \n",
                            "2              2023-01-01         (9, 30)        2782            36   \n",
                            "3              2023-01-01         (9, 30)         504            42   \n",
                            "4              2023-01-01         (9, 30)        2405            29   \n",
                            "\n",
                            "             is_admitted  age  latest_triage_score  num_urinalysis_orders  \\\n",
                            "snapshot_id                                                                 \n",
                            "0                      0   37                  5.0                      1   \n",
                            "1                      0   37                  5.0                      1   \n",
                            "2                      1   28                  3.0                      0   \n",
                            "3                      0   43                  4.0                      0   \n",
                            "4                      0   28                  4.0                      0   \n",
                            "\n",
                            "             num_troponin_orders  num_bmp_orders  num_cbc_orders  \\\n",
                            "snapshot_id                                                        \n",
                            "0                              1               0               0   \n",
                            "1                              1               0               0   \n",
                            "2                              1               1               1   \n",
                            "3                              1               0               0   \n",
                            "4                              0               0               0   \n",
                            "\n",
                            "             num_d-dimer_orders  \n",
                            "snapshot_id                      \n",
                            "0                             0  \n",
                            "1                             0  \n",
                            "2                             0  \n",
                            "3                             0  \n",
                            "4                             0  "
                        ]
                    },
                    "execution_count": 2,
                    "metadata": {},
                    "output_type": "execute_result"
                }
            ],
            "source": [
                "from patientflow.generate import create_fake_snapshots\n",
                "prediction_times = [(6, 0), (9, 30), (12, 0), (15, 30), (22, 0)] \n",
                "snapshots_df=create_fake_snapshots(prediction_times=prediction_times, start_date='2023-01-01', end_date='2023-04-01')\n",
                "snapshots_df.head()"
            ]
        },
        {
            "cell_type": "markdown",
            "metadata": {},
            "source": [
                "## Train a model to predict the outcome of each snapshot\n",
                "\n",
                "We decided in our work at UCLH to train a different model for each prediction time in the day. That was a design-led decision; we wanted each model to be able to pick up different signals of the outcome at different times of day. You'll see the results of this in later notebooks where I show shap plots for models at different times of day. \n",
                "\n",
                "For now, let's train a model to predict admission for the 9:30 prediction time. \n",
                "\n",
                "I will specify that the triage scores are ordinal, to make use of sklearn's OrdinalEncoder to maintain the natural order of categories. \n",
                "\n",
                "I exclude columns that are not relevant to the prediction of probability of admission, including `snapshot_date` and `prediction_time`.\n",
                "\n",
                "### Create temporal splits\n",
                "\n",
                "The `create_temporal_splits()` function below will randomly allocate each patient_id to training, validation and test sets, where the probability of being allocated to each is in proportion to the number of visits they made in any of those time periods. \n"
            ]
        },
        {
            "cell_type": "code",
            "execution_count": 3,
            "metadata": {},
            "outputs": [
                {
                    "name": "stdout",
                    "output_type": "stream",
                    "text": [
                        "\n",
                        "Patient Set Overlaps (before random assignment):\n",
                        "Train-Valid: 0 of 2636\n",
                        "Valid-Test: 56 of 1851\n",
                        "Train-Test: 156 of 3061\n",
                        "All Sets: 0 of 3668 total patients\n",
                        "Split sizes: [3179, 1025, 2157]\n"
                    ]
                }
            ],
            "source": [
                "from datetime import date   \n",
                "from patientflow.prepare import create_temporal_splits\n",
                "\n",
                "# set the temporal split\n",
                "start_training_set = date(2023, 1, 1) \n",
                "start_validation_set = date(2023, 2, 15) # 6 week training set \n",
                "start_test_set = date(2023, 3, 1) # 2 week validation set \n",
                "end_test_set = date(2023, 4, 1) # 1 month test set\n",
                "\n",
                "# create the temporal splits\n",
                "train_visits, valid_visits, test_visits = create_temporal_splits(\n",
                "    snapshots_df,\n",
                "    start_training_set,\n",
                "    start_validation_set,\n",
                "    start_test_set,\n",
                "    end_test_set,\n",
                "    col_name=\"snapshot_date\", # states which column contains the date to use when making the splits \n",
                "    patient_id=\"patient_id\", # states which column contains the patient id to use when making the splits \n",
                "    visit_col=\"visit_number\", # states which column contains the visit number to use when making the splits \n",
                "\n",
                ")"
            ]
        },
        {
            "cell_type": "markdown",
            "metadata": {},
            "source": [
                "The function above returned information on the final size of each split, and on how many patients were found in more than one set. In this case, 29 patients were found in the validation and test set periods. Each of these patients has been probabilistically allocated to just one set. "
            ]
        },
        {
            "cell_type": "markdown",
            "metadata": {},
            "source": [
                "### Select one snapshot per visit\n",
                "\n",
                "You will need to decide whether you include all snapshots from a single visit into a predictive model.\n",
                "\n",
                "Since we train a different model for each prediction time, then any visits spanning more than 24 hours will have multiple rows. If your snapshots are drawn from visits to ED, this should hopefully not happen too often. If your snapshots are drawn from inpatient visits, then it is very likely that you will have multiple rows per patient. \n",
                "\n",
                "We took the decision to select one snapshot per visit at random. The function below gives you this option. If you specify `single_snapshot_per_visit` as True, the `train_classifier` function will expect a `visit_col` parameter. \n",
                "\n",
                "## Train a classifier to predict probability of admission\n",
                "\n",
                "Below I'm using `train_classifier()`, which is a wrapper on standard scikit-learn functions. There are a few parameters in this function to explain. \n",
                "\n",
                "- `grid`: specifies the grid to use in hyperparameter tuning.\n",
                "- `prediction_time`: is used to identify which patient snapshots to use for training.\n",
                "- `single_snapshot_per_visit`: if this is True, the function will randomly pick one snapshot for any visit, using `visit_col` as the column name that identifies the visit identifier. \n",
                "- `exclude_from_training_data`: certain columns in the data should not be used for training, including visit numbers and dates.\n",
                "- `ordinal_mappings`: the function makes use of SKLearn's Ordinal Mapping encoder.\n",
                "- `use_balanced_training`: in healthcare contexts, there are often fewer observations in the positive class. Set this to True for imbalanced samples (common for ED visits, when most patients are discharged, and for predicting inpatient discharge from hospital when most patients remain). It will downsample the negative class. \n",
                "- `calibrate_probabilities`: when you downsample the negative class, it is a good idea to calibrate the probabilities to account for this class imbalance. Setting this to True will use a sigmoid function to calibrate the predicted probabilities, ensuring they better reflect the probabilities in the original data distribution.\n",
                "- `calibration_method`: options are sigmoid or isotonic; I have found that sigmoid (the default) works better.\n",
                "- `evaluate_on_test`: by default, this is set to False so the function will only return performance metrics for the test set; it is good practice to evaluate on the test set only when happy with validation set performance\n",
                "\n",
                "By default, the function will use an XGBoost classifier, initialised with the hyperparameter grid provided, with log loss as the evaluation metric. Chronological cross-validation is used, with the best hyperparameters selected based on minimising log loss in the validation set. We chose XGBoost because it is quick to train, generally performs well, and handles missing values. \n",
                "\n",
                "If you wish to use a different classifier, you can use another argument:\n",
                "\n",
                "- `model_class` (not shown here):  You can pass your own model in an optional model_class argument, which expects classifier class (like XGBClassifier or other scikit-learn compatible classifiers) that can be instantiated and initialised by providing further parameters."
            ]
        },
        {
            "cell_type": "code",
            "execution_count": 5,
            "metadata": {},
            "outputs": [],
            "source": [
                "from patientflow.train.classifiers import train_classifier\n",
                "\n",
                "# exclude columns that are not needed for training\n",
                "exclude_from_training_data=['patient_id', 'visit_number', 'snapshot_date', 'prediction_time']\n",
                "\n",
                "# train the patient-level model\n",
                "model = train_classifier(\n",
                "    train_visits=train_visits,\n",
                "    valid_visits=valid_visits,\n",
                "    grid={\"n_estimators\": [20, 30, 40]},\n",
                "    prediction_time=(9, 30),\n",
                "    exclude_from_training_data=exclude_from_training_data,\n",
                "    ordinal_mappings={'latest_triage_score': [1, 2, 3, 4, 5]},\n",
                "    single_snapshot_per_visit=True,\n",
                "    visit_col='visit_number', # as we are using a single snapshot per visit, we need to specify which column contains the visit number\n",
                "    use_balanced_training=True,\n",
                "    calibrate_probabilities=True,\n",
                "    calibration_method='sigmoid',\n",
                "    evaluate_on_test=False, # by default, this is set to False; only evaluate on the test set when happy with validation set performance\n",
                ")\n"
            ]
        },
        {
            "cell_type": "markdown",
            "metadata": {},
            "source": [
                "## Inspecting the object returned by `train_classifier()`\n",
                "\n",
                "The function returns an object of type TrainedClassifer(). Meta data and metrics from the training process are returned with it. "
            ]
        },
        {
            "cell_type": "code",
            "execution_count": 6,
            "metadata": {},
            "outputs": [
                {
                    "name": "stdout",
                    "output_type": "stream",
                    "text": [
                        "Object returned is of type: <class 'patientflow.model_artifacts.TrainedClassifier'>\n",
                        "\n",
                        "The metadata from the training process are returned in the `training_results` attribute:\n"
                    ]
                },
                {
                    "data": {
                        "text/plain": [
                            "TrainingResults(prediction_time=(9, 30), training_info={'cv_trials': [HyperParameterTrial(parameters={'n_estimators': 20}, cv_results={'train_auc': np.float64(0.9863488774220018), 'train_logloss': np.float64(0.2345235821107298), 'train_auprc': np.float64(0.9839960012755344), 'valid_auc': np.float64(0.7404647983595354), 'valid_logloss': np.float64(0.6777401688701863), 'valid_auprc': np.float64(0.732305765806727)}), HyperParameterTrial(parameters={'n_estimators': 30}, cv_results={'train_auc': np.float64(0.9934036840041577), 'train_logloss': np.float64(0.19339304359858095), 'train_auprc': np.float64(0.992275317414658), 'valid_auc': np.float64(0.7414445203918889), 'valid_logloss': np.float64(0.7224622072494462), 'valid_auprc': np.float64(0.739694204530856)}), HyperParameterTrial(parameters={'n_estimators': 40}, cv_results={'train_auc': np.float64(0.9966901551317282), 'train_logloss': np.float64(0.16839291934975475), 'train_auprc': np.float64(0.9957460357414476), 'valid_auc': np.float64(0.7385623148781044), 'valid_logloss': np.float64(0.7471921775214785), 'valid_auprc': np.float64(0.7319157690354547)})], 'features': {'names': ['age', 'latest_triage_score', 'num_urinalysis_orders_0', 'num_urinalysis_orders_1', 'num_troponin_orders_0', 'num_troponin_orders_1', 'num_bmp_orders_0', 'num_bmp_orders_1', 'num_cbc_orders_0', 'num_cbc_orders_1', 'num_d-dimer_orders_0', 'num_d-dimer_orders_1'], 'importances': [0.07901821285486221, 0.50030118227005, 0.10778335481882095, 0.0, 0.06226950138807297, 0.0, 0.08132454752922058, 0.0, 0.049338143318891525, 0.0, 0.11996506154537201, 0.0], 'has_importance_values': True}, 'dataset_info': {'train_valid_test_set_no': {'train_set_no': 412, 'valid_set_no': 141, 'test_set_no': None}, 'train_valid_test_class_balance': {'y_train_class_balance': {1: 0.29854368932038833, 0: 0.7014563106796117}, 'y_valid_class_balance': {0: 0.7021276595744681, 1: 0.2978723404255319}, 'y_test_class_balance': None}}}, calibration_info={'method': 'sigmoid'}, test_results=None, balance_info={'is_balanced': True, 'original_size': 412, 'balanced_size': 246, 'original_positive_rate': np.float64(0.29854368932038833), 'balanced_positive_rate': np.float64(0.5), 'majority_to_minority_ratio': 1.0})"
                        ]
                    },
                    "execution_count": 6,
                    "metadata": {},
                    "output_type": "execute_result"
                }
            ],
            "source": [
                "print(f'Object returned is of type: {type(model)}')\n",
                "\n",
                "print(f'\\nThe metadata from the training process are returned in the `training_results` attribute:')\n",
                "model.training_results"
            ]
        },
        {
            "cell_type": "markdown",
            "metadata": {},
            "source": [
                "To get a better view of what is included within the results, here is a list of the fields returned: "
            ]
        },
        {
            "cell_type": "code",
            "execution_count": 7,
            "metadata": {},
            "outputs": [
                {
                    "name": "stdout",
                    "output_type": "stream",
                    "text": [
                        "\n",
                        "Dataclass fields in TrainingResults:\n",
                        "prediction_time\n",
                        "training_info\n",
                        "calibration_info\n",
                        "test_results\n",
                        "balance_info\n"
                    ]
                }
            ],
            "source": [
                "from dataclasses import fields\n",
                "print(\"\\nDataclass fields in TrainingResults:\")\n",
                "for field in fields(model.training_results):\n",
                "    print(field.name)"
            ]
        },
        {
            "cell_type": "markdown",
            "metadata": {},
            "source": [
                "The prediction time has been saved with the model. When the model's predict method is used, the method will that the requested prediction time and that of the model align. "
            ]
        },
        {
            "cell_type": "code",
            "execution_count": 9,
            "metadata": {},
            "outputs": [
                {
                    "name": "stdout",
                    "output_type": "stream",
                    "text": [
                        "The prediction time is: (9, 30)\n"
                    ]
                }
            ],
            "source": [
                "print(f'The prediction time is: {model.training_results.prediction_time}')"
            ]
        },
        {
            "cell_type": "markdown",
            "metadata": {},
            "source": [
                "An object called training_info contains information related to model training. To simplify the code below, I'll assign it to a variable called results. It will tell us the size and class balance of each set \n"
            ]
        },
        {
            "cell_type": "code",
            "execution_count": 11,
            "metadata": {},
            "outputs": [
                {
                    "name": "stdout",
                    "output_type": "stream",
                    "text": [
                        "The training_info object contains the following keys: dict_keys(['cv_trials', 'features', 'dataset_info'])\n",
                        "\n",
                        "Number in each set{'train_set_no': 412, 'valid_set_no': 141, 'test_set_no': None}\n",
                        "train: 70.1% neg, 29.9% pos\n",
                        "valid: 70.2% neg, 29.8% pos\n",
                        "test: None\n"
                    ]
                }
            ],
            "source": [
                "results = model.training_results.training_info\n",
                "\n",
                "print(f\"The training_info object contains the following keys: {results.keys()}\")\n",
                "\n",
                "print(f\"\\nNumber in each set{results['dataset_info']['train_valid_test_set_no']}\")\n",
                "\n",
                "def print_class_balance(d):\n",
                "    for k in d:\n",
                "        if d[k] is not None:\n",
                "            print(f\"{k.split('_')[1]}: {d[k][0]:.1%} neg, {d[k][1]:.1%} pos\")\n",
                "        else:\n",
                "            print(f\"{k.split('_')[1]}: None\")\n",
                "\n",
                "\n",
                "print_class_balance(results['dataset_info']['train_valid_test_class_balance'])"
            ]
        },
        {
            "cell_type": "markdown",
            "metadata": {},
            "source": [
                "Class balance information is also saved in the training_results, which will store information about the differences between the class balance when forcing the training set to be balanced"
            ]
        },
        {
            "cell_type": "code",
            "execution_count": 12,
            "metadata": {},
            "outputs": [
                {
                    "data": {
                        "text/plain": [
                            "{'is_balanced': True,\n",
                            " 'original_size': 412,\n",
                            " 'balanced_size': 246,\n",
                            " 'original_positive_rate': np.float64(0.29854368932038833),\n",
                            " 'balanced_positive_rate': np.float64(0.5),\n",
                            " 'majority_to_minority_ratio': 1.0}"
                        ]
                    },
                    "execution_count": 12,
                    "metadata": {},
                    "output_type": "execute_result"
                }
            ],
            "source": [
                "model.training_results.balance_info"
            ]
        },
        {
            "cell_type": "markdown",
            "metadata": {},
            "source": [
                "And the type of calibration done on balanced samples is saved in training_results also"
            ]
        },
        {
            "cell_type": "code",
            "execution_count": 17,
            "metadata": {},
            "outputs": [
                {
                    "data": {
                        "text/plain": [
                            "{'method': 'sigmoid'}"
                        ]
                    },
                    "execution_count": 17,
                    "metadata": {},
                    "output_type": "execute_result"
                }
            ],
            "source": [
                "model.training_results.calibration_info"
            ]
        },
        {
            "cell_type": "markdown",
            "metadata": {},
            "source": [
                "Results of hyperparameter tuning are saved in a HyperParameterTrial object"
            ]
        },
        {
            "cell_type": "code",
            "execution_count": 18,
            "metadata": {},
            "outputs": [
                {
                    "data": {
                        "text/plain": [
                            "[HyperParameterTrial(parameters={'n_estimators': 20}, cv_results={'train_auc': np.float64(0.9863488774220018), 'train_logloss': np.float64(0.2345235821107298), 'train_auprc': np.float64(0.9839960012755344), 'valid_auc': np.float64(0.7404647983595354), 'valid_logloss': np.float64(0.6777401688701863), 'valid_auprc': np.float64(0.732305765806727)}),\n",
                            " HyperParameterTrial(parameters={'n_estimators': 30}, cv_results={'train_auc': np.float64(0.9934036840041577), 'train_logloss': np.float64(0.19339304359858095), 'train_auprc': np.float64(0.992275317414658), 'valid_auc': np.float64(0.7414445203918889), 'valid_logloss': np.float64(0.7224622072494462), 'valid_auprc': np.float64(0.739694204530856)}),\n",
                            " HyperParameterTrial(parameters={'n_estimators': 40}, cv_results={'train_auc': np.float64(0.9966901551317282), 'train_logloss': np.float64(0.16839291934975475), 'train_auprc': np.float64(0.9957460357414476), 'valid_auc': np.float64(0.7385623148781044), 'valid_logloss': np.float64(0.7471921775214785), 'valid_auprc': np.float64(0.7319157690354547)})]"
                        ]
                    },
                    "execution_count": 18,
                    "metadata": {},
                    "output_type": "execute_result"
                }
            ],
            "source": [
                "# results are stored in a HyperParameterTrial object\n",
                "results['cv_trials']"
            ]
        },
        {
            "cell_type": "code",
            "execution_count": 19,
            "metadata": {},
            "outputs": [
                {
                    "name": "stdout",
                    "output_type": "stream",
                    "text": [
                        "The best parameters are: {'n_estimators': 20}\n"
                    ]
                }
            ],
            "source": [
                "\n",
                "# Find the trial with the lowest validation logloss\n",
                "best_trial = min(results[\"cv_trials\"], key=lambda trial: trial.cv_results['valid_logloss'])\n",
                "\n",
                "# print the best parameters\n",
                "print(f'The best parameters are: {best_trial.parameters}')"
            ]
        },
        {
            "cell_type": "markdown",
            "metadata": {},
            "source": [
                "Note that, by default, no test set results are returned by train_classifier. To see AUROC, log loss and AUPRC on the test set, change `evaluate_on_test` parameter to True above. "
            ]
        },
        {
            "cell_type": "code",
            "execution_count": 20,
            "metadata": {},
            "outputs": [
                {
                    "name": "stdout",
                    "output_type": "stream",
                    "text": [
                        "The results on the test set were:\n"
                    ]
                }
            ],
            "source": [
                "print(f'The results on the test set were:')\n",
                "model.training_results.test_results\n"
            ]
        },
        {
            "cell_type": "markdown",
            "metadata": {},
            "source": [
                "Note that each record in the snapshots dataframe is indexed by a unique snapshot_id. "
            ]
        },
        {
            "cell_type": "markdown",
            "metadata": {},
            "source": [
                "## Evaluating training results\n",
                "\n",
                "The following function enables you to plot the results of hyperparameter trials, which have been saved with the trained model. The input to the plot is a list of `HyperParameterTrial` instances containing validation set results and hyperparameter settings. Each trial's `cv_results` dictionary contains 'valid_auc' and 'valid_logloss' metrics, which have been computed for each hyperparameter configuration using the validation set.\n",
                "\n",
                "As I only including one hyperparameter in my grid, and the data is made up, the plots are not that informative. With real data and a full hyperparameter grid, figures like these can help you can iterate towards an optimal set of hyperparameters. "
            ]
        },
        {
            "cell_type": "code",
            "execution_count": 28,
            "metadata": {},
            "outputs": [
                {
                    "data": {
                        "image/png": "[encoded data removed]",
                        "text/plain": [
                            "<Figure size 1400x600 with 2 Axes>"
                        ]
                    },
                    "metadata": {},
                    "output_type": "display_data"
                }
            ],
            "source": [
                "from patientflow.viz.trial_results import plot_trial_results  \n",
                "\n",
                "plot_trial_results(trials_list = model.training_results.training_info['cv_trials'])"
            ]
        },
        {
            "cell_type": "markdown",
            "metadata": {},
            "source": [
                "## Summary\n",
                "\n",
                "Here I have shown how `patientflow` can help you\n",
                "\n",
                "* handle multiple snapshots per visit and multiple visits per patient\n",
                "* impose a temporal split on your training and test sets, allowing for the point above \n",
                "* train a model to predict some later outcome using functions that handle class imbalance and calibration\n",
                "* access various attributes of the model, that are saved as part of the model object\n",
                "* plot the results of hyperparameter tuning\n",
                "\n",
                "In the next notebook, I show how to evaluate models applied to patient snapshots. It is good practice to use your validation set results for the evaluations shown in this notebook and the next one, and to use the test set for evaluation only once you are satisified with your model."
            ]
        }
    ],
    "metadata": {
        "kernelspec": {
            "display_name": "patientflow",
            "language": "python",
            "name": "python3"
        },
        "language_info": {
            "codemirror_mode": {
                "name": "ipython",
                "version": 3
            },
            "file_extension": ".py",
            "mimetype": "text/x-python",
            "name": "python",
            "nbconvert_exporter": "python",
            "pygments_lexer": "ipython3",
            "version": "3.13.2"
        }
    },
    "nbformat": 4,
    "nbformat_minor": 2
}
