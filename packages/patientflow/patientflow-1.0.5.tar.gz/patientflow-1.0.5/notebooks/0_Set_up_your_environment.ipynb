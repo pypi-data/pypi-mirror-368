{
 "cells": [
  {
   "cell_type": "markdown",
   "metadata": {},
   "source": [
    "# 0. Set up your environment\n",
    "\n",
    "In this notebook I will \n",
    "\n",
    "* Suggest how to set up your environment. You might find the checks below useful to confirm that your environment has been set up correctly for the following notebooks to run. \n",
    "* Explain where the code expects to find data and where it saves media files by default. \n",
    "\n",
    "Model files are not saved by these notebooks. Models are re-run for each notebook, so the notebooks will work if run in any order. \n",
    "\n",
    "See also the [Notebooks README](README.md) in this folder for information about how to set the `project_root` variable. "
   ]
  },
  {
   "cell_type": "markdown",
   "metadata": {},
   "source": [
    "## Set notebook to reload functions every time a cell is run\n",
    "\n",
    "This is useful if you make any changes to any underlying code."
   ]
  },
  {
   "cell_type": "code",
   "execution_count": 1,
   "metadata": {},
   "outputs": [],
   "source": [
    "# Reload functions every time\n",
    "%load_ext autoreload \n",
    "%autoreload 2"
   ]
  },
  {
   "cell_type": "markdown",
   "metadata": {},
   "source": [
    "## Check that the patientflow package has been installed"
   ]
  },
  {
   "cell_type": "code",
   "execution_count": 2,
   "metadata": {},
   "outputs": [
    {
     "name": "stdout",
     "output_type": "stream",
     "text": [
      "✓ patientflow 0.2.0 imported successfully\n"
     ]
    }
   ],
   "source": [
    "try:\n",
    "   import patientflow\n",
    "   print(f\"✓ patientflow {patientflow.__version__} imported successfully\")\n",
    "except ImportError:\n",
    "   print(\"❌ patientflow not found - please install using one of the following methods:\")\n",
    "   print(\"   From PyPI: pip install patientflow\")\n",
    "   print(\"   For development: pip install -e '.[test]'\")\n",
    "except Exception as e:\n",
    "   print(f\"❌ Error: {e}\")"
   ]
  },
  {
   "cell_type": "markdown",
   "metadata": {},
   "source": [
    "## Set `project_root` variable \n",
    "\n",
    "The variable called `project_root` tells the notebooks where the patientflow repository resides on your computer. All paths in the notebooks are set relative to `project_root`. There are various ways to set it, which are described in the notebooks [README](README.md). "
   ]
  },
  {
   "cell_type": "code",
   "execution_count": 3,
   "metadata": {},
   "outputs": [
    {
     "name": "stdout",
     "output_type": "stream",
     "text": [
      "Inferred project root: /Users/zellaking/Repos/patientflow\n"
     ]
    }
   ],
   "source": [
    "from patientflow.load import set_project_root\n",
    "project_root = set_project_root()"
   ]
  },
  {
   "cell_type": "markdown",
   "metadata": {},
   "source": [
    "## Set file paths\n",
    "\n",
    "Now that you have set the project root, you can specify where the data will be loaded from, where images and models are saved, and where to load the config file from. By default, a function called `set_file_paths()` sets these as shown here. "
   ]
  },
  {
   "cell_type": "code",
   "execution_count": 4,
   "metadata": {},
   "outputs": [
    {
     "name": "stdout",
     "output_type": "stream",
     "text": [
      "patientflow version: 0.2.0\n",
      "Repository root: /Users/zellaking/Repos/patientflow\n",
      "✓ Synthetic data found\n"
     ]
    }
   ],
   "source": [
    "# Basic checks\n",
    "print(f\"patientflow version: {patientflow.__version__}\")\n",
    "print(f\"Repository root: {project_root}\")\n",
    "\n",
    "# Verify data access\n",
    "data_folder_name = 'data-synthetic'\n",
    "data_file_path = project_root / data_folder_name\n",
    "if data_file_path.exists():\n",
    "    print(\"✓ Synthetic data found\")\n",
    "else:\n",
    "    print(\"Synthetic data not found - check repository structure\")"
   ]
  },
  {
   "cell_type": "markdown",
   "metadata": {},
   "source": [
    "The`set_file_paths` function will set file paths to default values within the `patientflow` folder, as shown below. File paths for saving media and models are derived from the name of the data folder. \n",
    "\n",
    "In the notebooks that follow, no trained models are saved by default. All notebooks load data from `data_file_path` and train models from scratch. However, you may want to make use of `model_file_path` to save a model locally, especially they are time-consuming to run in your environment. \n",
    "\n",
    "The config.yaml file will be loaded from the root directory. It specifies training, validation and test set dates, and some other parameters that will be discussed later."
   ]
  },
  {
   "cell_type": "code",
   "execution_count": 13,
   "metadata": {},
   "outputs": [
    {
     "name": "stdout",
     "output_type": "stream",
     "text": [
      "Configuration will be loaded from: /Users/zellaking/Repos/patientflow/config.yaml\n",
      "Data files will be loaded from: /Users/zellaking/Repos/patientflow/data-synthetic\n",
      "Trained models will be saved to: /Users/zellaking/Repos/patientflow/trained-models/synthetic\n",
      "Images will be saved to: /Users/zellaking/Repos/patientflow/trained-models/synthetic/media\n"
     ]
    }
   ],
   "source": [
    "from patientflow.load import set_file_paths\n",
    "data_file_path, media_file_path, model_file_path, config_path = set_file_paths(project_root, \n",
    "               data_folder_name=data_folder_name)"
   ]
  },
  {
   "cell_type": "markdown",
   "metadata": {},
   "source": [
    "## Summary\n",
    "\n",
    "In this notebook I have shown:\n",
    "\n",
    "* How to configure your environment to run these notebooks\n",
    "* Where the notebooks expect to find data, and where they will save media file, by default\n"
   ]
  },
  {
   "cell_type": "markdown",
   "metadata": {},
   "source": []
  }
 ],
 "metadata": {
  "kernelspec": {
   "display_name": "patientflow",
   "language": "python",
   "name": "python3"
  },
  "language_info": {
   "codemirror_mode": {
    "name": "ipython",
    "version": 3
   },
   "file_extension": ".py",
   "mimetype": "text/x-python",
   "name": "python",
   "nbconvert_exporter": "python",
   "pygments_lexer": "ipython3",
   "version": "3.13.2"
  }
 },
 "nbformat": 4,
 "nbformat_minor": 2
}
