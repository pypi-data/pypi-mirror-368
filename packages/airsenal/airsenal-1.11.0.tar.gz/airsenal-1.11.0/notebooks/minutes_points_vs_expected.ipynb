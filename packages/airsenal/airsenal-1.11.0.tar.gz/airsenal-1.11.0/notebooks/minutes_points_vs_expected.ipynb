{
 "cells": [
  {
   "cell_type": "markdown",
   "id": "a633f417-eb2e-4984-87e8-ab702463bb12",
   "metadata": {},
   "source": [
    "Generated predicted minutes using the command: ```python airsenal/scripts/replay_season.py --gameweek_start 1 --gameweek_end 39 --weeks_ahead 5 --season 2425 --fpl_team_id 22222 --num_thread 1 --predictions_only```\n",
    "\n",
    "Compare the two points prediction calculated by two approaches:\n",
    "* look at last 5 matches recent minutes, for each one, calculate expected points, then average.\n",
    "* calculate average minutes, then expected points for that one."
   ]
  },
  {
   "cell_type": "code",
   "execution_count": 3,
   "id": "a2e5dcb5-ecc3-4cd8-a7bc-722e9130adb6",
   "metadata": {},
   "outputs": [
    {
     "ename": "ModuleNotFoundError",
     "evalue": "No module named 'matplotlib'",
     "output_type": "error",
     "traceback": [
      "\u001b[31m---------------------------------------------------------------------------\u001b[39m",
      "\u001b[31mModuleNotFoundError\u001b[39m                       Traceback (most recent call last)",
      "\u001b[36mCell\u001b[39m\u001b[36m \u001b[39m\u001b[32mIn[3]\u001b[39m\u001b[32m, line 1\u001b[39m\n\u001b[32m----> \u001b[39m\u001b[32m1\u001b[39m \u001b[38;5;28;01mimport\u001b[39;00m\u001b[38;5;250m \u001b[39m\u001b[34;01mmatplotlib\u001b[39;00m\u001b[34;01m.\u001b[39;00m\u001b[34;01mpyplot\u001b[39;00m\u001b[38;5;250m \u001b[39m\u001b[38;5;28;01mas\u001b[39;00m\u001b[38;5;250m \u001b[39m\u001b[34;01mplt\u001b[39;00m\n\u001b[32m      2\u001b[39m \u001b[38;5;28;01mimport\u001b[39;00m\u001b[38;5;250m \u001b[39m\u001b[34;01mpandas\u001b[39;00m\u001b[38;5;250m \u001b[39m\u001b[38;5;28;01mas\u001b[39;00m\u001b[38;5;250m \u001b[39m\u001b[34;01mpd\u001b[39;00m\n\u001b[32m      3\u001b[39m \u001b[38;5;28;01mfrom\u001b[39;00m\u001b[38;5;250m \u001b[39m\u001b[34;01mairsenal\u001b[39;00m\u001b[34;01m.\u001b[39;00m\u001b[34;01mframework\u001b[39;00m\u001b[34;01m.\u001b[39;00m\u001b[34;01mutils\u001b[39;00m\u001b[38;5;250m \u001b[39m\u001b[38;5;28;01mimport\u001b[39;00m *\n",
      "\u001b[31mModuleNotFoundError\u001b[39m: No module named 'matplotlib'"
     ]
    }
   ],
   "source": [
    "import matplotlib.pyplot as plt\n",
    "import pandas as pd\n",
    "from airsenal.framework.utils import *"
   ]
  },
  {
   "cell_type": "code",
   "execution_count": null,
   "id": "c4667284-23cc-4cfe-adae-eca0c0f5bf50",
   "metadata": {},
   "outputs": [],
   "source": [
    "preds = session.query(PlayerPrediction).all()"
   ]
  },
  {
   "cell_type": "code",
   "execution_count": null,
   "id": "2cb2f305-29c7-4805-9586-28f4434de588",
   "metadata": {},
   "outputs": [],
   "source": []
  }
 ],
 "metadata": {
  "kernelspec": {
   "display_name": "Python 3 (ipykernel)",
   "language": "python",
   "name": "python3"
  },
  "language_info": {
   "codemirror_mode": {
    "name": "ipython",
    "version": 3
   },
   "file_extension": ".py",
   "mimetype": "text/x-python",
   "name": "python",
   "nbconvert_exporter": "python",
   "pygments_lexer": "ipython3",
   "version": "3.11.11"
  }
 },
 "nbformat": 4,
 "nbformat_minor": 5
}
