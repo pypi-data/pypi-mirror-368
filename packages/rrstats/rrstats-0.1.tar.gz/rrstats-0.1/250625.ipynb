{
 "cells": [
  {
   "cell_type": "code",
   "execution_count": 10,
   "id": "b26ed47f",
   "metadata": {},
   "outputs": [
    {
     "data": {
      "text/plain": [
       "[-40,\n",
       " -5,\n",
       " 10,\n",
       " 13,\n",
       " 15,\n",
       " 19,\n",
       " 26,\n",
       " 28,\n",
       " 41,\n",
       " 58,\n",
       " 78,\n",
       " 85,\n",
       " 86,\n",
       " 89,\n",
       " 89,\n",
       " 91,\n",
       " 92,\n",
       " 101,\n",
       " 101,\n",
       " 1053]"
      ]
     },
     "execution_count": 10,
     "metadata": {},
     "output_type": "execute_result"
    }
   ],
   "source": [
    "S = [92, 19, 101, 58, 1053, 91, 26, 78, 10, 13, -40, 101, 86, 85, 15, 89, 89, 28, -5, 41]\n",
    "S.sort()\n",
    "S"
   ]
  },
  {
   "cell_type": "code",
   "execution_count": null,
   "id": "eeb7325c",
   "metadata": {},
   "outputs": [
    {
     "name": "stdout",
     "output_type": "stream",
     "text": [
      "58.75\n",
      "57.5625\n"
     ]
    }
   ],
   "source": [
    "# trimmed 20%\n",
    "print(sum(S[4:-4])/12)\n",
    "\n",
    "# trimeed 10%\n",
    "print(sum(S[2:-2])/16)\n",
    "\n"
   ]
  },
  {
   "cell_type": "code",
   "execution_count": 17,
   "id": "67e737d5",
   "metadata": {},
   "outputs": [
    {
     "name": "stdout",
     "output_type": "stream",
     "text": [
      "101.5\n"
     ]
    }
   ],
   "source": [
    "print(sum(S)/20)"
   ]
  },
  {
   "cell_type": "code",
   "execution_count": 18,
   "id": "0044e619",
   "metadata": {},
   "outputs": [
    {
     "name": "stdout",
     "output_type": "stream",
     "text": [
      "80.125\n"
     ]
    }
   ],
   "source": [
    "print((sum(S)/20 + sum(S[4:-4])/12)/2)"
   ]
  },
  {
   "cell_type": "code",
   "execution_count": 11,
   "id": "2fdfcd55",
   "metadata": {},
   "outputs": [
    {
     "data": {
      "text/plain": [
       "20"
      ]
     },
     "execution_count": 11,
     "metadata": {},
     "output_type": "execute_result"
    }
   ],
   "source": [
    "len(S)"
   ]
  },
  {
   "cell_type": "code",
   "execution_count": 9,
   "id": "a13b3fbc",
   "metadata": {},
   "outputs": [
    {
     "data": {
      "text/plain": [
       "18"
      ]
     },
     "execution_count": 9,
     "metadata": {},
     "output_type": "execute_result"
    }
   ],
   "source": [
    "len(S)"
   ]
  },
  {
   "cell_type": "code",
   "execution_count": 21,
   "id": "4a6604a7",
   "metadata": {},
   "outputs": [
    {
     "name": "stdout",
     "output_type": "stream",
     "text": [
      "8.75\n"
     ]
    }
   ],
   "source": [
    "from scipy import stats\n",
    "data = [2, 3, 5, 8, 10, 12, 14, 18]\n",
    "\n",
    "# 50% trimmed mean\n",
    "trimmed_mean = stats.trim_mean(data, 0.25)  # trims 25% from each side\n",
    "print(trimmed_mean)\n"
   ]
  },
  {
   "cell_type": "code",
   "execution_count": 45,
   "id": "b0adda4d",
   "metadata": {},
   "outputs": [
    {
     "data": {
      "text/plain": [
       "np.float64(8.333333333333334)"
      ]
     },
     "execution_count": 45,
     "metadata": {},
     "output_type": "execute_result"
    }
   ],
   "source": [
    "data = [1,3,4,5,18,19]\n",
    "stats.trim_mean(data,0)"
   ]
  },
  {
   "cell_type": "code",
   "execution_count": 24,
   "id": "c32de84a",
   "metadata": {},
   "outputs": [
    {
     "name": "stdout",
     "output_type": "stream",
     "text": [
      "3.5 6.0 7.5\n"
     ]
    }
   ],
   "source": [
    "import numpy as np\n",
    "\n",
    "data = [1, 5,6,7,8,9,2]\n",
    "\n",
    "# Get 25th, 50th (median), and 75th percentiles\n",
    "q25 = np.quantile(data, 0.25)\n",
    "q50 = np.quantile(data, 0.5)\n",
    "q75 = np.quantile(data, 0.75)\n",
    "\n",
    "print(q25, q50, q75)\n"
   ]
  },
  {
   "cell_type": "code",
   "execution_count": 29,
   "id": "37ee7869",
   "metadata": {},
   "outputs": [],
   "source": [
    "S = [92, 19, 101, 58, 1053, 91, 26, 78, 10, 13, -40, 101, 86, 85, 15, 89, 89, 28, -5, 41]"
   ]
  },
  {
   "cell_type": "code",
   "execution_count": 31,
   "id": "945dba5a",
   "metadata": {},
   "outputs": [
    {
     "name": "stdout",
     "output_type": "stream",
     "text": [
      "[-40, -5, 10, 13, 15, 19, 26, 28, 41, 58, 78, 85, 86, 89, 89, 91, 92, 101, 101, 1053]\n"
     ]
    }
   ],
   "source": [
    "print(sorted(S))"
   ]
  },
  {
   "cell_type": "code",
   "execution_count": 55,
   "id": "03b644f7",
   "metadata": {},
   "outputs": [
    {
     "data": {
      "text/plain": [
       "np.float64(1.75)"
      ]
     },
     "execution_count": 55,
     "metadata": {},
     "output_type": "execute_result"
    }
   ],
   "source": [
    "\n",
    "np.quantile(data,0.25,method=\"hazen\")"
   ]
  },
  {
   "cell_type": "code",
   "execution_count": 73,
   "id": "1ec828ba",
   "metadata": {},
   "outputs": [
    {
     "data": {
      "text/plain": [
       "[<matplotlib.lines.Line2D at 0x1b6826ace10>]"
      ]
     },
     "execution_count": 73,
     "metadata": {},
     "output_type": "execute_result"
    },
    {
     "data": {
      "image/png": "[encoded data removed]",
      "text/plain": [
       "<Figure size 640x480 with 1 Axes>"
      ]
     },
     "metadata": {},
     "output_type": "display_data"
    }
   ],
   "source": [
    "import matplotlib.pyplot as plt\n",
    "p = np.linspace(0,1,100)\n",
    "q = np.quantile(data,p)\n",
    "plt.plot(p,q)"
   ]
  },
  {
   "cell_type": "code",
   "execution_count": 44,
   "id": "700c60d0",
   "metadata": {},
   "outputs": [
    {
     "data": {
      "text/plain": [
       "8.333333333333334"
      ]
     },
     "execution_count": 44,
     "metadata": {},
     "output_type": "execute_result"
    }
   ],
   "source": [
    "sum(data)/6"
   ]
  },
  {
   "cell_type": "code",
   "execution_count": 28,
   "id": "fa0d18bf",
   "metadata": {},
   "outputs": [
    {
     "data": {
      "text/plain": [
       "7.25"
      ]
     },
     "execution_count": 28,
     "metadata": {},
     "output_type": "execute_result"
    }
   ],
   "source": [
    "(3+4+4+18)/4"
   ]
  },
  {
   "cell_type": "code",
   "execution_count": 69,
   "id": "a46befd0",
   "metadata": {},
   "outputs": [
    {
     "name": "stdout",
     "output_type": "stream",
     "text": [
      "[1.  2.  3.5 3.5 5. ]\n",
      "Percentile rank of 2 is 25.00%\n"
     ]
    }
   ],
   "source": [
    "from scipy.stats import rankdata\n",
    "\n",
    "data = [1, 2, 5, 5, 7]\n",
    "value = 2\n",
    "\n",
    "# Calculate rank\n",
    "ranks = rankdata(data, method='average')\n",
    "print(ranks)\n",
    "percentile_rank = (ranks[data.index(value)] - 1) / (len(data) - 1) * 100\n",
    "\n",
    "print(f\"Percentile rank of {value} is {percentile_rank:.2f}%\")\n"
   ]
  },
  {
   "cell_type": "code",
   "execution_count": null,
   "id": "96e072a7",
   "metadata": {},
   "outputs": [
    {
     "data": {
      "text/plain": [
       "np.float64(62.5)"
      ]
     },
     "execution_count": 14,
     "metadata": {},
     "output_type": "execute_result"
    }
   ],
   "source": [
    "from scipy.stats import percentileofscore\n",
    "import matplotlib.pyplot as plt\n",
    "data = [1, 2, 5, 5,7]\n",
    "percentileofscore(data, 5, kind=\"rank\")\n",
    "\n",
    "\n"
   ]
  },
  {
   "cell_type": "code",
   "execution_count": 20,
   "id": "670f414f",
   "metadata": {},
   "outputs": [
    {
     "name": "stdout",
     "output_type": "stream",
     "text": [
      "41.66666666666667\n"
     ]
    }
   ],
   "source": [
    "from scipy.stats import percentileofscore\n",
    "\n",
    "data = [10, 20, 20, 20, 30, 40]\n",
    "score = 20\n",
    "\n",
    "percentile = percentileofscore(data, score, kind='mean')\n",
    "print(percentile)  # → 66.666..."
   ]
  },
  {
   "cell_type": "code",
   "execution_count": null,
   "id": "000fc084",
   "metadata": {},
   "outputs": [
    {
     "data": {
      "text/plain": [
       "50"
      ]
     },
     "execution_count": 105,
     "metadata": {},
     "output_type": "execute_result"
    }
   ],
   "source": [
    "np.quantile()"
   ]
  },
  {
   "cell_type": "code",
   "execution_count": 22,
   "id": "a4294716",
   "metadata": {},
   "outputs": [
    {
     "ename": "ImportError",
     "evalue": "cannot import name 'mquantiles' from 'scipy.stats' (C:\\Users\\rrrad\\AppData\\Roaming\\Python\\Python313\\site-packages\\scipy\\stats\\__init__.py)",
     "output_type": "error",
     "traceback": [
      "\u001b[31m---------------------------------------------------------------------------\u001b[39m",
      "\u001b[31mImportError\u001b[39m                               Traceback (most recent call last)",
      "\u001b[36mCell\u001b[39m\u001b[36m \u001b[39m\u001b[32mIn[22]\u001b[39m\u001b[32m, line 1\u001b[39m\n\u001b[32m----> \u001b[39m\u001b[32m1\u001b[39m \u001b[38;5;28;01mfrom\u001b[39;00m\u001b[38;5;250m \u001b[39m\u001b[34;01mscipy\u001b[39;00m\u001b[34;01m.\u001b[39;00m\u001b[34;01mstats\u001b[39;00m\u001b[38;5;250m \u001b[39m\u001b[38;5;28;01mimport\u001b[39;00m mquantiles\n",
      "\u001b[31mImportError\u001b[39m: cannot import name 'mquantiles' from 'scipy.stats' (C:\\Users\\rrrad\\AppData\\Roaming\\Python\\Python313\\site-packages\\scipy\\stats\\__init__.py)"
     ]
    }
   ],
   "source": [
    "from scipy.stats import mquantiles"
   ]
  },
  {
   "cell_type": "code",
   "execution_count": 21,
   "id": "fc206284",
   "metadata": {},
   "outputs": [
    {
     "data": {
      "text/plain": [
       "0.4166666666666667"
      ]
     },
     "execution_count": 21,
     "metadata": {},
     "output_type": "execute_result"
    }
   ],
   "source": [
    "2.5/6"
   ]
  },
  {
   "cell_type": "code",
   "execution_count": 6,
   "id": "e36da4b8",
   "metadata": {},
   "outputs": [
    {
     "data": {
      "text/plain": [
       "array([ 0.        ,  0.02506266,  0.05012531,  0.07518797,  0.10025063,\n",
       "        0.12531328,  0.15037594,  0.1754386 ,  0.20050125,  0.22556391,\n",
       "        0.25062657,  0.27568922,  0.30075188,  0.32581454,  0.35087719,\n",
       "        0.37593985,  0.40100251,  0.42606516,  0.45112782,  0.47619048,\n",
       "        0.50125313,  0.52631579,  0.55137845,  0.5764411 ,  0.60150376,\n",
       "        0.62656642,  0.65162907,  0.67669173,  0.70175439,  0.72681704,\n",
       "        0.7518797 ,  0.77694236,  0.80200501,  0.82706767,  0.85213033,\n",
       "        0.87719298,  0.90225564,  0.9273183 ,  0.95238095,  0.97744361,\n",
       "        1.00250627,  1.02756892,  1.05263158,  1.07769424,  1.10275689,\n",
       "        1.12781955,  1.15288221,  1.17794486,  1.20300752,  1.22807018,\n",
       "        1.25313283,  1.27819549,  1.30325815,  1.3283208 ,  1.35338346,\n",
       "        1.37844612,  1.40350877,  1.42857143,  1.45363409,  1.47869674,\n",
       "        1.5037594 ,  1.52882206,  1.55388471,  1.57894737,  1.60401003,\n",
       "        1.62907268,  1.65413534,  1.67919799,  1.70426065,  1.72932331,\n",
       "        1.75438596,  1.77944862,  1.80451128,  1.82957393,  1.85463659,\n",
       "        1.87969925,  1.9047619 ,  1.92982456,  1.95488722,  1.97994987,\n",
       "        2.00501253,  2.03007519,  2.05513784,  2.0802005 ,  2.10526316,\n",
       "        2.13032581,  2.15538847,  2.18045113,  2.20551378,  2.23057644,\n",
       "        2.2556391 ,  2.28070175,  2.30576441,  2.33082707,  2.35588972,\n",
       "        2.38095238,  2.40601504,  2.43107769,  2.45614035,  2.48120301,\n",
       "        2.50626566,  2.53132832,  2.55639098,  2.58145363,  2.60651629,\n",
       "        2.63157895,  2.6566416 ,  2.68170426,  2.70676692,  2.73182957,\n",
       "        2.75689223,  2.78195489,  2.80701754,  2.8320802 ,  2.85714286,\n",
       "        2.88220551,  2.90726817,  2.93233083,  2.95739348,  2.98245614,\n",
       "        3.0075188 ,  3.03258145,  3.05764411,  3.08270677,  3.10776942,\n",
       "        3.13283208,  3.15789474,  3.18295739,  3.20802005,  3.23308271,\n",
       "        3.25814536,  3.28320802,  3.30827068,  3.33333333,  3.35839599,\n",
       "        3.38345865,  3.4085213 ,  3.43358396,  3.45864662,  3.48370927,\n",
       "        3.50877193,  3.53383459,  3.55889724,  3.5839599 ,  3.60902256,\n",
       "        3.63408521,  3.65914787,  3.68421053,  3.70927318,  3.73433584,\n",
       "        3.7593985 ,  3.78446115,  3.80952381,  3.83458647,  3.85964912,\n",
       "        3.88471178,  3.90977444,  3.93483709,  3.95989975,  3.98496241,\n",
       "        4.01002506,  4.03508772,  4.06015038,  4.08521303,  4.11027569,\n",
       "        4.13533835,  4.160401  ,  4.18546366,  4.21052632,  4.23558897,\n",
       "        4.26065163,  4.28571429,  4.31077694,  4.3358396 ,  4.36090226,\n",
       "        4.38596491,  4.41102757,  4.43609023,  4.46115288,  4.48621554,\n",
       "        4.5112782 ,  4.53634085,  4.56140351,  4.58646617,  4.61152882,\n",
       "        4.63659148,  4.66165414,  4.68671679,  4.71177945,  4.73684211,\n",
       "        4.76190476,  4.78696742,  4.81203008,  4.83709273,  4.86215539,\n",
       "        4.88721805,  4.9122807 ,  4.93734336,  4.96240602,  4.98746867,\n",
       "        5.01253133,  5.03759398,  5.06265664,  5.0877193 ,  5.11278195,\n",
       "        5.13784461,  5.16290727,  5.18796992,  5.21303258,  5.23809524,\n",
       "        5.26315789,  5.28822055,  5.31328321,  5.33834586,  5.36340852,\n",
       "        5.38847118,  5.41353383,  5.43859649,  5.46365915,  5.4887218 ,\n",
       "        5.51378446,  5.53884712,  5.56390977,  5.58897243,  5.61403509,\n",
       "        5.63909774,  5.6641604 ,  5.68922306,  5.71428571,  5.73934837,\n",
       "        5.76441103,  5.78947368,  5.81453634,  5.839599  ,  5.86466165,\n",
       "        5.88972431,  5.91478697,  5.93984962,  5.96491228,  5.98997494,\n",
       "        6.01503759,  6.04010025,  6.06516291,  6.09022556,  6.11528822,\n",
       "        6.14035088,  6.16541353,  6.19047619,  6.21553885,  6.2406015 ,\n",
       "        6.26566416,  6.29072682,  6.31578947,  6.34085213,  6.36591479,\n",
       "        6.39097744,  6.4160401 ,  6.44110276,  6.46616541,  6.49122807,\n",
       "        6.51629073,  6.54135338,  6.56641604,  6.5914787 ,  6.61654135,\n",
       "        6.64160401,  6.66666667,  6.69172932,  6.71679198,  6.74185464,\n",
       "        6.76691729,  6.79197995,  6.81704261,  6.84210526,  6.86716792,\n",
       "        6.89223058,  6.91729323,  6.94235589,  6.96741855,  6.9924812 ,\n",
       "        7.01754386,  7.04260652,  7.06766917,  7.09273183,  7.11779449,\n",
       "        7.14285714,  7.1679198 ,  7.19298246,  7.21804511,  7.24310777,\n",
       "        7.26817043,  7.29323308,  7.31829574,  7.3433584 ,  7.36842105,\n",
       "        7.39348371,  7.41854637,  7.44360902,  7.46867168,  7.49373434,\n",
       "        7.51879699,  7.54385965,  7.56892231,  7.59398496,  7.61904762,\n",
       "        7.64411028,  7.66917293,  7.69423559,  7.71929825,  7.7443609 ,\n",
       "        7.76942356,  7.79448622,  7.81954887,  7.84461153,  7.86967419,\n",
       "        7.89473684,  7.9197995 ,  7.94486216,  7.96992481,  7.99498747,\n",
       "        8.02005013,  8.04511278,  8.07017544,  8.0952381 ,  8.12030075,\n",
       "        8.14536341,  8.17042607,  8.19548872,  8.22055138,  8.24561404,\n",
       "        8.27067669,  8.29573935,  8.32080201,  8.34586466,  8.37092732,\n",
       "        8.39598997,  8.42105263,  8.44611529,  8.47117794,  8.4962406 ,\n",
       "        8.52130326,  8.54636591,  8.57142857,  8.59649123,  8.62155388,\n",
       "        8.64661654,  8.6716792 ,  8.69674185,  8.72180451,  8.74686717,\n",
       "        8.77192982,  8.79699248,  8.82205514,  8.84711779,  8.87218045,\n",
       "        8.89724311,  8.92230576,  8.94736842,  8.97243108,  8.99749373,\n",
       "        9.02255639,  9.04761905,  9.0726817 ,  9.09774436,  9.12280702,\n",
       "        9.14786967,  9.17293233,  9.19799499,  9.22305764,  9.2481203 ,\n",
       "        9.27318296,  9.29824561,  9.32330827,  9.34837093,  9.37343358,\n",
       "        9.39849624,  9.4235589 ,  9.44862155,  9.47368421,  9.49874687,\n",
       "        9.52380952,  9.54887218,  9.57393484,  9.59899749,  9.62406015,\n",
       "        9.64912281,  9.67418546,  9.69924812,  9.72431078,  9.74937343,\n",
       "        9.77443609,  9.79949875,  9.8245614 ,  9.84962406,  9.87468672,\n",
       "        9.89974937,  9.92481203,  9.94987469,  9.97493734, 10.        ])"
      ]
     },
     "execution_count": 6,
     "metadata": {},
     "output_type": "execute_result"
    }
   ],
   "source": [
    "import numpy as np\n",
    "np.linspace(0,10,400)"
   ]
  },
  {
   "cell_type": "code",
   "execution_count": null,
   "id": "760256bf",
   "metadata": {},
   "outputs": [
    {
     "data": {
      "text/plain": [
       "0.02506265664160401"
      ]
     },
     "execution_count": 7,
     "metadata": {},
     "output_type": "execute_result"
    }
   ],
   "source": [
    "(10-0)/(400-1) # step size"
   ]
  },
  {
   "cell_type": "code",
   "execution_count": 23,
   "id": "e76068e9",
   "metadata": {},
   "outputs": [],
   "source": [
    "from scipy.stats.mstats import mquantiles"
   ]
  },
  {
   "cell_type": "code",
   "execution_count": null,
   "id": "6b5adfcc",
   "metadata": {},
   "outputs": [
    {
     "data": {
      "text/plain": [
       "array([1.7, 5. , 5.6])"
      ]
     },
     "execution_count": 26,
     "metadata": {},
     "output_type": "execute_result"
    }
   ],
   "source": [
    "a = np.array([1,2,5,5,7])\n",
    "mquantiles(a, [0.25, 0.5, 0.75])"
   ]
  },
  {
   "cell_type": "code",
   "execution_count": 1,
   "id": "7a961c61",
   "metadata": {},
   "outputs": [
    {
     "data": {
      "image/png": "[encoded data removed]",
      "text/plain": [
       "<Figure size 640x480 with 3 Axes>"
      ]
     },
     "metadata": {},
     "output_type": "display_data"
    }
   ],
   "source": [
    "import matplotlib.pyplot as plt\n",
    "import numpy as np\n",
    "from matplotlib.widgets import Slider\n",
    "from matplotlib.widgets import CheckButtons\n",
    "\n",
    "#S = np.array([1,2,5,5,7])\n",
    "S = np.array([-40, -5, 10, 13, 15, 19, 26, 28, 41, 58, 78, 85, 86, 89, 89, 91, 92, 101, 101, 1053])\n",
    "n_init = 19\n",
    "N = len(S)\n",
    "\n",
    "fig, ax = plt.subplots()\n",
    "plt.subplots_adjust(bottom=0.25,left=0.25)\n",
    "\n",
    "methods = [\n",
    "    \"inverted_cdf\",\n",
    "    \"averaged_inverted_cdf\",\n",
    "    \"closest_observation\",\n",
    "    \"interpolated_inverted_cdf\",\n",
    "    \"hazen\",\n",
    "    \"weibull\",\n",
    "    \"linear\",\n",
    "    \"median_unbiased\",\n",
    "    \"normal_unbiased\",\n",
    "]\n",
    "plots = {}\n",
    "\n",
    "# SLIDER\n",
    "ax_slider = plt.axes((0.25,0.1,0.65,0.03))\n",
    "slider = Slider(\n",
    "    ax=ax_slider,\n",
    "    label=\"n\",\n",
    "    valmin=1,\n",
    "    valmax=N,\n",
    "    valinit=n_init,\n",
    "    valstep=1\n",
    ")\n",
    "\n",
    "def update(n,setup=False):\n",
    "    p_values = np.linspace(0,1,401)\n",
    "    sub_scores = S[:n]\n",
    "    for method in methods:\n",
    "        q_values = np.quantile(sub_scores,q=p_values,method=method)\n",
    "        if setup:\n",
    "            plots[method] = ax.scatter(p_values, q_values, label=method, s=10)\n",
    "            #plots[method], = ax.plot(p_values, q_values, label=method)\n",
    "        else:\n",
    "            #print(np.c_[p_values, q_values])\n",
    "            #plots[method].set_data(p_values,q_values)\n",
    "            plots[method].set_offsets(p_values, q_values)\n",
    "    \n",
    "    \n",
    "    ax.relim()\n",
    "    ax.autoscale_view()\n",
    "\n",
    "    fig.canvas.draw_idle()\n",
    "\n",
    "update(n_init,True)\n",
    "slider.on_changed(update)\n",
    "ax.legend()\n",
    "ax.grid(True)\n",
    "\n",
    "rax = plt.axes((0,0.1, 0.18, 0.50))\n",
    "\n",
    "check = CheckButtons(rax,methods,[True]*len(methods))\n",
    "\n",
    "def checked_box(label):\n",
    "    plots[label].set_visible(not plots[label].get_visible())\n",
    "    plt.draw()\n",
    "\n",
    "check.on_clicked(checked_box)\n",
    "plt.show()\n"
   ]
  },
  {
   "cell_type": "code",
   "execution_count": 2,
   "id": "a329c7d4",
   "metadata": {},
   "outputs": [],
   "source": [
    "plot = plots[\"inverted_cdf\"]"
   ]
  },
  {
   "cell_type": "code",
   "execution_count": 6,
   "id": "97c35868",
   "metadata": {},
   "outputs": [
    {
     "name": "stdout",
     "output_type": "stream",
     "text": [
      "Help on method set_offsets in module matplotlib.collections:\n",
      "\n",
      "set_offsets(offsets) method of matplotlib.collections.PathCollection instance\n",
      "    Set the offsets for the collection.\n",
      "\n",
      "    Parameters\n",
      "    ----------\n",
      "    offsets : (N, 2) or (2,) array-like\n",
      "\n"
     ]
    }
   ],
   "source": [
    "help(plot.set_offsets)"
   ]
  },
  {
   "cell_type": "code",
   "execution_count": 21,
   "id": "0d73de36",
   "metadata": {},
   "outputs": [
    {
     "data": {
      "image/png": "[encoded data removed]",
      "text/plain": [
       "<Figure size 640x480 with 1 Axes>"
      ]
     },
     "metadata": {},
     "output_type": "display_data"
    }
   ],
   "source": [
    "plot = plt.plot([1,3,4],[4,5,6],[1,4,3],marker='o', linestyle='')\n",
    "plt.show()"
   ]
  },
  {
   "cell_type": "code",
   "execution_count": null,
   "id": "0ce85007",
   "metadata": {},
   "outputs": [],
   "source": [
    "help(plt.plot)"
   ]
  },
  {
   "cell_type": "code",
   "execution_count": 20,
   "id": "8a70d64f",
   "metadata": {},
   "outputs": [
    {
     "data": {
      "text/plain": [
       "[<matplotlib.lines.Line2D at 0x1bc9993c550>,\n",
       " <matplotlib.lines.Line2D at 0x1bc9993c690>]"
      ]
     },
     "execution_count": 20,
     "metadata": {},
     "output_type": "execute_result"
    }
   ],
   "source": [
    "plot"
   ]
  },
  {
   "cell_type": "code",
   "execution_count": 8,
   "id": "27f4afce",
   "metadata": {},
   "outputs": [
    {
     "data": {
      "text/plain": [
       "<matplotlib.collections.PathCollection at 0x1bc96839310>"
      ]
     },
     "execution_count": 8,
     "metadata": {},
     "output_type": "execute_result"
    },
    {
     "data": {
      "image/png": "[encoded data removed]",
      "text/plain": [
       "<Figure size 640x480 with 1 Axes>"
      ]
     },
     "metadata": {},
     "output_type": "display_data"
    }
   ],
   "source": [
    "plt.scatter([1,2,3],[4,5,6])"
   ]
  },
  {
   "cell_type": "code",
   "execution_count": 12,
   "id": "7c60393b",
   "metadata": {},
   "outputs": [
    {
     "ename": "TypeError",
     "evalue": "scatter() missing 2 required positional arguments: 'x' and 'y'",
     "output_type": "error",
     "traceback": [
      "\u001b[31m---------------------------------------------------------------------------\u001b[39m",
      "\u001b[31mTypeError\u001b[39m                                 Traceback (most recent call last)",
      "\u001b[36mCell\u001b[39m\u001b[36m \u001b[39m\u001b[32mIn[12]\u001b[39m\u001b[32m, line 1\u001b[39m\n\u001b[32m----> \u001b[39m\u001b[32m1\u001b[39m \u001b[43mplt\u001b[49m\u001b[43m.\u001b[49m\u001b[43mscatter\u001b[49m\u001b[43m(\u001b[49m\u001b[43m)\u001b[49m\n",
      "\u001b[36mFile \u001b[39m\u001b[32m~\\AppData\\Roaming\\Python\\Python313\\site-packages\\matplotlib\\_api\\deprecation.py:453\u001b[39m, in \u001b[36mmake_keyword_only.<locals>.wrapper\u001b[39m\u001b[34m(*args, **kwargs)\u001b[39m\n\u001b[32m    447\u001b[39m \u001b[38;5;28;01mif\u001b[39;00m \u001b[38;5;28mlen\u001b[39m(args) > name_idx:\n\u001b[32m    448\u001b[39m     warn_deprecated(\n\u001b[32m    449\u001b[39m         since, message=\u001b[33m\"\u001b[39m\u001b[33mPassing the \u001b[39m\u001b[38;5;132;01m%(name)s\u001b[39;00m\u001b[33m \u001b[39m\u001b[38;5;132;01m%(obj_type)s\u001b[39;00m\u001b[33m \u001b[39m\u001b[33m\"\u001b[39m\n\u001b[32m    450\u001b[39m         \u001b[33m\"\u001b[39m\u001b[33mpositionally is deprecated since Matplotlib \u001b[39m\u001b[38;5;132;01m%(since)s\u001b[39;00m\u001b[33m; the \u001b[39m\u001b[33m\"\u001b[39m\n\u001b[32m    451\u001b[39m         \u001b[33m\"\u001b[39m\u001b[33mparameter will become keyword-only in \u001b[39m\u001b[38;5;132;01m%(removal)s\u001b[39;00m\u001b[33m.\u001b[39m\u001b[33m\"\u001b[39m,\n\u001b[32m    452\u001b[39m         name=name, obj_type=\u001b[33mf\u001b[39m\u001b[33m\"\u001b[39m\u001b[33mparameter of \u001b[39m\u001b[38;5;132;01m{\u001b[39;00mfunc.\u001b[34m__name__\u001b[39m\u001b[38;5;132;01m}\u001b[39;00m\u001b[33m()\u001b[39m\u001b[33m\"\u001b[39m)\n\u001b[32m--> \u001b[39m\u001b[32m453\u001b[39m \u001b[38;5;28;01mreturn\u001b[39;00m \u001b[43mfunc\u001b[49m\u001b[43m(\u001b[49m\u001b[43m*\u001b[49m\u001b[43margs\u001b[49m\u001b[43m,\u001b[49m\u001b[43m \u001b[49m\u001b[43m*\u001b[49m\u001b[43m*\u001b[49m\u001b[43mkwargs\u001b[49m\u001b[43m)\u001b[49m\n",
      "\u001b[31mTypeError\u001b[39m: scatter() missing 2 required positional arguments: 'x' and 'y'"
     ]
    }
   ],
   "source": [
    "plt.scatter()"
   ]
  },
  {
   "cell_type": "code",
   "execution_count": 8,
   "id": "58ea69e3",
   "metadata": {},
   "outputs": [
    {
     "name": "stdout",
     "output_type": "stream",
     "text": [
      "inverted_cdf           → 1053.000\n",
      "averaged_inverted_cdf  → 1053.000\n",
      "closest_observation    → 1053.000\n",
      "hazen                  → 1053.000\n",
      "weibull                → 1053.000\n",
      "linear                 → 1053.000\n",
      "median_unbiased        → 1053.000\n",
      "normal_unbiased        → 1053.000\n"
     ]
    }
   ],
   "source": [
    "import numpy as np\n",
    "\n",
    "data = [-40, -5, 10, 13, 15, 19, 26, 28, 41, 58, 78, 85, 86, 89, 89, 91, 92, 101, 101, 1053]\n",
    "\n",
    "p = 1\n",
    "\n",
    "for method in ['inverted_cdf', 'averaged_inverted_cdf', 'closest_observation',\n",
    "               'hazen', 'weibull', 'linear', 'median_unbiased', 'normal_unbiased']:\n",
    "    val = np.quantile(data, p, method=method)\n",
    "    print(f\"{method:22s} → {val:.3f}\")\n"
   ]
  },
  {
   "cell_type": "code",
   "execution_count": 43,
   "id": "0a58c149",
   "metadata": {},
   "outputs": [
    {
     "name": "stdout",
     "output_type": "stream",
     "text": [
      "inverted_cdf           → 2.000\n",
      "averaged_inverted_cdf  → 2.500\n",
      "closest_observation    → 2.000\n",
      "hazen                  → 2.500\n",
      "weibull                → 2.400\n",
      "linear                 → 2.600\n",
      "median_unbiased        → 2.467\n",
      "normal_unbiased        → 2.475\n"
     ]
    }
   ],
   "source": [
    "import numpy as np\n",
    "\n",
    "data = [1, 2, 3, 4, 5]\n",
    "p = 0.4\n",
    "\n",
    "for method in ['inverted_cdf', 'averaged_inverted_cdf', 'closest_observation',\n",
    "               'hazen', 'weibull', 'linear', 'median_unbiased', 'normal_unbiased']:\n",
    "    val = np.quantile(data, p, method=method)\n",
    "    print(f\"{method:22s} → {val:.3f}\")\n"
   ]
  }
 ],
 "metadata": {
  "kernelspec": {
   "display_name": "Python 3",
   "language": "python",
   "name": "python3"
  },
  "language_info": {
   "codemirror_mode": {
    "name": "ipython",
    "version": 3
   },
   "file_extension": ".py",
   "mimetype": "text/x-python",
   "name": "python",
   "nbconvert_exporter": "python",
   "pygments_lexer": "ipython3",
   "version": "3.13.3"
  }
 },
 "nbformat": 4,
 "nbformat_minor": 5
}
