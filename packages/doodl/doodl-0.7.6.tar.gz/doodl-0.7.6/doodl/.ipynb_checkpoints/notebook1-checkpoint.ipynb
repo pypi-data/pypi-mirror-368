{
 "cells": [
  {
   "cell_type": "code",
   "execution_count": 1,
   "id": "bbfafb1b-6eb0-415b-80ec-aac53c949659",
   "metadata": {},
   "outputs": [
    {
     "name": "stdout",
     "output_type": "stream",
     "text": [
      "Note: you may need to restart the kernel to use updated packages.\n"
     ]
    }
   ],
   "source": [
    "%pip install --quiet --upgrade doodl"
   ]
  },
  {
   "cell_type": "code",
   "execution_count": 2,
   "id": "b43a6b48-b31c-427e-985c-c853b71926c9",
   "metadata": {},
   "outputs": [],
   "source": [
    "import doodl"
   ]
  },
  {
   "cell_type": "code",
   "execution_count": 3,
   "id": "778dc178-4546-45b9-badf-2196672cac38",
   "metadata": {},
   "outputs": [
    {
     "data": {
      "text/html": [
       "\n",
       "<p><span class=\"chart-container\" id=\"linechart_0\"></span></p>\n",
       "<script src=\"https://cdn.jsdelivr.net/gh/hubbl-ai/doodl@main/doodl/ts/dist/doodlchart.min.js\"></script>\n",
       "<link rel=\"stylesheet\" href=\"https://cdn.jsdelivr.net/gh/hubbl-ai/doodl@main/doodl/css/menu.css\" />\n",
       "<link rel=\"stylesheet\" href=\"https://cdn.jsdelivr.net/gh/hubbl-ai/doodl@main/doodl/css/doodlCharts.css\" />\n",
       "<script type=\"text/javascript\">\n",
       "            Doodl.linechart(\"#linechart_0\",\n",
       "                [{\"x\": 1, \"y\": 10}, {\"x\": 2, \"y\": 20}, {\"x\": 3, \"y\": 15}, {\"x\": 4, \"y\": 25}, {\"x\": 5, \"y\": 30}, {\"x\": 6, \"y\": 35}],\n",
       "                {\"width\": 450, \"height\": 450},\n",
       "                {},\n",
       "                [\"#FF8C00\", \"#FF8C00\", \"#FF8C00\", \"#FF8C00\", \"#FF8C00\", \"#FF8C00\", \"#FF8C00\", \"#FF8C00\", \"#FF8C00\", \"#FF8C00\"],\n",
       "                true\n",
       "            );\n",
       "</script>\n"
      ],
      "text/plain": [
       "<IPython.core.display.HTML object>"
      ]
     },
     "metadata": {},
     "output_type": "display_data"
    }
   ],
   "source": [
    "\n",
    "doodl.linechart(data=[\n",
    "      { \"x\": 1, \"y\": 10 }, \n",
    "      { \"x\": 2, \"y\": 20 },\n",
    "      { \"x\": 3, \"y\": 15 },\n",
    "      { \"x\": 4, \"y\": 25 },\n",
    "      { \"x\": 5, \"y\": 30 },\n",
    "      { \"x\": 6, \"y\": 35 }\n",
    "    ],\n",
    "    size={\"width\":450,\"height\":450},\n",
    "    colors=[\"DarkOrange\"],\n",
    "    curved=True\n",
    ")"
   ]
  },
  {
   "cell_type": "code",
   "execution_count": 4,
   "id": "7f04d507-a0ea-416a-9434-b99d60ef51d3",
   "metadata": {},
   "outputs": [
    {
     "data": {
      "text/html": [
       "\n",
       "<p><span class=\"chart-container\" id=\"chord_1\"></span></p>\n",
       "<script src=\"https://cdn.jsdelivr.net/gh/hubbl-ai/doodl@main/doodl/ts/dist/doodlchart.min.js\"></script>\n",
       "<link rel=\"stylesheet\" href=\"https://cdn.jsdelivr.net/gh/hubbl-ai/doodl@main/doodl/css/menu.css\" />\n",
       "<link rel=\"stylesheet\" href=\"https://cdn.jsdelivr.net/gh/hubbl-ai/doodl@main/doodl/css/doodlCharts.css\" />\n",
       "<script type=\"text/javascript\">\n",
       "            Doodl.chord(\"#chord_1\",\n",
       "                [[0, 5, 10, 2], [5, 0, 3, 7], [10, 3, 0, 6], [2, 7, 6, 0]],\n",
       "                {\"width\": 450, \"height\": 450},\n",
       "                {},\n",
       "                [\"#4C72B0\", \"#DD8452\", \"#55A868\", \"#C44E52\", \"#8172B3\", \"#937860\", \"#DA8BC3\", \"#8C8C8C\", \"#CCB974\", \"#64B5CD\"]\n",
       "            );\n",
       "</script>\n"
      ],
      "text/plain": [
       "<IPython.core.display.HTML object>"
      ]
     },
     "metadata": {},
     "output_type": "display_data"
    }
   ],
   "source": [
    "doodl.chord(data=[\n",
    "  [0, 5, 10, 2],\n",
    "  [5, 0, 3, 7],\n",
    "  [10, 3, 0, 6],\n",
    "  [2, 7, 6, 0]\n",
    "],\n",
    "    size={\"width\":450,\"height\":450},\n",
    "    colors='deep'\n",
    ")"
   ]
  },
  {
   "cell_type": "code",
   "execution_count": 5,
   "id": "e874a906-052b-481b-b53f-0d0e19ef6edc",
   "metadata": {},
   "outputs": [
    {
     "data": {
      "text/html": [
       "\n",
       "<p><span class=\"chart-container\" id=\"piechart_2\"></span></p>\n",
       "<script src=\"https://cdn.jsdelivr.net/gh/hubbl-ai/doodl@main/doodl/ts/dist/doodlchart.min.js\"></script>\n",
       "<link rel=\"stylesheet\" href=\"https://cdn.jsdelivr.net/gh/hubbl-ai/doodl@main/doodl/css/menu.css\" />\n",
       "<link rel=\"stylesheet\" href=\"https://cdn.jsdelivr.net/gh/hubbl-ai/doodl@main/doodl/css/doodlCharts.css\" />\n",
       "<script type=\"text/javascript\">\n",
       "            Doodl.piechart(\"#piechart_2\",\n",
       "                [{\"label\": \"Apples\", \"value\": 10}, {\"label\": \"Bananas\", \"value\": 20}, {\"label\": \"Cherries\", \"value\": 15}, {\"label\": \"Grapes\", \"value\": 25}],\n",
       "                {\"width\": 500, \"height\": 500},\n",
       "                {},\n",
       "                [\"#4C72B0\", \"#DD8452\", \"#55A868\", \"#C44E52\", \"#8172B3\", \"#937860\", \"#DA8BC3\", \"#8C8C8C\", \"#CCB974\", \"#64B5CD\"],\n",
       "                0,\n",
       "                0\n",
       "            );\n",
       "</script>\n"
      ],
      "text/plain": [
       "<IPython.core.display.HTML object>"
      ]
     },
     "metadata": {},
     "output_type": "display_data"
    }
   ],
   "source": [
    "doodl.piechart(data=[\n",
    "  { \"label\": \"Apples\", \"value\": 10 },\n",
    "  { \"label\": \"Bananas\", \"value\": 20 },\n",
    "  { \"label\": \"Cherries\", \"value\": 15 },\n",
    "  { \"label\": \"Grapes\", \"value\": 25 }\n",
    "],\n",
    "  size={\"width\":500,\"height\":500},\n",
    "  colors='deep'\n",
    ")"
   ]
  },
  {
   "cell_type": "code",
   "execution_count": 6,
   "id": "f3e8e57c-b9b6-473d-ae98-0801057c3ad7",
   "metadata": {},
   "outputs": [
    {
     "data": {
      "text/html": [
       "\n",
       "<p><span class=\"chart-container\" id=\"barchart_3\"></span></p>\n",
       "<script src=\"https://cdn.jsdelivr.net/gh/hubbl-ai/doodl@main/doodl/ts/dist/doodlchart.min.js\"></script>\n",
       "<link rel=\"stylesheet\" href=\"https://cdn.jsdelivr.net/gh/hubbl-ai/doodl@main/doodl/css/menu.css\" />\n",
       "<link rel=\"stylesheet\" href=\"https://cdn.jsdelivr.net/gh/hubbl-ai/doodl@main/doodl/css/doodlCharts.css\" />\n",
       "<script type=\"text/javascript\">\n",
       "            Doodl.barchart(\"#barchart_3\",\n",
       "                [{\"label\": \"Apples\", \"value\": 10}, {\"label\": \"Bananas\", \"value\": 20}, {\"label\": \"Cherries\", \"value\": 15}, {\"label\": \"Grapes\", \"value\": 25}],\n",
       "                {\"width\": 500, \"height\": 500},\n",
       "                {},\n",
       "                [\"#FF6700\", \"#008000\", \"#FF6700\", \"#008000\", \"#FF6700\", \"#008000\", \"#FF6700\", \"#008000\", \"#FF6700\", \"#008000\"],\n",
       "                true\n",
       "            );\n",
       "</script>\n"
      ],
      "text/plain": [
       "<IPython.core.display.HTML object>"
      ]
     },
     "metadata": {},
     "output_type": "display_data"
    }
   ],
   "source": [
    "doodl.barchart(data=[\n",
    "  { \"label\": \"Apples\", \"value\": 10 },\n",
    "  { \"label\": \"Bananas\", \"value\": 20 },\n",
    "  { \"label\": \"Cherries\", \"value\": 15 },\n",
    "  { \"label\": \"Grapes\", \"value\": 25 }\n",
    "],\n",
    "  size={\"width\":500,\"height\":500},\n",
    "  colors=[\"#FF6700\",\"#008000\"],\n",
    "  horizontal=True\n",
    ")"
   ]
  }
 ],
 "metadata": {
  "kernelspec": {
   "display_name": ".venv",
   "language": "python",
   "name": "python3"
  },
  "language_info": {
   "codemirror_mode": {
    "name": "ipython",
    "version": 3
   },
   "file_extension": ".py",
   "mimetype": "text/x-python",
   "name": "python",
   "nbconvert_exporter": "python",
   "pygments_lexer": "ipython3",
   "version": "3.13.0"
  }
 },
 "nbformat": 4,
 "nbformat_minor": 5
}
