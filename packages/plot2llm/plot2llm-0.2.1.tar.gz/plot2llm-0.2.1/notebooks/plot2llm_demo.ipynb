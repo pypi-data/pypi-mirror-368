{
 "cells": [
  {
   "cell_type": "markdown",
   "id": "2b032bc3",
   "metadata": {},
   "source": [
    "# Plot2LLM - Demo Notebook\n",
    "\n",
    "Este notebook demuestra el uso de la librería **Plot2LLM** para convertir figuras de Python en formatos optimizados para Large Language Models (LLMs).\n",
    "\n",
    "## �� Objetivos del Demo\n",
    "\n",
    "- Mostrar la instalación y configuración básica\n",
    "- Demostrar análisis de diferentes tipos de gráficos\n",
    "- Comparar los diferentes formatos de salida\n",
    "- Mostrar casos de uso reales\n",
    "- Integración con LLMs\n",
    "\n",
    "---"
   ]
  }
 ],
 "metadata": {
  "kernelspec": {
   "display_name": "venv-testpypi",
   "language": "python",
   "name": "python3"
  },
  "language_info": {
   "name": "python",
   "version": "3.13.5"
  }
 },
 "nbformat": 4,
 "nbformat_minor": 5
}
