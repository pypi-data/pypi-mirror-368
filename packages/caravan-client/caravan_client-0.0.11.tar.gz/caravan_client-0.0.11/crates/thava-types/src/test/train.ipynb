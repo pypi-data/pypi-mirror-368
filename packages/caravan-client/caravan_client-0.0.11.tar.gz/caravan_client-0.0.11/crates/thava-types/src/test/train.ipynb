{
 "cells": [
  {
   "cell_type": "code",
   "execution_count": 1,
   "metadata": {},
   "outputs": [
    {
     "name": "stdout",
     "output_type": "stream",
     "text": [
      "Verifying group access...\n",
      "Setting up a new caravan of GPU(s)...\n",
      "Received a caravan of GPU(s)!\n",
      "Connecting to each GPU in your caravan...\n",
      "Connected to each GPU in your caravan!\n",
      "Built Caravan!\n"
     ]
    }
   ],
   "source": [
    "from caravancloud import Caravan\n",
    "caravan = Caravan()\n",
    "caravan.group(\"speechgroup\").email(\"ssourish2020@g.ucla.edu\").key(\"2P0c04T5\").build()"
   ]
  },
  {
   "cell_type": "code",
   "execution_count": 2,
   "metadata": {},
   "outputs": [],
   "source": [
    "import torch\n",
    "import numpy as np"
   ]
  },
  {
   "cell_type": "code",
   "execution_count": 3,
   "metadata": {},
   "outputs": [],
   "source": [
    "class Model(torch.nn.Module):\n",
    "    def __init__(self):\n",
    "        super().__init__()\n",
    "        self.hidden1 = torch.nn.Linear(8, 12)\n",
    "        self.act1 = torch.nn.ReLU()\n",
    "        self.hidden2 = torch.nn.Linear(12, 8)\n",
    "        self.act2 = torch.nn.ReLU()\n",
    "        self.output = torch.nn.Linear(8, 1)\n",
    "        self.act_output = torch.nn.Sigmoid()\n",
    "\n",
    "    def forward(self, x):\n",
    "        x = self.act1(self.hidden1(x))\n",
    "        x = self.act2(self.hidden2(x))\n",
    "        x = self.act_output(self.output(x))\n",
    "        return x"
   ]
  },
  {
   "cell_type": "code",
   "execution_count": 4,
   "metadata": {},
   "outputs": [
    {
     "name": "stdout",
     "output_type": "stream",
     "text": [
      "(768, 8) (768,)\n"
     ]
    }
   ],
   "source": [
    "device = 0\n",
    "\n",
    "dataset = np.loadtxt('pima-indians.csv', delimiter=',')\n",
    "X = dataset[:,0:8]\n",
    "y = dataset[:,8]\n",
    "print(X.shape, y.shape)\n",
    "\n",
    "X = torch.tensor(X, dtype=torch.float32, device=device)\n",
    "y = torch.tensor(y, dtype=torch.float32, device=device).reshape(-1,1)\n",
    "\n",
    "model = Model().to(device=device)\n",
    "\n",
    "loss_fn = torch.nn.BCELoss()\n",
    "optimizer = torch.optim.Adam(model.parameters(), lr=0.005)"
   ]
  },
  {
   "cell_type": "code",
   "execution_count": 5,
   "metadata": {},
   "outputs": [
    {
     "name": "stdout",
     "output_type": "stream",
     "text": [
      "Finished epoch 0, latest loss tensor(1.8179, device='cuda:0', grad_fn=<BinaryCrossEntropyBackward0>)\n",
      "Finished epoch 1, latest loss tensor(0.7958, device='cuda:0', grad_fn=<BinaryCrossEntropyBackward0>)\n",
      "Finished epoch 2, latest loss tensor(0.9282, device='cuda:0', grad_fn=<BinaryCrossEntropyBackward0>)\n",
      "Finished epoch 3, latest loss tensor(0.9222, device='cuda:0', grad_fn=<BinaryCrossEntropyBackward0>)\n",
      "Finished epoch 4, latest loss tensor(0.7140, device='cuda:0', grad_fn=<BinaryCrossEntropyBackward0>)\n",
      "Finished epoch 5, latest loss tensor(0.6863, device='cuda:0', grad_fn=<BinaryCrossEntropyBackward0>)\n",
      "Finished epoch 6, latest loss tensor(0.6985, device='cuda:0', grad_fn=<BinaryCrossEntropyBackward0>)\n",
      "Finished epoch 7, latest loss tensor(0.6653, device='cuda:0', grad_fn=<BinaryCrossEntropyBackward0>)\n",
      "Finished epoch 8, latest loss tensor(0.6296, device='cuda:0', grad_fn=<BinaryCrossEntropyBackward0>)\n",
      "Finished epoch 9, latest loss tensor(0.6405, device='cuda:0', grad_fn=<BinaryCrossEntropyBackward0>)\n",
      "Finished epoch 10, latest loss tensor(0.6525, device='cuda:0', grad_fn=<BinaryCrossEntropyBackward0>)\n",
      "Finished epoch 11, latest loss tensor(0.6342, device='cuda:0', grad_fn=<BinaryCrossEntropyBackward0>)\n",
      "Finished epoch 12, latest loss tensor(0.6222, device='cuda:0', grad_fn=<BinaryCrossEntropyBackward0>)\n",
      "Finished epoch 13, latest loss tensor(0.6236, device='cuda:0', grad_fn=<BinaryCrossEntropyBackward0>)\n",
      "Finished epoch 14, latest loss tensor(0.6203, device='cuda:0', grad_fn=<BinaryCrossEntropyBackward0>)\n",
      "Finished epoch 15, latest loss tensor(0.6165, device='cuda:0', grad_fn=<BinaryCrossEntropyBackward0>)\n",
      "Finished epoch 16, latest loss tensor(0.6179, device='cuda:0', grad_fn=<BinaryCrossEntropyBackward0>)\n",
      "Finished epoch 17, latest loss tensor(0.6104, device='cuda:0', grad_fn=<BinaryCrossEntropyBackward0>)\n",
      "Finished epoch 18, latest loss tensor(0.6042, device='cuda:0', grad_fn=<BinaryCrossEntropyBackward0>)\n",
      "Finished epoch 19, latest loss tensor(0.5999, device='cuda:0', grad_fn=<BinaryCrossEntropyBackward0>)\n",
      "Finished epoch 20, latest loss tensor(0.5975, device='cuda:0', grad_fn=<BinaryCrossEntropyBackward0>)\n",
      "Finished epoch 21, latest loss tensor(0.5960, device='cuda:0', grad_fn=<BinaryCrossEntropyBackward0>)\n",
      "Finished epoch 22, latest loss tensor(0.5909, device='cuda:0', grad_fn=<BinaryCrossEntropyBackward0>)\n",
      "Finished epoch 23, latest loss tensor(0.5872, device='cuda:0', grad_fn=<BinaryCrossEntropyBackward0>)\n",
      "Finished epoch 24, latest loss tensor(0.5840, device='cuda:0', grad_fn=<BinaryCrossEntropyBackward0>)\n",
      "Finished epoch 25, latest loss tensor(0.5820, device='cuda:0', grad_fn=<BinaryCrossEntropyBackward0>)\n",
      "Finished epoch 26, latest loss tensor(0.5819, device='cuda:0', grad_fn=<BinaryCrossEntropyBackward0>)\n",
      "Finished epoch 27, latest loss tensor(0.5812, device='cuda:0', grad_fn=<BinaryCrossEntropyBackward0>)\n",
      "Finished epoch 28, latest loss tensor(0.5794, device='cuda:0', grad_fn=<BinaryCrossEntropyBackward0>)\n",
      "Finished epoch 29, latest loss tensor(0.5763, device='cuda:0', grad_fn=<BinaryCrossEntropyBackward0>)\n",
      "Finished epoch 30, latest loss tensor(0.5749, device='cuda:0', grad_fn=<BinaryCrossEntropyBackward0>)\n",
      "Finished epoch 31, latest loss tensor(0.5739, device='cuda:0', grad_fn=<BinaryCrossEntropyBackward0>)\n",
      "Finished epoch 32, latest loss tensor(0.5717, device='cuda:0', grad_fn=<BinaryCrossEntropyBackward0>)\n",
      "Finished epoch 33, latest loss tensor(0.5691, device='cuda:0', grad_fn=<BinaryCrossEntropyBackward0>)\n",
      "Finished epoch 34, latest loss tensor(0.5669, device='cuda:0', grad_fn=<BinaryCrossEntropyBackward0>)\n",
      "Finished epoch 35, latest loss tensor(0.5649, device='cuda:0', grad_fn=<BinaryCrossEntropyBackward0>)\n",
      "Finished epoch 36, latest loss tensor(0.5638, device='cuda:0', grad_fn=<BinaryCrossEntropyBackward0>)\n",
      "Finished epoch 37, latest loss tensor(0.5628, device='cuda:0', grad_fn=<BinaryCrossEntropyBackward0>)\n",
      "Finished epoch 38, latest loss tensor(0.5612, device='cuda:0', grad_fn=<BinaryCrossEntropyBackward0>)\n",
      "Finished epoch 39, latest loss tensor(0.5599, device='cuda:0', grad_fn=<BinaryCrossEntropyBackward0>)\n",
      "Finished epoch 40, latest loss tensor(0.5591, device='cuda:0', grad_fn=<BinaryCrossEntropyBackward0>)\n",
      "Finished epoch 41, latest loss tensor(0.5579, device='cuda:0', grad_fn=<BinaryCrossEntropyBackward0>)\n",
      "Finished epoch 42, latest loss tensor(0.5565, device='cuda:0', grad_fn=<BinaryCrossEntropyBackward0>)\n",
      "Finished epoch 43, latest loss tensor(0.5555, device='cuda:0', grad_fn=<BinaryCrossEntropyBackward0>)\n",
      "Finished epoch 44, latest loss tensor(0.5544, device='cuda:0', grad_fn=<BinaryCrossEntropyBackward0>)\n",
      "Finished epoch 45, latest loss tensor(0.5532, device='cuda:0', grad_fn=<BinaryCrossEntropyBackward0>)\n",
      "Finished epoch 46, latest loss tensor(0.5525, device='cuda:0', grad_fn=<BinaryCrossEntropyBackward0>)\n",
      "Finished epoch 47, latest loss tensor(0.5515, device='cuda:0', grad_fn=<BinaryCrossEntropyBackward0>)\n",
      "Finished epoch 48, latest loss tensor(0.5505, device='cuda:0', grad_fn=<BinaryCrossEntropyBackward0>)\n",
      "Finished epoch 49, latest loss tensor(0.5498, device='cuda:0', grad_fn=<BinaryCrossEntropyBackward0>)\n"
     ]
    }
   ],
   "source": [
    "n_epochs = 50\n",
    "batch_size = 256\n",
    "\n",
    "for epoch in range(n_epochs):\n",
    "    for i in range(0, 768, batch_size):\n",
    "        Xbatch = X[i:i+batch_size]\n",
    "        y_pred = model(Xbatch)\n",
    "        ybatch = y[i:i+batch_size]\n",
    "        loss = loss_fn(y_pred, ybatch)\n",
    "        optimizer.zero_grad()\n",
    "        loss.backward()\n",
    "        optimizer.step()\n",
    "        \n",
    "    print(f'Finished epoch {epoch}, latest loss {loss}')"
   ]
  },
  {
   "cell_type": "code",
   "execution_count": 6,
   "metadata": {},
   "outputs": [
    {
     "name": "stdout",
     "output_type": "stream",
     "text": [
      "Final loss tensor(0.5498, device='cuda:0', grad_fn=<BinaryCrossEntropyBackward0>)\n"
     ]
    }
   ],
   "source": [
    "print(\"Final loss\", loss)"
   ]
  },
  {
   "cell_type": "code",
   "execution_count": null,
   "metadata": {},
   "outputs": [],
   "source": [
    "# yay! thank you for watching :)"
   ]
  }
 ],
 "metadata": {
  "kernelspec": {
   "display_name": "thava",
   "language": "python",
   "name": "python3"
  },
  "language_info": {
   "codemirror_mode": {
    "name": "ipython",
    "version": 3
   },
   "file_extension": ".py",
   "mimetype": "text/x-python",
   "name": "python",
   "nbconvert_exporter": "python",
   "pygments_lexer": "ipython3",
   "version": "3.10.15"
  }
 },
 "nbformat": 4,
 "nbformat_minor": 2
}
