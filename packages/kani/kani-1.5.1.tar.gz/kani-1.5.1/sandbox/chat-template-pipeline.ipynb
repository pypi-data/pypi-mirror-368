{
 "cells": [
  {
   "metadata": {
    "ExecuteTime": {
     "end_time": "2025-01-29T17:19:33.792923Z",
     "start_time": "2025-01-29T17:19:33.791352Z"
    }
   },
   "cell_type": "code",
   "source": "MODEL_ID = \"deepseek-ai/DeepSeek-R1\"",
   "id": "ed0cf3012c98f3bf",
   "outputs": [],
   "execution_count": 17
  },
  {
   "metadata": {
    "ExecuteTime": {
     "end_time": "2025-01-29T17:19:34.746781Z",
     "start_time": "2025-01-29T17:19:34.257247Z"
    }
   },
   "cell_type": "code",
   "source": [
    "from transformers import AutoTokenizer\n",
    "\n",
    "from kani.engines.huggingface.chat_template_pipeline import ChatTemplatePromptPipeline\n",
    "\n",
    "tokenizer = AutoTokenizer.from_pretrained(MODEL_ID)\n",
    "pipe = ChatTemplatePromptPipeline(tokenizer)"
   ],
   "id": "3f3fcf1d6cd725ca",
   "outputs": [],
   "execution_count": 18
  },
  {
   "metadata": {
    "ExecuteTime": {
     "end_time": "2025-01-29T17:19:35.857646Z",
     "start_time": "2025-01-29T17:19:35.854642Z"
    }
   },
   "cell_type": "code",
   "source": "print(tokenizer.chat_template)",
   "id": "b04fc3dae4d605e8",
   "outputs": [
    {
     "name": "stdout",
     "output_type": "stream",
     "text": [
      "{% if not add_generation_prompt is defined %}{% set add_generation_prompt = false %}{% endif %}{% set ns = namespace(is_first=false, is_tool=false, is_output_first=true, system_prompt='', is_first_sp=true) %}{%- for message in messages %}{%- if message['role'] == 'system' %}{%- if ns.is_first_sp %}{% set ns.system_prompt = ns.system_prompt + message['content'] %}{% set ns.is_first_sp = false %}{%- else %}{% set ns.system_prompt = ns.system_prompt + '\\n\\n' + message['content'] %}{%- endif %}{%- endif %}{%- endfor %}{{ bos_token }}{{ ns.system_prompt }}{%- for message in messages %}{%- if message['role'] == 'user' %}{%- set ns.is_tool = false -%}{{'<｜User｜>' + message['content']}}{%- endif %}{%- if message['role'] == 'assistant' and 'tool_calls' in message %}{%- set ns.is_tool = false -%}{%- for tool in message['tool_calls'] %}{%- if not ns.is_first %}{%- if message['content'] is none %}{{'<｜Assistant｜><｜tool▁calls▁begin｜><｜tool▁call▁begin｜>' + tool['type'] + '<｜tool▁sep｜>' + tool['function']['name'] + '\\n' + '```json' + '\\n' + tool['function']['arguments'] + '\\n' + '```' + '<｜tool▁call▁end｜>'}}{%- else %}{{'<｜Assistant｜>' + message['content'] + '<｜tool▁calls▁begin｜><｜tool▁call▁begin｜>' + tool['type'] + '<｜tool▁sep｜>' + tool['function']['name'] + '\\n' + '```json' + '\\n' + tool['function']['arguments'] + '\\n' + '```' + '<｜tool▁call▁end｜>'}}{%- endif %}{%- set ns.is_first = true -%}{%- else %}{{'\\n' + '<｜tool▁call▁begin｜>' + tool['type'] + '<｜tool▁sep｜>' + tool['function']['name'] + '\\n' + '```json' + '\\n' + tool['function']['arguments'] + '\\n' + '```' + '<｜tool▁call▁end｜>'}}{%- endif %}{%- endfor %}{{'<｜tool▁calls▁end｜><｜end▁of▁sentence｜>'}}{%- endif %}{%- if message['role'] == 'assistant' and 'tool_calls' not in message %}{%- if ns.is_tool %}{{'<｜tool▁outputs▁end｜>' + message['content'] + '<｜end▁of▁sentence｜>'}}{%- set ns.is_tool = false -%}{%- else %}{% set content = message['content'] %}{% if '</think>' in content %}{% set content = content.split('</think>')[-1] %}{% endif %}{{'<｜Assistant｜>' + content + '<｜end▁of▁sentence｜>'}}{%- endif %}{%- endif %}{%- if message['role'] == 'tool' %}{%- set ns.is_tool = true -%}{%- if ns.is_output_first %}{{'<｜tool▁outputs▁begin｜><｜tool▁output▁begin｜>' + message['content'] + '<｜tool▁output▁end｜>'}}{%- set ns.is_output_first = false %}{%- else %}{{'<｜tool▁output▁begin｜>' + message['content'] + '<｜tool▁output▁end｜>'}}{%- endif %}{%- endif %}{%- endfor -%}{% if ns.is_tool %}{{'<｜tool▁outputs▁end｜>'}}{% endif %}{% if add_generation_prompt and not ns.is_tool %}{{'<｜Assistant｜>'}}{% endif %}\n"
     ]
    }
   ],
   "execution_count": 19
  },
  {
   "metadata": {
    "ExecuteTime": {
     "end_time": "2025-01-29T17:19:46.641102Z",
     "start_time": "2025-01-29T17:19:46.635288Z"
    }
   },
   "cell_type": "code",
   "source": [
    "import enum\n",
    "from kani import AIFunction, AIParam\n",
    "from typing import Annotated\n",
    "\n",
    "\n",
    "class Unit(enum.Enum):\n",
    "    FAHRENHEIT = \"fahrenheit\"\n",
    "    CELSIUS = \"celsius\"\n",
    "\n",
    "\n",
    "def get_weather(\n",
    "    location: Annotated[str, AIParam(desc=\"The city and state, e.g. San Francisco, CA\")],\n",
    "    unit: Unit,\n",
    "):\n",
    "    \"\"\"Get the current weather in a given location.\"\"\"\n",
    "    # call some weather API, or just mock it for this example\n",
    "    degrees = 72 if unit == Unit.FAHRENHEIT else 22\n",
    "    return f\"Weather in {location}: Sunny, {degrees} degrees {unit.value}.\"\n",
    "\n",
    "\n",
    "funcs = [AIFunction(get_weather)]"
   ],
   "id": "188f275f9efe9f90",
   "outputs": [],
   "execution_count": 20
  },
  {
   "metadata": {
    "ExecuteTime": {
     "end_time": "2025-01-29T17:19:47.315072Z",
     "start_time": "2025-01-29T17:19:47.250700Z"
    }
   },
   "cell_type": "code",
   "source": "pipe.explain(function_call=True)",
   "id": "695c5eafeff5fce9",
   "outputs": [
    {
     "name": "stdout",
     "output_type": "stream",
     "text": [
      "Prompt Pipeline (0 steps)\n",
      "=========================\n",
      "\n",
      "Example\n",
      "-------\n"
     ]
    },
    {
     "ename": "TypeError",
     "evalue": "can only concatenate str (not \"dict\") to str",
     "output_type": "error",
     "traceback": [
      "\u001B[0;31m---------------------------------------------------------------------------\u001B[0m",
      "\u001B[0;31mTypeError\u001B[0m                                 Traceback (most recent call last)",
      "Cell \u001B[0;32mIn[21], line 1\u001B[0m\n\u001B[0;32m----> 1\u001B[0m \u001B[43mpipe\u001B[49m\u001B[38;5;241;43m.\u001B[39;49m\u001B[43mexplain\u001B[49m\u001B[43m(\u001B[49m\u001B[43mfunction_call\u001B[49m\u001B[38;5;241;43m=\u001B[39;49m\u001B[38;5;28;43;01mTrue\u001B[39;49;00m\u001B[43m)\u001B[49m\n",
      "File \u001B[0;32m~/Desktop/Code/chatterbox/kani/engines/huggingface/chat_template_pipeline.py:201\u001B[0m, in \u001B[0;36mChatTemplatePromptPipeline.explain\u001B[0;34m(self, *args, **kwargs)\u001B[0m\n\u001B[1;32m    200\u001B[0m \u001B[38;5;28;01mdef\u001B[39;00m \u001B[38;5;21mexplain\u001B[39m(\u001B[38;5;28mself\u001B[39m, \u001B[38;5;241m*\u001B[39margs, \u001B[38;5;241m*\u001B[39m\u001B[38;5;241m*\u001B[39mkwargs):\n\u001B[0;32m--> 201\u001B[0m     \u001B[38;5;28;43msuper\u001B[39;49m\u001B[43m(\u001B[49m\u001B[43m)\u001B[49m\u001B[38;5;241;43m.\u001B[39;49m\u001B[43mexplain\u001B[49m\u001B[43m(\u001B[49m\u001B[38;5;241;43m*\u001B[39;49m\u001B[43margs\u001B[49m\u001B[43m,\u001B[49m\u001B[43m \u001B[49m\u001B[38;5;241;43m*\u001B[39;49m\u001B[38;5;241;43m*\u001B[39;49m\u001B[43mkwargs\u001B[49m\u001B[43m)\u001B[49m\n\u001B[1;32m    202\u001B[0m     \u001B[38;5;66;03m# print out inferred padding stats\u001B[39;00m\n\u001B[1;32m    203\u001B[0m     \u001B[38;5;28mprint\u001B[39m(\n\u001B[1;32m    204\u001B[0m         \u001B[38;5;124m\"\u001B[39m\u001B[38;5;130;01m\\n\u001B[39;00m\u001B[38;5;124m### ChatTemplatePromptPipeline Stats\u001B[39m\u001B[38;5;130;01m\\n\u001B[39;00m\u001B[38;5;124m*These metrics are inferred from the chat template and may be\u001B[39m\u001B[38;5;124m\"\u001B[39m\n\u001B[1;32m    205\u001B[0m         \u001B[38;5;124m\"\u001B[39m\u001B[38;5;124m slightly off from the true count.*\u001B[39m\u001B[38;5;124m\"\u001B[39m\n\u001B[1;32m    206\u001B[0m     )\n",
      "File \u001B[0;32m~/Desktop/Code/chatterbox/kani/prompts/pipeline.py:481\u001B[0m, in \u001B[0;36mPromptPipeline.explain\u001B[0;34m(self, example, functions, all_cases, **kwargs)\u001B[0m\n\u001B[1;32m    479\u001B[0m \u001B[38;5;66;03m# run and time example\u001B[39;00m\n\u001B[1;32m    480\u001B[0m start \u001B[38;5;241m=\u001B[39m time\u001B[38;5;241m.\u001B[39mperf_counter()\n\u001B[0;32m--> 481\u001B[0m example_out \u001B[38;5;241m=\u001B[39m \u001B[38;5;28;43mself\u001B[39;49m\u001B[43m(\u001B[49m\u001B[43mexamples_msgs\u001B[49m\u001B[43m,\u001B[49m\u001B[43m \u001B[49m\u001B[43mexample_functions\u001B[49m\u001B[43m)\u001B[49m\n\u001B[1;32m    482\u001B[0m end \u001B[38;5;241m=\u001B[39m time\u001B[38;5;241m.\u001B[39mperf_counter()\n\u001B[1;32m    483\u001B[0m exec_time \u001B[38;5;241m=\u001B[39m end \u001B[38;5;241m-\u001B[39m start\n",
      "File \u001B[0;32m~/Desktop/Code/chatterbox/kani/prompts/pipeline.py:401\u001B[0m, in \u001B[0;36mPromptPipeline.__call__\u001B[0;34m(self, msgs, functions, **kwargs)\u001B[0m\n\u001B[1;32m    396\u001B[0m \u001B[38;5;28;01mdef\u001B[39;00m \u001B[38;5;21m__call__\u001B[39m(\u001B[38;5;28mself\u001B[39m, msgs: \u001B[38;5;28mlist\u001B[39m[ChatMessage], functions: \u001B[38;5;28mlist\u001B[39m[AIFunction] \u001B[38;5;241m=\u001B[39m \u001B[38;5;28;01mNone\u001B[39;00m, \u001B[38;5;241m*\u001B[39m\u001B[38;5;241m*\u001B[39mkwargs) \u001B[38;5;241m-\u001B[39m\u001B[38;5;241m>\u001B[39m T:\n\u001B[1;32m    397\u001B[0m \u001B[38;5;250m    \u001B[39m\u001B[38;5;124;03m\"\"\"\u001B[39;00m\n\u001B[1;32m    398\u001B[0m \u001B[38;5;124;03m    Apply the pipeline to a list of kani messages. The return type will vary based on the steps in the pipeline;\u001B[39;00m\n\u001B[1;32m    399\u001B[0m \u001B[38;5;124;03m    if no steps are defined the return type will be a copy of the input messages.\u001B[39;00m\n\u001B[1;32m    400\u001B[0m \u001B[38;5;124;03m    \"\"\"\u001B[39;00m\n\u001B[0;32m--> 401\u001B[0m     \u001B[38;5;28;01mreturn\u001B[39;00m \u001B[38;5;28;43mself\u001B[39;49m\u001B[38;5;241;43m.\u001B[39;49m\u001B[43mexecute\u001B[49m\u001B[43m(\u001B[49m\u001B[43mmsgs\u001B[49m\u001B[43m,\u001B[49m\u001B[43m \u001B[49m\u001B[43mfunctions\u001B[49m\u001B[43m,\u001B[49m\u001B[43m \u001B[49m\u001B[38;5;241;43m*\u001B[39;49m\u001B[38;5;241;43m*\u001B[39;49m\u001B[43mkwargs\u001B[49m\u001B[43m)\u001B[49m\n",
      "File \u001B[0;32m~/Desktop/Code/chatterbox/kani/engines/huggingface/chat_template_pipeline.py:184\u001B[0m, in \u001B[0;36mChatTemplatePromptPipeline.execute\u001B[0;34m(self, msgs, functions, deepcopy, for_measurement)\u001B[0m\n\u001B[1;32m    182\u001B[0m \u001B[38;5;66;03m# apply the chat template\u001B[39;00m\n\u001B[1;32m    183\u001B[0m \u001B[38;5;28;01mtry\u001B[39;00m:\n\u001B[0;32m--> 184\u001B[0m     \u001B[38;5;28;01mreturn\u001B[39;00m \u001B[38;5;28;43mself\u001B[39;49m\u001B[38;5;241;43m.\u001B[39;49m\u001B[43m_chat_template_build_prompt\u001B[49m\u001B[43m(\u001B[49m\u001B[43mconversation\u001B[49m\u001B[43m,\u001B[49m\u001B[43m \u001B[49m\u001B[43mfunctions\u001B[49m\u001B[38;5;241;43m=\u001B[39;49m\u001B[43mfunctions\u001B[49m\u001B[43m)\u001B[49m\n\u001B[1;32m    185\u001B[0m \u001B[38;5;28;01mexcept\u001B[39;00m (TemplateError, \u001B[38;5;167;01mIndexError\u001B[39;00m):\n\u001B[1;32m    186\u001B[0m     \u001B[38;5;66;03m# try and recover for these specific pathological cases\u001B[39;00m\n\u001B[1;32m    187\u001B[0m     \u001B[38;5;28;01mif\u001B[39;00m for_measurement:\n\u001B[1;32m    188\u001B[0m         \u001B[38;5;66;03m# one message - probably message len\u001B[39;00m\n",
      "File \u001B[0;32m~/Desktop/Code/chatterbox/kani/engines/huggingface/chat_template_pipeline.py:145\u001B[0m, in \u001B[0;36mChatTemplatePromptPipeline._chat_template_build_prompt\u001B[0;34m(self, conversation, functions)\u001B[0m\n\u001B[1;32m    139\u001B[0m \u001B[38;5;250m\u001B[39m\u001B[38;5;124;03m\"\"\"Given the list of messages from kani, build either a single string representing the prompt for the model,\u001B[39;00m\n\u001B[1;32m    140\u001B[0m \u001B[38;5;124;03mor build the token tensor.\u001B[39;00m\n\u001B[1;32m    141\u001B[0m \n\u001B[1;32m    142\u001B[0m \u001B[38;5;124;03mThe default implementation uses the model tokenizer's `apply_chat_template` method.\u001B[39;00m\n\u001B[1;32m    143\u001B[0m \u001B[38;5;124;03m\"\"\"\u001B[39;00m\n\u001B[1;32m    144\u001B[0m tools \u001B[38;5;241m=\u001B[39m [f\u001B[38;5;241m.\u001B[39mjson_schema \u001B[38;5;28;01mfor\u001B[39;00m f \u001B[38;5;129;01min\u001B[39;00m functions] \u001B[38;5;28;01mif\u001B[39;00m functions \u001B[38;5;28;01melse\u001B[39;00m \u001B[38;5;28;01mNone\u001B[39;00m\n\u001B[0;32m--> 145\u001B[0m \u001B[38;5;28;01mreturn\u001B[39;00m \u001B[38;5;28;43mself\u001B[39;49m\u001B[38;5;241;43m.\u001B[39;49m\u001B[43mtokenizer\u001B[49m\u001B[38;5;241;43m.\u001B[39;49m\u001B[43mapply_chat_template\u001B[49m\u001B[43m(\u001B[49m\u001B[43mconversation\u001B[49m\u001B[43m,\u001B[49m\u001B[43m \u001B[49m\u001B[43mtools\u001B[49m\u001B[38;5;241;43m=\u001B[39;49m\u001B[43mtools\u001B[49m\u001B[43m,\u001B[49m\u001B[43m \u001B[49m\u001B[43madd_generation_prompt\u001B[49m\u001B[38;5;241;43m=\u001B[39;49m\u001B[38;5;28;43;01mTrue\u001B[39;49;00m\u001B[43m,\u001B[49m\u001B[43m \u001B[49m\u001B[43mtokenize\u001B[49m\u001B[38;5;241;43m=\u001B[39;49m\u001B[38;5;28;43;01mFalse\u001B[39;49;00m\u001B[43m)\u001B[49m\n",
      "File \u001B[0;32m~/Desktop/Code/chatterbox/venv/lib/python3.10/site-packages/transformers/tokenization_utils_base.py:1683\u001B[0m, in \u001B[0;36mPreTrainedTokenizerBase.apply_chat_template\u001B[0;34m(self, conversation, tools, documents, chat_template, add_generation_prompt, continue_final_message, tokenize, padding, truncation, max_length, return_tensors, return_dict, return_assistant_tokens_mask, tokenizer_kwargs, **kwargs)\u001B[0m\n\u001B[1;32m   1681\u001B[0m     all_generation_indices\u001B[38;5;241m.\u001B[39mappend(generation_indices)\n\u001B[1;32m   1682\u001B[0m \u001B[38;5;28;01melse\u001B[39;00m:\n\u001B[0;32m-> 1683\u001B[0m     rendered_chat \u001B[38;5;241m=\u001B[39m \u001B[43mcompiled_template\u001B[49m\u001B[38;5;241;43m.\u001B[39;49m\u001B[43mrender\u001B[49m\u001B[43m(\u001B[49m\n\u001B[1;32m   1684\u001B[0m \u001B[43m        \u001B[49m\u001B[43mmessages\u001B[49m\u001B[38;5;241;43m=\u001B[39;49m\u001B[43mchat\u001B[49m\u001B[43m,\u001B[49m\n\u001B[1;32m   1685\u001B[0m \u001B[43m        \u001B[49m\u001B[43mtools\u001B[49m\u001B[38;5;241;43m=\u001B[39;49m\u001B[43mtool_schemas\u001B[49m\u001B[43m,\u001B[49m\n\u001B[1;32m   1686\u001B[0m \u001B[43m        \u001B[49m\u001B[43mdocuments\u001B[49m\u001B[38;5;241;43m=\u001B[39;49m\u001B[43mdocuments\u001B[49m\u001B[43m,\u001B[49m\n\u001B[1;32m   1687\u001B[0m \u001B[43m        \u001B[49m\u001B[43madd_generation_prompt\u001B[49m\u001B[38;5;241;43m=\u001B[39;49m\u001B[43madd_generation_prompt\u001B[49m\u001B[43m,\u001B[49m\n\u001B[1;32m   1688\u001B[0m \u001B[43m        \u001B[49m\u001B[38;5;241;43m*\u001B[39;49m\u001B[38;5;241;43m*\u001B[39;49m\u001B[43mtemplate_kwargs\u001B[49m\u001B[43m,\u001B[49m\n\u001B[1;32m   1689\u001B[0m \u001B[43m    \u001B[49m\u001B[43m)\u001B[49m\n\u001B[1;32m   1690\u001B[0m \u001B[38;5;28;01mif\u001B[39;00m continue_final_message:\n\u001B[1;32m   1691\u001B[0m     final_message \u001B[38;5;241m=\u001B[39m chat[\u001B[38;5;241m-\u001B[39m\u001B[38;5;241m1\u001B[39m][\u001B[38;5;124m\"\u001B[39m\u001B[38;5;124mcontent\u001B[39m\u001B[38;5;124m\"\u001B[39m]\n",
      "File \u001B[0;32m~/Desktop/Code/chatterbox/venv/lib/python3.10/site-packages/jinja2/environment.py:1304\u001B[0m, in \u001B[0;36mTemplate.render\u001B[0;34m(self, *args, **kwargs)\u001B[0m\n\u001B[1;32m   1302\u001B[0m     \u001B[38;5;28;01mreturn\u001B[39;00m \u001B[38;5;28mself\u001B[39m\u001B[38;5;241m.\u001B[39menvironment\u001B[38;5;241m.\u001B[39mconcat(\u001B[38;5;28mself\u001B[39m\u001B[38;5;241m.\u001B[39mroot_render_func(ctx))  \u001B[38;5;66;03m# type: ignore\u001B[39;00m\n\u001B[1;32m   1303\u001B[0m \u001B[38;5;28;01mexcept\u001B[39;00m \u001B[38;5;167;01mException\u001B[39;00m:\n\u001B[0;32m-> 1304\u001B[0m     \u001B[38;5;28;43mself\u001B[39;49m\u001B[38;5;241;43m.\u001B[39;49m\u001B[43menvironment\u001B[49m\u001B[38;5;241;43m.\u001B[39;49m\u001B[43mhandle_exception\u001B[49m\u001B[43m(\u001B[49m\u001B[43m)\u001B[49m\n",
      "File \u001B[0;32m~/Desktop/Code/chatterbox/venv/lib/python3.10/site-packages/jinja2/environment.py:939\u001B[0m, in \u001B[0;36mEnvironment.handle_exception\u001B[0;34m(self, source)\u001B[0m\n\u001B[1;32m    934\u001B[0m \u001B[38;5;250m\u001B[39m\u001B[38;5;124;03m\"\"\"Exception handling helper.  This is used internally to either raise\u001B[39;00m\n\u001B[1;32m    935\u001B[0m \u001B[38;5;124;03mrewritten exceptions or return a rendered traceback for the template.\u001B[39;00m\n\u001B[1;32m    936\u001B[0m \u001B[38;5;124;03m\"\"\"\u001B[39;00m\n\u001B[1;32m    937\u001B[0m \u001B[38;5;28;01mfrom\u001B[39;00m \u001B[38;5;21;01m.\u001B[39;00m\u001B[38;5;21;01mdebug\u001B[39;00m \u001B[38;5;28;01mimport\u001B[39;00m rewrite_traceback_stack\n\u001B[0;32m--> 939\u001B[0m \u001B[38;5;28;01mraise\u001B[39;00m rewrite_traceback_stack(source\u001B[38;5;241m=\u001B[39msource)\n",
      "File \u001B[0;32m<template>:1\u001B[0m, in \u001B[0;36mtop-level template code\u001B[0;34m()\u001B[0m\n",
      "\u001B[0;31mTypeError\u001B[0m: can only concatenate str (not \"dict\") to str"
     ]
    }
   ],
   "execution_count": 21
  },
  {
   "metadata": {},
   "cell_type": "code",
   "outputs": [],
   "execution_count": null,
   "source": "",
   "id": "2debcd5d50df471"
  }
 ],
 "metadata": {
  "kernelspec": {
   "display_name": "Python 3",
   "language": "python",
   "name": "python3"
  },
  "language_info": {
   "codemirror_mode": {
    "name": "ipython",
    "version": 2
   },
   "file_extension": ".py",
   "mimetype": "text/x-python",
   "name": "python",
   "nbconvert_exporter": "python",
   "pygments_lexer": "ipython2",
   "version": "2.7.6"
  }
 },
 "nbformat": 4,
 "nbformat_minor": 5
}
