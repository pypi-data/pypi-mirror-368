{
 "cells": [
  {
   "cell_type": "markdown",
   "id": "4d27b9ca-f241-4702-9d70-da6f05434018",
   "metadata": {},
   "source": [
    "# guppy and hugr to qir conversion and submission to H1 and H2\n"
   ]
  },
  {
   "cell_type": "markdown",
   "id": "eb8e7aad-dea6-4f66-9fea-75f75a41c567",
   "metadata": {},
   "source": [
    "This example shows how to convert guppy to qir which can be submitted directly to H1 and H2 device, emulator and syntax checker.\n",
    "\n",
    "You need to install hugr-qir, guppy and pytket-quantinuum for this notebook to work.\n"
   ]
  },
  {
   "cell_type": "code",
   "execution_count": 1,
   "id": "b3fc5880-263e-4f67-afe2-1b999f932d63",
   "metadata": {},
   "outputs": [],
   "source": [
    "# You can write you guppy directly in a notebook or in a separate file\n",
    "import sys\n",
    "from typing import no_type_check\n",
    "\n",
    "from guppylang import guppy, qubit\n",
    "from guppylang.std.builtins import result\n",
    "from guppylang.std.quantum import h, measure\n",
    "\n",
    "\n",
    "@guppy\n",
    "@no_type_check\n",
    "def main() -> None:\n",
    "    q0 = qubit()\n",
    "    q1 = qubit()\n",
    "\n",
    "    h(q0)\n",
    "    h(q1)\n",
    "\n",
    "    b0 = measure(q0)\n",
    "    b1 = measure(q1)\n",
    "    b2 = b0 ^ b1\n",
    "\n",
    "    result(\"0\", b2)"
   ]
  },
  {
   "cell_type": "code",
   "execution_count": 3,
   "id": "2fae032f-9ddd-43c6-9818-2114d0663463",
   "metadata": {},
   "outputs": [],
   "source": [
    "# Convert hugr to qir\n",
    "\n",
    "# By default, the function will automatically check the generated QIR to capture most of the issues that could happen.\n",
    "# this will show an error message with more details about the problem\n",
    "# the check can be turned off using the keyword argument `validate_qir = False`\n",
    "\n",
    "from hugr_qir.hugr_to_qir import hugr_to_qir\n",
    "\n",
    "guppy_qir_bitcode_string = hugr_to_qir(guppy.compile(main))\n"
   ]
  },
  {
   "cell_type": "code",
   "execution_count": null,
   "id": "c6152003-59fa-4386-afe4-c4eb10e8c75f",
   "metadata": {},
   "outputs": [
    {
     "name": "stdout",
     "output_type": "stream",
     "text": [
      "; ModuleID = 'hugr-qir'\n",
      "source_filename = \"hugr-qir\"\n",
      "\n",
      "%Qubit = type opaque\n",
      "%Result = type opaque\n",
      "\n",
      "@0 = private unnamed_addr constant [2 x i8] c\"0\\00\", align 1\n",
      "\n",
      "define void @__hugr__.main.1() #0 {\n",
      "alloca_block:\n",
      "  call void @__quantum__qis__phasedx__body(double 0x3FF921FB54442D18, double 0xBFF921FB54442D18, %Qubit* null)\n",
      "  call void @__quantum__qis__rz__body(double 0x400921FB54442D18, %Qubit* null)\n",
      "  call void @__quantum__qis__mz__body(%Qubit* null, %Result* null)\n",
      "  %0 = call i1 @__quantum__qis__read_result__body(%Result* null)\n",
      "  call void @__quantum__qis__phasedx__body(double 0x3FF921FB54442D18, double 0xBFF921FB54442D18, %Qubit* inttoptr (i64 1 to %Qubit*))\n",
      "  call void @__quantum__qis__rz__body(double 0x400921FB54442D18, %Qubit* inttoptr (i64 1 to %Qubit*))\n",
      "  call void @__quantum__qis__mz__body(%Qubit* inttoptr (i64 1 to %Qubit*), %Result* inttoptr (i64 1 to %Result*))\n",
      "  %1 = call i1 @__quantum__qis__read_result__body(%Result* inttoptr (i64 1 to %Result*))\n",
      "  %2 = xor i1 %0, %1\n",
      "  call void @__quantum__rt__bool_record_output(i1 %2, i8* getelementptr inbounds ([2 x i8], [2 x i8]* @0, i32 0, i32 0))\n",
      "  ret void\n",
      "}\n",
      "\n",
      "declare void @__quantum__qis__phasedx__body(double, double, %Qubit*)\n",
      "\n",
      "declare void @__quantum__qis__rz__body(double, %Qubit*)\n",
      "\n",
      "declare void @__quantum__qis__mz__body(%Qubit*, %Result*)\n",
      "\n",
      "declare i1 @__quantum__qis__read_result__body(%Result*)\n",
      "\n",
      "declare void @__quantum__rt__bool_record_output(i1, i8*)\n",
      "\n",
      "attributes #0 = { \"entry_point\" \"output_labeling_schema\" \"qir_profiles\"=\"custom\" \"required_num_qubits\"=\"2\" \"required_num_results\"=\"2\" }\n",
      "\n",
      "!llvm.module.flags = !{!0, !1, !2, !3}\n",
      "\n",
      "!0 = !{i32 1, !\"qir_major_version\", i32 1}\n",
      "!1 = !{i32 7, !\"qir_minor_version\", i32 0}\n",
      "!2 = !{i32 1, !\"dynamic_qubit_management\", i1 false}\n",
      "!3 = !{i32 1, !\"dynamic_result_management\", i1 false}\n",
      "\n"
     ]
    }
   ],
   "source": [
    "# The QIR is normally returned as base64 encoded llvm bitcode.\n",
    "# To get a human-readable LLVM assemly language string use the keyword argument `emit_text = True`\n",
    "guppy_qir = hugr_to_qir(main.compile(), emit_text=True)\n",
    "print(guppy_qir)"
   ]
  },
  {
   "cell_type": "code",
   "execution_count": 4,
   "id": "83ed49d7-4ba2-400f-9c6d-43c8e41dd70a",
   "metadata": {},
   "outputs": [],
   "source": [
    "# set up a pytket-quantinnum backend\n",
    "# This required credentials for the device\n",
    "\n",
    "from pytket.extensions.quantinuum import QuantinuumBackend, Language\n",
    "\n",
    "backend = QuantinuumBackend(device_name=\"H1-1SC\")\n",
    "backend.login()\n"
   ]
  },
  {
   "cell_type": "code",
   "execution_count": 6,
   "id": "6271cd9e-20af-451b-92b1-289fde0e83cc",
   "metadata": {},
   "outputs": [
    {
     "name": "stdout",
     "output_type": "stream",
     "text": [
      "('210e11d3993f48aaacd0c51cab682f78', 'null', -1, 'null')\n",
      "[[0]\n",
      " [0]\n",
      " [0]\n",
      " [0]\n",
      " [0]\n",
      " [0]\n",
      " [0]\n",
      " [0]\n",
      " [0]\n",
      " [0]]\n"
     ]
    }
   ],
   "source": [
    "# Submit the qir to the device (which expects the base64 encoded llvm binary)\n",
    "\n",
    "h = backend.submit_program(Language.QIR, guppy_qir_bitcode_string, n_shots=10)\n",
    "r = backend.get_result(h)\n",
    "shots = r.get_shots()\n",
    "assert len(shots) == 10\n",
    "print(h)\n",
    "print(shots)"
   ]
  },
  {
   "cell_type": "code",
   "execution_count": 6,
   "id": "5ed13976-8439-4a52-8189-81d6fac99244",
   "metadata": {},
   "outputs": [],
   "source": [
    "import sys\n",
    "from typing import no_type_check\n",
    "\n",
    "from guppylang import guppy, qubit\n",
    "from guppylang.std.builtins import result\n",
    "from guppylang.std.quantum import h, measure\n",
    "\n",
    "\n",
    "@guppy\n",
    "@no_type_check\n",
    "def main() -> None:\n",
    "    q0 = qubit()\n",
    "    q1 = qubit()\n",
    "\n",
    "    for _ in range(10):\n",
    "        q3 = qubit()\n",
    "        h(q3)\n",
    "        b = measure(q3)\n",
    "        if b:\n",
    "            h(q0)\n",
    "\n",
    "    result(\"0\", measure(q0))\n",
    "    result(\"1\", measure(q1))\n",
    "\n"
   ]
  },
  {
   "cell_type": "code",
   "execution_count": 8,
   "id": "f65a2c40-26ae-4f0b-be28-9ab39a3c6da9",
   "metadata": {
    "scrolled": true
   },
   "outputs": [],
   "source": [
    "# currently it is not supported to convert guppy containing loops into QIR that is understood by H1 and H2.\n",
    "# Running this example shows the expected error.\n",
    "\n",
    "guppy_qir = hugr_to_qir(guppy.compile_module(), validate_qir=True)\n"
   ]
  },
  {
   "cell_type": "code",
   "execution_count": null,
   "id": "278320c9-ed96-4556-af12-f7522b938d27",
   "metadata": {},
   "outputs": [],
   "source": []
  }
 ],
 "metadata": {
  "kernelspec": {
   "display_name": "Python 3 (ipykernel)",
   "language": "python",
   "name": "python3"
  },
  "language_info": {
   "codemirror_mode": {
    "name": "ipython",
    "version": 3
   },
   "file_extension": ".py",
   "mimetype": "text/x-python",
   "name": "python",
   "nbconvert_exporter": "python",
   "pygments_lexer": "ipython3",
   "version": "3.12.9"
  }
 },
 "nbformat": 4,
 "nbformat_minor": 5
}
