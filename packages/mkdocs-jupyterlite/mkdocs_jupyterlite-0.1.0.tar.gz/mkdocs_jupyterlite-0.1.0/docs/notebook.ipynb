{
 "cells": [
  {
   "cell_type": "markdown",
   "id": "e311f1e4",
   "metadata": {},
   "source": [
    "# Notebook 1"
   ]
  },
  {
   "cell_type": "code",
   "execution_count": null,
   "id": "2de0b9fe",
   "metadata": {
    "vscode": {
     "languageId": "plaintext"
    }
   },
   "outputs": [],
   "source": [
    "x = 1"
   ]
  },
  {
   "cell_type": "markdown",
   "id": "a6b80ff4",
   "metadata": {},
   "source": [
    "## Heading 2"
   ]
  },
  {
   "cell_type": "code",
   "execution_count": null,
   "id": "28f91d4a",
   "metadata": {
    "vscode": {
     "languageId": "plaintext"
    }
   },
   "outputs": [],
   "source": [
    "import ipywidgets\n",
    "\n",
    "ipywidgets.IntSlider()"
   ]
  }
 ],
 "metadata": {
  "language_info": {
   "name": "python"
  }
 },
 "nbformat": 4,
 "nbformat_minor": 5
}
