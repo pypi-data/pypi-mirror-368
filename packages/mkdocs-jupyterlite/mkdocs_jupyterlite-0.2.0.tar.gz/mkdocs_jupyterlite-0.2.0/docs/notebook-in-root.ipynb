{
 "cells": [
  {
   "cell_type": "markdown",
   "id": "e311f1e4",
   "metadata": {},
   "source": [
    "# Notebook in the Root of the docs directory"
   ]
  },
  {
   "cell_type": "code",
   "execution_count": 3,
   "id": "2de0b9fe",
   "metadata": {},
   "outputs": [
    {
     "data": {
      "text/plain": [
       "3"
      ]
     },
     "execution_count": 3,
     "metadata": {},
     "output_type": "execute_result"
    }
   ],
   "source": [
    "pre_executed_cell = 1\n",
    "pre_executed_cell + 2"
   ]
  },
  {
   "cell_type": "code",
   "execution_count": null,
   "id": "a4ec3331",
   "metadata": {},
   "outputs": [],
   "source": [
    "unexecuted_cell = 5"
   ]
  },
  {
   "cell_type": "markdown",
   "id": "a6b80ff4",
   "metadata": {},
   "source": [
    "## Heading 2"
   ]
  },
  {
   "cell_type": "code",
   "execution_count": null,
   "id": "28f91d4a",
   "metadata": {},
   "outputs": [],
   "source": [
    "import ipywidgets\n",
    "\n",
    "ipywidgets.IntSlider()"
   ]
  }
 ],
 "metadata": {
  "kernelspec": {
   "display_name": "mkdocs-jupyterlite",
   "language": "python",
   "name": "python3"
  },
  "language_info": {
   "codemirror_mode": {
    "name": "ipython",
    "version": 3
   },
   "file_extension": ".py",
   "mimetype": "text/x-python",
   "name": "python",
   "nbconvert_exporter": "python",
   "pygments_lexer": "ipython3",
   "version": "3.10.16"
  }
 },
 "nbformat": 4,
 "nbformat_minor": 5
}
