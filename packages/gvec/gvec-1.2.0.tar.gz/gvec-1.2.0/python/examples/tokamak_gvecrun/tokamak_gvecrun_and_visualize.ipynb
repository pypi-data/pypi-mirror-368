{
 "cells": [
  {
   "cell_type": "markdown",
   "metadata": {},
   "source": [
    "## Run a tokamak case with gvec and visualize the result\n",
    "\n",
    "**Note:**\n",
    "\n",
    "**This ipython notebook needs prior installation of the gvec python package within a virtual environment, which then should be chosen as kernel!**"
   ]
  },
  {
   "cell_type": "code",
   "execution_count": null,
   "metadata": {},
   "outputs": [],
   "source": [
    "import os\n",
    "from pathlib import Path\n",
    "\n",
    "import numpy as np\n",
    "import matplotlib.pyplot as plt\n",
    "\n",
    "# OMP number of threads for gvec run needs to be before import of gvec\n",
    "os.environ[\"OMP_NUM_THREADS\"] = \"2\"\n",
    "# needs `pip install` of gvec in virtual environment, and to be run in that environment!!!\n",
    "import gvec  # using run & modifying the parameters & postprocessing"
   ]
  },
  {
   "cell_type": "markdown",
   "metadata": {},
   "source": [
    "### Run gvec via python\n",
    "\n",
    "In this example, we first define the parameters in a dictionary. See [GVEC user guide](https://gvec.readthedocs.io/latest/user/index.html) for the full list of parameters.\n",
    "\n",
    "The parameters specify the input profiles (iota and pressure), boundary shape and discretization parameters.\n",
    "\n",
    "- The three unknowns $X^1,X^2,\\lambda$ are functions of the radial, poloidal and toroidal coordinates $\\rho\\in[0,1],\\theta\\in[0,2\\pi],\\zeta\\in[0,2\\pi]$, i.e. \n",
    "  $$X^1(\\rho,\\theta,\\zeta),X^2(\\rho,\\theta,\\zeta),\\lambda(\\rho,\\theta,\\zeta)$$\n",
    "- The radial coordinate $\\rho$ corresponds to the square-root of the normalized toroidal flux $\\rho = \\sqrt{\\Phi / \\Phi_\\text{edge}}$.\n",
    "- Note that the profiles are ***always given over the normalized toroidal flux***, i.e. $s=\\rho^2$. \n",
    "- The default hmap (`which_hmap=1`) defines the map to cylinder coordinates, such that \n",
    "  $$(X^1,X^2,\\zeta)\\mapsto(R,Z,-\\phi)$$\n",
    "- The boundary description is defined by the real cosine/sine Fourier modes, for the unknowns $X^1(\\theta,\\zeta),X^2(\\theta,\\zeta)$ at $\\rho=1$. \n",
    "- In this example, a simple elliptic tokamak is prescribed, meaning that the number of field periods is `nfp=1` and the number of toroidal modes is zero.\n",
    "- GVEC is using B-splines for the radial discretization of the unknowns $X^1,X^2,\\lambda$. \n",
    "    - The number of elements is the same for all quantities, which is defined by the parameter `sgrid_nElems`.\n",
    "      Using at least two radial elements is recommended.  \n",
    "    - The default grid spacing is uniform in $\\rho$. \n",
    "    - The degree of the B-splines can defined separately, with `X1X2_deg`, `LA_deg`. \n",
    "      The resulting number of radial degrees of freedom for a B-Spline is `nElems + deg`. \n",
    "\n",
    "More details on the discretization can be found in the [theory section of the GVEC user guide](https://gvec.readthedocs.io/latest/user/theory.html).\n",
    "\n"
   ]
  },
  {
   "cell_type": "code",
   "execution_count": null,
   "metadata": {},
   "outputs": [],
   "source": [
    "# define GVEC parameters in a dictionary:\n",
    "params = {\n",
    "    \"ProjectName\": \"GVEC_elliptok\",  #  used in output files\n",
    "    # radial resolution parameters ----------------------------------------------------\n",
    "    \"sgrid_nElems\": 5,  # number of radial B-spline elements\n",
    "    \"X1X2_deg\": 5,  # degree of B-splines for X1 and X2\n",
    "    \"LA_deg\": 5,  # degree of B-splines for LA\n",
    "    # Fourier resolution parameters: --------------------------------------------------\n",
    "    \"X1_mn_max\": [3, 0],  # maximum Fourier mode numbers for X1 [m:poloidal,n:toroidal]\n",
    "    \"X2_mn_max\": [3, 0],  # maximum Fourier mode numbers for X2\n",
    "    \"LA_mn_max\": [3, 0],  # maximum Fourier mode numbers for LA\n",
    "    \"nfp\": 1,  # number of field periods\n",
    "    # Fourier modes of boundary shape -------------------------------------------------\n",
    "    \"X1_b_cos\": {\n",
    "        (0, 0): 5.0,\n",
    "        (1, 0): 0.9,\n",
    "    },  # (m,n) cosine Fourier mode coefficient for X1 (=R)\n",
    "    \"X2_b_sin\": {(1, 0): 1.1},  # (m,n) sine Fourier mode coefficient for X2 (=Z)\n",
    "    # initial guess for magnetic axis (only (0,0) mode makes sense) -------------------\n",
    "    \"X1_a_cos\": {(0, 0): 5.0},\n",
    "    # profile definitions for iota and pressure ---------------------------------------\n",
    "    \"iota\": {\n",
    "        \"type\": \"polynomial\",  # c_0 + c_1*s + c_2*s^2 ..., s=rho^2\n",
    "        \"coefs\": [0.625, 0.35],\n",
    "    },\n",
    "    \"pres\": {\n",
    "        \"type\": \"interpolation\",\n",
    "        \"rho2\": [0.0, 0.25, 0.5, 0.75, 1.0],  # rho^2 positions\n",
    "        \"vals\": [1.0, 0.75, 0.5, 0.25, 0.0],  # pressure values at the rho^2 positions\n",
    "        \"scale\": 1000.0,  # scaling factor\n",
    "    },\n",
    "    \"PhiEdge\": 1.0,  # total toriodal flux (scales magnetic field stength)\n",
    "    # Minimizer parameters ------------------------------------------------------------\n",
    "    \"totalIter\": 10000,  # maximum number of iterations\n",
    "    \"minimize_tol\": 1e-8,  # abort tolerance on sqrt(|forces|^2) in the energy minimization\n",
    "}"
   ]
  },
  {
   "cell_type": "markdown",
   "metadata": {},
   "source": [
    "Now, we pass the parameter dictionary to `gvec.run`, with a run subdirectory `run_01`. There, by default, the final solution `{ProjectName}_State_final.dat` and the final set of parameters `parameter_{ProjectName}_final.ini`) is stored. \n",
    "We can extract and plot the history of the GVEC run. We see the change in total MHD energy and the norm of the forces, which are computed as $\\sqrt{||f||^2}$ for each unknown $X^1,X^2,\\lambda$."
   ]
  },
  {
   "cell_type": "code",
   "execution_count": null,
   "metadata": {},
   "outputs": [],
   "source": [
    "runpath = Path(f\"run_{1:02d}\")\n",
    "run = gvec.run(params, runpath=runpath)  # overwrites runpath or creates a new one\n",
    "\n",
    "fig = run.plot_diagnostics_minimization()"
   ]
  },
  {
   "cell_type": "markdown",
   "metadata": {},
   "source": [
    "### Post-processing: evaluate the equilibrium\n",
    "\n",
    "1. Load the final state file from the object `run` that was the output of `gvec.run`. \n",
    "   Alternatively, if run was done outside this notebook, we can find the state from the `runpath`.\n",
    "2. Choose a discrete set of 1D points in radial direction `rho` (proportional to the square-root of the magnetic flux) and poloidal direction `theta` and toroidal direction `zeta`. \n",
    "   - Either by specifying an array, or just the number of points. \n",
    "   - As this example is a tokamak, only one point in toroidal direction is used. \n",
    "   \n",
    "The data is stored in `ev`, which is a `xarray` dataset."
   ]
  },
  {
   "cell_type": "code",
   "execution_count": null,
   "metadata": {},
   "outputs": [],
   "source": [
    "state = run.state\n",
    "# alternatively:\n",
    "state = gvec.find_state(runpath)\n",
    "\n",
    "rho = np.linspace(0, 1, 20)  # radial visualization points\n",
    "theta = np.linspace(0, 2 * np.pi, 50)  # poloidal visualization points\n",
    "\n",
    "ev = state.evaluate(\"X1\", \"X2\", \"LA\", \"iota\", \"p\", rho=rho, theta=theta, zeta=[0.0])"
   ]
  },
  {
   "cell_type": "markdown",
   "metadata": {},
   "source": [
    "### Visualize the result\n",
    "\n",
    "Now, lets visualize the 1D profiles (input quantities) over the radial coordinate $\\rho^2$, which equals the normalized to the toroidal flux $\\Phi / \\Phi_\\text{edge}$."
   ]
  },
  {
   "cell_type": "code",
   "execution_count": null,
   "metadata": {},
   "outputs": [],
   "source": [
    "fig, ax = plt.subplots(1, 2, figsize=(8, 4))\n",
    "\n",
    "ax[0].plot(ev.rho**2, ev.iota)\n",
    "ax[0].set(xlabel=\"$\\\\rho^2\\sim$ tor. flux\", title=\"iota profile\")\n",
    "ax[1].plot(ev.rho**2, ev.p)\n",
    "ax[1].set(xlabel=\"$\\\\rho^2\\sim$ tor. flux\", title=\"pressure profile\");"
   ]
  },
  {
   "cell_type": "markdown",
   "metadata": {},
   "source": [
    "And visualize the 2D cross-section of the example.  Note that contours of $\\rho$ and of the straight-field line angle $\\theta^* =\\theta +\\lambda(\\theta,\\zeta)$  are shown."
   ]
  },
  {
   "cell_type": "code",
   "execution_count": null,
   "metadata": {},
   "outputs": [],
   "source": [
    "fig, ax = plt.subplots(1, 1, figsize=(8, 5))\n",
    "\n",
    "R = ev.X1[:, :, 0]\n",
    "Z = ev.X2[:, :, 0]\n",
    "R_axis = R[0, 0].item()\n",
    "Z_axis = Z[0, 0].item()\n",
    "rho_vis = R * 0 + ev.rho\n",
    "theta_vis = R * 0 + ev.theta\n",
    "thetastar_vis = ev.LA[:, :, 0] + ev.theta\n",
    "p_vis = R * 0 + ev.p\n",
    "rho_levels_vis = np.linspace(0, 1 - 1e-10, 11)\n",
    "theta_levels_vis = np.linspace(0, 2 * np.pi, 16, endpoint=False)\n",
    "c = ax.contourf(R, Z, p_vis, alpha=0.75)\n",
    "fig.colorbar(c, ax=ax, label=\"pressure\")\n",
    "ax.contour(R, Z, rho_vis, rho_levels_vis, colors=\"black\")\n",
    "ax.contour(R, Z, thetastar_vis, theta_levels_vis, colors=\"red\")\n",
    "ax.set(\n",
    "    xlabel=\"$R$\",\n",
    "    ylabel=\"$Z$\",\n",
    "    title=f\"equilibrium solution, cross-section\\n position of magnetic axis (R,Z)=({R_axis:.5f},{Z_axis:.5f})\",\n",
    "    aspect=\"equal\",\n",
    "    xlim=[0.8 * np.amin(R), 1.2 * np.amax(R)],\n",
    "    ylim=[1.1 * np.amin(Z), 1.1 * np.amax(Z)],\n",
    ")\n",
    "ax.legend(\n",
    "    handles=[\n",
    "        plt.Line2D([0], [0], color=\"black\", label=\"$\\\\rho=$const.\"),\n",
    "        plt.Line2D([0], [0], color=\"red\", label=\"$\\\\theta^*=$const\"),\n",
    "    ]\n",
    ");"
   ]
  },
  {
   "cell_type": "markdown",
   "metadata": {},
   "source": [
    "## pygvec command line interface\n",
    "\n",
    "We can also work only on the command line with a parameter file.\n",
    "Lets write the parameters from above to a `parameter.toml` file using"
   ]
  },
  {
   "cell_type": "code",
   "execution_count": null,
   "metadata": {},
   "outputs": [],
   "source": [
    "gvec.util.write_parameters(params, \"parameter.toml\")"
   ]
  },
  {
   "cell_type": "markdown",
   "metadata": {},
   "source": [
    "and then run `pygvec` on the command line (with the virtual environment activated) as \n",
    "\n",
    "   ```bash\n",
    "   mkdir run_02\n",
    "   cp parameter.toml run_02/.\n",
    "   cd run_02\n",
    "   export OMP_NUM_THREADS=2\n",
    "   pygvec run parameter.toml\n",
    "   ```\n",
    "For postprocessing, we can go back to python then load the final state file written in the pygvec run, together with the parameterfile used:\n",
    "```python\n",
    "state = gvec.find_state(\"run_02\")\n",
    "```"
   ]
  }
 ],
 "metadata": {},
 "nbformat": 4,
 "nbformat_minor": 4
}
