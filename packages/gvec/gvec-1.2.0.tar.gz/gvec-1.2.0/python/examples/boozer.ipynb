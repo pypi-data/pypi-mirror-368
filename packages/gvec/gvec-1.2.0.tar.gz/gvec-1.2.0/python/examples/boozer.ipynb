{
 "cells": [
  {
   "cell_type": "markdown",
   "metadata": {},
   "source": [
    "# Boozer transform"
   ]
  },
  {
   "cell_type": "code",
   "execution_count": null,
   "metadata": {},
   "outputs": [],
   "source": [
    "from pathlib import Path\n",
    "import os\n",
    "\n",
    "os.environ[\"OMP_NUM_THREADS\"] = \"8\"\n",
    "\n",
    "import matplotlib.pyplot as plt\n",
    "import xarray as xr\n",
    "\n",
    "import gvec"
   ]
  },
  {
   "cell_type": "code",
   "execution_count": null,
   "metadata": {},
   "outputs": [],
   "source": [
    "runpath = Path(\"run_w7x_01\")"
   ]
  },
  {
   "cell_type": "code",
   "execution_count": null,
   "metadata": {},
   "outputs": [],
   "source": [
    "runpath.mkdir()\n",
    "run = gvec.run(\"parameter-w7x.toml\", runpath=runpath)"
   ]
  },
  {
   "cell_type": "code",
   "execution_count": null,
   "metadata": {},
   "outputs": [],
   "source": [
    "state = gvec.find_state(runpath)\n",
    "rho = [0.1, 0.5, 0.9]\n",
    "ev = state.evaluate(\"mod_B\", rho=rho, theta=20, zeta=15)\n",
    "evb = state.evaluate_sfl(\"mod_B\", \"pos\", rho=rho, theta=20, zeta=15, sfl=\"boozer\")\n",
    "evb"
   ]
  },
  {
   "cell_type": "code",
   "execution_count": null,
   "metadata": {},
   "outputs": [],
   "source": [
    "fig, axs = plt.subplots(2, 3, figsize=(10, 5), sharey=True, sharex=True, tight_layout=True)\n",
    "for i, ax in enumerate(axs[0, :]):\n",
    "    evi = evb.isel(rad=i)\n",
    "    ax.pcolormesh(evi.theta, evi.zeta, evi.mod_B, shading=\"gouraud\")\n",
    "    ax.contour(evi.theta, evi.zeta, evi.mod_B, colors=\"k\", alpha=0.5)\n",
    "    ax.plot(evi.theta, evi.zeta, \"k.\", alpha=0.5, markersize=2)\n",
    "    ax.set(\n",
    "        title=f\"$\\\\rho = {evi.rho.data:.2f}$\",\n",
    "    )\n",
    "axs[0, 0].set(\n",
    "    ylabel=r\"$\\zeta$\",\n",
    ")\n",
    "\n",
    "for i, ax in enumerate(axs[1, :]):\n",
    "    evi = ev.isel(rad=i)\n",
    "    ax.pcolormesh(evi.theta, evi.zeta, evi.mod_B.T, shading=\"gouraud\")\n",
    "    ax.contour(evi.theta, evi.zeta, evi.mod_B.T, colors=\"k\", alpha=0.5)\n",
    "    T, Z = xr.broadcast(evi.theta, evi.zeta)\n",
    "    ax.plot(T, Z, \"k.\", alpha=0.5, markersize=2)\n",
    "    ax.set(\n",
    "        xlabel=r\"$\\theta$\",\n",
    "    )\n",
    "axs[1, 0].set(\n",
    "    ylabel=r\"$\\zeta$\",\n",
    ")\n",
    "\n",
    "fig.suptitle(\n",
    "    \"$|B|$ in Logical coordinates computed via a Boozer grid (top) or regular grid (bottom)\"\n",
    ");"
   ]
  },
  {
   "cell_type": "code",
   "execution_count": null,
   "metadata": {},
   "outputs": [],
   "source": [
    "fig, axs = plt.subplots(2, 3, figsize=(10, 5), sharey=True, sharex=True, tight_layout=True)\n",
    "for i, ax in enumerate(axs[0, :]):\n",
    "    evi = evb.isel(rad=i)\n",
    "    ax.pcolormesh(evi.theta_B, evi.zeta_B, evi.mod_B.T, shading=\"gouraud\")\n",
    "    ax.contour(evi.theta_B, evi.zeta_B, evi.mod_B.T, colors=\"k\", alpha=0.5)\n",
    "    ax.set(\n",
    "        xlabel=r\"$\\theta_B$\",\n",
    "        title=f\"$\\\\rho = {evi.rho.data:.2f}$\",\n",
    "    )\n",
    "axs[0, 0].set(\n",
    "    ylabel=r\"$\\zeta_B$\",\n",
    ")\n",
    "\n",
    "for i, ax in enumerate(axs[1, :]):\n",
    "    evi = evb.isel(rad=i)\n",
    "    ax.pcolormesh(evi.theta, evi.zeta, evi.mod_B, shading=\"gouraud\")\n",
    "    ax.contour(evi.theta, evi.zeta, evi.mod_B, colors=\"k\", alpha=0.5)\n",
    "    ax.set(\n",
    "        xlabel=r\"$\\theta$\",\n",
    "        title=f\"$\\\\rho = {evi.rho.data:.2f}$\",\n",
    "    )\n",
    "axs[1, 0].set(\n",
    "    ylabel=r\"$\\zeta$\",\n",
    ")\n",
    "fig.suptitle(\"$|B|$ in Boozer coordinates (top) or logical coordinates (bottom)\");"
   ]
  }
 ],
 "metadata": {},
 "nbformat": 4,
 "nbformat_minor": 2
}
