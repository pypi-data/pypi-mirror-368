{
 "cells": [
  {
   "cell_type": "markdown",
   "metadata": {},
   "source": [
    "# Visualization"
   ]
  },
  {
   "cell_type": "code",
   "execution_count": null,
   "metadata": {},
   "outputs": [],
   "source": [
    "import os\n",
    "from pathlib import Path\n",
    "\n",
    "import numpy as np\n",
    "import matplotlib.pyplot as plt\n",
    "from ipywidgets import interact, widgets  # for interactive plots\n",
    "\n",
    "os.environ[\"OMP_NUM_THREADS\"] = \"2\"\n",
    "import gvec"
   ]
  },
  {
   "cell_type": "markdown",
   "metadata": {},
   "source": [
    "Load a specific GVEC equilibrium state:"
   ]
  },
  {
   "cell_type": "code",
   "execution_count": null,
   "metadata": {},
   "outputs": [],
   "source": [
    "rundir = Path(\"run_w7x_01\")\n",
    "# or rundir = Path(tokamak_gvecrun/run_01\")\n",
    "state = gvec.find_state(rundir)"
   ]
  },
  {
   "cell_type": "markdown",
   "metadata": {},
   "source": [
    "pyGVEC allows computing a variety of different quantities. We can print a table of the available quantities which we can then use later:"
   ]
  },
  {
   "cell_type": "code",
   "execution_count": null,
   "metadata": {},
   "outputs": [],
   "source": [
    "gvec.table_of_quantities(markdown=True)"
   ]
  },
  {
   "cell_type": "markdown",
   "metadata": {},
   "source": [
    "Now we load a GVEC equilibrium, specifiy the resolution at which we want to evaluate it and the quantities of interest.\n",
    "pyGVEC will now compute hte quantities of interest and their requirements and add them all to one `xarray.Dataset`."
   ]
  },
  {
   "cell_type": "code",
   "execution_count": null,
   "metadata": {},
   "outputs": [],
   "source": [
    "varlist = [\"N_FP\", \"mod_B\", \"iota\", \"p\", \"I_tor\", \"I_pol\", \"iota_curr\", \"iota_0\", \"Phi\", \"chi\"]\n",
    "ev = state.evaluate(*varlist, rho=21, theta=51, zeta=51)\n",
    "\n",
    "ev"
   ]
  },
  {
   "cell_type": "markdown",
   "metadata": {},
   "source": [
    "The data contained in the `xarrray.Dataset` can now be plotted or used as desired.\n",
    "\n",
    "First we plot the relevant profiles."
   ]
  },
  {
   "cell_type": "code",
   "execution_count": null,
   "metadata": {},
   "outputs": [],
   "source": [
    "# === Profiles === #\n",
    "fig, axs = plt.subplots(2, 3, figsize=(15, 6), tight_layout=True, sharex=True)\n",
    "\n",
    "for ax, var in zip(axs.flatten(), [\"Phi\", \"chi\", \"iota\", \"p\", \"I_tor\", \"I_pol\"]):\n",
    "    ax.plot(ev.rho, ev[var], label=f\"${ev[var].attrs['symbol']}$\")\n",
    "    ax.set(\n",
    "        title=ev[var].attrs[\"long_name\"],\n",
    "        ylabel=f\"${ev[var].attrs['symbol']}$\",\n",
    "    )\n",
    "\n",
    "axs[0, 2].plot(ev.rho, ev.iota_curr, \"--\", label=f\"${ev.iota_curr.attrs['symbol']}$\")\n",
    "axs[0, 2].plot(ev.rho, ev.iota_0, \"--\", label=f\"${ev.iota_0.attrs['symbol']}$\")\n",
    "\n",
    "for ax in axs[-1, :]:\n",
    "    ax.set_xlabel(f\"${ev.rho.attrs['symbol']}$\")\n",
    "\n",
    "for ax in axs.flat:\n",
    "    ax.legend()"
   ]
  },
  {
   "cell_type": "markdown",
   "metadata": {},
   "source": [
    "And the cross-sections of the poloidal planes:"
   ]
  },
  {
   "cell_type": "code",
   "execution_count": null,
   "metadata": {},
   "outputs": [],
   "source": [
    "# === Cross-sections === #\n",
    "fig, axs = plt.subplots(3, 4, figsize=(15, 6), tight_layout=True, sharex=True, sharey=True)\n",
    "\n",
    "cuts = np.linspace(0, 2 * np.pi / ev.N_FP.item(), 12)\n",
    "for ax, zeta in zip(axs.flat, cuts):\n",
    "    ds = ev.sel(zeta=zeta, method=\"nearest\")\n",
    "\n",
    "    r = np.linspace(0, ds.rad.size - 1, 5, dtype=int)\n",
    "    ax.plot(ds.isel(rad=r).X1.T, ds.isel(rad=r).X2.T, \"C0-\")\n",
    "\n",
    "    t = np.linspace(0, ds.pol.size - 1, 8, dtype=int, endpoint=False)\n",
    "    ax.plot(ds.isel(pol=t).X1, ds.isel(pol=t).X2, \"C1-\")\n",
    "    ax.set(\n",
    "        aspect=\"equal\",\n",
    "        title=f\"$\\\\zeta = {zeta:.2f}$\",\n",
    "    )\n",
    "\n",
    "for ax in axs[-1, :]:\n",
    "    ax.set_xlabel(f\"${ev.X1.attrs['symbol']}$\")\n",
    "for ax in axs[:, 0]:\n",
    "    ax.set_ylabel(f\"${ev.X2.attrs['symbol']}$\")"
   ]
  },
  {
   "cell_type": "markdown",
   "metadata": {},
   "source": [
    "Lastly we can plot various quantities on a specific fluxsurface interactively:"
   ]
  },
  {
   "cell_type": "code",
   "execution_count": null,
   "metadata": {},
   "outputs": [],
   "source": [
    "def plot_ds(fig, ax, ds, var, theta, zeta, dots=True, mode=\"color\"):\n",
    "    if mode in [\"color\", \"both\"]:\n",
    "        pcm = ax.pcolormesh(zeta, theta, ds[var], shading=\"gouraud\")\n",
    "        fig.colorbar(pcm, ax=ax)\n",
    "    if mode == \"contour\":\n",
    "        cnt = ax.contour(zeta, theta, ds[var], 20)\n",
    "        fig.colorbar(cnt, ax=ax)\n",
    "    elif mode == \"both\":\n",
    "        ax.contour(zeta, theta, ds[var], 20, colors=\"k\", linewidths=0.5)\n",
    "\n",
    "    if dots:\n",
    "        t, z = np.meshgrid(zeta, theta)\n",
    "        ax.plot(t.flat, z.flat, \"k.\", ms=1)\n",
    "    ax.set(\n",
    "        xlabel=f\"${zeta.attrs['symbol']}$\",\n",
    "        ylabel=f\"${theta.attrs['symbol']}$\",\n",
    "    )\n",
    "\n",
    "\n",
    "def plot(rho, var, dots, mode, ds):\n",
    "    fig, ax = plt.subplots(1, 1, figsize=(8, 8), tight_layout=True, sharex=True, sharey=True)\n",
    "    fig.suptitle(\n",
    "        f\"Logical coordinates, one field period, $N_{{FP}}={ds['N_FP'].item()}$, $\\\\rho={rho:.3f}$\\n{var}: ${ds[var].attrs['symbol']}$\\n{ds[var].attrs['long_name']}\"\n",
    "    )\n",
    "    plot_ds(fig, ax, ds.sel(rho=rho), var, ds.theta, ds.zeta, dots, mode)\n",
    "\n",
    "\n",
    "interact(\n",
    "    plot,\n",
    "    rho=widgets.SelectionSlider(options=ev.rho.data, continuous_update=False),\n",
    "    var=[var for var in ev.data_vars if ev[var].dims == (\"rad\", \"pol\", \"tor\")],\n",
    "    dots=[False, True],\n",
    "    mode=[\"both\", \"color\", \"contour\"],\n",
    "    ds=widgets.fixed(ev),\n",
    ");"
   ]
  },
  {
   "cell_type": "markdown",
   "metadata": {},
   "source": [
    "For 3D visualizations one might want to change to powerful 3D visualization tools such as [paraview](https://www.paraview.org/). For such purposes pyGVEC datasets can easily be exported to the `.vts` format via the `ev2vtk` function. Note that all variables will be broadcast to the 3D grid defined by the `pos` variable. Hence, it might be advisable to select just those variables which will be used during the visualization to avoid unnecessary large files."
   ]
  },
  {
   "cell_type": "code",
   "execution_count": null,
   "metadata": {},
   "outputs": [],
   "source": [
    "from gvec.vtk import ev2vtk\n",
    "\n",
    "variables_for_3D = [\"X1\", \"X2\", \"LA\", \"pos\", \"B\"]\n",
    "visu_data_3D = ev[variables_for_3D]\n",
    "ev2vtk(\"pyGVEC_3d_visu\", visu_data_3D)"
   ]
  }
 ],
 "metadata": {},
 "nbformat": 4,
 "nbformat_minor": 2
}
