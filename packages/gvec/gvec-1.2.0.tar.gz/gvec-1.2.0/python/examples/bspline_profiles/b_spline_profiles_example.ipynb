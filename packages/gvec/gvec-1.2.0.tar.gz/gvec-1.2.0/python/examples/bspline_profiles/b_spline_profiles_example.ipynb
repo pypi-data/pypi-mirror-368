{
 "cells": [
  {
   "cell_type": "markdown",
   "metadata": {},
   "source": [
    "# `pygvec` example for using B-spline profiles\n",
    "\n",
    "This notebook demonstrates how `pygvec` interfaces with the B-spline radial plasma profiles available in `gvec`."
   ]
  },
  {
   "cell_type": "code",
   "execution_count": null,
   "metadata": {},
   "outputs": [],
   "source": [
    "import os\n",
    "\n",
    "from scipy.interpolate import make_splrep\n",
    "import numpy as np\n",
    "import matplotlib.pyplot as plt\n",
    "\n",
    "# OMP number of threads for gvec run needs to be before import of gvec\n",
    "os.environ[\"OMP_NUM_THREADS\"] = \"2\"\n",
    "# needs `pip install` of gvec in virtual environment, and to be run in that environment!!!\n",
    "import gvec  # using run & modifying the parameters & postprocessing"
   ]
  },
  {
   "cell_type": "markdown",
   "metadata": {},
   "source": [
    "First, we want to interpolate some pressure profile shape and hand it over to `gvec`. To this end we define a simple profile parameterization, a two-power profile:"
   ]
  },
  {
   "cell_type": "code",
   "execution_count": null,
   "metadata": {},
   "outputs": [],
   "source": [
    "def two_power(s, a=3, b=5):\n",
    "    return (1 - s**a) ** b\n",
    "\n",
    "\n",
    "# first derivative with respect to rho=sqrt(s)\n",
    "def two_power_dr(s, a=3, b=5):\n",
    "    return b * (1 - s**a) ** (b - 1) * (-a * s ** (a - 1)) * 2 * np.sqrt(s)\n",
    "\n",
    "\n",
    "# second derivative with respect to rho=sqrt(s)\n",
    "def two_power_drr(s, a=3, b=5):\n",
    "    return (\n",
    "        2 * a * b * s ** (a - 1) * (1 - s**a) ** (b - 2) * (2 * a * (b * s**a - 1) - s**a + 1)\n",
    "    )\n",
    "\n",
    "\n",
    "x_tp = np.linspace(0, 1, 51)\n",
    "y_tp = two_power(x_tp)\n",
    "\n",
    "x_plot = np.linspace(0, 1, 100)\n",
    "y_plot = two_power(x_plot)\n",
    "\n",
    "fig, ax = plt.subplots()\n",
    "ax.plot(x_plot, y_plot, label=\"two power profile\")\n",
    "ax.plot(x_tp, y_tp, \".\", label=\"interpolation points\")\n",
    "ax.set_xlabel(r\"s = $\\frac{\\phi}{\\phi_{norm}}$\")\n",
    "ax.set_ylabel(r\"$P/P_0$\")\n",
    "plt.legend()"
   ]
  },
  {
   "cell_type": "markdown",
   "metadata": {},
   "source": [
    "Next, we interpolate the profile with B-splines using `scipy`. "
   ]
  },
  {
   "cell_type": "code",
   "execution_count": null,
   "metadata": {},
   "outputs": [],
   "source": [
    "bspl = make_splrep(x_tp, y_tp, k=5)\n",
    "y_bspl = bspl(x_plot)\n",
    "\n",
    "fig, ax = plt.subplots()\n",
    "ax.plot(x_plot, y_plot, label=\"two power profile\")\n",
    "ax.plot(x_tp, y_tp, \".\", label=\"interpolation points\")\n",
    "ax.plot(x_plot, y_bspl, \"r--\", label=\"scipy B-Spline fit\")\n",
    "ax.set_xlabel(r\"s = $\\frac{\\phi}{\\phi_{norm}}$\")\n",
    "ax.set_ylabel(r\"$P/P_0$\")\n",
    "plt.legend()"
   ]
  },
  {
   "cell_type": "markdown",
   "metadata": {},
   "source": [
    "Now we want to adapt an existing parameter file with some changed values and our B-spline fit of the two-power pressure profile:"
   ]
  },
  {
   "cell_type": "code",
   "execution_count": null,
   "metadata": {},
   "outputs": [],
   "source": [
    "params = {}\n",
    "iota_coefs = [0.523, 0.625]  # a0*s + a1\n",
    "\n",
    "# This profile uses the default polynomial representation\n",
    "params[\"iota_coefs\"] = iota_coefs  # c_0 + c_1*s +c_2*s^2+ ...\n",
    "params[\"pres_scale\"] = 1500\n",
    "params"
   ]
  },
  {
   "cell_type": "markdown",
   "metadata": {},
   "source": [
    "To translate a `scipy` B-spline into input parameters as used by `gvec` we can call `gvec.util.bspl2gvec`."
   ]
  },
  {
   "cell_type": "code",
   "execution_count": null,
   "metadata": {},
   "outputs": [],
   "source": [
    "params = gvec.util.bspl2gvec(\n",
    "    \"pres\", bspl, params=params\n",
    ")  # handing over the params dict extends it\n",
    "params"
   ]
  },
  {
   "cell_type": "markdown",
   "metadata": {},
   "source": [
    "Alternatively we could just hand over the knots and coefficients to `gvec.util.bspl2gvec`, if, for example, we used an other interpolation routine."
   ]
  },
  {
   "cell_type": "code",
   "execution_count": null,
   "metadata": {},
   "outputs": [],
   "source": [
    "params = gvec.util.bspl2gvec(\"pres\", knots=bspl.t, coefs=bspl.c, params=params)\n",
    "params"
   ]
  },
  {
   "cell_type": "markdown",
   "metadata": {},
   "source": [
    "With the new parameters we can thus evaluate the profile and its derivatives with respect to $\\rho=\\sqrt{s}$ or run `gvec`."
   ]
  },
  {
   "cell_type": "code",
   "execution_count": null,
   "metadata": {},
   "outputs": [],
   "source": [
    "gvec.util.adapt_parameter_file(\"parameter.ini\", \"parameter_bspl.ini\", **params)"
   ]
  },
  {
   "cell_type": "code",
   "execution_count": null,
   "metadata": {},
   "outputs": [],
   "source": [
    "with gvec.State(\"parameter_bspl.ini\") as state:\n",
    "    rho = np.linspace(0, 1, 100)  # radial visualization points\n",
    "    p = state.evaluate_profile(\"p\", rho=rho)\n",
    "    dp_dr = state.evaluate_profile(\"p\", rho=rho, deriv=1)\n",
    "    dp_drr = state.evaluate_profile(\"p\", rho=rho, deriv=2)"
   ]
  },
  {
   "cell_type": "code",
   "execution_count": null,
   "metadata": {},
   "outputs": [],
   "source": [
    "fig, ax = plt.subplots()\n",
    "ax.plot(x_plot, y_plot, label=\"two power profile\")\n",
    "ax.plot(x_tp, y_tp, \".\", label=\"interpolation points\")\n",
    "ax.plot(\n",
    "    rho**2, p / p[0], \"r--\", label=\"gvec B-spline\"\n",
    ")  # note that the pressure profile is scaled with pres_scale\n",
    "ax.set_xlabel(r\"s = $\\frac{\\phi}{\\phi_{norm}}$\")\n",
    "ax.set_ylabel(r\"$P/P_0$\")\n",
    "plt.legend()"
   ]
  },
  {
   "cell_type": "code",
   "execution_count": null,
   "metadata": {},
   "outputs": [],
   "source": [
    "fig_dr, ax_dr = plt.subplots()\n",
    "ax_dr.plot(x_plot, two_power_dr(x_plot), label=\"two power profile\")\n",
    "ax_dr.plot(rho**2, dp_dr / p[0], \"r--\", label=\"gvec B-spline\")\n",
    "ax_dr.set_xlabel(r\"s = $\\frac{\\phi}{\\phi_{norm}}$\")\n",
    "ax_dr.set_ylabel(r\"$P'/P_0$\")\n",
    "plt.legend()\n",
    "\n",
    "fig_drr, ax_drr = plt.subplots()\n",
    "ax_drr.plot(x_plot, two_power_drr(x_plot), label=\"two power profile\")\n",
    "ax_drr.plot(rho**2, dp_drr / p[0], \"r--\", label=\"gvec B-spline\")\n",
    "ax_drr.set_xlabel(r\"s = $\\frac{\\phi}{\\phi_{norm}}$\")\n",
    "ax_drr.set_ylabel(r\"$P''/P_0$\")\n",
    "plt.legend()"
   ]
  },
  {
   "cell_type": "markdown",
   "metadata": {},
   "source": [
    "`gvec` also provides the option to directly interpolate the $\\iota$ and pressure profile via cubic B-splines. In such a case we need to provide `iota_vals`/`pres_vals` and `iota_rho2`/`pres_rho2` and change `iota_type`/`pres_type` to `interpolation`. Per default the interpolation uses *not-a-knot* boundary conditions."
   ]
  },
  {
   "cell_type": "code",
   "execution_count": null,
   "metadata": {},
   "outputs": [],
   "source": [
    "# delete the old entries\n",
    "del params[\"pres_knots\"]\n",
    "del params[\"pres_coefs\"]"
   ]
  },
  {
   "cell_type": "markdown",
   "metadata": {},
   "source": [
    "With our two power profile example we hand over `x_tp` for $\\rho^2=$`rho2` and `y_tp` as `vals`:"
   ]
  },
  {
   "cell_type": "code",
   "execution_count": null,
   "metadata": {},
   "outputs": [],
   "source": [
    "params[\"pres_vals\"] = y_tp\n",
    "params[\"pres_rho2\"] = x_tp\n",
    "params[\"pres_type\"] = \"interpolation\"\n",
    "gvec.util.adapt_parameter_file(\"parameter.ini\", \"parameter_interpolation.ini\", **params)"
   ]
  },
  {
   "cell_type": "markdown",
   "metadata": {},
   "source": [
    "Let's see if the interpolation is as expected:"
   ]
  },
  {
   "cell_type": "code",
   "execution_count": null,
   "metadata": {},
   "outputs": [],
   "source": [
    "rho = np.linspace(0, 1, 100)  # radial visualization points\n",
    "\n",
    "with gvec.State(\"parameter_interpolation.ini\") as state:\n",
    "    p = state.evaluate_profile(\"p\", rho=rho)"
   ]
  },
  {
   "cell_type": "code",
   "execution_count": null,
   "metadata": {},
   "outputs": [],
   "source": [
    "fig, ax = plt.subplots()\n",
    "ax.plot(x_plot, y_plot, label=\"two power profile\")\n",
    "ax.plot(x_tp, y_tp, \".\", label=\"interpolation points\")\n",
    "ax.plot(\n",
    "    rho**2, p / p[0], \"r--\", label=\"gvec interpolation\"\n",
    ")  # note that the pressure profile is scaled with pres_scale\n",
    "ax.set_xlabel(r\"s = $\\frac{\\phi}{\\phi_{norm}}$\")\n",
    "ax.set_ylabel(r\"$P/P_0$\")\n",
    "plt.legend()"
   ]
  },
  {
   "cell_type": "markdown",
   "metadata": {},
   "source": [
    "Alternatively to the *not-a-knot* boundary condition (BC) one can also specify the first or second derivative at the axis/edge via the `_BC_type_axis` or `_BC_type_edge` and the array `_BC_vals`. For example in the two power profile example we could set the $1^{\\text{st}}$ derivative at the edge to zero by specifying `pres_BC_type_edge=1st_deriv`. The default BC value is zero, but for demonstration purposes we will still specify it explicitly via `pres_BC_vals=(/0.0,0.0/)`. Note that since `pres_BC_type_axis=not_a_knot`, the first entry of `pres_BC_vals` is ignored.\n",
    "\n",
    "To see some differences between the BC, let us also reduce the number of available interpolation points:"
   ]
  },
  {
   "cell_type": "code",
   "execution_count": null,
   "metadata": {},
   "outputs": [],
   "source": [
    "x_tp = np.linspace(0, 1, 4)\n",
    "y_tp = two_power(x_tp)\n",
    "\n",
    "bspl = make_splrep(x_tp, y_tp)"
   ]
  },
  {
   "cell_type": "code",
   "execution_count": null,
   "metadata": {},
   "outputs": [],
   "source": [
    "params[\"pres_vals\"] = y_tp\n",
    "params[\"pres_rho2\"] = x_tp\n",
    "params[\"pres_BC_type_edge\"] = \"1st_deriv\"\n",
    "params[\"pres_BC_vals\"] = [0.0, 0.0]\n",
    "gvec.util.adapt_parameter_file(\"parameter.ini\", \"parameter_interpolation.ini\", **params)\n",
    "\n",
    "with gvec.State(\"parameter_interpolation.ini\") as state:\n",
    "    p = state.evaluate_profile(\"p\", rho=rho)"
   ]
  },
  {
   "cell_type": "code",
   "execution_count": null,
   "metadata": {},
   "outputs": [],
   "source": [
    "fig, ax = plt.subplots()\n",
    "ax.plot(x_plot, y_plot, label=\"two power profile\")\n",
    "ax.plot(x_tp, y_tp, \".\", label=\"interpolation points\")\n",
    "ax.plot(rho**2, bspl(rho**2), \"-.\", label=\"scipy not-a-knot\")\n",
    "ax.plot(\n",
    "    rho**2, p / p[0], \"r--\", label=r\"gvec $\\text{BC}_{edge}: P'(\\rho^2 = 1)=0$\"\n",
    ")  # note that the pressure profile is scaled with pres_scale\n",
    "ax.set_xlabel(r\"s = $\\frac{\\phi}{\\phi_{norm}}$\")\n",
    "ax.set_ylabel(r\"$P/P_0$\")\n",
    "plt.legend()"
   ]
  },
  {
   "cell_type": "markdown",
   "metadata": {},
   "source": [
    "In our example, we can improve the interpolation even further by also specifying the $1^{\\text{st}}$ derivative at the axis."
   ]
  },
  {
   "cell_type": "code",
   "execution_count": null,
   "metadata": {},
   "outputs": [],
   "source": [
    "params[\"pres_BC_type_axis\"] = \"1st_deriv\"\n",
    "gvec.util.adapt_parameter_file(\"parameter.ini\", \"parameter_interpolation.ini\", **params)\n",
    "\n",
    "with gvec.State(\"parameter_interpolation.ini\") as state:\n",
    "    p = state.evaluate_profile(\"p\", rho=rho)"
   ]
  },
  {
   "cell_type": "code",
   "execution_count": null,
   "metadata": {},
   "outputs": [],
   "source": [
    "fig, ax = plt.subplots()\n",
    "ax.plot(x_plot, y_plot, label=\"two power profile\")\n",
    "ax.plot(x_tp, y_tp, \".\", label=\"interpolation points\")\n",
    "ax.plot(rho**2, bspl(rho**2), \"-.\", label=\"scipy not-a-knot\")\n",
    "ax.plot(\n",
    "    rho**2, p / p[0], \"r--\", label=r\"gvec $\\text{BC}_{edge} = \\text{BC}_{axis}: P'=0$\"\n",
    ")  # note that the pressure profile is scaled with pres_scale\n",
    "ax.set_xlabel(r\"s = $\\frac{\\phi}{\\phi_{norm}}$\")\n",
    "ax.set_ylabel(r\"$P/P_0$\")\n",
    "plt.legend()"
   ]
  }
 ],
 "metadata": {},
 "nbformat": 4,
 "nbformat_minor": 2
}
