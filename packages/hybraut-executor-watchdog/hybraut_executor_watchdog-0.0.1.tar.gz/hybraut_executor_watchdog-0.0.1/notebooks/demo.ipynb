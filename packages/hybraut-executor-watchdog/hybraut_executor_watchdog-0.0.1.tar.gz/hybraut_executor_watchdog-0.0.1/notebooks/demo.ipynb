{
 "cells": [
  {
   "cell_type": "markdown",
   "id": "b347111e",
   "metadata": {},
   "source": [
    "<h1 style=\"text-align: center;\">hybraut watchdog</h1>\n",
    "\n",
    "The runtime system is monitored and managed by a **hybraut-executor-watchdog (FSM)**. This FSM listens to runtime events and responds accordingly to maintain mission continuity and enable it to automate part of the **hybraut_ros2** lifecycle, enable it to recover from failures, and safely shut down in critical conditions. It helps enforce lifecycle safety and determinism across automaton operations.\n",
    "\n",
    "When specific events are published (e.g., mode transitions, errors, mission completion), the FSM interprets these and updates the automaton's state. Each FSM state is also associated with a corresponding **status message**, which is published to inform external systems about the automaton's condition.\n",
    "\n",
    "![hybraut_watchdog_fsm_png](../.github/diagrams/hybraut_watchdog_fsm_flowchart.png)"
   ]
  },
  {
   "cell_type": "markdown",
   "id": "88cefa03",
   "metadata": {},
   "source": [
    "## Setup\n",
    "\n",
    "The code below is a simple setup of a mock node containing the **hybraut-exeuctor-watchdog (FSM)** I/O ros2 publishers and subscriptions that are required for the automaton to transition and output statuses associated with **FSM** states"
   ]
  },
  {
   "cell_type": "code",
   "execution_count": 78,
   "id": "cdf9e21d",
   "metadata": {},
   "outputs": [],
   "source": [
    "import rclpy\n",
    "from rclpy.node import Node\n",
    "from rclpy.qos import QoSProfile, qos_profile_system_default\n",
    "import os\n",
    "import threading\n",
    "import time\n",
    "from rclpy.executors import MultiThreadedExecutor, Executor\n",
    "from rclpy.callback_groups import ReentrantCallbackGroup\n",
    "from hybraut_executor_watchdog import FSM\n",
    "from hybraut_interfaces.msg import AutomatonEvents, AutomatonStatus\n",
    "from hybraut_executor_watchdog.hybraut_consts import EventEnum, StatusEnum\n",
    "\n",
    "if rclpy.ok():\n",
    "    rclpy.shutdown()\n",
    "\n",
    "\n",
    "rclpy.init()\n",
    "\n",
    "\n",
    "QOS = QoSProfile(depth=10, reliability=qos_profile_system_default.reliability)\n",
    "\n",
    "try:\n",
    "    executor: Executor = MultiThreadedExecutor(num_threads=os.cpu_count())\n",
    "    node = Node(\"hybraut_watchdog_demo\")\n",
    "    executor.add_node(node)\n",
    "    \n",
    "    # Start executor in background thread\n",
    "    thread = threading.Thread(target=executor.spin, daemon=True)\n",
    "    thread.start()\n",
    "    \n",
    "    # Create FSM instance\n",
    "    fsm = FSM(node=node, cb_group=ReentrantCallbackGroup(), qos=QOS)\n",
    "    \n",
    "    # Create event publisher for testing\n",
    "    event_publisher = node.create_publisher(\n",
    "        AutomatonEvents, \"/automaton/events\", \n",
    "        qos_profile=QOS, callback_group=ReentrantCallbackGroup()\n",
    "    )\n",
    "\n",
    "    current_statuses = [fsm.get_current_state().value]\n",
    "\n",
    "    def status_callback(msg: AutomatonStatus):\n",
    "        current_statuses.append(msg.type)\n",
    "        \n",
    "    status_subscription = node.create_subscription(\n",
    "        AutomatonStatus, \"/automaton/status\",\n",
    "        status_callback, qos_profile=QOS, callback_group=ReentrantCallbackGroup()\n",
    "    )\n",
    "    \n",
    "    # Wait for connections\n",
    "    time.sleep(1.0)\n",
    "except Exception as e:\n",
    "    rclpy.shutdown()\n",
    "    exit(1)"
   ]
  },
  {
   "cell_type": "markdown",
   "id": "e2cb22a9",
   "metadata": {},
   "source": [
    "below is a function for running through test event list and verifying the tests executed correctly"
   ]
  },
  {
   "cell_type": "code",
   "execution_count": 79,
   "id": "604448b4",
   "metadata": {},
   "outputs": [],
   "source": [
    "from typing import List, Tuple\n",
    "import time\n",
    "from hybraut_interfaces.msg import AutomatonEvents, AutomatonStatus\n",
    "\n",
    "def execute_test_events(\n",
    "    test_events: List[Tuple[EventEnum, str]],\n",
    ") -> None:\n",
    "    \"\"\"\n",
    "    Execute a series of test events on the FSM and return the results.\n",
    "\n",
    "    Returns:\n",
    "        A list of tuples, each containing:\n",
    "        - The AutomatonEvent that was published\n",
    "        - The actual FSM state and message after the event\n",
    "        - The expected FSM state and message\n",
    "    \"\"\"\n",
    "\n",
    "    for event_type, message in test_events:\n",
    "        # Publish event\n",
    "        event_msg = AutomatonEvents(type=event_type.value, message=message)\n",
    "        event_publisher.publish(event_msg)\n",
    "\n",
    "        # Allow FSM time to process\n",
    "        time.sleep(0.2)"
   ]
  },
  {
   "cell_type": "markdown",
   "id": "7daa30cd",
   "metadata": {},
   "source": [
    "## Basic Happy Path Test\n",
    "\n",
    "This test tests a valid test. \n",
    "Active -> TRANSITIONING -> ACTIVE -> MISSION_COMPLETE"
   ]
  },
  {
   "cell_type": "code",
   "execution_count": null,
   "id": "e849fcc1",
   "metadata": {},
   "outputs": [
    {
     "name": "stderr",
     "output_type": "stream",
     "text": [
      "[INFO] [1754643107.513422289] [hybraut_watchdog_demo]: Processing event: EventEnum.TRANSITION_GUARD_ENABLED\n",
      "[INFO] [1754643107.514878390] [hybraut_watchdog_demo]: Fired trigger: enable_guard\n",
      "[INFO] [1754643107.661618124] [hybraut_watchdog_demo]: Processing event: EventEnum.TRANSITION_COMPLETE\n",
      "[INFO] [1754643107.662231024] [hybraut_watchdog_demo]: Fired trigger: complete_transition\n",
      "[INFO] [1754643107.860161470] [hybraut_watchdog_demo]: Processing event: EventEnum.TRANSITION_GUARD_ENABLED\n",
      "[INFO] [1754643107.861692170] [hybraut_watchdog_demo]: Fired trigger: enable_guard\n",
      "[INFO] [1754643108.064677817] [hybraut_watchdog_demo]: Processing event: EventEnum.TRANSITION_COMPLETE\n",
      "[INFO] [1754643108.065487217] [hybraut_watchdog_demo]: Fired trigger: complete_transition\n",
      "[INFO] [1754643108.330893879] [hybraut_watchdog_demo]: Processing event: EventEnum.TRANSITION_GUARD_ENABLED\n",
      "[INFO] [1754643108.331740079] [hybraut_watchdog_demo]: Fired trigger: enable_guard\n",
      "[INFO] [1754643108.474378112] [hybraut_watchdog_demo]: Processing event: EventEnum.TRANSITION_COMPLETE\n",
      "[INFO] [1754643108.475292212] [hybraut_watchdog_demo]: Fired trigger: complete_transition\n",
      "[INFO] [1754643108.668454557] [hybraut_watchdog_demo]: Processing event: EventEnum.TRANSITION_GUARD_ENABLED\n",
      "[INFO] [1754643108.669566857] [hybraut_watchdog_demo]: Fired trigger: enable_guard\n",
      "[INFO] [1754643108.872081204] [hybraut_watchdog_demo]: Processing event: EventEnum.TRANSITION_COMPLETE\n",
      "[INFO] [1754643108.873538404] [hybraut_watchdog_demo]: Fired trigger: complete_transition\n",
      "[INFO] [1754643109.065624949] [hybraut_watchdog_demo]: Processing event: EventEnum.TRANSITION_GUARD_ENABLED\n",
      "[INFO] [1754643109.066875649] [hybraut_watchdog_demo]: Fired trigger: enable_guard\n",
      "[INFO] [1754643109.289326101] [hybraut_watchdog_demo]: Processing event: EventEnum.TRANSITION_COMPLETE\n",
      "[INFO] [1754643109.290385901] [hybraut_watchdog_demo]: Fired trigger: complete_transition\n",
      "[INFO] [1754643109.467261342] [hybraut_watchdog_demo]: Processing event: EventEnum.MISSION_COMPLETE\n",
      "[INFO] [1754643109.468375842] [hybraut_watchdog_demo]: Fired trigger: finish_mission\n"
     ]
    }
   ],
   "source": [
    "test_events = [\n",
    "    (EventEnum.TRANSITION_GUARD_ENABLED, \"mode guard activated\"),\n",
    "    (EventEnum.TRANSITION_COMPLETE, \"transition completed\"),\n",
    "    (EventEnum.TRANSITION_GUARD_ENABLED, \"mode guard activated\"),\n",
    "    (EventEnum.TRANSITION_COMPLETE, \"transition completed\"),\n",
    "    (EventEnum.TRANSITION_GUARD_ENABLED, \"mode guard activated\"),\n",
    "    (EventEnum.TRANSITION_COMPLETE, \"transition completed\"),\n",
    "    (EventEnum.TRANSITION_GUARD_ENABLED, \"mode guard activated\"),\n",
    "    (EventEnum.TRANSITION_COMPLETE, \"transition completed\"),\n",
    "    (EventEnum.TRANSITION_GUARD_ENABLED, \"mode guard activated\"),\n",
    "    (EventEnum.TRANSITION_COMPLETE, \"transition completed\"),\n",
    "    (EventEnum.MISSION_COMPLETE, \"mission has completed\"),\n",
    "]\n",
    "\n",
    "\n",
    "expected_status = [\n",
    "    (StatusEnum.ACTIVE, \"\"),\n",
    "    (StatusEnum.TRANSITIONING, \"\"),\n",
    "    (StatusEnum.ACTIVE, \"\"),\n",
    "    (StatusEnum.TRANSITIONING, \"\"),\n",
    "    (StatusEnum.ACTIVE, \"\"),\n",
    "    (StatusEnum.TRANSITIONING, \"\"),\n",
    "    (StatusEnum.ACTIVE, \"\"),\n",
    "    (StatusEnum.TRANSITIONING, \"\"),\n",
    "    (StatusEnum.ACTIVE, \"\"),\n",
    "    (StatusEnum.MISSION_COMPLETE, \"\")\n",
    "]\n",
    "\n",
    "execute_test_events(test_events)"
   ]
  },
  {
   "cell_type": "markdown",
   "id": "1c4b9479",
   "metadata": {},
   "source": [
    "this is the display of the results for the first test"
   ]
  },
  {
   "cell_type": "code",
   "execution_count": 66,
   "id": "d210e575",
   "metadata": {},
   "outputs": [
    {
     "data": {
      "image/png": "[encoded data removed]",
      "text/plain": [
       "<Figure size 1000x600 with 1 Axes>"
      ]
     },
     "metadata": {},
     "output_type": "display_data"
    }
   ],
   "source": [
    "import matplotlib.pyplot as plt\n",
    "\n",
    "# Data\n",
    "actual_states = [StatusEnum(actual).name for actual in current_statuses]\n",
    "expected_states = [StatusEnum(expected[0].value).name for expected in expected_status]\n",
    "time_steps = list(range(len(actual_states)))\n",
    "\n",
    "# Plot\n",
    "plt.figure(figsize=(10, 6))\n",
    "plt.step(time_steps, actual_states, label='Actual State', where='post', marker='o')\n",
    "plt.step(time_steps, expected_states, label='Expected State', linestyle='--', where='post', marker='x')\n",
    "\n",
    "# Axis labels\n",
    "plt.xlabel('Event Index')\n",
    "plt.ylabel('FSM State (Enum Value)')\n",
    "plt.title('FSM: Actual vs Expected States Over Time')\n",
    "plt.legend()\n",
    "plt.grid(True)\n",
    "plt.tight_layout()\n",
    "plt.show()\n"
   ]
  },
  {
   "cell_type": "markdown",
   "id": "65d2f9d6",
   "metadata": {},
   "source": [
    "## Error Handling Tests: \n",
    "\n",
    "### Recoverable Error Path\n",
    " ON_VALID_MISSION_REQUEST -> ACTIVE -> RECOVERABLE_ERROR -> ERROR -> RECOVERING -> RECOVERED -> ACTIVE -> MISSION_COMPLETE -> MISSION_COMPLETE"
   ]
  },
  {
   "cell_type": "code",
   "execution_count": 80,
   "id": "50a591b0",
   "metadata": {},
   "outputs": [
    {
     "name": "stderr",
     "output_type": "stream",
     "text": [
      "[INFO] [1754643874.174572376] [hybraut_watchdog_demo]: Processing event: EventEnum.RECOVERABLE_ERROR\n",
      "[WARN] [1754643874.177621455] [hybraut_watchdog_demo]: Entered ERROR state\n",
      "[INFO] [1754643874.190272180] [hybraut_watchdog_demo]: Published status: StatusEnum.ERROR\n",
      "[INFO] [1754643874.192684986] [hybraut_watchdog_demo]: Status received: hybraut_interfaces.msg.AutomatonStatus(type=5, message='State changed to StatusEnum.ERROR', stamp=builtin_interfaces.msg.Time(sec=1754643874, nanosec=178233186))\n",
      "[INFO] [1754643874.194184087] [hybraut_watchdog_demo]: Fired trigger: handle_recoverable_error\n",
      "[INFO] [1754643874.361328066] [hybraut_watchdog_demo]: Processing event: EventEnum.RECOVERED\n",
      "[INFO] [1754643874.363210247] [hybraut_watchdog_demo]: Fired trigger: complete_recovery\n",
      "[INFO] [1754643874.564843415] [hybraut_watchdog_demo]: Processing event: EventEnum.MISSION_COMPLETE\n",
      "[INFO] [1754643874.566749439] [hybraut_watchdog_demo]: Fired trigger: finish_mission\n"
     ]
    }
   ],
   "source": [
    "current_statuses = [StatusEnum.ACTIVE.value]\n",
    "\n",
    "test_events = [\n",
    "    (EventEnum.RECOVERABLE_ERROR, \"mode guard activated\"),\n",
    "    (EventEnum.RECOVERED, \"recovery completed\"),\n",
    "    (EventEnum.MISSION_COMPLETE, \"mission has completed\")\n",
    "]\n",
    "\n",
    "\n",
    "expected_status = [\n",
    "    (StatusEnum.ACTIVE, \"\"),\n",
    "    (StatusEnum.ERROR, \"\"),\n",
    "    (StatusEnum.RECOVERING, \"\"),\n",
    "    (StatusEnum.ACTIVE, \"\"),\n",
    "    (StatusEnum.MISSION_COMPLETE, \"\"),\n",
    "]\n",
    "\n",
    "execute_test_events(test_events)"
   ]
  },
  {
   "cell_type": "markdown",
   "id": "8cbc51fa",
   "metadata": {},
   "source": [
    "RESULTS: "
   ]
  },
  {
   "cell_type": "code",
   "execution_count": 77,
   "id": "67f4e1ff",
   "metadata": {},
   "outputs": [
    {
     "name": "stdout",
     "output_type": "stream",
     "text": [
      "['ACTIVE', 'ERROR']\n",
      "['ACTIVE', 'ERROR', 'RECOVERING', 'ACTIVE', 'MISSION_COMPLETE']\n"
     ]
    },
    {
     "ename": "ValueError",
     "evalue": "x and y must have same first dimension, but have shapes (2,) and (5,)",
     "output_type": "error",
     "traceback": [
      "\u001b[31m---------------------------------------------------------------------------\u001b[39m",
      "\u001b[31mValueError\u001b[39m                                Traceback (most recent call last)",
      "\u001b[36mCell\u001b[39m\u001b[36m \u001b[39m\u001b[32mIn[77]\u001b[39m\u001b[32m, line 15\u001b[39m\n\u001b[32m     12\u001b[39m \u001b[38;5;28mprint\u001b[39m (expected_states)\n\u001b[32m     14\u001b[39m plt.step(time_steps, actual_states, label=\u001b[33m'\u001b[39m\u001b[33mActual State\u001b[39m\u001b[33m'\u001b[39m, where=\u001b[33m'\u001b[39m\u001b[33mpost\u001b[39m\u001b[33m'\u001b[39m, marker=\u001b[33m'\u001b[39m\u001b[33mo\u001b[39m\u001b[33m'\u001b[39m)\n\u001b[32m---> \u001b[39m\u001b[32m15\u001b[39m \u001b[43mplt\u001b[49m\u001b[43m.\u001b[49m\u001b[43mstep\u001b[49m\u001b[43m(\u001b[49m\u001b[43mtime_steps\u001b[49m\u001b[43m,\u001b[49m\u001b[43m \u001b[49m\u001b[43mexpected_states\u001b[49m\u001b[43m,\u001b[49m\u001b[43m \u001b[49m\u001b[43mlabel\u001b[49m\u001b[43m=\u001b[49m\u001b[33;43m'\u001b[39;49m\u001b[33;43mExpected State\u001b[39;49m\u001b[33;43m'\u001b[39;49m\u001b[43m,\u001b[49m\u001b[43m \u001b[49m\u001b[43mlinestyle\u001b[49m\u001b[43m=\u001b[49m\u001b[33;43m'\u001b[39;49m\u001b[33;43m--\u001b[39;49m\u001b[33;43m'\u001b[39;49m\u001b[43m,\u001b[49m\u001b[43m \u001b[49m\u001b[43mwhere\u001b[49m\u001b[43m=\u001b[49m\u001b[33;43m'\u001b[39;49m\u001b[33;43mpost\u001b[39;49m\u001b[33;43m'\u001b[39;49m\u001b[43m,\u001b[49m\u001b[43m \u001b[49m\u001b[43mmarker\u001b[49m\u001b[43m=\u001b[49m\u001b[33;43m'\u001b[39;49m\u001b[33;43mx\u001b[39;49m\u001b[33;43m'\u001b[39;49m\u001b[43m)\u001b[49m\n\u001b[32m     17\u001b[39m \u001b[38;5;66;03m# Axis labels\u001b[39;00m\n\u001b[32m     18\u001b[39m plt.xlabel(\u001b[33m'\u001b[39m\u001b[33mEvent Index\u001b[39m\u001b[33m'\u001b[39m)\n",
      "\u001b[36mFile \u001b[39m\u001b[32m/usr/lib/python3/dist-packages/matplotlib/pyplot.py:2876\u001b[39m, in \u001b[36mstep\u001b[39m\u001b[34m(x, y, where, data, *args, **kwargs)\u001b[39m\n\u001b[32m   2874\u001b[39m \u001b[38;5;129m@_copy_docstring_and_deprecators\u001b[39m(Axes.step)\n\u001b[32m   2875\u001b[39m \u001b[38;5;28;01mdef\u001b[39;00m \u001b[34mstep\u001b[39m(x, y, *args, where=\u001b[33m'\u001b[39m\u001b[33mpre\u001b[39m\u001b[33m'\u001b[39m, data=\u001b[38;5;28;01mNone\u001b[39;00m, **kwargs):\n\u001b[32m-> \u001b[39m\u001b[32m2876\u001b[39m     \u001b[38;5;28;01mreturn\u001b[39;00m \u001b[43mgca\u001b[49m\u001b[43m(\u001b[49m\u001b[43m)\u001b[49m\u001b[43m.\u001b[49m\u001b[43mstep\u001b[49m\u001b[43m(\u001b[49m\n\u001b[32m   2877\u001b[39m \u001b[43m        \u001b[49m\u001b[43mx\u001b[49m\u001b[43m,\u001b[49m\u001b[43m \u001b[49m\u001b[43my\u001b[49m\u001b[43m,\u001b[49m\u001b[43m \u001b[49m\u001b[43m*\u001b[49m\u001b[43margs\u001b[49m\u001b[43m,\u001b[49m\u001b[43m \u001b[49m\u001b[43mwhere\u001b[49m\u001b[43m=\u001b[49m\u001b[43mwhere\u001b[49m\u001b[43m,\u001b[49m\n\u001b[32m   2878\u001b[39m \u001b[43m        \u001b[49m\u001b[43m*\u001b[49m\u001b[43m*\u001b[49m\u001b[43m(\u001b[49m\u001b[43m{\u001b[49m\u001b[33;43m\"\u001b[39;49m\u001b[33;43mdata\u001b[39;49m\u001b[33;43m\"\u001b[39;49m\u001b[43m:\u001b[49m\u001b[43m \u001b[49m\u001b[43mdata\u001b[49m\u001b[43m}\u001b[49m\u001b[43m \u001b[49m\u001b[38;5;28;43;01mif\u001b[39;49;00m\u001b[43m \u001b[49m\u001b[43mdata\u001b[49m\u001b[43m \u001b[49m\u001b[38;5;129;43;01mis\u001b[39;49;00m\u001b[43m \u001b[49m\u001b[38;5;129;43;01mnot\u001b[39;49;00m\u001b[43m \u001b[49m\u001b[38;5;28;43;01mNone\u001b[39;49;00m\u001b[43m \u001b[49m\u001b[38;5;28;43;01melse\u001b[39;49;00m\u001b[43m \u001b[49m\u001b[43m{\u001b[49m\u001b[43m}\u001b[49m\u001b[43m)\u001b[49m\u001b[43m,\u001b[49m\u001b[43m \u001b[49m\u001b[43m*\u001b[49m\u001b[43m*\u001b[49m\u001b[43mkwargs\u001b[49m\u001b[43m)\u001b[49m\n",
      "\u001b[36mFile \u001b[39m\u001b[32m/usr/lib/python3/dist-packages/matplotlib/axes/_axes.py:2156\u001b[39m, in \u001b[36mAxes.step\u001b[39m\u001b[34m(self, x, y, where, data, *args, **kwargs)\u001b[39m\n\u001b[32m   2154\u001b[39m _api.check_in_list((\u001b[33m'\u001b[39m\u001b[33mpre\u001b[39m\u001b[33m'\u001b[39m, \u001b[33m'\u001b[39m\u001b[33mpost\u001b[39m\u001b[33m'\u001b[39m, \u001b[33m'\u001b[39m\u001b[33mmid\u001b[39m\u001b[33m'\u001b[39m), where=where)\n\u001b[32m   2155\u001b[39m kwargs[\u001b[33m'\u001b[39m\u001b[33mdrawstyle\u001b[39m\u001b[33m'\u001b[39m] = \u001b[33m'\u001b[39m\u001b[33msteps-\u001b[39m\u001b[33m'\u001b[39m + where\n\u001b[32m-> \u001b[39m\u001b[32m2156\u001b[39m \u001b[38;5;28;01mreturn\u001b[39;00m \u001b[38;5;28;43mself\u001b[39;49m\u001b[43m.\u001b[49m\u001b[43mplot\u001b[49m\u001b[43m(\u001b[49m\u001b[43mx\u001b[49m\u001b[43m,\u001b[49m\u001b[43m \u001b[49m\u001b[43my\u001b[49m\u001b[43m,\u001b[49m\u001b[43m \u001b[49m\u001b[43m*\u001b[49m\u001b[43margs\u001b[49m\u001b[43m,\u001b[49m\u001b[43m \u001b[49m\u001b[43mdata\u001b[49m\u001b[43m=\u001b[49m\u001b[43mdata\u001b[49m\u001b[43m,\u001b[49m\u001b[43m \u001b[49m\u001b[43m*\u001b[49m\u001b[43m*\u001b[49m\u001b[43mkwargs\u001b[49m\u001b[43m)\u001b[49m\n",
      "\u001b[36mFile \u001b[39m\u001b[32m/usr/lib/python3/dist-packages/matplotlib/axes/_axes.py:1668\u001b[39m, in \u001b[36mAxes.plot\u001b[39m\u001b[34m(self, scalex, scaley, data, *args, **kwargs)\u001b[39m\n\u001b[32m   1425\u001b[39m \u001b[38;5;250m\u001b[39m\u001b[33;03m\"\"\"\u001b[39;00m\n\u001b[32m   1426\u001b[39m \u001b[33;03mPlot y versus x as lines and/or markers.\u001b[39;00m\n\u001b[32m   1427\u001b[39m \n\u001b[32m   (...)\u001b[39m\u001b[32m   1665\u001b[39m \u001b[33;03m(``'green'``) or hex strings (``'#008000'``).\u001b[39;00m\n\u001b[32m   1666\u001b[39m \u001b[33;03m\"\"\"\u001b[39;00m\n\u001b[32m   1667\u001b[39m kwargs = cbook.normalize_kwargs(kwargs, mlines.Line2D)\n\u001b[32m-> \u001b[39m\u001b[32m1668\u001b[39m lines = [*\u001b[38;5;28mself\u001b[39m._get_lines(*args, data=data, **kwargs)]\n\u001b[32m   1669\u001b[39m \u001b[38;5;28;01mfor\u001b[39;00m line \u001b[38;5;129;01min\u001b[39;00m lines:\n\u001b[32m   1670\u001b[39m     \u001b[38;5;28mself\u001b[39m.add_line(line)\n",
      "\u001b[36mFile \u001b[39m\u001b[32m/usr/lib/python3/dist-packages/matplotlib/axes/_base.py:311\u001b[39m, in \u001b[36m_process_plot_var_args.__call__\u001b[39m\u001b[34m(self, data, *args, **kwargs)\u001b[39m\n\u001b[32m    309\u001b[39m     this += args[\u001b[32m0\u001b[39m],\n\u001b[32m    310\u001b[39m     args = args[\u001b[32m1\u001b[39m:]\n\u001b[32m--> \u001b[39m\u001b[32m311\u001b[39m \u001b[38;5;28;01myield from\u001b[39;00m \u001b[38;5;28;43mself\u001b[39;49m\u001b[43m.\u001b[49m\u001b[43m_plot_args\u001b[49m\u001b[43m(\u001b[49m\n\u001b[32m    312\u001b[39m \u001b[43m    \u001b[49m\u001b[43mthis\u001b[49m\u001b[43m,\u001b[49m\u001b[43m \u001b[49m\u001b[43mkwargs\u001b[49m\u001b[43m,\u001b[49m\u001b[43m \u001b[49m\u001b[43mambiguous_fmt_datakey\u001b[49m\u001b[43m=\u001b[49m\u001b[43mambiguous_fmt_datakey\u001b[49m\u001b[43m)\u001b[49m\n",
      "\u001b[36mFile \u001b[39m\u001b[32m/usr/lib/python3/dist-packages/matplotlib/axes/_base.py:504\u001b[39m, in \u001b[36m_process_plot_var_args._plot_args\u001b[39m\u001b[34m(self, tup, kwargs, return_kwargs, ambiguous_fmt_datakey)\u001b[39m\n\u001b[32m    501\u001b[39m     \u001b[38;5;28mself\u001b[39m.axes.yaxis.update_units(y)\n\u001b[32m    503\u001b[39m \u001b[38;5;28;01mif\u001b[39;00m x.shape[\u001b[32m0\u001b[39m] != y.shape[\u001b[32m0\u001b[39m]:\n\u001b[32m--> \u001b[39m\u001b[32m504\u001b[39m     \u001b[38;5;28;01mraise\u001b[39;00m \u001b[38;5;167;01mValueError\u001b[39;00m(\u001b[33mf\u001b[39m\u001b[33m\"\u001b[39m\u001b[33mx and y must have same first dimension, but \u001b[39m\u001b[33m\"\u001b[39m\n\u001b[32m    505\u001b[39m                      \u001b[33mf\u001b[39m\u001b[33m\"\u001b[39m\u001b[33mhave shapes \u001b[39m\u001b[38;5;132;01m{\u001b[39;00mx.shape\u001b[38;5;132;01m}\u001b[39;00m\u001b[33m and \u001b[39m\u001b[38;5;132;01m{\u001b[39;00my.shape\u001b[38;5;132;01m}\u001b[39;00m\u001b[33m\"\u001b[39m)\n\u001b[32m    506\u001b[39m \u001b[38;5;28;01mif\u001b[39;00m x.ndim > \u001b[32m2\u001b[39m \u001b[38;5;129;01mor\u001b[39;00m y.ndim > \u001b[32m2\u001b[39m:\n\u001b[32m    507\u001b[39m     \u001b[38;5;28;01mraise\u001b[39;00m \u001b[38;5;167;01mValueError\u001b[39;00m(\u001b[33mf\u001b[39m\u001b[33m\"\u001b[39m\u001b[33mx and y can be no greater than 2D, but have \u001b[39m\u001b[33m\"\u001b[39m\n\u001b[32m    508\u001b[39m                      \u001b[33mf\u001b[39m\u001b[33m\"\u001b[39m\u001b[33mshapes \u001b[39m\u001b[38;5;132;01m{\u001b[39;00mx.shape\u001b[38;5;132;01m}\u001b[39;00m\u001b[33m and \u001b[39m\u001b[38;5;132;01m{\u001b[39;00my.shape\u001b[38;5;132;01m}\u001b[39;00m\u001b[33m\"\u001b[39m)\n",
      "\u001b[31mValueError\u001b[39m: x and y must have same first dimension, but have shapes (2,) and (5,)"
     ]
    },
    {
     "data": {
      "image/png": "[encoded data removed]",
      "text/plain": [
       "<Figure size 1000x600 with 1 Axes>"
      ]
     },
     "metadata": {},
     "output_type": "display_data"
    }
   ],
   "source": [
    "import matplotlib.pyplot as plt\n",
    "\n",
    "# Data\n",
    "actual_states = [StatusEnum(actual).name for actual in current_statuses]\n",
    "expected_states = [StatusEnum(expected[0].value).name for expected in expected_status]\n",
    "time_steps = list(range(len(actual_states)))\n",
    "\n",
    "# Plot\n",
    "plt.figure(figsize=(10, 6))\n",
    "\n",
    "print (actual_states)\n",
    "print (expected_states)\n",
    "\n",
    "plt.step(time_steps, actual_states, label='Actual State', where='post', marker='o')\n",
    "plt.step(time_steps, expected_states, label='Expected State', linestyle='--', where='post', marker='x')\n",
    "\n",
    "# Axis labels\n",
    "plt.xlabel('Event Index')\n",
    "plt.ylabel('FSM State (Enum Value)')\n",
    "plt.title('FSM: Actual vs Expected States Over Time')\n",
    "plt.legend()\n",
    "plt.grid(True)\n",
    "plt.tight_layout()\n",
    "plt.show()"
   ]
  },
  {
   "cell_type": "markdown",
   "id": "af814bf2",
   "metadata": {},
   "source": [
    "### Critical Failure Path\n",
    "ON_VALID_MISSION_REQUEST → ACTIVE\n",
    "RECOVERABLE_ERROR → ERROR\n",
    "CRITICAL_FAILURE → FATAL\n",
    "SHUTDOWN → (terminal state)"
   ]
  },
  {
   "cell_type": "code",
   "execution_count": null,
   "id": "49ea0916",
   "metadata": {},
   "outputs": [],
   "source": []
  },
  {
   "cell_type": "markdown",
   "id": "23c621f2",
   "metadata": {},
   "source": [
    "Recovery Failure Path:\n",
    "\n",
    "ON_VALID_MISSION_REQUEST → ACTIVE\n",
    "RECOVERABLE_ERROR → ERROR\n",
    "ATTEMPT_FIX → RECOVERING\n",
    "RECOVERY_FAILED → FATAL\n",
    "SHUTDOWN → (terminal state)"
   ]
  },
  {
   "cell_type": "code",
   "execution_count": null,
   "id": "92854d03",
   "metadata": {},
   "outputs": [],
   "source": []
  },
  {
   "cell_type": "markdown",
   "id": "f9ae633a",
   "metadata": {},
   "source": [
    "#### Error From Transitioning\n",
    "ON_VALID_MISSION_REQUEST → ACTIVE\n",
    "TRANSITION_GUARD_ENABLED → TRANSITIONING\n",
    "RECOVERABLE_ERROR → ERROR\n",
    "ATTEMPT_FIX → RECOVERING\n",
    "RECOVERED → ACTIVE"
   ]
  },
  {
   "cell_type": "code",
   "execution_count": 6,
   "id": "409500f6",
   "metadata": {},
   "outputs": [],
   "source": [
    "if rclpy.ok():\n",
    "    rclpy.shutdown()"
   ]
  },
  {
   "cell_type": "code",
   "execution_count": null,
   "id": "02d78653",
   "metadata": {},
   "outputs": [],
   "source": []
  }
 ],
 "metadata": {
  "kernelspec": {
   "display_name": "Python 3",
   "language": "python",
   "name": "python3"
  },
  "language_info": {
   "codemirror_mode": {
    "name": "ipython",
    "version": 3
   },
   "file_extension": ".py",
   "mimetype": "text/x-python",
   "name": "python",
   "nbconvert_exporter": "python",
   "pygments_lexer": "ipython3",
   "version": "3.12.3"
  }
 },
 "nbformat": 4,
 "nbformat_minor": 5
}
