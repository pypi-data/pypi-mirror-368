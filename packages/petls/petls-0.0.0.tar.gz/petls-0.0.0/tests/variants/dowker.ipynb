{
 "cells": [
  {
   "cell_type": "code",
   "execution_count": 7,
   "metadata": {},
   "outputs": [],
   "source": [
    "from petls import Complex"
   ]
  },
  {
   "cell_type": "code",
   "execution_count": null,
   "metadata": {},
   "outputs": [],
   "source": [
    "# This cell is copy-pasted from pyDowker\n",
    "# by Niklas Hellmer and Jan Spalinski, but only the portion\n",
    "# that's relevant to our project.\n",
    "# See https://github.com/nihell/pyDowker\n",
    "\n",
    "# MIT License\n",
    "\n",
    "# Copyright (c) 2024 Niklas Hellmer\n",
    "\n",
    "# Permission is hereby granted, free of charge, to any person obtaining a copy\n",
    "# of this software and associated documentation files (the \"Software\"), to deal\n",
    "# in the Software without restriction, including without limitation the rights\n",
    "# to use, copy, modify, merge, publish, distribute, sublicense, and/or sell\n",
    "# copies of the Software, and to permit persons to whom the Software is\n",
    "# furnished to do so, subject to the following conditions:\n",
    "\n",
    "# The above copyright notice and this permission notice shall be included in all\n",
    "# copies or substantial portions of the Software.\n",
    "\n",
    "# THE SOFTWARE IS PROVIDED \"AS IS\", WITHOUT WARRANTY OF ANY KIND, EXPRESS OR\n",
    "# IMPLIED, INCLUDING BUT NOT LIMITED TO THE WARRANTIES OF MERCHANTABILITY,\n",
    "# FITNESS FOR A PARTICULAR PURPOSE AND NONINFRINGEMENT. IN NO EVENT SHALL THE\n",
    "# AUTHORS OR COPYRIGHT HOLDERS BE LIABLE FOR ANY CLAIM, DAMAGES OR OTHER\n",
    "# LIABILITY, WHETHER IN AN ACTION OF CONTRACT, TORT OR OTHERWISE, ARISING FROM,\n",
    "# OUT OF OR IN CONNECTION WITH THE SOFTWARE OR THE USE OR OTHER DEALINGS IN THE\n",
    "# SOFTWARE.\n",
    "\n",
    "from gudhi import SimplexTree\n",
    "import numpy as np\n",
    "\n",
    "class DowkerComplex:\n",
    "    \"\"\"\n",
    "    Class MNeighborComplex. Constructs Dowker's simplicial complex for a relation.\n",
    "    Filtrations can be added using filtered relations, or total weight, or combining both into a bifiltration.\n",
    "    \"\"\"\n",
    "\n",
    "    def __init__(self, rel_matrix, max_filtration=float('inf')) -> None:\n",
    "        \"\"\"_summary_\n",
    "        Constructor for the filtered Dowker complex from the relations given by sublevels of the matrix rel_matrix.\n",
    "        The vertices in the complex will correspond to the rows of the matrix.\n",
    "        \n",
    "        Parameters\n",
    "        ----------\n",
    "        rel_matrix (Sequence[Sequence[float]]): distance matrix (full square or lower triangular).\n",
    "        max_filtration (float): specifies the maximal filtration value to be considered.      \n",
    "        \"\"\"\n",
    "        self.rel_matrix = rel_matrix\n",
    "        self.st = None\n",
    "        \n",
    "        \n",
    "     \n",
    "\n",
    "    def create_simplex_tree(self, \n",
    "                            max_dimension, \n",
    "                            filtration = 'None', \n",
    "                            m=1, \n",
    "                            level = 0, \n",
    "                            max_filtration = np.inf):\n",
    "        \"\"\"\n",
    "            Creates a gudhi simplex tree storing a skeleton of the (filtered) simpicial complex.\n",
    "            Uses recursive algorithm with nummpy arrays, fast for small datasets but worse runtime and memory complexity.\n",
    "\n",
    "\n",
    "        Parameters\n",
    "        ----------\n",
    "        max_dimension : int\n",
    "            Dimension of the skeleton to compute.\n",
    "        filtration : str, optional\n",
    "            valid values: \"Sublevel\", \"TotalWeight\", \"None\".\n",
    "            \"Sublevel\" takes the filtration of relations by sublevels of the matrix.\n",
    "            \"Total weight\" takes the filtration by sublevels of the negative total weight function.\n",
    "            By default 'None'\n",
    "        m : int, optional\n",
    "            restriction to this superlevel of total weight (this is only used if filtration!=\"TotalWeight\"); m=1 corresponds to the whole Dowker complex, by default 1\n",
    "        level : int, optional\n",
    "            restriction to this sublevel of the matrix as relation (this is only used if filtration!=\"Sublevel\"), by default 0\n",
    "        max_filtration : float, optional\n",
    "            cutoff for the filtration (only used if filtration=\"Sublevel\"), by default np.inf\n",
    "\n",
    "        Returns\n",
    "        -------\n",
    "        gudhi.SimplexTree\n",
    "            The simplex tree storing the (filtered) simplicial complex\n",
    "        \"\"\"\n",
    "        \n",
    "        self.st=SimplexTree()\n",
    "\n",
    "\n",
    "        LAMBDA = self.rel_matrix\n",
    "        num_points=len(LAMBDA)\n",
    "        \n",
    "        if filtration == \"Sublevel\":\n",
    "            if LAMBDA.dtype != np.float64:\n",
    "                raise TypeError(\"Only float arrays are allowed with sublevel filtration\") \n",
    "            def append_upper_cofaces(sigma, r, witness_values):\n",
    "                if r > max_filtration:\n",
    "                    return\n",
    "                self.st.insert(sigma,r)\n",
    "                if len(sigma)<=max_dimension:\n",
    "                    for j in range(np.max(sigma)+1,num_points):\n",
    "                        tau = sigma+[j]\n",
    "\n",
    "                        j_witness_values=LAMBDA[j,:]\n",
    "                        common_witness_values = np.maximum(j_witness_values,witness_values)\n",
    "                        new_r = np.partition(common_witness_values, m-1)[m-1]\n",
    "                        append_upper_cofaces(tau, new_r, common_witness_values)\n",
    "\n",
    "            for k in range(num_points-1,-1,-1):\n",
    "                witness_values = LAMBDA[k,:]\n",
    "                r_new = np.partition(witness_values, m-1)[m-1]\n",
    "                append_upper_cofaces([k],r_new,witness_values)\n",
    "            return self.st\n",
    "        \n",
    "        elif filtration == \"TotalWeight\":\n",
    "            if LAMBDA.dtype != np.bool_:\n",
    "                LAMBDA = LAMBDA <= level\n",
    "\n",
    "            def append_upper_cofaces(sigma, witnesses):\n",
    "                \n",
    "                self.st.insert(sigma,-np.sum(witnesses))\n",
    "                if len(sigma)<=max_dimension:\n",
    "                    for j in range(np.max(sigma)+1,num_points):\n",
    "                        tau = sigma+[j]\n",
    "                        j_witnesses=LAMBDA[j,:]\n",
    "                        common_witnesses = np.logical_and(j_witnesses,witnesses)\n",
    "                        if np.sum(common_witnesses>0):\n",
    "                            append_upper_cofaces(tau, common_witnesses)\n",
    "\n",
    "            for k in range(num_points-1,-1,-1):\n",
    "                witnesses = LAMBDA[k,:]\n",
    "                append_upper_cofaces([k], witnesses)\n",
    "            return self.st\n",
    "\n",
    "        elif filtration == \"None\":\n",
    "            if LAMBDA.dtype != np.bool_:\n",
    "                LAMBDA = LAMBDA <= level\n",
    "\n",
    "            def append_upper_cofaces(sigma, witnesses):\n",
    "                if len(witnesses)<m:\n",
    "                    return\n",
    "                self.st.insert(sigma)\n",
    "                if len(sigma)<=max_dimension:\n",
    "                    for j in range(np.max(sigma)+1,num_points):\n",
    "                        tau = sigma+[j]\n",
    "                        j_witnesses=LAMBDA[j,:]\n",
    "                        common_witnesses = np.logical_and(j_witnesses,witnesses)\n",
    "                        if len(common_witnesses>0):\n",
    "                            append_upper_cofaces(tau, common_witnesses)\n",
    "\n",
    "            for k in range(num_points-1,-1,-1):\n",
    "                witnesses = LAMBDA[k,:]\n",
    "                append_upper_cofaces([k], witnesses)\n",
    "            return self.st\n",
    "        \n",
    "        else:\n",
    "            raise Exception(\"filtration parameter must be one of 'Sublevel', 'TotalWeight', 'None'\")"
   ]
  },
  {
   "cell_type": "code",
   "execution_count": 9,
   "metadata": {},
   "outputs": [],
   "source": [
    "import matplotlib.pyplot as plt\n",
    "import numpy as np\n",
    "from sklearn.metrics import pairwise_distances\n",
    "import networkx as nx"
   ]
  },
  {
   "cell_type": "code",
   "execution_count": 10,
   "metadata": {},
   "outputs": [
    {
     "data": {
      "image/png": "[encoded data removed]",
      "text/plain": [
       "<Figure size 640x480 with 1 Axes>"
      ]
     },
     "metadata": {},
     "output_type": "display_data"
    }
   ],
   "source": [
    "# Let us consider two small point clouds containing four points each.\n",
    "X = np.array([(0,0),(4,0), (0,6),(4,3)])\n",
    "Y = np.array([(1,3),(3,3), (3,1),(1,1)])\n",
    "f,ax = plt.subplots()\n",
    "ax.scatter(X[:,0],X[:,1], label='$X$')\n",
    "ax.scatter(Y[:,0],Y[:,1], label='$Y$')\n",
    "ax.legend()\n",
    "plt.show()\n",
    "\n",
    "# For every combination of the two point clouds, we can consider the corresponding Dowker complex.\n",
    "\n",
    "Dow_XX = DowkerComplex(pairwise_distances(X,X)).create_simplex_tree(max_dimension=4, filtration = \"Sublevel\",m=1)\n",
    "Dow_XY = DowkerComplex(pairwise_distances(X,Y)).create_simplex_tree(max_dimension=4, filtration = \"Sublevel\",m=1)\n",
    "Dow_YX = DowkerComplex(pairwise_distances(Y,X)).create_simplex_tree(max_dimension=4, filtration = \"Sublevel\",m=1)\n",
    "Dow_YY = DowkerComplex(pairwise_distances(Y,Y)).create_simplex_tree(max_dimension=4, filtration = \"Sublevel\",m=1)\n",
    "\n"
   ]
  },
  {
   "cell_type": "code",
   "execution_count": 11,
   "metadata": {},
   "outputs": [],
   "source": [
    "PL_XY = Complex(simplex_tree=Dow_XY)\n",
    "PL_YX = Complex(simplex_tree=Dow_YX)"
   ]
  },
  {
   "cell_type": "code",
   "execution_count": 12,
   "metadata": {},
   "outputs": [
    {
     "name": "stdout",
     "output_type": "stream",
     "text": [
      "XY\n",
      "[(0, 0.0, 2.23606797749979, []), (1, 0.0, 2.23606797749979, []), (2, 0.0, 2.23606797749979, []), (3, 0.0, 2.23606797749979, []), (0, 2.23606797749979, 3.1622776601683795, [0.0, 3.0, 4.0]), (1, 2.23606797749979, 3.1622776601683795, [2.0]), (2, 2.23606797749979, 3.1622776601683795, []), (3, 2.23606797749979, 3.1622776601683795, []), (0, 3.1622776601683795, 4.242640687119285, [0.0, 4.0, 4.0, 4.0]), (1, 3.1622776601683795, 4.242640687119285, [2.0000000000000004, 3.9999999999999982, 4.0, 4.0, 4.0]), (2, 3.1622776601683795, 4.242640687119285, [2.0, 4.0]), (3, 3.1622776601683795, 4.242640687119285, []), (0, 4.242640687119285, 4.242640687119285, [0.0, 4.0, 4.0, 4.0]), (1, 4.242640687119285, 4.242640687119285, [4.0, 4.0, 4.0, 4.0, 4.0, 4.0]), (2, 4.242640687119285, 4.242640687119285, [4.0, 4.0, 4.0, 4.0]), (3, 4.242640687119285, 4.242640687119285, [4.0])]\n",
      "YX\n",
      "[(0, 0.0, 2.23606797749979, []), (1, 0.0, 2.23606797749979, []), (2, 0.0, 2.23606797749979, []), (3, 0.0, 2.23606797749979, []), (0, 2.23606797749979, 3.0, [0.0, 0.0, 2.999999999999999]), (1, 2.23606797749979, 3.0, [2.0]), (2, 2.23606797749979, 3.0, []), (3, 2.23606797749979, 3.0, []), (0, 3.0, 3.1622776601683795, [0.0, 4.0, 4.0, 4.0]), (1, 3.0, 3.1622776601683795, [3.0, 3.0, 3.0]), (2, 3.0, 3.1622776601683795, [3.0]), (3, 3.0, 3.1622776601683795, []), (0, 3.1622776601683795, 3.605551275463989, [0.0, 4.0, 4.0, 4.0]), (1, 3.1622776601683795, 3.605551275463989, [4.0, 4.0, 4.0, 4.0, 4.0, 4.0]), (2, 3.1622776601683795, 3.605551275463989, [1.0000000000000009, 4.0, 4.0]), (3, 3.1622776601683795, 3.605551275463989, []), (0, 3.605551275463989, 3.605551275463989, [0.0, 4.0, 4.0, 4.0]), (1, 3.605551275463989, 3.605551275463989, [4.0, 4.0, 4.0, 4.0, 4.0, 4.0]), (2, 3.605551275463989, 3.605551275463989, [4.0, 4.0, 4.0, 4.0]), (3, 3.605551275463989, 3.605551275463989, [4.0])]\n"
     ]
    }
   ],
   "source": [
    "print(\"XY\")\n",
    "print(PL_XY.spectra())\n",
    "print(\"YX\")\n",
    "print(PL_YX.spectra())"
   ]
  },
  {
   "cell_type": "code",
   "execution_count": 13,
   "metadata": {},
   "outputs": [
    {
     "name": "stdout",
     "output_type": "stream",
     "text": [
      "XY\n",
      "[[3.16227766 4.24264069 3.16227766 1.41421356]\n",
      " [4.24264069 3.16227766 1.41421356 3.16227766]\n",
      " [3.16227766 4.24264069 5.83095189 5.09901951]\n",
      " [3.         1.         2.23606798 3.60555128]]\n",
      "YX\n",
      "[[3.16227766 4.24264069 3.16227766 3.        ]\n",
      " [4.24264069 3.16227766 4.24264069 1.        ]\n",
      " [3.16227766 1.41421356 5.83095189 2.23606798]\n",
      " [1.41421356 3.16227766 5.09901951 3.60555128]]\n"
     ]
    }
   ],
   "source": [
    "print(\"XY\")\n",
    "print(pairwise_distances(X,Y))\n",
    "print(\"YX\")\n",
    "print(pairwise_distances(Y,X))"
   ]
  }
 ],
 "metadata": {
  "kernelspec": {
   "display_name": "pl",
   "language": "python",
   "name": "python3"
  },
  "language_info": {
   "codemirror_mode": {
    "name": "ipython",
    "version": 3
   },
   "file_extension": ".py",
   "mimetype": "text/x-python",
   "name": "python",
   "nbconvert_exporter": "python",
   "pygments_lexer": "ipython3",
   "version": "3.10.12"
  }
 },
 "nbformat": 4,
 "nbformat_minor": 2
}
