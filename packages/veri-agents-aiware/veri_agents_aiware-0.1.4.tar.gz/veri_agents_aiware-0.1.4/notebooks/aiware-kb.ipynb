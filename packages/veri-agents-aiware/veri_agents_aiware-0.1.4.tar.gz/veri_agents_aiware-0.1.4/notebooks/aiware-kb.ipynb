{
 "cells": [
  {
   "cell_type": "code",
   "execution_count": null,
   "id": "7155715d",
   "metadata": {},
   "outputs": [],
   "source": [
    "!uv pip install langchain-huggingface einops sentence_transformers\n",
    "\n",
    "from langchain_huggingface import HuggingFaceEmbeddings\n",
    "\n",
    "embedding_model_name = \"nomic-ai/nomic-embed-text-v2-moe\"\n",
    "embedding_model=HuggingFaceEmbeddings(model_name=\"nomic-ai/nomic-embed-text-v2-moe\", model_kwargs={ \"trust_remote_code\": True, \"truncate_dim\": 512 })"
   ]
  },
  {
   "cell_type": "code",
   "execution_count": null,
   "id": "c1de209f",
   "metadata": {},
   "outputs": [],
   "source": [
    "import logging\n",
    "from veri_agents_aiware.aiware_client.auth import TokenAuth\n",
    "from veri_agents_aiware.aiware_client.client import Aiware\n",
    "from veri_agents_aiware.knowledgebase import AiwareKnowledgebase\n",
    "from veri_agents_knowledgebase.knowledgebase import KnowledgeFilter\n",
    "\n",
    "# logging.basicConfig(level=logging.DEBUG)\n",
    "\n",
    "auth_token = \"\"\n",
    "\n",
    "kb = AiwareKnowledgebase(\n",
    "    aiware=Aiware(graphql_endpoint=\"https://api.aisglabs1.aiware.run/v3/graphql\", search_endpoint=\"https://api.aisglabs1.aiware.run/api/search\", auth=TokenAuth(auth_token)),\n",
    "    embedding_model_name=embedding_model_name,\n",
    "    embedding_model=embedding_model,\n",
    "    filter=KnowledgeFilter(\n",
    "        docs=[\"3740000016\"]\n",
    "    )\n",
    ")\n",
    "\n",
    "kb.retrieve(\n",
    "    query=\"suspect\",\n",
    "    limit=4\n",
    ")\n",
    "\n",
    "# list(kb.get_documents())"
   ]
  }
 ],
 "metadata": {
  "kernelspec": {
   "display_name": "veri-agents (3.12.9)",
   "language": "python",
   "name": "python3"
  },
  "language_info": {
   "codemirror_mode": {
    "name": "ipython",
    "version": 3
   },
   "file_extension": ".py",
   "mimetype": "text/x-python",
   "name": "python",
   "nbconvert_exporter": "python",
   "pygments_lexer": "ipython3",
   "version": "3.12.9"
  }
 },
 "nbformat": 4,
 "nbformat_minor": 5
}
