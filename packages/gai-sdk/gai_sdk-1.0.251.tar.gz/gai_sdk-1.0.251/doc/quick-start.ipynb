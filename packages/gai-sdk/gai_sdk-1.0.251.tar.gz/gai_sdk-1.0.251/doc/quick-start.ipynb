{
 "cells": [
  {
   "cell_type": "markdown",
   "id": "03ae9de0",
   "metadata": {},
   "source": [
    "### Test LLM Connection"
   ]
  },
  {
   "cell_type": "code",
   "execution_count": 1,
   "id": "5f65ba19",
   "metadata": {},
   "outputs": [
    {
     "name": "stdout",
     "output_type": "stream",
     "text": [
      "As she opened the old, mysterious box in her attic, Emily discovered a faded photograph of herself as a child, standing alongside a stranger who looked uncannily like her own future husband."
     ]
    }
   ],
   "source": [
    "from gai.lib.config import config_helper\n",
    "from gai.llm.openai import AsyncOpenAI\n",
    "\n",
    "# \"llama3.2:3b\" for Ollama with CPU\n",
    "# or \"ttt\" for Gai/Exl2 running llama3.1-exl2 with GPU\n",
    "# or \"sonnet-4\" for Claude\n",
    "# or \"gpt-4o\" for OpenAI\n",
    "\n",
    "model_name = \"llama3.2:3b\"\n",
    "llm_config = config_helper.get_client_config(model_name)\n",
    "\n",
    "# Start streaming output\n",
    "\n",
    "client = AsyncOpenAI(client_config=llm_config)\n",
    "response = await client.chat.completions.create(\n",
    "    model=model_name, \n",
    "    messages=[{\"role\": \"user\", \"content\": \"tell me a one sentence story\"}],\n",
    "    stream=True,\n",
    ")\n",
    "async for chunk in response:\n",
    "    if chunk:\n",
    "        print(chunk.extract(), end=\"\", flush=True)\n"
   ]
  },
  {
   "cell_type": "markdown",
   "id": "fd38ab52",
   "metadata": {},
   "source": [
    "### Test Single-Agent Session"
   ]
  },
  {
   "cell_type": "code",
   "execution_count": 4,
   "id": "cf2d94f0",
   "metadata": {},
   "outputs": [
    {
     "name": "stdout",
     "output_type": "stream",
     "text": [
      "Round 1\n",
      "Turn 1:\n",
      "I'll get the current time in Singapore for you.\n",
      "Tool: \"current_time\"\n",
      "\tInput: format = YYYY-MM-DD HH:mm:ss\n",
      "\tInput: timezone = Asia/Singapore\n",
      "Turn 2:\n",
      "The current time in Singapore is **7:59:51 PM on August 5, 2025** (19:59:51 in 24-hour format).\n"
     ]
    }
   ],
   "source": [
    "from gai.asm.agents import ToolUseAgent\n",
    "from gai.mcp.client.mcp_client import McpAggregatedClient\n",
    "from gai.messages.monologue import FileMonologue\n",
    "from gai.messages import message_helper\n",
    "\n",
    "model_name = \"sonnet-4\"\n",
    "llm_config = config_helper.get_client_config(model_name)\n",
    "monologue = FileMonologue(file_path=\"/tmp/monologue.txt\")\n",
    "agent = ToolUseAgent(\n",
    "    agent_name=\"ToolUseAgent\",\n",
    "    llm_config=llm_config,\n",
    "    aggregated_client=McpAggregatedClient([\"mcp-time\"]),\n",
    "    monologue=monologue,\n",
    ")\n",
    "\n",
    "print(\"Round 1\")\n",
    "\n",
    "user_message = \"What is the time in Singapore now?\"\n",
    "\n",
    "print(\"Turn 1:\")\n",
    "\n",
    "resp = agent.start(user_message=user_message)\n",
    "async for chunk in resp:\n",
    "    message_helper.print_chunk(chunk)\n",
    "    \n",
    "print(\"Turn 2:\")\n",
    "\n",
    "resp = agent.resume()\n",
    "async for chunk in resp:\n",
    "    message_helper.print_chunk(chunk)\n"
   ]
  },
  {
   "cell_type": "code",
   "execution_count": 5,
   "id": "1b1f840a",
   "metadata": {},
   "outputs": [
    {
     "name": "stdout",
     "output_type": "stream",
     "text": [
      "Round 2\n",
      "Turn 1:\n",
      "I'll help you get the top 10 news highlights from AsiaOne.com. Let me scrape their website to gather the current news headlines.\n",
      "Tool: \"scrape\"\n",
      "\tInput: url = https://www.asiaone.com\n",
      "Turn 2:\n",
      "Based on the content from AsiaOne.com, here are the **top 10 news highlights** currently featured on their website:\n",
      "\n",
      "## Top 10 News Highlights from AsiaOne.com\n",
      "\n",
      "1. **Malaysian authorities searching for Singapore driver who filled container with subsidised fuel** - A cross-border fuel incident involving Singapore drivers\n",
      "\n",
      "2. **'I tried to save her': Friend weeps beside coffin of 23-year-old woman killed in Yishun car crash** - Tragic traffic accident in Singapore with emotional aftermath\n",
      "\n",
      "3. **5 durians for $488: Punggol residents accuse door-to-door salesman of selling them sour, unripe fruits** - Consumer complaints about overpriced, poor-quality durians\n",
      "\n",
      "4. **Wife of man who died in Bedok North accident looking for good Samaritan who administered CPR** - Community search for helpful citizen after fatal accident\n",
      "\n",
      "5. **SIA plane bound for Seoul encounters technical issue, returns to Singapore** - Singapore Airlines flight safety incident\n",
      "\n",
      "6. **'Important to take a longer term view': DPM Gan announces 5 new committees to strengthen Singapore's economic relevance** - Government economic policy announcement\n",
      "\n",
      "7. **Ex-minister Iswaran's case: Ong Beng Seng pleads guilty to abetting obstruction of justice, seeks judicial mercy** - High-profile legal case involving former minister\n",
      "\n",
      "8. **Tanjong Katong sinkhole: President Tharman thanks migrant workers for saving driver who fell in** - Presidential recognition for heroic rescue efforts\n",
      "\n",
      "9. **More than 578,000 crossings made on June 20 at Woodlands and Tuas checkpoints: ICA** - Record border crossing statistics\n",
      "\n",
      "10. **Over $108k lost in prepayments to beauty businesses in first half of 2025, 464% increase from last year** - Consumer alert about beauty business scams\n",
      "\n",
      "These headlines cover a mix of local Singapore news, regional developments, traffic incidents, government announcements, and consumer affairs that are currently trending on AsiaOne.com.\n"
     ]
    }
   ],
   "source": [
    "print(\"Round 2\")\n",
    "\n",
    "agent = ToolUseAgent(\n",
    "    agent_name=\"ToolUseAgent\",\n",
    "    llm_config=llm_config,\n",
    "    aggregated_client=McpAggregatedClient([\"mcp-web\"]),\n",
    "    monologue=monologue,\n",
    ")\n",
    "user_message = \"What is the top 10 news highlight from asiaone.com?\"\n",
    "\n",
    "print(\"Turn 1:\")\n",
    "\n",
    "resp = agent.resume(user_message=user_message)\n",
    "async for chunk in resp:\n",
    "    message_helper.print_chunk(chunk)\n",
    "\n",
    "print(\"Turn 2:\")\n",
    "\n",
    "resp = agent.resume()\n",
    "async for chunk in resp:\n",
    "    message_helper.print_chunk(chunk)\n"
   ]
  },
  {
   "cell_type": "code",
   "execution_count": 11,
   "id": "2290605d",
   "metadata": {},
   "outputs": [
    {
     "name": "stdout",
     "output_type": "stream",
     "text": [
      "[\n",
      "  {\n",
      "    \"role\": \"user\",\n",
      "    \"content\": \"\\n            Your name is ToolUseAgent within the context of this conversation and you will always respond as such.\\n            Do not refer to yourself as an AI or a bot or confuse your name with other agents.\\n           \\n            You may respond to my following message using the context you have learnt.\\n            What is the time in Singapore now?\\n            \\n            You may ask me for more information if you need to clarify my request but ask just enough to get the information you need to get started.\\n            If you need to ask for more information, please use the \\\"user_input\\\" tool to get the information from me.\\n            Never call \\\"user_input\\\" without providing a description of what you need from me.\\n            Do not be vague and expect an input from me, be specific about what you want.\\n            \"\n",
      "  },\n",
      "  {\n",
      "    \"role\": \"assistant\",\n",
      "    \"content\": [\n",
      "      {\n",
      "        \"citations\": null,\n",
      "        \"text\": \"I'll get the current time in Singapore for you.\",\n",
      "        \"type\": \"text\"\n",
      "      },\n",
      "      {\n",
      "        \"id\": \"toolu_01Kh5gUYTn9QFxqeVRE4EYqc\",\n",
      "        \"input\": {\n",
      "          \"format\": \"YYYY-MM-DD HH:mm:ss\",\n",
      "          \"timezone\": \"Asia/Singapore\"\n",
      "        },\n",
      "        \"name\": \"current_time\",\n",
      "        \"type\": \"tool_use\"\n",
      "      }\n",
      "    ]\n",
      "  },\n",
      "  {\n",
      "    \"role\": \"user\",\n",
      "    \"content\": [\n",
      "      {\n",
      "        \"type\": \"tool_result\",\n",
      "        \"tool_use_id\": \"toolu_01Kh5gUYTn9QFxqeVRE4EYqc\",\n",
      "        \"content\": \"Current UTC time is 2025-08-05 08:15:29, and the time in Asia/Singapore is 2025-08-05 16:15:29.\"\n",
      "      }\n",
      "    ]\n",
      "  },\n",
      "  {\n",
      "    \"role\": \"assistant\",\n",
      "    \"content\": [\n",
      "      {\n",
      "        \"citations\": null,\n",
      "        \"text\": \"The current time in Singapore is **4:15:29 PM on August 5th, 2025** (16:15:29 in 24-hour format).\",\n",
      "        \"type\": \"text\"\n",
      "      }\n",
      "    ]\n",
      "  },\n",
      "  {\n",
      "    \"role\": \"user\",\n",
      "    \"content\": \"\\n            Your name is ToolUseAgent within the context of this conversation and you will always respond as such.\\n            Do not refer to yourself as an AI or a bot or confuse your name with other agents.\\n           \\n            You may respond to my following message using the context you have learnt.\\n            What is the top 10 news highlight from asiaone.com?\\n            \\n            You may ask me for more information if you need to clarify my request but ask just enough to get the information you need to get started.\\n            If you need to ask for more information, please use the \\\"user_input\\\" tool to get the information from me.\\n            Never call \\\"user_input\\\" without providing a description of what you need from me.\\n            Do not be vague and expect an input from me, be specific about what you want.\\n            \"\n",
      "  },\n",
      "  {\n",
      "    \"role\": \"assistant\",\n",
      "    \"content\": [\n",
      "      {\n",
      "        \"citations\": null,\n",
      "        \"text\": \"I'll help you get the top 10 news highlights from AsiaOne.com. Let me scrape their website to find the current top stories.\",\n",
      "        \"type\": \"text\"\n",
      "      },\n",
      "      {\n",
      "        \"id\": \"toolu_01PejuALDeE9oZq8LWH9r46h\",\n",
      "        \"input\": {\n",
      "          \"url\": \"https://www.asiaone.com\"\n",
      "        },\n",
      "        \"name\": \"scrape\",\n",
      "        \"type\": \"tool_use\"\n",
      "      }\n",
      "    ]\n",
      "  },\n",
      "  {\n",
      "    \"role\": \"user\",\n",
      "    \"content\": [\n",
      "      {\n",
      "        \"type\": \"tool_result\",\n",
      "        \"tool_use_id\": \"toolu_01PejuALDeE9oZq8LWH9r46h\",\n",
      "        \"content\": \"{\\n  \\\"source\\\": \\\"https://www.asiaone.com\\\",\\n  \\\"title\\\": \\\"https://www.asiaone.com\\\",\\n  \\\"text\\\": \\\"AsiaOne, Asia's Leading News Portal, Get Latest News at AsiaOne \\u00b7\\u00b7\\u00b7 Latest \\u00b7\\u00b7\\u00b7 News \\u00b7\\u00b7\\u00b7 Entertainment \\u00b7\\u00b7\\u00b7 Lifestyle \\u00b7\\u00b7\\u00b7 Video \\u00b7\\u00b7\\u00b7 Digicult \\u00b7\\u00b7\\u00b7 EarthOne \\u00b7\\u00b7\\u00b7 More \\u00b7\\u00b7\\u00b7 homepage trending trending singapore 'I tried to save her': Friend weeps beside coffin of 23-year-old woman killed in Yishun car crash singapore 5 durians for $488: Punggol residents accuse door-to-door salesman of selling them sour, unripe fruits singapore Malaysian authorities searching for Singapore driver who filled container with subsidised fuel singapore Pritam gets candid with kids\\u2019 questions on his worst subjects and favourite song in radio interview singapore 'They have to think 3D': All recruits at BMTC will be trained to fly drones, says Chan Chun Sing singapore 'Best job ever': Netizens tickled by NParks contractors using gel blasters to chase away monkeys lifestyle 'We wanted to try somewhere with footfall': Ben Yeo opens new fish soup stall at Orchard Towers entertainment Dilraba's new drama on missing kids under fire for using childhood photo of BTS' Suga entertainment 'I quit': Zhao Lusi voices out alleged ill-treatment by management agency lifestyle Bro-code before go-mode: Meet the duo leading NDP 2025 malaysia Parents reject $30k settlement from kindergarten in JB after son suffocates to death in school van singapore 'Important to take a longer term view': DPM Gan announces 5 new committees to strengthen Singapore's economic relevance entertainment K-drama regular Song Young-kyu found dead following drink-driving incident Singapore Singapore singapore 'On the verge of losing $10k': Vendors voice concerns about poor business at Bayfront SG60 food fair singapore Ex-minister Iswaran's case: Ong Beng Seng pleads guilty to abetting obstruction of justice, seeks judicial mercy singapore Tanjong Katong sinkhole: President Tharman thanks migrant workers for saving driver who fell in singapore No plans to 'fully liberalise' cross-border ride-hail services: LTA singapore 'She had a whole life ahead of her': Boyfriend mourns Yishun fatal crash victim singapore Wife of man who died in Bedok North accident looking for good Samaritan who administered CPR singapore SIA plane bound for Seoul encounters technical issue, returns to Singapore singapore Daily roundup: No plans to 'fully liberalise' cross-border ride-hail services, says LTA \\u2014 and other top stories today singapore Over $136k in fines: Nearly 1,500 Singapore drivers caught under Malaysia's VEP scheme since July 1 singapore Tanjong Katong sinkhole: Both directions of road open, bus services 36 and 48 resume See More Entertainment Entertainment entertainment 'We loved without regret': Sora Ma remembers late husband following son's first birthday celebration entertainment Gossip mill: Seventeen's Mingyu in Singapore for event, Babymonster's Chiquita receives hate presumably over Thai nationality, Jeon Somi recounts long chat with ghost entertainment E-Junkies: J-pop group Psychic Fever talk global goals and new EP entertainment Edwin Goh and Rachel Wan's wedding to be next year: 'There's still a lot of things we need to figure out' entertainment 'Did you have to go this far?' Malaysia's TV3 slammed after Bella Astillah made to present award to actress in ex-husband's scandal entertainment Fan collapses onstage at Katy Perry concert entertainment Heidi Klum planning to cleanse body of worms and parasites entertainment Jessie J readmitted to hospital with fluid in lungs entertainment Oasis 'shocked and saddened' after fan dies at their concert entertainment Mark Ruffalo to join Tom Holland in Spider-Man: Brand New Day See More Lifestyle Lifestyle lifestyle I try 11 new Michelin Bib Gourmand 2025 eateries to see if they're worth the hype, here's my honest take lifestyle Bak kut teh ramen, laksa shakshuka and chilli crab burgers: Celebrate National Day with these exclusive SG60 meals lifestyle Japanese restaurant Umi Nami to shutter, in yet another F&B business closure at Holland Village lifestyle Uniqlo launching T-shirt collection in collab with Pokemon Trading Card Game lifestyle BlueSG is shutting down - what happens next? lifestyle US could require up to $19k bonds for some tourist visas under pilot programme lifestyle Travelling to New Zealand soon? It's likely you'll have to pay more at popular tourist sites lifestyle This avid runner takes the lead in SAFVC's first full contingent at NDP 2025 lifestyle ZipZap car subscription service launches in Singapore lifestyle National Day promotions 2025: NDP eCoupons, $0.60 deals, $60 off and more See More Digicult Digicult digicult Slim, sleek, but slightly too short-lived: Samsung Galaxy S25 Edge review digicult World's best Dota 2 teams to compete for $1m prize pool in Singapore in November digicult Sony RX1R III brings back the compact full-frame but not the Sony playbook china China's Premier Li proposes global AI co-operation organisation digicult 'They don't gaslight you': Why some Singaporean women like to spend on these virtual men world Elon Musk's Starlink network suffers rare global outage digicult Spy cockroaches and AI robots: Germany plots the future of warfare singapore 'Give a positive review': Hidden AI prompt found in academic paper by NUS researchers digicult 'Report 1 shop, another 10 appear': Hoyo Fest artists on copyright struggles singapore NTU penalises 3 students over use of AI tools; they dispute university's findings See More Money Money money Up 4.3%: Singapore's economy grew in Q2 despite US tariff fears money Electric car-sharing firm BlueSG to wind down current operations on Aug 8 money Singapore's most expensive neighbourhoods are changing - 4 buyer trends that prove it in 2025 money Should you buy a used car in Singapore? Pros, pitfalls and price comparisons money Why I bought 7 properties in Johor Bahru, and will still buy more money Trump says US will set 15% tariff on South Korean imports under new deal money Cathay Cineplexes operator mm2 hires debt restructuring specialist as it faces more payment demands; CEO Chang Long Jong to retire money 6 best travel insurance plans in Singapore (July 2025) money How to claim travel insurance? A comprehensive beginner's guide (2025) money Britain and India sign free trade pact during Modi visit See More Subscribe to our newsletter Your daily good stuff - AsiaOne stories delivered straight to your inbox SUBSCRIBE In Case You Missed It In Case You Missed It singapore Part-time PHV driver who stopped suicide attempt among 38 recipients of MHA\\u2019s public spiritedness award singapore Discrimination and bias less likely than violence and insults to be viewed as unacceptable conduct between races: AsiaOne poll singapore Australian man, 82, arrested for alleged March thefts at Changi Airport upon return to Singapore malaysia JB car wash operators say 'unfair' after business declines amid govt clampdown over prioritising Singapore-registered cars singapore 3-room and bigger Tampines, Toa Payoh BTO flats most popular with first-timers in July HDB launch singapore 'Count his lucky stars': Youth struck by taxi while dashing across Yio Chu Kang Road, netizens react singapore Tanjong Katong sinkhole: ItsRainingRaincoats raises $72,000 within 2 days for migrant workers who rescued woman singapore Tanjong Katong sinkhole: It should not have happened, says Grace Fu as panel convened to probe incident singapore Love scam: Man transfers $120k to online 'China girlfriend' of 2 years after sale of Ang Mo Kio flat Latest Latest world US government restricts sports visas for transgender women asia Vietnam facing worsening African swine fever outbreaks asia Chinese government has 'final say' in Dalai Lama reincarnation, Tibetan official says china Hong Kong issues highest weather warning, as rains shut schools, courts and hospital wards world Israel to decide next steps in Gaza after ceasefire talks collapse asia China's military conducted patrols in South China Sea, spokesperson says world Italy arrests 13 people in nationwide raids against Chinese mafia groups world Zelenskiy says 'mercenaries' from China, Pakistan and other countries fighting for Russia world More Gazans die seeking aid and from hunger; burial shrouds in short supply See More This website is best viewed using the latest versions of web browsers.\\\",\\n  \\\"authors\\\": [],\\n  \\\"summary\\\": \\\"In Case You Missed ItIn Case You Missed It\\\",\\n  \\\"keywords\\\": [\\n    \\\"itin\\\",\\n    \\\"case\\\",\\n    \\\"missed\\\",\\n    \\\"asiaone\\\"\\n  ],\\n  \\\"categories\\\": [],\\n  \\\"publish_date\\\": null,\\n  \\\"length\\\": 8289,\\n  \\\"created_at\\\": \\\"2025-08-05T08:15:42.192739\\\",\\n  \\\"links\\\": {\\n    \\\"https://www.asiaone.com/\\\": \\\"https://www.asiaone.com/\\\",\\n    \\\"https://www.asiaone.com/lite\\\": \\\"Latest\\\",\\n    \\\"https://www.asiaone.com/showbiz\\\": \\\"Entertainment\\\",\\n    \\\"https://www.asiaone.com/lifestyle\\\": \\\"Lifestyle\\\",\\n    \\\"https://www.asiaone.com/video\\\": \\\"Video\\\",\\n    \\\"https://www.asiaone.com/digital\\\": \\\"Digicult\\\",\\n    \\\"https://www.asiaone.com/earth-one\\\": \\\"EarthOne\\\",\\n    \\\"https://www.asiaone.com/singapore/i-tried-save-her-friend-weeps-beside-coffin-23-year-old-woman-killed-yishun-car-crash?utm_source=a1home&utm_medium=referral&utm_campaign=A1+trending&utm_content=c1\\\": \\\"'I tried to save her': Friend weeps beside coffin of 23-year-old woman killed in Yishun car crash\\\",\\n    \\\"https://www.asiaone.com/singapore\\\": \\\"singapore\\\",\\n    \\\"https://www.asiaone.com/singapore/5-durians-488-punggol-residents-accuse-door-door-salesman-selling-them-sour-unripe-fruits?utm_source=a1home&utm_medium=referral&utm_campaign=A1+trending&utm_content=c2\\\": \\\"5 durians for $488: Punggol residents accuse door-to-door salesman of selling them sour, unripe fruits\\\"\\n  },\\n  \\\"chunks\\\": [\\n    {\\n      \\\"index\\\": 0,\\n      \\\"link_title\\\": \\\"https://www.asiaone.com\\\",\\n      \\\"link\\\": \\\"https://www.asiaone.com\\\",\\n      \\\"chunk\\\": \\\"wing drink-driving incident Singapore Singapore singapore 'On the verge of losing $10k': Vendors voice concerns about poor business at Bayfront SG60 food fair singapore Ex-minister Iswaran's case: Ong Beng Seng pleads guilty to abetting obstruction of justice, seeks judicial mercy singapore Tanjong Katong sinkhole: President Tharman thanks migrant workers for saving driver who fell in singapore No plans to 'fully liberalise' cross-border ride-hail services: LTA singapore 'She had a whole life ahead of her': Boyfriend mourns Yishun fatal crash victim singapore Wife of man who died in Bedok North accident looking for good Samaritan who administered CPR singapore SIA plane bound for Seoul encounters technical issue, returns to Singapore singapore Daily roundup: No plans to 'fully liberalise' cross-border ride-hail services, says LTA \\u2014 and other top stories today singapore Over $136k in fines: Nearly 1,500 Singapore drivers caught under Malaysia's VEP scheme since July 1\\\",\\n      \\\"score\\\": 0.0\\n    },\\n    {\\n      \\\"index\\\": 1,\\n      \\\"link_title\\\": \\\"https://www.asiaone.com\\\",\\n      \\\"link\\\": \\\"https://www.asiaone.com\\\",\\n      \\\"chunk\\\": \\\"Over $136k in fines: Nearly 1,500 Singapore drivers caught under Malaysia's VEP scheme since July 1 singapore Tanjong Katong sinkhole: Both directions of road open, bus services 36 and 48 resume See More Entertainment Entertainment entertainment 'We loved without regret': Sora Ma remembers late husband following son's first birthday celebration entertainment Gossip mill: Seventeen's Mingyu in Singapore for event, Babymonster's Chiquita receives hate presumably over Thai nationality, Jeon Somi recounts long chat with ghost entertainment E-Junkies: J-pop group Psychic Fever talk global goals and new EP entertainment Edwin Goh and Rachel Wan's wedding to be next year: 'There's still a lot of things we need to figure out' entertainment 'Did you have to go this far?' Malaysia's TV3 slammed after Bella Astillah made to present award to actress in ex-husband's scanda\\\",\\n      \\\"score\\\": 0.0\\n    },\\n    {\\n      \\\"index\\\": 2,\\n      \\\"link_title\\\": \\\"https://www.asiaone.com\\\",\\n      \\\"link\\\": \\\"https://www.asiaone.com\\\",\\n      \\\"chunk\\\": \\\"Malaysia's TV3 slammed after Bella Astillah made to present award to actress in ex-husband's scandal entertainment Fan collapses onstage at Katy Perry concert entertainment Heidi Klum planning to cleanse body of worms and parasites entertainment Jessie J readmitted to hospital with fluid in lungs entertainment Oasis 'shocked and saddened' after fan dies at their concert entertainment Mark Ruffalo to join Tom Holland in Spider-Man: Brand New Day See More Lifestyle Lifestyle lifestyle I try 11 new Michelin Bib Gourmand 2025 eateries to see if they're worth the hype, here's my honest take lifestyle Bak kut teh ramen, laksa shakshuka and chilli crab burgers: Celebrate National Day with these exclusive SG60 meals lifestyle Japanese restaurant Umi Nami to shutter, in yet another F&B business closure at Holland Village lifestyle Uniqlo launching T-shirt collection in collab with Pokemon Trading Card Game lifestyle BlueSG is shutting down - what happens next? lifestyle US could require up to $19k bonds for some tourist visas under pilot programme lifestyle\\\",\\n      \\\"score\\\": 0.0\\n    },\\n    {\\n      \\\"index\\\": 3,\\n      \\\"link_title\\\": \\\"https://www.asiaone.com\\\",\\n      \\\"link\\\": \\\"https://www.asiaone.com\\\",\\n      \\\"chunk\\\": \\\"lifestyle US could require up to $19k bonds for some tourist visas under pilot programme lifestyle Travelling to New Zealand soon? It's likely you'll have to pay more at popular tourist sites lifestyle This avid runner takes the lead in SAFVC's first full contingent at NDP 2025 lifestyle ZipZap car subscription service launches in Singapore lifestyle National Day promotions 2025: NDP eCoupons, $0.60 deals, $60 off and more See More Digicult Digicult digicult Slim, sleek, but slightly too short-lived: Samsung Galaxy S25 Edge review digicult World's best Dota 2 teams to compete for $1m prize pool in Singapore in November digicult Sony RX1R III brings back the compact full-frame but not the Sony playbook china China's Premier Li proposes global AI co-operation organisation digicult 'They don't gaslight you': Why some Singaporean women like to spend on these virtual men world Elon Musk's Starlink network suffers rare global outage digicult Spy cockroaches and AI robots: Germany plots the future of warfare singapore 'Give a positive review': Hidden AI prompt found in a\\\",\\n      \\\"score\\\": 0.0\\n    },\\n    {\\n      \\\"index\\\": 4,\\n      \\\"link_title\\\": \\\"https://www.asiaone.com\\\",\\n      \\\"link\\\": \\\"https://www.asiaone.com\\\",\\n      \\\"chunk\\\": \\\"Germany plots the future of warfare singapore 'Give a positive review': Hidden AI prompt found in academic paper by NUS researchers digicult 'Report 1 shop, another 10 appear': Hoyo Fest artists on copyright struggles singapore NTU penalises 3 students over use of AI tools; they dispute university's findings See More Money Money money Up 4.3%: Singapore's economy grew in Q2 despite US tariff fears money Electric car-sharing firm BlueSG to wind down current operations on Aug 8 money Singapore's most expensive neighbourhoods are changing - 4 buyer trends that prove it in 2025 money Should you buy a used car in Singapore? Pros, pitfalls and price comparisons money Why I bought 7 properties in Johor Bahru, and will still\\\",\\n      \\\"score\\\": 0.0\\n    },\\n    {\\n      \\\"index\\\": 5,\\n      \\\"link_title\\\": \\\"https://www.asiaone.com\\\",\\n      \\\"link\\\": \\\"https://www.asiaone.com\\\",\\n      \\\"chunk\\\": \\\"Pros, pitfalls and price comparisons money Why I bought 7 properties in Johor Bahru, and will still buy more money Trump says US will set 15% tariff on South Korean imports under new deal money Cathay Cineplexes operator mm2 hires debt restructuring specialist as it faces more payment demands; CEO Chang Long Jong to retire money 6 best travel insurance plans in Singapore (July 2025) money How to claim travel insurance? A comprehensive beginner's guide (2025) money Britain and India sign free trade pact during Modi visit See More Subscribe to our newsletter Your daily good stuff - AsiaOne stories delivered straight to your inbox SUBSCRIBE In Case You Missed It In Case You Missed It singapore Part-time PHV driver who stopped suicide attempt among 38 recipient\\\",\\n      \\\"score\\\": 0.0\\n    },\\n    {\\n      \\\"index\\\": 6,\\n      \\\"link_title\\\": \\\"https://www.asiaone.com\\\",\\n      \\\"link\\\": \\\"https://www.asiaone.com\\\",\\n      \\\"chunk\\\": \\\"In Case You Missed It singapore Part-time PHV driver who stopped suicide attempt among 38 recipients of MHA\\u2019s public spiritedness award singapore Discrimination and bias less likely than violence and insults to be viewed as unacceptable conduct between races: AsiaOne poll singapore Australian man, 82, arrested for alleged March thefts at Changi Airport upon return to Singapore malaysia JB car wash operators say 'unfair' after business declines amid govt clampdown over prioritising Singapore-registered cars singapore 3-room and bigger Tampines, Toa Payoh BTO flats most popular with first-timers in July HDB launch singapore 'Count his lucky stars': Youth struck by taxi while dashing across Yio Chu Kang Road, netizens react singapore Tanjong Katong sinkhole: ItsRainingRaincoats raises $72,000 within 2 days for migrant workers who rescued woman singapore Tanjong Katong sinkhole: It should not have happened, says Grace Fu as panel convened to probe incident singapore Love scam: Man transfers $120k to online 'China girlfriend' of 2 years after sale of Ang Mo Kio flat Latest Latest world US government restricts sports visas for transgender women asia Vietnam facing worsening African swine fever outbreaks asia Chinese government has 'final say' in Dalai Lama reincarnation, Tibetan official says china Hong Kong issues highest weather warning, as rains shut schools, courts and hospital wards world Israel to decide next steps in Gaza after ceasefire talks collapse asia China's military conducted patrols in South China Sea, spokesperson says world Italy arrests 13 people in nationwide raids against Chinese mafia groups world Zelenskiy says 'mercenaries' from China, Pakistan and other countries fighting for Russia world More Gazans die seeking aid and from hunger; burial shrouds in short supply See More This website is best viewed using the latest versions of web browsers.\\\",\\n      \\\"score\\\": 0.0\\n    }\\n  ]\\n}\"\n",
      "      }\n",
      "    ]\n",
      "  },\n",
      "  {\n",
      "    \"role\": \"assistant\",\n",
      "    \"content\": [\n",
      "      {\n",
      "        \"citations\": null,\n",
      "        \"text\": \"Based on the content I scraped from AsiaOne.com, here are the **top 10 news highlights** currently featured on their homepage:\\n\\n## Top 10 News Highlights from AsiaOne.com\\n\\n1. **'I tried to save her': Friend weeps beside coffin of 23-year-old woman killed in Yishun car crash** (Singapore)\\n\\n2. **5 durians for $488: Punggol residents accuse door-to-door salesman of selling them sour, unripe fruits** (Singapore)\\n\\n3. **Malaysian authorities searching for Singapore driver who filled container with subsidised fuel** (Singapore)\\n\\n4. **'They have to think 3D': All recruits at BMTC will be trained to fly drones, says Chan Chun Sing** (Singapore)\\n\\n5. **'Best job ever': Netizens tickled by NParks contractors using gel blasters to chase away monkeys** (Singapore)\\n\\n6. **Dilraba's new drama on missing kids under fire for using childhood photo of BTS' Suga** (Entertainment)\\n\\n7. **'I quit': Zhao Lusi voices out alleged ill-treatment by management agency** (Entertainment)\\n\\n8. **Parents reject $30k settlement from kindergarten in JB after son suffocates to death in school van** (Malaysia)\\n\\n9. **'Important to take a longer term view': DPM Gan announces 5 new committees to strengthen Singapore's economic relevance** (Singapore)\\n\\n10. **K-drama regular Song Young-kyu found dead following drink-driving incident** (Entertainment)\\n\\nThese are the current trending stories and top news highlights featured prominently on AsiaOne.com's homepage, covering a mix of Singapore news, regional stories, and entertainment updates.\",\n",
      "        \"type\": \"text\"\n",
      "      }\n",
      "    ]\n",
      "  }\n",
      "]\n"
     ]
    }
   ],
   "source": [
    "import json\n",
    "messages = monologue.list_chat_messages()\n",
    "print(json.dumps(messages,indent=2))"
   ]
  },
  {
   "cell_type": "markdown",
   "id": "880b26f2",
   "metadata": {},
   "source": [
    "\n",
    "### Multi-Agent Session"
   ]
  },
  {
   "cell_type": "code",
   "execution_count": null,
   "id": "e754df9c",
   "metadata": {},
   "outputs": [
    {
     "data": {
      "text/html": [
       "<pre style=\"white-space:pre;overflow-x:auto;line-height:normal;font-family:Menlo,'DejaVu Sans Mono',consolas,'Courier New',monospace\"><span style=\"color: #00ff00; text-decoration-color: #00ff00\">HaikuWriter</span> :\n",
       "</pre>\n"
      ],
      "text/plain": [
       "\u001b[92mHaikuWriter\u001b[0m :\n"
      ]
     },
     "metadata": {},
     "output_type": "display_data"
    },
    {
     "name": "stdout",
     "output_type": "stream",
     "text": [
      "I'd like to clarify that I'll be working with another team member to co-write this haiku poem. What would you like us to focus on in terms of the beauty of coding - is it the creative problem-solving, the joy of building something from scratch, or perhaps the sense of community and collaboration that comes with coding?"
     ]
    },
    {
     "data": {
      "text/html": [
       "<pre style=\"white-space:pre;overflow-x:auto;line-height:normal;font-family:Menlo,'DejaVu Sans Mono',consolas,'Courier New',monospace\"><span style=\"color: #00ff00; text-decoration-color: #00ff00\">HaikuReviewer</span> :\n",
       "</pre>\n"
      ],
      "text/plain": [
       "\u001b[92mHaikuReviewer\u001b[0m :\n"
      ]
     },
     "metadata": {},
     "output_type": "display_data"
    },
    {
     "name": "stdout",
     "output_type": "stream",
     "text": [
      "           It seems like we're ready to begin crafting our haiku. Let's focus on the joy of building something from scratch, as it encompasses the excitement and fulfillment that comes with seeing a project take shape before one's eyes. The process of coding allows developers to bring their ideas to life, transforming abstract concepts into tangible solutions. \n",
      "\n",
      "The first line of our haiku could revolve around this idea of creation. How about something like: \"In lines of code, a vision takes form\"? Do you think this sets the right tone for our poem?\n"
     ]
    }
   ],
   "source": [
    "\n",
    "import os\n",
    "from gai.lib.constants import DEFAULT_GUID\n",
    "from gai.sessions import SessionManager\n",
    "from rich.console import Console\n",
    "from gai.nodes.agent_node import AgentNode\n",
    "from gai.nodes.user_node import UserNode\n",
    "from dotenv import load_dotenv\n",
    "\n",
    "load_dotenv()\n",
    "console = Console(force_terminal=True)\n",
    "\n",
    "os.environ[\"LOG_LEVEL\"] = \"Warning\"\n",
    "\n",
    "# Initiate a session\n",
    "\n",
    "session_mgr = SessionManager(\n",
    "    dialogue_id=DEFAULT_GUID, file_path=os.path.join(\"tmp\", \"dialogue.json\")\n",
    ")\n",
    "session_mgr.reset()\n",
    "await session_mgr.start()\n",
    "\n",
    "## Create plan\n",
    "\n",
    "flow_plan = \"\"\"\n",
    "    User ->> HaikuWriter\n",
    "    HaikuWriter ->> HaikuReviewer\n",
    "    \"\"\"\n",
    "\n",
    "## Register HaikuiWriter and wait for User\n",
    "\n",
    "HaikuWriter = AgentNode(\n",
    "    agent_name=\"HaikuWriter\", model_name=\"llama3.2:3b\", session_mgr=session_mgr\n",
    ")\n",
    "await HaikuWriter.subscribe(flow_plan)\n",
    "\n",
    "## Register Diana and wait for User\n",
    "\n",
    "HaikuReviewer = AgentNode(\n",
    "    agent_name=\"HaikuReviewer\", model_name=\"ttt\", session_mgr=session_mgr\n",
    ")\n",
    "await HaikuReviewer.subscribe(flow_plan)\n",
    "\n",
    "user = UserNode(session_mgr=session_mgr)\n",
    "\n",
    "## START Chain Response\n",
    "resp = await user.start(\n",
    "    user_message=\"You will work as a team to write a haiku poem about the beauty of coding and review it. Please share your thoughts while you are writing. Do not ask for any input from me.\",\n",
    "    flow_plan=flow_plan,\n",
    ")\n",
    "content = \"\"\n",
    "async for chunk in resp:\n",
    "    if not content:\n",
    "        console.print(f\"[bright_green]{chunk}[/bright_green] :\")\n",
    "        content = chunk\n",
    "    else:\n",
    "        print(chunk, end=\"\", flush=True)\n",
    "        content += chunk\n",
    "\n",
    "## RESUME Chain Response\n",
    "resp = await user.resume()\n",
    "content = \"\"\n",
    "async for chunk in resp:\n",
    "    if not content:\n",
    "        console.print(f\"[bright_green]{chunk}[/bright_green] :\")\n",
    "        content = chunk\n",
    "    else:\n",
    "        print(chunk, end=\"\", flush=True)\n",
    "        content += chunk\n"
   ]
  }
 ],
 "metadata": {
  "kernelspec": {
   "display_name": "gai-sdk",
   "language": "python",
   "name": "python3"
  },
  "language_info": {
   "codemirror_mode": {
    "name": "ipython",
    "version": 3
   },
   "file_extension": ".py",
   "mimetype": "text/x-python",
   "name": "python",
   "nbconvert_exporter": "python",
   "pygments_lexer": "ipython3",
   "version": "3.10.18"
  }
 },
 "nbformat": 4,
 "nbformat_minor": 5
}
