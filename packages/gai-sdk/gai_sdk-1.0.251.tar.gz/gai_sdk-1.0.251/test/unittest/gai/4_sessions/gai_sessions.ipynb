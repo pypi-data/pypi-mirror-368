{
 "cells": [
  {
   "cell_type": "code",
   "execution_count": 3,
   "id": "78cff949",
   "metadata": {},
   "outputs": [
    {
     "data": {
      "text/html": [
       "<pre style=\"white-space:pre;overflow-x:auto;line-height:normal;font-family:Menlo,'DejaVu Sans Mono',consolas,'Courier New',monospace\">Bus is ready.\n",
       "</pre>\n"
      ],
      "text/plain": [
       "Bus is ready.\n"
      ]
     },
     "metadata": {},
     "output_type": "display_data"
    }
   ],
   "source": [
    "from gai.messages.typing import MessagePydantic\n",
    "from gai.sessions.message_bus_local import LocalMessageBus\n",
    "from gai.messages import message_helper\n",
    "from gai.lib.constants import DEFAULT_GUID\n",
    "from rich import print\n",
    "\n",
    "amb = LocalMessageBus(message_type=MessagePydantic)\n",
    "\n",
    "# 1. Start the background bus loop\n",
    "\n",
    "await amb.start()\n",
    "print(\"Bus is ready.\")\n",
    "\n",
    "# 2. Subscribe and handle send to LLM\n",
    "\n",
    "\n",
    "async def handle_send(msg: MessagePydantic):\n",
    "    # Forward user message to LLM\n",
    "\n",
    "    from gai.llm.openai import OpenAI\n",
    "\n",
    "    client = OpenAI(client_config={\"model\": \"gpt-4o-mini\"})\n",
    "    resp = client.chat.completions.create(\n",
    "        model=\"gpt-4o-mini\",\n",
    "        messages=[{\"role\": \"user\", \"content\": msg.body.content}],\n",
    "        max_tokens=100,\n",
    "    )\n",
    "\n",
    "    # Forward LLM response to user\n",
    "    assistant_message = message_helper.create_chat_reply_message(\n",
    "        dialogue_id=dialogue_id,\n",
    "        round_no=resp.body.round_no,\n",
    "        step_no=resp.body.step_no + 1,\n",
    "        chunk_no=0,\n",
    "        sender=msg.header.recipient,\n",
    "        recipient=msg.header.sender,\n",
    "        chunk=\"<eom>\",\n",
    "        content=resp.choices[0].message.content,\n",
    "    )\n",
    "    await amb.publish(assistant_message)\n",
    "\n",
    "\n",
    "await amb.subscribe(\"send\", {\"Alice\": handle_send})\n",
    "\n",
    "# 3. Subscribe and handle replies\n",
    "\n",
    "\n",
    "async def handle_reply(msg: MessagePydantic):\n",
    "    print(f\"Reply from {msg.header.sender}: [green]{msg.body.content}[/]\")\n",
    "\n",
    "\n",
    "await amb.subscribe(\"reply\", {\"User\": handle_reply})\n",
    "\n",
    "# 4. Publish a message to the bus\n",
    "user_message = message_helper.create_chat_send_message(\n",
    "    dialogue_id=DEFAULT_GUID,\n",
    "    round_no=0,\n",
    "    step_no=0,\n",
    "    recipient=\"Agent\",\n",
    "    content=\"Hello, what is your name?\",\n",
    ")\n",
    "\n",
    "await amb.publish(user_message)\n"
   ]
  },
  {
   "cell_type": "markdown",
   "id": "17e35ae1",
   "metadata": {},
   "source": [
    "### b) Same Message Type - Multiple Subscribers"
   ]
  },
  {
   "cell_type": "code",
   "execution_count": 6,
   "id": "f809535a",
   "metadata": {},
   "outputs": [
    {
     "data": {
      "text/html": [
       "<pre style=\"white-space:pre;overflow-x:auto;line-height:normal;font-family:Menlo,'DejaVu Sans Mono',consolas,'Courier New',monospace\">Bus is ready.\n",
       "</pre>\n"
      ],
      "text/plain": [
       "Bus is ready.\n"
      ]
     },
     "metadata": {},
     "output_type": "display_data"
    },
    {
     "data": {
      "text/html": [
       "<pre style=\"white-space:pre;overflow-x:auto;line-height:normal;font-family:Menlo,'DejaVu Sans Mono',consolas,'Courier New',monospace\">Subscribed to message type <span style=\"color: #008000; text-decoration-color: #008000\">'send'</span>\n",
       "</pre>\n"
      ],
      "text/plain": [
       "Subscribed to message type \u001b[32m'send'\u001b[0m\n"
      ]
     },
     "metadata": {},
     "output_type": "display_data"
    },
    {
     "data": {
      "text/html": [
       "<pre style=\"white-space:pre;overflow-x:auto;line-height:normal;font-family:Menlo,'DejaVu Sans Mono',consolas,'Courier New',monospace\">Publishing message.\n",
       "</pre>\n"
      ],
      "text/plain": [
       "Publishing message.\n"
      ]
     },
     "metadata": {},
     "output_type": "display_data"
    },
    {
     "data": {
      "text/html": [
       "<pre style=\"white-space:pre;overflow-x:auto;line-height:normal;font-family:Menlo,'DejaVu Sans Mono',consolas,'Courier New',monospace\">Message published.\n",
       "</pre>\n"
      ],
      "text/plain": [
       "Message published.\n"
      ]
     },
     "metadata": {},
     "output_type": "display_data"
    },
    {
     "data": {
      "text/html": [
       "<pre style=\"white-space:pre;overflow-x:auto;line-height:normal;font-family:Menlo,'DejaVu Sans Mono',consolas,'Courier New',monospace\">Bus stopped.\n",
       "</pre>\n"
      ],
      "text/plain": [
       "Bus stopped.\n"
      ]
     },
     "metadata": {},
     "output_type": "display_data"
    }
   ],
   "source": [
    "import asyncio\n",
    "from gai.messages import MessagePydantic\n",
    "from gai.sessions.message_bus_local import LocalMessageBus\n",
    "from rich import print\n",
    "\n",
    "amb = LocalMessageBus(message_type=MessagePydantic)\n",
    "\n",
    "# 1. Start the background bus loop\n",
    "await amb.start()\n",
    "print(\"Bus is ready.\")\n",
    "\n",
    "# 2. Create 2 handlers to show multiple subscriptions to the same message type\n",
    "\n",
    "\n",
    "async def handler_1(msg: MessagePydantic):\n",
    "    print(f\"[bright_yellow] handler_1 > {msg}[/bright_yellow]\")\n",
    "\n",
    "\n",
    "async def handler_2(msg: MessagePydantic):\n",
    "    print(f\"[bright_green] handler_2 > {msg}[/bright_green]\")\n",
    "\n",
    "\n",
    "# 2. Subscribe the callback to the message type=\"send\"\n",
    "\n",
    "await amb.subscribe(\"send\", {\"Alice\": handler_1})\n",
    "await amb.subscribe(\"send\", {\"Bob\": handler_2})\n",
    "print(\"Subscribed to message type 'send'\")\n",
    "\n",
    "# 4. Confirm the bus is started and publish a message\n",
    "\n",
    "if not amb.is_started:\n",
    "    raise RuntimeError(\"Bus is not started, cannot publish message.\")\n",
    "\n",
    "user_message = message_helper.create_chat_send_message(\n",
    "    dialogue_id=DEFAULT_GUID,\n",
    "    round_no=0,\n",
    "    step_no=0,\n",
    "    recipient=\"Agent\",\n",
    "    content=\"Hello, what is your name?\",\n",
    ")\n",
    "\n",
    "print(\"Publishing message.\")\n",
    "await amb.publish(user_message)\n",
    "print(\"Message published.\")\n",
    "await asyncio.sleep(0.1)  # Give time for the message to be processed\n",
    "\n",
    "# 5. Wait a little for message to be received before cancelling task\n",
    "await amb.stop()\n",
    "\n",
    "print(\"Bus stopped.\")\n"
   ]
  },
  {
   "cell_type": "markdown",
   "id": "83512463",
   "metadata": {},
   "source": [
    "### b) Multiple Message Type - One Subscriber"
   ]
  },
  {
   "cell_type": "code",
   "execution_count": 7,
   "id": "166fe8aa",
   "metadata": {},
   "outputs": [
    {
     "data": {
      "text/html": [
       "<pre style=\"white-space:pre;overflow-x:auto;line-height:normal;font-family:Menlo,'DejaVu Sans Mono',consolas,'Courier New',monospace\">Bus is ready.\n",
       "</pre>\n"
      ],
      "text/plain": [
       "Bus is ready.\n"
      ]
     },
     "metadata": {},
     "output_type": "display_data"
    },
    {
     "data": {
      "text/html": [
       "<pre style=\"white-space:pre;overflow-x:auto;line-height:normal;font-family:Menlo,'DejaVu Sans Mono',consolas,'Courier New',monospace\">Subscribed to send and reply message types\n",
       "</pre>\n"
      ],
      "text/plain": [
       "Subscribed to send and reply message types\n"
      ]
     },
     "metadata": {},
     "output_type": "display_data"
    },
    {
     "data": {
      "text/html": [
       "<pre style=\"white-space:pre;overflow-x:auto;line-height:normal;font-family:Menlo,'DejaVu Sans Mono',consolas,'Courier New',monospace\">Publishing send message.\n",
       "</pre>\n"
      ],
      "text/plain": [
       "Publishing send message.\n"
      ]
     },
     "metadata": {},
     "output_type": "display_data"
    },
    {
     "data": {
      "text/html": [
       "<pre style=\"white-space:pre;overflow-x:auto;line-height:normal;font-family:Menlo,'DejaVu Sans Mono',consolas,'Courier New',monospace\">Send message published.\n",
       "</pre>\n"
      ],
      "text/plain": [
       "Send message published.\n"
      ]
     },
     "metadata": {},
     "output_type": "display_data"
    },
    {
     "data": {
      "text/html": [
       "<pre style=\"white-space:pre;overflow-x:auto;line-height:normal;font-family:Menlo,'DejaVu Sans Mono',consolas,'Courier New',monospace\">Publishing reply message.\n",
       "</pre>\n"
      ],
      "text/plain": [
       "Publishing reply message.\n"
      ]
     },
     "metadata": {},
     "output_type": "display_data"
    },
    {
     "data": {
      "text/html": [
       "<pre style=\"white-space:pre;overflow-x:auto;line-height:normal;font-family:Menlo,'DejaVu Sans Mono',consolas,'Courier New',monospace\">Reply message published.\n",
       "</pre>\n"
      ],
      "text/plain": [
       "Reply message published.\n"
      ]
     },
     "metadata": {},
     "output_type": "display_data"
    },
    {
     "data": {
      "text/html": [
       "<pre style=\"white-space:pre;overflow-x:auto;line-height:normal;font-family:Menlo,'DejaVu Sans Mono',consolas,'Courier New',monospace\">Bus stopped.\n",
       "</pre>\n"
      ],
      "text/plain": [
       "Bus stopped.\n"
      ]
     },
     "metadata": {},
     "output_type": "display_data"
    }
   ],
   "source": [
    "import asyncio\n",
    "from gai.messages import MessagePydantic, message_helper\n",
    "from gai.sessions.message_bus_local import LocalMessageBus\n",
    "from rich import print\n",
    "\n",
    "amb = LocalMessageBus(message_type=MessagePydantic)\n",
    "\n",
    "# 1. Start the background bus loop AND wait for signal to be ready\n",
    "await amb.start()\n",
    "print(\"Bus is ready.\")\n",
    "\n",
    "# 2. Create 2 handlers: one for SendMessagePydantic and one for ReplyMessagePydantic\n",
    "\n",
    "\n",
    "async def send_handler(msg: MessagePydantic):\n",
    "    print(f\"[bold bright_yellow]Send Message Received: {msg}[/bold bright_yellow]\")\n",
    "\n",
    "\n",
    "async def reply_handler(msg: MessagePydantic):\n",
    "    print(f\"[bold bright_green]Send Message Received: {msg}[/bold bright_green]\")\n",
    "\n",
    "\n",
    "# 3. Subscribe the callback to the message type=\"alpha\"\n",
    "\n",
    "await amb.subscribe(\"send\", {\"Alice\": send_handler})\n",
    "await amb.subscribe(\"reply\", {\"Alice\": reply_handler})\n",
    "print(\"Subscribed to send and reply message types\")\n",
    "\n",
    "# 4. Confirm the bus is started and publish a message\n",
    "\n",
    "if not amb.is_started:\n",
    "    raise RuntimeError(\"Bus is not started, cannot publish message.\")\n",
    "\n",
    "user_message = message_helper.create_chat_send_message(\n",
    "    dialogue_id=DEFAULT_GUID,\n",
    "    round_no=0,\n",
    "    step_no=0,\n",
    "    recipient=\"Agent\",\n",
    "    content=\"Tell me a one sentence story.\",\n",
    ")\n",
    "\n",
    "print(\"Publishing send message.\")\n",
    "await amb.publish(user_message)\n",
    "print(\"Send message published.\")\n",
    "\n",
    "assistant_message = message_helper.create_chat_reply_message(\n",
    "    dialogue_id=DEFAULT_GUID,\n",
    "    round_no=0,\n",
    "    step_no=1,\n",
    "    chunk_no=0,\n",
    "    sender=\"Sara\",\n",
    "    recipient=\"User\",\n",
    "    chunk=\"<eom>\",\n",
    "    content=\"Once upon a time, a brave knight saved a kingdom from a dragon.\",\n",
    ")\n",
    "\n",
    "print(\"Publishing reply message.\")\n",
    "await amb.publish(assistant_message)\n",
    "print(\"Reply message published.\")\n",
    "\n",
    "# 5. Wait a little for message to be received before cancelling task\n",
    "\n",
    "await asyncio.sleep(0.1)\n",
    "\n",
    "# 6. Stop the bus\n",
    "await amb.stop()\n",
    "print(\"Bus stopped.\")\n"
   ]
  },
  {
   "cell_type": "markdown",
   "id": "764c2192",
   "metadata": {},
   "source": [
    "### c) Same Message Type - Same Handler - Different Handler State"
   ]
  },
  {
   "cell_type": "code",
   "execution_count": 9,
   "id": "9b6be6cc",
   "metadata": {},
   "outputs": [
    {
     "data": {
      "text/html": [
       "<pre style=\"white-space:pre;overflow-x:auto;line-height:normal;font-family:Menlo,'DejaVu Sans Mono',consolas,'Courier New',monospace\">Bus is ready.\n",
       "</pre>\n"
      ],
      "text/plain": [
       "Bus is ready.\n"
      ]
     },
     "metadata": {},
     "output_type": "display_data"
    },
    {
     "data": {
      "text/html": [
       "<pre style=\"white-space:pre;overflow-x:auto;line-height:normal;font-family:Menlo,'DejaVu Sans Mono',consolas,'Courier New',monospace\">Subscribed to message type <span style=\"color: #008000; text-decoration-color: #008000\">'send'</span>\n",
       "</pre>\n"
      ],
      "text/plain": [
       "Subscribed to message type \u001b[32m'send'\u001b[0m\n"
      ]
     },
     "metadata": {},
     "output_type": "display_data"
    },
    {
     "data": {
      "text/html": [
       "<pre style=\"white-space:pre;overflow-x:auto;line-height:normal;font-family:Menlo,'DejaVu Sans Mono',consolas,'Courier New',monospace\">Publishing message.\n",
       "</pre>\n"
      ],
      "text/plain": [
       "Publishing message.\n"
      ]
     },
     "metadata": {},
     "output_type": "display_data"
    },
    {
     "data": {
      "text/html": [
       "<pre style=\"white-space:pre;overflow-x:auto;line-height:normal;font-family:Menlo,'DejaVu Sans Mono',consolas,'Courier New',monospace\">Message published.\n",
       "</pre>\n"
      ],
      "text/plain": [
       "Message published.\n"
      ]
     },
     "metadata": {},
     "output_type": "display_data"
    },
    {
     "data": {
      "text/html": [
       "<pre style=\"white-space:pre;overflow-x:auto;line-height:normal;font-family:Menlo,'DejaVu Sans Mono',consolas,'Courier New',monospace\">Bus stopped.\n",
       "</pre>\n"
      ],
      "text/plain": [
       "Bus stopped.\n"
      ]
     },
     "metadata": {},
     "output_type": "display_data"
    }
   ],
   "source": [
    "import asyncio\n",
    "from gai.messages import MessagePydantic, message_helper\n",
    "from gai.sessions.message_bus_local import LocalMessageBus\n",
    "\n",
    "from rich import print\n",
    "\n",
    "# 3. Start the background bus loop AND wait for signal to be ready\n",
    "\n",
    "amb = LocalMessageBus(message_type=MessagePydantic)\n",
    "await amb.start()\n",
    "print(\"Bus is ready.\")\n",
    "\n",
    "# 1. Create 2 assistant send_handlers to show multiple subscriptions to the same message type\n",
    "\n",
    "\n",
    "class Host:\n",
    "    def __init__(self, name: str):\n",
    "        self.name = name\n",
    "\n",
    "    async def send_handler(self, msg: MessagePydantic):\n",
    "        print(f\"[bold bright_yellow]{self.name} > {msg}[/bold bright_yellow]\")\n",
    "\n",
    "        assistant_message = message_helper.create_chat_reply_message(\n",
    "            dialogue_id=DEFAULT_GUID,\n",
    "            round_no=msg.body.round_no,\n",
    "            step_no=msg.body.step_no + 1,\n",
    "            chunk_no=0,\n",
    "            sender=self.name,\n",
    "            recipient=\"User\",\n",
    "            chunk=\"<eom>\",\n",
    "            content=f\"My name is {self.name}\",\n",
    "        )\n",
    "\n",
    "        await amb.publish(assistant_message)\n",
    "\n",
    "\n",
    "host_1 = Host(\"Host 1\")\n",
    "host_2 = Host(\"Host 2\")\n",
    "\n",
    "# 2. Create 1 user reply_handlers to handle replies\n",
    "\n",
    "\n",
    "async def reply_handler(msg: MessagePydantic):\n",
    "    print(f\"[bold bright_green]User > {msg}[/bold bright_green]\")\n",
    "\n",
    "\n",
    "# 2. Subscribe the callback to the message type=\"alpha\" but same handler belonging to different objects\n",
    "\n",
    "await amb.subscribe(\"send\", {\"Alice\": host_1.send_handler})\n",
    "await amb.subscribe(\"send\", {\"Bob\": host_2.send_handler})\n",
    "await amb.subscribe(\"reply\", {\"User\": reply_handler})\n",
    "\n",
    "print(\"Subscribed to message type 'send'\")\n",
    "\n",
    "# 4. Confirm the bus is started and publish a message\n",
    "\n",
    "if not amb.is_started:\n",
    "    raise RuntimeError(\"Bus is not started, cannot publish message.\")\n",
    "\n",
    "user_message = message_helper.create_chat_send_message(\n",
    "    dialogue_id=DEFAULT_GUID,\n",
    "    round_no=0,\n",
    "    step_no=0,\n",
    "    recipient=\"*\",\n",
    "    content=\"Hello, what is your name?\",\n",
    ")\n",
    "print(\"Publishing message.\")\n",
    "await amb.publish(user_message)\n",
    "print(\"Message published.\")\n",
    "\n",
    "# 5. Wait a little for message to be received before cancelling task\n",
    "\n",
    "await asyncio.sleep(0.1)\n",
    "status = await amb.stop()\n",
    "print(\"Bus stopped.\")\n"
   ]
  }
 ],
 "metadata": {
  "kernelspec": {
   "display_name": "gai-sdk",
   "language": "python",
   "name": "python3"
  },
  "language_info": {
   "codemirror_mode": {
    "name": "ipython",
    "version": 3
   },
   "file_extension": ".py",
   "mimetype": "text/x-python",
   "name": "python",
   "nbconvert_exporter": "python",
   "pygments_lexer": "ipython3",
   "version": "3.10.18"
  }
 },
 "nbformat": 4,
 "nbformat_minor": 5
}
