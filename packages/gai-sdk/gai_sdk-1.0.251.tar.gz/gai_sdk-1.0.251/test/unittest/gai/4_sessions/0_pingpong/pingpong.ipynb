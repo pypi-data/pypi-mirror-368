{
 "cells": [
  {
   "cell_type": "markdown",
   "id": "49e16811",
   "metadata": {},
   "source": [
    "## Ping Pong Agents\n",
    "\n",
    "This is a simple test to demonstrate 2 agents communicating with each other using a session manager."
   ]
  },
  {
   "cell_type": "markdown",
   "id": "4065de47",
   "metadata": {},
   "source": [
    "### Step 1: Register new message body\n",
    "\n",
    "In this test, we will be using a custom message body type `system.ping` and `system.pong`.\n",
    "\n",
    "To do so, we need to register the body types and overwrite the default `MessagePydantic` type.\n",
    "\n"
   ]
  },
  {
   "cell_type": "code",
   "execution_count": 1,
   "id": "0996ece9",
   "metadata": {},
   "outputs": [],
   "source": [
    "from typing import Literal\n",
    "from pydantic import BaseModel\n",
    "from gai.messages import register_body, get_message_cls\n",
    "\n",
    "\n",
    "@register_body\n",
    "class PingBodyPydantic(BaseModel):\n",
    "    type: Literal[\"system.ping\"] = \"system.ping\"\n",
    "    content: str\n",
    "\n",
    "\n",
    "@register_body\n",
    "class PongBodyPydantic(BaseModel):\n",
    "    type: Literal[\"system.pong\"] = \"system.pong\"\n",
    "    content: str\n",
    "\n",
    "\n",
    "MessagePydantic = get_message_cls()\n"
   ]
  },
  {
   "cell_type": "markdown",
   "id": "5fad34be",
   "metadata": {},
   "source": [
    "### Step 2: Startup Session Manager\n",
    "\n",
    "We need to start a session manager specific to the new `MessagePydantic` type by calling the factory function `make_session_manager`."
   ]
  },
  {
   "cell_type": "code",
   "execution_count": 2,
   "id": "95a60184",
   "metadata": {},
   "outputs": [],
   "source": [
    "from gai.sessions.session_manager import make_session_manager\n",
    "\n",
    "SessionManager = make_session_manager(MessagePydantic)\n",
    "\n",
    "dm = SessionManager(logger_name=\"pingpong\", file_path=\"dialogue.json\")\n"
   ]
  },
  {
   "cell_type": "markdown",
   "id": "d92b739f",
   "metadata": {},
   "source": [
    "### Step 3: Create Pinger Agent\n",
    "\n",
    "Create a `Pinger` agent that will send a `system.ping` message to the `Ponger` agent when the user calls the `ping` method.\n",
    "\n"
   ]
  },
  {
   "cell_type": "code",
   "execution_count": 3,
   "id": "7eb52e00",
   "metadata": {},
   "outputs": [],
   "source": [
    "import asyncio\n",
    "from typing import Callable\n",
    "\n",
    "class Pinger:\n",
    "    def __init__(\n",
    "        self,\n",
    "        node_name: str,\n",
    "        session_mgr: SessionManager,\n",
    "        timeout=2,\n",
    "        pong_cb: Callable = None,\n",
    "    ):\n",
    "        self.node_name = node_name\n",
    "        self.session_mgr = session_mgr\n",
    "        self.timeout = timeout\n",
    "        self.pong_cb = pong_cb\n",
    "\n",
    "    async def subscribe(self):\n",
    "        # When pinger received a pong message, it will call the pong callback\n",
    "\n",
    "        await self.session_mgr.subscribe(\n",
    "            subject=\"system.pong\", callback={\"Pinger\": self.pong_cb}\n",
    "        )\n",
    "\n",
    "    async def ping(self):\n",
    "        # Send a ping message to the network\n",
    "\n",
    "        await self.session_mgr.publish(\n",
    "            type=\"system.ping\", sender=\"pinger\", recipient=\"ponger\", body=self.node_name\n",
    "        )\n",
    "\n",
    "        # Wait for a pong response\n",
    "\n",
    "        await asyncio.sleep(self.timeout)\n"
   ]
  },
  {
   "cell_type": "markdown",
   "id": "cbff5e91",
   "metadata": {},
   "source": [
    "### Step 4: Create Ponger Agent\n",
    "\n",
    "Create a `Ponger` agent that will respond with `system.pong` when it receives a `system.ping` message from the `Pinger` agent.\n",
    "\n",
    "\n"
   ]
  },
  {
   "cell_type": "code",
   "execution_count": 4,
   "id": "7a70055f",
   "metadata": {},
   "outputs": [],
   "source": [
    "class Ponger:\n",
    "    def __init__(\n",
    "        self,\n",
    "        node_name: str,\n",
    "        session_mgr: SessionManager,\n",
    "        timeout=2,\n",
    "        ping_cb: Callable = None,\n",
    "    ):\n",
    "        self.node_name = node_name\n",
    "        self.session_mgr = session_mgr\n",
    "        self.timeout = timeout\n",
    "        self.ping_cb = ping_cb\n",
    "\n",
    "    async def ping_handler(self, msg: MessagePydantic):\n",
    "        # When ponger received a ping message, it will send a pong response\n",
    "\n",
    "        await self.session_mgr.publish(\n",
    "            type=\"system.pong\",\n",
    "            sender=self.node_name,\n",
    "            recipient=msg.header.sender,\n",
    "            body=self.node_name,\n",
    "        )\n",
    "\n",
    "        # Call the ping callback if it is set, eg. to notify the pinger that a ping message was received\n",
    "\n",
    "        if self.ping_cb:\n",
    "            await self.ping_cb(msg)\n",
    "\n",
    "    async def subscribe(self):\n",
    "        # When ponger received a ping message, it will call the ping handler\n",
    "\n",
    "        await self.session_mgr.subscribe(\n",
    "            subject=\"system.ping\", callback={\"Ponger\": self.ping_handler}\n",
    "        )\n"
   ]
  },
  {
   "cell_type": "markdown",
   "id": "49442c36",
   "metadata": {},
   "source": [
    "### Step 5: Run Session\n",
    "\n",
    "The Ponger class is subscribed to the session like this:\n",
    "\n",
    "```python\n",
    "        await self.session_mgr.subscribe(\n",
    "            subject=\"system.ping\", callback={\"Ponger\": self.ping_handler}\n",
    "        )\n",
    "```\n",
    "\n",
    "That means that when a `system.ping` message is received, the `ping_handler` method will be called and publishes a `system.pong` message.\n",
    "\n",
    "```python\n",
    "    async def ping_handler(self, msg: MessagePydantic):\n",
    "        # When ponger received a ping message, it will send a pong response\n",
    "\n",
    "        await self.session_mgr.publish(\n",
    "            type=\"system.pong\",\n",
    "            sender=self.node_name,\n",
    "            recipient=msg.header.sender,\n",
    "            body=self.node_name,\n",
    "        )\n",
    "```\n",
    "\n"
   ]
  },
  {
   "cell_type": "code",
   "execution_count": 5,
   "id": "2ea61533",
   "metadata": {},
   "outputs": [
    {
     "name": "stdout",
     "output_type": "stream",
     "text": [
      "Received ping from pinger\n",
      "Received pong from ponger\n"
     ]
    }
   ],
   "source": [
    "# Setup session\n",
    "session_mgr = SessionManager(\n",
    "    logger_name=\"pinger\",\n",
    "    reset=True,\n",
    ")\n",
    "\n",
    "await session_mgr.start()\n",
    "\n",
    "# Register pong\n",
    "async def ping_handler(msg):\n",
    "    print(f\"Received ping from {msg.header.sender}\")\n",
    "\n",
    "\n",
    "ponger = Ponger(node_name=\"ponger\", session_mgr=session_mgr, ping_cb=ping_handler)\n",
    "await ponger.subscribe()\n",
    "\n",
    "\n",
    "# Register ping\n",
    "async def pong_handler(msg):\n",
    "    print(f\"Received pong from {msg.header.sender}\")\n",
    "pinger = Pinger(node_name=\"pinger\", session_mgr=session_mgr, pong_cb=pong_handler)\n",
    "await pinger.subscribe()\n",
    "\n",
    "# Start pinging\n",
    "await pinger.ping()\n"
   ]
  }
 ],
 "metadata": {
  "kernelspec": {
   "display_name": "gai-sdk",
   "language": "python",
   "name": "python3"
  },
  "language_info": {
   "codemirror_mode": {
    "name": "ipython",
    "version": 3
   },
   "file_extension": ".py",
   "mimetype": "text/x-python",
   "name": "python",
   "nbconvert_exporter": "python",
   "pygments_lexer": "ipython3",
   "version": "3.10.18"
  }
 },
 "nbformat": 4,
 "nbformat_minor": 5
}
