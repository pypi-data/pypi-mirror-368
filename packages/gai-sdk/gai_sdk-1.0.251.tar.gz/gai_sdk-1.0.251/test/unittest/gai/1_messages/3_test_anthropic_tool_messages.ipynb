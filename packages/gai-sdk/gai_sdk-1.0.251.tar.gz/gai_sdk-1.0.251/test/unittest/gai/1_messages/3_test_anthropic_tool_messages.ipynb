{
 "cells": [
  {
   "cell_type": "markdown",
   "id": "1609fd34",
   "metadata": {},
   "source": [
    "## Handling Anthropic Tool Use and Tool Result Messages\n",
    "\n",
    "This is to test and demonstrate the intricacies of handling tool use and tool result messages in the Anthropic API.\n",
    "The scenario will cover:\n",
    "\n",
    "a) Scenario 1: tool_use message from assistant without a corresponding tool_result message from user  \n",
    "b) Scenario 2: tool_result message from user that does not match the tool_use message from assistant  \n",
    "c) Scenario 3: tool_result message from user that matches the tool_use message from assistant  "
   ]
  },
  {
   "cell_type": "markdown",
   "id": "579bc4ac",
   "metadata": {},
   "source": [
    "### a) Load Test File"
   ]
  },
  {
   "cell_type": "code",
   "execution_count": null,
   "id": "2b2d8c14",
   "metadata": {},
   "outputs": [
    {
     "name": "stdout",
     "output_type": "stream",
     "text": [
      "next_message_order: 145\n",
      "messages: 145 items\n"
     ]
    }
   ],
   "source": [
    "import os\n",
    "import json\n",
    "from gai.lib.tests import get_local_datadir\n",
    "file_path = os.path.join(get_local_datadir(), \"monologue_1.log\")\n",
    "with open(file_path,\"r\") as f:\n",
    "    lines = f.read()\n",
    "    jsoned = json.loads(lines)\n",
    "for key, value in jsoned.items():\n",
    "    if isinstance(value, list):\n",
    "        print(f\"{key}: {len(value)} items\")\n",
    "    else:\n",
    "        print(f\"{key}: {value}\")"
   ]
  },
  {
   "cell_type": "markdown",
   "id": "788a27b3",
   "metadata": {},
   "source": [
    "### b) Scenario 1: Assistant tool_use message without User tool_result message will raise error\n",
    "\n",
    "This is to prove that Anthropic will return error if the tool_use message is not followed by a tool_result message from the user."
   ]
  },
  {
   "cell_type": "code",
   "execution_count": 1,
   "id": "36027426",
   "metadata": {},
   "outputs": [
    {
     "data": {
      "text/html": [
       "<pre style=\"white-space:pre;overflow-x:auto;line-height:normal;font-family:Menlo,'DejaVu Sans Mono',consolas,'Courier New',monospace\"><span style=\"color: #ffffff; text-decoration-color: #ffffff; background-color: #800000\">ERROR   </span> <span style=\"color: #ff0000; text-decoration-color: #ff0000\">async_anthropic_create: Error while calling anthropic API: Error code: </span><span style=\"color: #ff0000; text-decoration-color: #ff0000; font-weight: bold\">400</span><span style=\"color: #ff0000; text-decoration-color: #ff0000\"> - </span><span style=\"color: #ff0000; text-decoration-color: #ff0000; font-weight: bold\">{</span><span style=\"color: #ff0000; text-decoration-color: #ff0000\">'type'</span><span style=\"color: #ff0000; text-decoration-color: #ff0000\">: </span><span style=\"color: #ff0000; text-decoration-color: #ff0000\">'error'</span><span style=\"color: #ff0000; text-decoration-color: #ff0000\">, </span><span style=\"color: #ff0000; text-decoration-color: #ff0000\">'error'</span><span style=\"color: #ff0000; text-decoration-color: #ff0000\">: </span>  \n",
       "         <span style=\"color: #ff0000; text-decoration-color: #ff0000; font-weight: bold\">{</span><span style=\"color: #ff0000; text-decoration-color: #ff0000\">'type'</span><span style=\"color: #ff0000; text-decoration-color: #ff0000\">: </span><span style=\"color: #ff0000; text-decoration-color: #ff0000\">'invalid_request_error'</span><span style=\"color: #ff0000; text-decoration-color: #ff0000\">, </span><span style=\"color: #ff0000; text-decoration-color: #ff0000\">'message'</span><span style=\"color: #ff0000; text-decoration-color: #ff0000\">: </span><span style=\"color: #ff0000; text-decoration-color: #ff0000\">'messages.2: `tool_use` ids were found without `tool_result` </span>\n",
       "         <span style=\"color: #ff0000; text-decoration-color: #ff0000\">blocks immediately after: toolu_01LMimBJe4BVtqpxCnanoykQ. Each `tool_use` block must have a corresponding </span>\n",
       "         <span style=\"color: #ff0000; text-decoration-color: #ff0000\">`tool_result` block in the next message.'</span><span style=\"color: #ff0000; text-decoration-color: #ff0000; font-weight: bold\">}}</span>                                                               \n",
       "</pre>\n"
      ],
      "text/plain": [
       "\u001b[38;2;255;255;255;41mERROR   \u001b[0m \u001b[91masync_anthropic_create: Error while calling anthropic API: Error code: \u001b[0m\u001b[1;91m400\u001b[0m\u001b[91m - \u001b[0m\u001b[1;91m{\u001b[0m\u001b[91m'type'\u001b[0m\u001b[91m: \u001b[0m\u001b[91m'error'\u001b[0m\u001b[91m, \u001b[0m\u001b[91m'error'\u001b[0m\u001b[91m: \u001b[0m  \n",
       "         \u001b[1;91m{\u001b[0m\u001b[91m'type'\u001b[0m\u001b[91m: \u001b[0m\u001b[91m'invalid_request_error'\u001b[0m\u001b[91m, \u001b[0m\u001b[91m'message'\u001b[0m\u001b[91m: \u001b[0m\u001b[91m'messages.2: `tool_use` ids were found without `tool_result` \u001b[0m\n",
       "         \u001b[91mblocks immediately after: toolu_01LMimBJe4BVtqpxCnanoykQ. Each `tool_use` block must have a corresponding \u001b[0m\n",
       "         \u001b[91m`tool_result` block in the next message.'\u001b[0m\u001b[1;91m}\u001b[0m\u001b[1;91m}\u001b[0m                                                               \n"
      ]
     },
     "metadata": {},
     "output_type": "display_data"
    }
   ],
   "source": [
    "from gai.llm.openai import AsyncOpenAI\n",
    "from gai.lib.config import config_helper\n",
    "\n",
    "chat_messages = [\n",
    "    {\"role\":\"user\",\"content\":\"Something is wrong with the tests.\"},\n",
    "    {\"role\": \"assistant\", \"content\": [\n",
    "            {\n",
    "                \"id\": \"toolu_01LMimBJe4BVtqpxCnanoykQ\",\n",
    "                \"input\": {\n",
    "                    \"test_file_path\": \"/workspace/tests/gai-lib/minimal_test.py /workspace/tests/gai-lib/test_color.py /workspace/tests/gai-lib/test_config_config_base.py /workspace/tests/gai-lib/test_config_config_helper.py /workspace/tests/gai-lib/test_config_download_config.py /workspace/tests/gai-lib/test_config_gai_client_config.py /workspace/tests/gai-lib/test_config_gai_config.py /workspace/tests/gai-lib/test_config_gai_generator_config.py /workspace/tests/gai-lib/test_config_gai_tool_config.py /workspace/tests/gai-lib/test_constants.py /workspace/tests/gai-lib/test_errors.py /workspace/tests/gai-lib/test_logging.py /workspace/tests/gai-lib/test_prompts.py /workspace/tests/gai-lib/test_strings.py /workspace/tests/gai-lib/test_utils.py\"\n",
    "                },\n",
    "                \"name\": \"run_pytest\",\n",
    "                \"type\": \"tool_use\"\n",
    "            }\n",
    "        ]\n",
    "    },\n",
    "    {\"role\": \"user\", \"content\": \"I am not responding with a tool_result.\"},\n",
    "]\n",
    "\n",
    "llm_config = config_helper.get_client_config(\"sonnet-4\")\n",
    "llm_client = AsyncOpenAI(client_config=llm_config)\n",
    "tools = [\n",
    "    {\n",
    "        \"type\": \"function\",\n",
    "        \"function\": {            \n",
    "            \"name\": \"run_pytest\",\n",
    "            \"description\": \"The 'google' function is a powerful tool that allows the AI to gather external information from the internet using Google search. It can be invoked when the AI needs to answer a question or provide information that requires up-to-date, comprehensive, and diverse sources which are not inherently known by the AI. For instance, it can be used to find current date, current news, weather updates, latest sports scores, trending topics, specific facts, or even the current date and time. The usage of this tool should be considered when the user's query implies or explicitly requests recent or wide-ranging data, or when the AI's inherent knowledge base may not have the required or most current information. The 'search_query' parameter should be a concise and accurate representation of the information needed.\",\n",
    "            \"input_schema\": {\n",
    "                \"type\": \"object\",\n",
    "                \"properties\": {},\n",
    "                \"required\": []\n",
    "            }\n",
    "        }\n",
    "    }\n",
    "]\n",
    "try:\n",
    "    \n",
    "    response = await llm_client.chat.completions.create(\n",
    "        model=\"sonnet-4\",\n",
    "        messages=chat_messages,\n",
    "        tools=tools,\n",
    "        stream=True,\n",
    "    )\n",
    "    print(\"Done\")\n",
    "except Exception as e:\n",
    "    assert \"`tool_use` ids were found without `tool_result` blocks immediately after: toolu_01LMimBJe4BVtqpxCnanoykQ.\" in str(e), f\"Unexpected error: {e}\""
   ]
  },
  {
   "cell_type": "markdown",
   "id": "78d02ccf",
   "metadata": {},
   "source": [
    "### c) Scenario 2: User tool_result message does not match assistant tool_use message will raise error\n",
    "\n",
    "This is to prove that Anthropic will return error if the tool_result message from the user does not match the tool_use message from the assistant."
   ]
  },
  {
   "cell_type": "code",
   "execution_count": 2,
   "id": "1e51b8bc",
   "metadata": {},
   "outputs": [
    {
     "data": {
      "text/html": [
       "<pre style=\"white-space:pre;overflow-x:auto;line-height:normal;font-family:Menlo,'DejaVu Sans Mono',consolas,'Courier New',monospace\"><span style=\"color: #ffffff; text-decoration-color: #ffffff; background-color: #800000\">ERROR   </span> <span style=\"color: #ff0000; text-decoration-color: #ff0000\">async_anthropic_create: Error while calling anthropic API: Error code: </span><span style=\"color: #ff0000; text-decoration-color: #ff0000; font-weight: bold\">400</span><span style=\"color: #ff0000; text-decoration-color: #ff0000\"> - </span><span style=\"color: #ff0000; text-decoration-color: #ff0000; font-weight: bold\">{</span><span style=\"color: #ff0000; text-decoration-color: #ff0000\">'type'</span><span style=\"color: #ff0000; text-decoration-color: #ff0000\">: </span><span style=\"color: #ff0000; text-decoration-color: #ff0000\">'error'</span><span style=\"color: #ff0000; text-decoration-color: #ff0000\">, </span><span style=\"color: #ff0000; text-decoration-color: #ff0000\">'error'</span><span style=\"color: #ff0000; text-decoration-color: #ff0000\">: </span>  \n",
       "         <span style=\"color: #ff0000; text-decoration-color: #ff0000; font-weight: bold\">{</span><span style=\"color: #ff0000; text-decoration-color: #ff0000\">'type'</span><span style=\"color: #ff0000; text-decoration-color: #ff0000\">: </span><span style=\"color: #ff0000; text-decoration-color: #ff0000\">'invalid_request_error'</span><span style=\"color: #ff0000; text-decoration-color: #ff0000\">, </span><span style=\"color: #ff0000; text-decoration-color: #ff0000\">'message'</span><span style=\"color: #ff0000; text-decoration-color: #ff0000\">: </span><span style=\"color: #ff0000; text-decoration-color: #ff0000\">'messages.2.content.0: unexpected `tool_use_id` found in </span>    \n",
       "         <span style=\"color: #ff0000; text-decoration-color: #ff0000\">`tool_result` blocks: toolu_01LMimBJe4BVtqpxCnanoykQ. Each `tool_result` block must have a corresponding </span> \n",
       "         <span style=\"color: #ff0000; text-decoration-color: #ff0000\">`tool_use` block in the previous message.'</span><span style=\"color: #ff0000; text-decoration-color: #ff0000; font-weight: bold\">}}</span>                                                              \n",
       "</pre>\n"
      ],
      "text/plain": [
       "\u001b[38;2;255;255;255;41mERROR   \u001b[0m \u001b[91masync_anthropic_create: Error while calling anthropic API: Error code: \u001b[0m\u001b[1;91m400\u001b[0m\u001b[91m - \u001b[0m\u001b[1;91m{\u001b[0m\u001b[91m'type'\u001b[0m\u001b[91m: \u001b[0m\u001b[91m'error'\u001b[0m\u001b[91m, \u001b[0m\u001b[91m'error'\u001b[0m\u001b[91m: \u001b[0m  \n",
       "         \u001b[1;91m{\u001b[0m\u001b[91m'type'\u001b[0m\u001b[91m: \u001b[0m\u001b[91m'invalid_request_error'\u001b[0m\u001b[91m, \u001b[0m\u001b[91m'message'\u001b[0m\u001b[91m: \u001b[0m\u001b[91m'messages.2.content.0: unexpected `tool_use_id` found in \u001b[0m    \n",
       "         \u001b[91m`tool_result` blocks: toolu_01LMimBJe4BVtqpxCnanoykQ. Each `tool_result` block must have a corresponding \u001b[0m \n",
       "         \u001b[91m`tool_use` block in the previous message.'\u001b[0m\u001b[1;91m}\u001b[0m\u001b[1;91m}\u001b[0m                                                              \n"
      ]
     },
     "metadata": {},
     "output_type": "display_data"
    }
   ],
   "source": [
    "from gai.llm.openai import AsyncOpenAI\n",
    "from gai.lib.config import config_helper\n",
    "\n",
    "chat_messages = [\n",
    "    {\"role\": \"user\", \"content\": \"Something is wrong with the tests.\"},\n",
    "    {\"role\": \"assistant\", \"content\": [\n",
    "        {\n",
    "            \"citations\": None,\n",
    "            \"text\": \"Let me run the test pattern more specifically:\",\n",
    "            \"type\": \"text\"\n",
    "        },\n",
    "    ]\n",
    "    },\n",
    "    {\"role\": \"user\", \"content\": [\n",
    "        {\n",
    "            \"type\": \"tool_result\",\n",
    "            \"tool_use_id\": \"toolu_01LMimBJe4BVtqpxCnanoykQ\",\n",
    "            \"content\": \"{\\n  \\\"error\\\": \\\"Test file does not exist.\\\"\\n}\"\n",
    "        }\n",
    "    ]},\n",
    "]\n",
    "\n",
    "llm_config = config_helper.get_client_config(\"sonnet-4\")\n",
    "llm_client = AsyncOpenAI(client_config=llm_config)\n",
    "tools = [\n",
    "    {\n",
    "        \"type\": \"function\",\n",
    "        \"function\": {\n",
    "            \"name\": \"run_pytest\",\n",
    "            \"description\": \"The 'google' function is a powerful tool that allows the AI to gather external information from the internet using Google search. It can be invoked when the AI needs to answer a question or provide information that requires up-to-date, comprehensive, and diverse sources which are not inherently known by the AI. For instance, it can be used to find current date, current news, weather updates, latest sports scores, trending topics, specific facts, or even the current date and time. The usage of this tool should be considered when the user's query implies or explicitly requests recent or wide-ranging data, or when the AI's inherent knowledge base may not have the required or most current information. The 'search_query' parameter should be a concise and accurate representation of the information needed.\",\n",
    "            \"input_schema\": {\n",
    "                \"type\": \"object\",\n",
    "                \"properties\": {},\n",
    "                \"required\": []\n",
    "            }\n",
    "        }\n",
    "    }\n",
    "]\n",
    "try:\n",
    "    response = await llm_client.chat.completions.create(\n",
    "        model=\"claude-sonnet-4-0\",\n",
    "        messages=chat_messages,\n",
    "        tools=tools,\n",
    "        stream=True,\n",
    "    )\n",
    "    print(\"Done\")\n",
    "except Exception as e:\n",
    "    assert \"unexpected `tool_use_id` found in `tool_result` blocks: toolu_01LMimBJe4BVtqpxCnanoykQ. Each `tool_result` block must have a corresponding `tool_use` block in the previous message.\" in str(e), f\"Unexpected error: {e}\""
   ]
  },
  {
   "cell_type": "markdown",
   "id": "40f58fa8",
   "metadata": {},
   "source": [
    "### d) Scenario 3: Working scenario with user tool_result matching assistant tool_use\n",
    "\n",
    "This is to demonstrate a working scenario where the user tool_result matches the assistant tool_use message."
   ]
  },
  {
   "cell_type": "code",
   "execution_count": 4,
   "id": "da0a958c",
   "metadata": {},
   "outputs": [
    {
     "name": "stdout",
     "output_type": "stream",
     "text": [
      "Done\n"
     ]
    }
   ],
   "source": [
    "from gai.llm.openai import AsyncOpenAI\n",
    "from gai.lib.config import config_helper\n",
    "\n",
    "chat_messages = [\n",
    "    {\"role\": \"user\", \"content\": \"Something is wrong with the tests.\"},\n",
    "    {\"role\": \"assistant\", \"content\": [\n",
    "        {\n",
    "            \"id\": \"toolu_01LMimBJe4BVtqpxCnanoykQ\",\n",
    "            \"input\": {\n",
    "                \"test_file_path\": \"/workspace/tests/gai-lib/minimal_test.py /workspace/tests/gai-lib/test_color.py /workspace/tests/gai-lib/test_config_config_base.py /workspace/tests/gai-lib/test_config_config_helper.py /workspace/tests/gai-lib/test_config_download_config.py /workspace/tests/gai-lib/test_config_gai_client_config.py /workspace/tests/gai-lib/test_config_gai_config.py /workspace/tests/gai-lib/test_config_gai_generator_config.py /workspace/tests/gai-lib/test_config_gai_tool_config.py /workspace/tests/gai-lib/test_constants.py /workspace/tests/gai-lib/test_errors.py /workspace/tests/gai-lib/test_logging.py /workspace/tests/gai-lib/test_prompts.py /workspace/tests/gai-lib/test_strings.py /workspace/tests/gai-lib/test_utils.py\"\n",
    "            },\n",
    "            \"name\": \"run_pytest\",\n",
    "            \"type\": \"tool_use\"\n",
    "        }\n",
    "    ]\n",
    "    },\n",
    "    {\"role\": \"user\", \"content\": [\n",
    "        {\n",
    "            \"type\": \"tool_result\",\n",
    "            \"tool_use_id\": \"toolu_01LMimBJe4BVtqpxCnanoykQ\",\n",
    "            \"content\": \"{\\n  \\\"error\\\": \\\"Test file does not exist.\\\"\\n}\"\n",
    "        }\n",
    "    ]},\n",
    "]\n",
    "\n",
    "llm_config = config_helper.get_client_config(\"sonnet-4\")\n",
    "llm_client = AsyncOpenAI(client_config=llm_config)\n",
    "tools = [\n",
    "    {\n",
    "        \"type\": \"function\",\n",
    "        \"function\": {\n",
    "            \"name\": \"run_pytest\",\n",
    "            \"description\": \"The 'google' function is a powerful tool that allows the AI to gather external information from the internet using Google search. It can be invoked when the AI needs to answer a question or provide information that requires up-to-date, comprehensive, and diverse sources which are not inherently known by the AI. For instance, it can be used to find current date, current news, weather updates, latest sports scores, trending topics, specific facts, or even the current date and time. The usage of this tool should be considered when the user's query implies or explicitly requests recent or wide-ranging data, or when the AI's inherent knowledge base may not have the required or most current information. The 'search_query' parameter should be a concise and accurate representation of the information needed.\",\n",
    "            \"input_schema\": {\n",
    "                \"type\": \"object\",\n",
    "                \"properties\": {},\n",
    "                \"required\": []\n",
    "            }\n",
    "        }\n",
    "    }\n",
    "]\n",
    "try:\n",
    "\n",
    "    response = await llm_client.chat.completions.create(\n",
    "        model=\"claude-sonnet-4-0\",\n",
    "        messages=chat_messages,\n",
    "        tools=tools,\n",
    "        stream=True,\n",
    "    )\n",
    "    print(\"Done\")\n",
    "except Exception as e:\n",
    "    assert \"`tool_use` ids were found without `tool_result` blocks immediately after: toolu_01LMimBJe4BVtqpxCnanoykQ.\" in str(\n",
    "        e), f\"Unexpected error: {e}\""
   ]
  }
 ],
 "metadata": {
  "kernelspec": {
   "display_name": "workspace",
   "language": "python",
   "name": "python3"
  },
  "language_info": {
   "codemirror_mode": {
    "name": "ipython",
    "version": 3
   },
   "file_extension": ".py",
   "mimetype": "text/x-python",
   "name": "python",
   "nbconvert_exporter": "python",
   "pygments_lexer": "ipython3",
   "version": "3.10.18"
  }
 },
 "nbformat": 4,
 "nbformat_minor": 5
}
