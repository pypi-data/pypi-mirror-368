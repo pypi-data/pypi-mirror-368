{
 "cells": [
  {
   "cell_type": "markdown",
   "id": "7d1dde37",
   "metadata": {},
   "source": [
    "## Message Helper: shrink_messages()\n",
    "\n",
    "shrink_messages() can be quite error-prone as it applies a character limit to the messages and can result in invalidating some logic in the monologue\n",
    "especially when it comes to Anthropic tool_use messages.\n",
    "\n",
    "Validation logic after shrinking:\n",
    "\n",
    "1. First message is user message and preserved.\n",
    "2. Subsequent messages should alternate between assistant and user messages.\n",
    "3. Every tool use message must always be followed by a tool result message where the tool_result's tool_use_id matches the tool_use message's id.\n",
    "4. Final message should be an assistant message.\n"
   ]
  },
  {
   "cell_type": "markdown",
   "id": "de1bccd7",
   "metadata": {},
   "source": [
    "### 1. First message is user message and preserved"
   ]
  },
  {
   "cell_type": "code",
   "execution_count": 2,
   "id": "ecb3fe47",
   "metadata": {},
   "outputs": [
    {
     "name": "stdout",
     "output_type": "stream",
     "text": [
      "Limit Length=100 Current Length=52\n"
     ]
    }
   ],
   "source": [
    "import os\n",
    "from gai.messages.monologue import Monologue\n",
    "from gai.messages import message_helper\n",
    "\n",
    "# Limit the size to 100 for testing\n",
    "limit_len = 100\n",
    "monologue = Monologue(limit=100)\n",
    "\n",
    "# Add 0 messages\n",
    "messages = monologue.list_messages()\n",
    "assert len(messages) == 0\n",
    "\n",
    "# Add user message\n",
    "monologue.add_user_message(\"Hello, how are you?\")\n",
    "messages = monologue.list_messages()\n",
    "chat_messages = message_helper.convert_to_chat_messages(messages)\n",
    "chat_messages = message_helper.shrink_messages(chat_messages, limit_len)\n",
    "\n",
    "messages_len = message_helper.get_messages_length(chat_messages)\n",
    "print(f\"Limit Length={limit_len} Current Length={messages_len}\")\n",
    "# assert len(messages) == 1\n",
    "\n",
    "# # Add assistant message\n",
    "# monologue.add_assistant_message(\"I'm doing well, thank you!\")\n",
    "# messages = monologue.list_messages()\n",
    "# assert len(messages) == 2"
   ]
  }
 ],
 "metadata": {
  "kernelspec": {
   "display_name": "gai-sdk",
   "language": "python",
   "name": "python3"
  },
  "language_info": {
   "codemirror_mode": {
    "name": "ipython",
    "version": 3
   },
   "file_extension": ".py",
   "mimetype": "text/x-python",
   "name": "python",
   "nbconvert_exporter": "python",
   "pygments_lexer": "ipython3",
   "version": "3.10.18"
  }
 },
 "nbformat": 4,
 "nbformat_minor": 5
}
