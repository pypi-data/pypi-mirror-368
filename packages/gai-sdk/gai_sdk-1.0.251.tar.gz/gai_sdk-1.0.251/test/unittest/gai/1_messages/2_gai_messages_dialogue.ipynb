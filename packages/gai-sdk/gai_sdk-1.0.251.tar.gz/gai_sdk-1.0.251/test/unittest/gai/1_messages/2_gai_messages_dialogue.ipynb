{
 "cells": [
  {
   "cell_type": "markdown",
   "id": "4c741ff9",
   "metadata": {},
   "source": [
    "Create dialogue with dialogue_id"
   ]
  },
  {
   "cell_type": "code",
   "execution_count": 1,
   "id": "e6f05b27",
   "metadata": {},
   "outputs": [
    {
     "data": {
      "text/plain": [
       "True"
      ]
     },
     "execution_count": 1,
     "metadata": {},
     "output_type": "execute_result"
    }
   ],
   "source": [
    "import os\n",
    "import uuid\n",
    "from gai.lib.tests import make_local_tmp\n",
    "here = make_local_tmp()\n",
    "\n",
    "# Delete and create a new dialogue file\n",
    "from gai.messages.dialogue import FileDialogue\n",
    "dialogue_id = str(uuid.uuid4())\n",
    "file_path = os.path.join(here, f\"{dialogue_id}.json\")\n",
    "dialogue = FileDialogue(dialogue_id = dialogue_id, file_path=file_path)\n",
    "\n",
    "# Check if custom dialogue id exists\n",
    "os.path.exists(here+f\"/{dialogue.dialogue_id}.json\")"
   ]
  },
  {
   "cell_type": "markdown",
   "id": "6b30cdfd",
   "metadata": {},
   "source": [
    "Create dialogue from scratch"
   ]
  },
  {
   "cell_type": "code",
   "execution_count": 3,
   "id": "d284431e",
   "metadata": {},
   "outputs": [],
   "source": [
    "import os\n",
    "from gai.lib.tests import make_local_tmp\n",
    "here = make_local_tmp()\n",
    "\n",
    "# Delete and create a new standard dialogue file\n",
    "from gai.messages.dialogue import FileDialogue\n",
    "from gai.lib.constants import DEFAULT_GUID\n",
    "file_path = os.path.join(here, f\"{DEFAULT_GUID}.json\")\n",
    "dialogue = FileDialogue(file_path=file_path)\n",
    "\n",
    "# Check if standard dialogue id exists\n",
    "os.path.exists(here+f\"/{DEFAULT_GUID}.json\")\n",
    "\n",
    "messages = dialogue.list_messages()\n",
    "assert len(messages) == 0\n"
   ]
  },
  {
   "cell_type": "markdown",
   "id": "2359068c",
   "metadata": {},
   "source": [
    "Add Message"
   ]
  },
  {
   "cell_type": "code",
   "execution_count": 4,
   "id": "4335b86e",
   "metadata": {},
   "outputs": [],
   "source": [
    "from gai.lib.constants import DEFAULT_GUID\n",
    "dialogue.reset()\n",
    "user_message = dialogue.add_user_message(\n",
    "    recipient='Sara',\n",
    "    content='Please tell me a one paragraph story.'\n",
    ")\n",
    "assert user_message.id is not None\n",
    "assert user_message.header.sender == 'User'\n",
    "assert user_message.header.recipient == 'Sara'\n",
    "assert user_message.header.timestamp > 0\n",
    "assert user_message.header.order == 0\n",
    "assert user_message.body.type == 'chat.send'\n",
    "assert user_message.body.dialogue_id == DEFAULT_GUID\n",
    "assert user_message.body.round_no == 0\n",
    "assert user_message.body.step_no == 0\n",
    "assert user_message.body.content == 'Sara, Please tell me a one paragraph story.'\n",
    "\n",
    "assistant_message = dialogue.add_assistant_message(\n",
    "    sender='Sara',\n",
    "    chunk='<eom>',\n",
    "    content=\"Once upon a time, in a small village, there lived a kind-hearted girl named Sara. She loved helping others and often spent her days tending to the village garden, where she grew beautiful flowers and vegetables. One day, a traveler passed through the village and was captivated by the vibrant colors of Sara's garden. He asked her for directions to the nearest town, and in return, he gifted her a magical seed that would grow into a tree that bore fruit of wisdom. From that day on, Sara not only tended to her garden but also shared the wisdom from the magical tree with everyone in the village.\"\n",
    "    )\n",
    "assert assistant_message.id is not None\n",
    "assert assistant_message.header.sender == 'Sara'\n",
    "assert assistant_message.header.recipient == 'User'\n",
    "assert assistant_message.header.timestamp > 0\n",
    "assert assistant_message.header.order == 1\n",
    "assert assistant_message.body.type == 'chat.reply'\n",
    "assert assistant_message.body.dialogue_id == DEFAULT_GUID\n",
    "assert assistant_message.body.round_no == 0\n",
    "assert assistant_message.body.step_no == 1\n",
    "assert assistant_message.body.content == \"Once upon a time, in a small village, there lived a kind-hearted girl named Sara. She loved helping others and often spent her days tending to the village garden, where she grew beautiful flowers and vegetables. One day, a traveler passed through the village and was captivated by the vibrant colors of Sara's garden. He asked her for directions to the nearest town, and in return, he gifted her a magical seed that would grow into a tree that bore fruit of wisdom. From that day on, Sara not only tended to her garden but also shared the wisdom from the magical tree with everyone in the village.\"\n",
    "\n",
    "user_message = dialogue.add_user_message(\n",
    "    recipient='Diana',\n",
    "    content='Please continue.'\n",
    ")\n",
    "assert user_message.id is not None\n",
    "assert user_message.header.sender == 'User'\n",
    "assert user_message.header.recipient == 'Diana'\n",
    "assert user_message.header.timestamp > 0\n",
    "assert user_message.header.order == 2\n",
    "assert user_message.body.type == 'chat.send'\n",
    "assert user_message.body.dialogue_id == DEFAULT_GUID\n",
    "assert user_message.body.round_no == 1\n",
    "assert user_message.body.step_no == 0\n",
    "assert user_message.body.content == 'Diana, Please continue.'\n",
    "\n",
    "assistant_message = dialogue.add_assistant_message(\n",
    "    sender='Diana',\n",
    "    chunk='<eom>',\n",
    "    content=\"One day, while tending to her garden, Sara met another AI assistant named Diana. Diana was curious about the magical seed and the wisdom it bore. Sara shared her story and the wisdom she had learned from the tree. Diana was fascinated and offered to help Sara spread the wisdom even further, using her own abilities to assist with various tasks and provide information on a wide range of topics. Together, they became a powerful team, helping the villagers and travelers alike with their knowledge and kindness.\"\n",
    "    )\n",
    "assert assistant_message.id is not None\n",
    "assert assistant_message.header.sender == 'Diana'\n",
    "assert assistant_message.header.recipient == 'User'\n",
    "assert assistant_message.header.timestamp > 0\n",
    "assert assistant_message.header.order == 3\n",
    "assert assistant_message.body.type == 'chat.reply'\n",
    "assert assistant_message.body.dialogue_id == DEFAULT_GUID\n",
    "assert assistant_message.body.round_no == 1\n",
    "assert assistant_message.body.step_no == 1\n",
    "assert assistant_message.body.content == \"One day, while tending to her garden, Sara met another AI assistant named Diana. Diana was curious about the magical seed and the wisdom it bore. Sara shared her story and the wisdom she had learned from the tree. Diana was fascinated and offered to help Sara spread the wisdom even further, using her own abilities to assist with various tasks and provide information on a wide range of topics. Together, they became a powerful team, helping the villagers and travelers alike with their knowledge and kindness.\"\n",
    "\n",
    "messages = dialogue.list_messages()\n",
    "assert len(messages) == 4\n"
   ]
  },
  {
   "cell_type": "markdown",
   "id": "258ab59d",
   "metadata": {},
   "source": [
    "Delete Message"
   ]
  },
  {
   "cell_type": "code",
   "execution_count": 5,
   "id": "39d3318c",
   "metadata": {},
   "outputs": [],
   "source": [
    "message_id = messages[0].id\n",
    "dialogue.delete_message(message_id)\n",
    "messages = dialogue.list_messages()\n",
    "assert len(messages) == 3"
   ]
  },
  {
   "cell_type": "markdown",
   "id": "3f7fbf9a",
   "metadata": {},
   "source": [
    "Create dialogue from messages"
   ]
  },
  {
   "cell_type": "code",
   "execution_count": 7,
   "id": "3ffa1b6c",
   "metadata": {},
   "outputs": [
    {
     "name": "stdout",
     "output_type": "stream",
     "text": [
      "✓ Batch messages added correctly\n"
     ]
    }
   ],
   "source": [
    "from gai.messages import MessagePydantic\n",
    "messages = [\n",
    "    MessagePydantic(**{\n",
    "        'id': 'b1e5f98c-f6eb-47de-a6e2-387510d970f9', \n",
    "        'header': {\n",
    "            'sender': 'User',\n",
    "            'recipient': 'Sara',\n",
    "            \"timestamp\": 1751308157.270983,\n",
    "            \"order\": 0            \n",
    "        }, 'body': {\n",
    "            'type': 'chat.send',\n",
    "            'dialogue_id': '00000000-0000-0000-0000-000000000000',\n",
    "            'round_no': 0,\n",
    "            'step_no': 0,\n",
    "            'role': \"user\",\n",
    "            'content': 'Please introduce yourselves. Sara, it is your turn.',\n",
    "        }\n",
    "    }),\n",
    "    MessagePydantic(**{\n",
    "        'id': 'abbc7961-45dc-4973-aaf4-a6224ed35d37', \n",
    "        'header': {\n",
    "            'sender': 'Sara',\n",
    "            'recipient': 'User',\n",
    "            \"timestamp\": 1751308167.3488164,\n",
    "            \"order\": 1\n",
    "        }, 'body': {\n",
    "            'type': 'chat.reply',\n",
    "            'dialogue_id': '00000000-0000-0000-0000-000000000000',\n",
    "            'round_no': 0, \n",
    "            'step_no': 1,\n",
    "            'chunk_no':10,\n",
    "            'chunk':'<eom>',\n",
    "            'role': \"assistant\",\n",
    "            'content': 'Hi there! I am Sara, your AI assistant. I am here to help you with any questions or tasks you have.',\n",
    "        }\n",
    "    }),\n",
    "    MessagePydantic(**{\n",
    "        'id': 'b1e5f98c-f6eb-47de-a6e2-387510d970f9', \n",
    "        'header': {\n",
    "            'sender': 'User',\n",
    "            'recipient': 'Diana',\n",
    "            \"timestamp\": 1751308157.270983,\n",
    "            \"order\": 0            \n",
    "        }, 'body': {\n",
    "            'type': 'chat.send',\n",
    "            'dialogue_id': '00000000-0000-0000-0000-000000000000',\n",
    "            'round_no': 0,    \n",
    "            'step_no': 2,        \n",
    "            'role': \"user\",\n",
    "            'content': 'Please introduce yourselves. Diana, it is your turn.',\n",
    "        }\n",
    "    }),    \n",
    "    MessagePydantic(**{\n",
    "        'id': 'c2d3e4f5-6a7b-8c9d-a0b1-c2d3e4f5a6b7', \n",
    "        'header': {\n",
    "            'sender': 'Diana',\n",
    "            'recipient': 'User',\n",
    "            \"timestamp\": 1751308177.456789,\n",
    "            \"order\": 2\n",
    "        }, 'body': {\n",
    "            'type': 'chat.reply',\n",
    "            'dialogue_id': '00000000-0000-0000-0000-000000000000',\n",
    "            'round_no': 0,      \n",
    "            'step_no': 3,   \n",
    "            'chunk_no':12,\n",
    "            'chunk':'<eom>',\n",
    "            'role': \"assistant\",\n",
    "            'content': 'Hello! I am Diana, another AI assistant. I can assist you with various tasks and provide information on a wide range of topics.',\n",
    "        }\n",
    "    }),\n",
    "]\n",
    "\n",
    "from gai.lib.tests import make_local_tmp\n",
    "from gai.lib.constants import DEFAULT_GUID\n",
    "here = make_local_tmp()\n",
    "file_path = os.path.join(here, f\"{DEFAULT_GUID}.json\")\n",
    "from gai.messages.dialogue import FileDialogue\n",
    "dialogue = FileDialogue(\n",
    "    agent_name=\"User\",\n",
    "    file_path=file_path,\n",
    "    messages=messages\n",
    "    )\n",
    "messages = dialogue.list_messages()\n",
    "\n",
    "assert len(messages) == 4\n",
    "assert messages[0].body.content == 'Please introduce yourselves. Sara, it is your turn.'\n",
    "assert messages[1].body.content == 'Hi there! I am Sara, your AI assistant. I am here to help you with any questions or tasks you have.'\n",
    "assert messages[2].body.content == 'Please introduce yourselves. Diana, it is your turn.'\n",
    "assert messages[3].body.content == 'Hello! I am Diana, another AI assistant. I can assist you with various tasks and provide information on a wide range of topics.'\n",
    "print(\"✓ Batch messages added correctly\")"
   ]
  },
  {
   "cell_type": "markdown",
   "id": "d61217cc",
   "metadata": {},
   "source": [
    "Recap messages"
   ]
  },
  {
   "cell_type": "code",
   "execution_count": 8,
   "id": "fa33b2e4",
   "metadata": {},
   "outputs": [
    {
     "name": "stdout",
     "output_type": "stream",
     "text": [
      "User: Please introduce yourselves. Sara, it is your turn.\n",
      "Sara: Hi there! I am Sara, your AI assistant. I am here to help you with any questions or tasks you have.\n",
      "User: Please introduce yourselves. Diana, it is your turn.\n",
      "Diana: Hello! I am Diana, another AI assistant. I can assist you with various tasks and provide information on a wide range of topics.\n"
     ]
    }
   ],
   "source": [
    "recap = dialogue.extract_recap()\n",
    "print(recap)"
   ]
  }
 ],
 "metadata": {
  "kernelspec": {
   "display_name": "gai-mace",
   "language": "python",
   "name": "python3"
  },
  "language_info": {
   "codemirror_mode": {
    "name": "ipython",
    "version": 3
   },
   "file_extension": ".py",
   "mimetype": "text/x-python",
   "name": "python",
   "nbconvert_exporter": "python",
   "pygments_lexer": "ipython3",
   "version": "3.10.18"
  }
 },
 "nbformat": 4,
 "nbformat_minor": 5
}
