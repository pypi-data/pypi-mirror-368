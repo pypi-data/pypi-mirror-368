{
 "cells": [
  {
   "cell_type": "markdown",
   "id": "722f45d9",
   "metadata": {},
   "source": [
    "## 1. Message Body Type Registration\n",
    "\n",
    "The default message body type is stored in `src/gai/messages/typing.py`. To extend the message body types, you can register using `@register_body` decorator and update the message class using `get_message_cls()`.\n",
    "\n",
    "This tests are to confirm that new message body types can be registered dynamically and that the system recognizes them as valid message body types."
   ]
  },
  {
   "cell_type": "markdown",
   "id": "5711375a",
   "metadata": {},
   "source": [
    "### a) Serializing and De-serializing a Built-in Message Body Type\n",
    "\n",
    "This is to confirm that body type successfully validate DefaultBodyPydantic as a built-in message body type and is able to serialize and deserialize it correctly.\n",
    "\n"
   ]
  },
  {
   "cell_type": "code",
   "execution_count": 1,
   "id": "35ce93c5",
   "metadata": {},
   "outputs": [
    {
     "name": "stdout",
     "output_type": "stream",
     "text": [
      "id='aba4ae55-ee9a-4481-aad1-e806692afbbd' header=MessageHeaderPydantic(sender='User', recipient='Assistant', timestamp=1752490758.8517375, order=0) body=DefaultBodyPydantic(type='default', content='hello')\n",
      "id='a0e5f98c-f6eb-47de-a6e2-387510d970f9' header=MessageHeaderPydantic(sender='User', recipient='Assistant', timestamp=1752213128.0972457, order=0) body=DefaultBodyPydantic(type='default', content='Tell me a one paragraph story')\n"
     ]
    }
   ],
   "source": [
    "from gai.messages.typing import MessagePydantic, DefaultBodyPydantic\n",
    "\n",
    "# This is a test to confirm that the DefaultBodyPydantic can be used as a message body type.\n",
    "\n",
    "message = MessagePydantic(\n",
    "    body = DefaultBodyPydantic(\n",
    "        content=\"hello\"\n",
    "    )\n",
    ")\n",
    "print(message)\n",
    "\n",
    "# This is to confirm that the DefaultBodyPydantic can be serialized and deserialized correctly.\n",
    "\n",
    "state_json = {\n",
    "    'id': 'a0e5f98c-f6eb-47de-a6e2-387510d970f9', \n",
    "    'header': {\n",
    "        'sender': 'User', \n",
    "        'recipient': 'Assistant', \n",
    "        'timestamp': 1752213128.0972457, \n",
    "        'order': 0\n",
    "    }, 'body': {\n",
    "        'type': 'default',\n",
    "        'content': 'Tell me a one paragraph story'\n",
    "    }\n",
    "}\n",
    "message = MessagePydantic(**state_json)\n",
    "print(message)\n",
    "assert isinstance(message.body,DefaultBodyPydantic)\n"
   ]
  },
  {
   "cell_type": "markdown",
   "id": "3202ac7a",
   "metadata": {},
   "source": [
    "### b) Serializing and De-serializing a Custom Message Body Type\n",
    "\n",
    "This is to confirm that body type recognizes the custom body type `PingBodyPydantic` dynamically as a message body type and is able to serialize and deserialize it correctly.\n",
    "\n",
    "\n"
   ]
  },
  {
   "cell_type": "code",
   "execution_count": 2,
   "id": "6940bcc9",
   "metadata": {},
   "outputs": [
    {
     "name": "stdout",
     "output_type": "stream",
     "text": [
      "id='418e46fb-7a51-4108-9beb-13b854930db3' header=MessageHeaderPydantic(sender='User', recipient='Assistant', timestamp=1752490761.72441, order=0) body=PingBodyPydantic(type='Ping', content='Ping')\n",
      "id='a0e5f98c-f6eb-47de-a6e2-387510d970f9' header=MessageHeaderPydantic(sender='User', recipient='Assistant', timestamp=1752213128.0972457, order=0) body=PingBodyPydantic(type='Ping', content='Ping')\n"
     ]
    }
   ],
   "source": [
    "from gai.messages.typing import get_message_cls,register_body\n",
    "from pydantic import BaseModel\n",
    "from typing import Literal\n",
    "\n",
    "# This is to register a custom message body dynamically\n",
    "\n",
    "# This is to tag the body type as a message body type\n",
    "@register_body\n",
    "class PingBodyPydantic(BaseModel):\n",
    "    type: Literal[\"Ping\"] = \"Ping\"\n",
    "    content: str\n",
    "\n",
    "# This is to update the message class to include the new body type\n",
    "MessagePydantic = get_message_cls()\n",
    "\n",
    "# This is to use to updated message class with the new body type\n",
    "message = MessagePydantic(\n",
    "    body = PingBodyPydantic(content=\"Ping\")\n",
    ")\n",
    "print(message)\n",
    "\n",
    "jsoned = {\n",
    "    'id': 'a0e5f98c-f6eb-47de-a6e2-387510d970f9',\n",
    "    'header': {\n",
    "        'sender': 'User',\n",
    "        'recipient': 'Assistant',\n",
    "        'timestamp': 1752213128.0972457,\n",
    "        'order': 0\n",
    "    },\n",
    "    'body': {\n",
    "        'type': 'Ping',\n",
    "        'content': 'Ping'\n",
    "    }\n",
    " }\n",
    "message = MessagePydantic(**jsoned)\n",
    "print(message)\n",
    "assert isinstance(message.body,PingBodyPydantic)"
   ]
  },
  {
   "cell_type": "markdown",
   "id": "eadf1975",
   "metadata": {},
   "source": [
    "---\n",
    "\n",
    "## 2. Message Helper\n",
    "\n",
    "This tests the \"create_message\" and \"convert_to_chat_messages\" functions in the `gai.messages.helper` module."
   ]
  },
  {
   "cell_type": "markdown",
   "id": "18fe28fb",
   "metadata": {},
   "source": [
    "### a) \"create_message\"\n",
    "\n",
    "Create a default body type message using \"create_message\" function."
   ]
  },
  {
   "cell_type": "code",
   "execution_count": 3,
   "id": "37abee93",
   "metadata": {},
   "outputs": [
    {
     "name": "stdout",
     "output_type": "stream",
     "text": [
      "id='afacd1e5-d4a9-4818-8308-68a2995bfe0e' header=MessageHeaderPydantic(sender='User', recipient='Assistant', timestamp=1752490764.292277, order=0) body=DefaultBodyPydantic(type='default', content='What is the capital of France?')\n"
     ]
    }
   ],
   "source": [
    "from gai.messages import message_helper\n",
    "\n",
    "# Create a default type message using the message helper\n",
    "default_type_message = message_helper.create_message(role=\"user\", content=\"What is the capital of France?\")\n",
    "\n",
    "assert default_type_message.body.type == \"default\"\n",
    "print(default_type_message)"
   ]
  },
  {
   "cell_type": "markdown",
   "id": "830aa56c",
   "metadata": {},
   "source": [
    "### b) \"json\" / \"unjson\"\n",
    "\n",
    "Serialize and deserialize a list of messages of different body types using `json` and `unjson` functions."
   ]
  },
  {
   "cell_type": "code",
   "execution_count": 4,
   "id": "412dda4d",
   "metadata": {},
   "outputs": [
    {
     "name": "stdout",
     "output_type": "stream",
     "text": [
      "[\n",
      "    {\n",
      "        \"id\": \"c7456134-a25f-4330-814e-22ab19d6a001\",\n",
      "        \"header\": {\n",
      "            \"sender\": \"User\",\n",
      "            \"recipient\": \"Sara\",\n",
      "            \"timestamp\": 1752213128.0972457,\n",
      "            \"order\": 0\n",
      "        },\n",
      "        \"body\": {\n",
      "            \"type\": \"send\",\n",
      "            \"recipient\": \"Sara\",\n",
      "            \"content\": \"Tell me a story about a brave knight.\"\n",
      "        }\n",
      "    },\n",
      "    {\n",
      "        \"id\": \"15a33a10-d744-4d2c-991b-30341be2e72d\",\n",
      "        \"header\": {\n",
      "            \"sender\": \"Sara\",\n",
      "            \"recipient\": \"User\",\n",
      "            \"timestamp\": 1752213128.0972457,\n",
      "            \"order\": 1\n",
      "        },\n",
      "        \"body\": {\n",
      "            \"type\": \"reply\",\n",
      "            \"sender\": \"Sara\",\n",
      "            \"recipient\": \"User\",\n",
      "            \"chunk_no\": 0,\n",
      "            \"chunk\": \"<eom>\"\n",
      "        }\n",
      "    }\n",
      "]\n",
      "id='c7456134-a25f-4330-814e-22ab19d6a001' header=MessageHeaderPydantic(sender='User', recipient='Sara', timestamp=1752213128.0972457, order=0) body=SendBodyPydantic(type='send', recipient='Sara', content='Tell me a story about a brave knight.')\n",
      "id='15a33a10-d744-4d2c-991b-30341be2e72d' header=MessageHeaderPydantic(sender='Sara', recipient='User', timestamp=1752213128.0972457, order=1) body=ReplyBodyPydantic(type='reply', sender='Sara', recipient='User', chunk_no=0, chunk='<eom>')\n"
     ]
    }
   ],
   "source": [
    "from pydantic import BaseModel\n",
    "from typing import Literal\n",
    "from gai.messages import message_helper\n",
    "from gai.messages.typing import register_body, get_message_cls\n",
    "\n",
    "@register_body\n",
    "class SendBodyPydantic(BaseModel):\n",
    "    type: Literal[\"send\"] = \"send\"\n",
    "    recipient: str\n",
    "    content: str\n",
    "    \n",
    "@register_body\n",
    "class ReplyBodyPydantic(BaseModel):\n",
    "    type: Literal[\"reply\"] = \"reply\"\n",
    "    sender: str\n",
    "    recipient: str\n",
    "    chunk_no: int\n",
    "    chunk: str\n",
    "\n",
    "MessagePydantic = get_message_cls()\n",
    "\n",
    "gai_messages = [\n",
    "    MessagePydantic(\n",
    "        header={\"sender\": \"User\", \"recipient\": \"Sara\", \"timestamp\": 1752213128.0972457, \"order\": 0},\n",
    "        body=SendBodyPydantic(recipient=\"Sara\", content=\"Tell me a story about a brave knight.\")\n",
    "    ),\n",
    "    MessagePydantic(\n",
    "        header={\"sender\": \"Sara\", \"recipient\": \"User\", \"timestamp\": 1752213128.0972457, \"order\": 1},\n",
    "        body=ReplyBodyPydantic(sender=\"Sara\", recipient=\"User\", chunk_no=0, chunk=\"<eom>\", content=\"Once upon a time, a brave knight saved a kingdom from a dragon.\")\n",
    "    )\n",
    "]\n",
    "\n",
    "### Serialize list of messages to JSON\n",
    "jsoned = message_helper.json(gai_messages)\n",
    "print(jsoned)\n",
    "\n",
    "### Deserialize JSON back to list of messages using the dynamic MessagePydantic class\n",
    "deserialized_messages = message_helper.unjson(jsoned, MessagePydantic)\n",
    "for msg in deserialized_messages:\n",
    "    print(msg)\n",
    "    assert isinstance(msg, MessagePydantic)"
   ]
  },
  {
   "cell_type": "markdown",
   "id": "4b2e4688",
   "metadata": {},
   "source": [
    "---\n",
    "\n",
    "## 3. Message Storage"
   ]
  },
  {
   "cell_type": "markdown",
   "id": "411292e7",
   "metadata": {},
   "source": [
    "a) Create dynamic message class"
   ]
  },
  {
   "cell_type": "code",
   "execution_count": 1,
   "id": "ead45c4b",
   "metadata": {},
   "outputs": [
    {
     "name": "stdout",
     "output_type": "stream",
     "text": [
      "<class 'gai.messages.typing.DefaultBodyPydantic'>\n",
      "<class 'gai.messages.typing.MonologueBodyPydantic'>\n"
     ]
    }
   ],
   "source": [
    "# For Troubleshooting Only: Print the body type of each message\n",
    "\n",
    "from gai.messages.typing import _BODY_CLASSES\n",
    "for cls in _BODY_CLASSES:\n",
    "    print(cls)"
   ]
  },
  {
   "cell_type": "code",
   "execution_count": 2,
   "id": "696af510",
   "metadata": {},
   "outputs": [],
   "source": [
    "from pydantic import BaseModel\n",
    "from typing import Literal, Optional\n",
    "from gai.messages.typing import register_body, get_message_cls\n",
    "\n",
    "@register_body\n",
    "class SendBodyPydantic(BaseModel):\n",
    "    type: Literal[\"send\"] = \"send\"\n",
    "    role: str\n",
    "    content: str\n",
    "    \n",
    "@register_body\n",
    "class ReplyBodyPydantic(BaseModel):\n",
    "    type: Literal[\"reply\"] = \"reply\"\n",
    "    role: str\n",
    "    chunk_no: int\n",
    "    chunk: str\n",
    "    content: Optional[str] = None  # Optional content field for reply messages\n",
    "\n",
    "MessagePydantic = get_message_cls()\n"
   ]
  },
  {
   "cell_type": "markdown",
   "id": "007cdf8c",
   "metadata": {},
   "source": [
    "b) Reset temp dir and create a new message store"
   ]
  },
  {
   "cell_type": "code",
   "execution_count": 3,
   "id": "2dc09018",
   "metadata": {},
   "outputs": [],
   "source": [
    "import os\n",
    "from gai.messages.message_store import MessageStore\n",
    "from gai.lib.tests import make_local_tmp\n",
    "here = make_local_tmp()\n",
    "file_path = os.path.join(here,\"messages.json\")\n",
    "store = MessageStore(file_path=file_path, MessagePydantic_cls=MessagePydantic)"
   ]
  },
  {
   "cell_type": "markdown",
   "id": "316b3a1a",
   "metadata": {},
   "source": [
    "c) Insert messages"
   ]
  },
  {
   "cell_type": "code",
   "execution_count": 4,
   "id": "4b7be029",
   "metadata": {},
   "outputs": [
    {
     "name": "stdout",
     "output_type": "stream",
     "text": [
      "id='a0e5f98c-f6eb-47de-a6e2-387510d970f9' header=MessageHeaderPydantic(sender='User', recipient='Assistant', timestamp=1752386688.1068888, order=0) body=SendBodyPydantic(type='send', role='user', content='Tell me a one paragraph story')\n",
      "id='b1e5f98c-f6eb-47de-a6e2-387510d970f9' header=MessageHeaderPydantic(sender='Assistant', recipient='User', timestamp=1752386688.1091309, order=1) body=ReplyBodyPydantic(type='reply', role='assistant', chunk_no=0, chunk='Once upon a time,', content=None)\n",
      "id='abbc7961-45dc-4973-aaf4-a6224ed35d37' header=MessageHeaderPydantic(sender='Assistant', recipient='User', timestamp=1752386688.1091433, order=2) body=ReplyBodyPydantic(type='reply', role='assistant', chunk_no=1, chunk=' a brave knight saved a kingdom from a dragon.', content=None)\n",
      "id='ae3d1495-3aac-4aa8-a833-b753720c9851' header=MessageHeaderPydantic(sender='Assistant', recipient='User', timestamp=1752386688.1091464, order=3) body=ReplyBodyPydantic(type='reply', role='assistant', chunk_no=2, chunk='<eom>', content='Once upon a time, a brave knight saved a kingdom from a dragon.')\n"
     ]
    }
   ],
   "source": [
    "store.reset()\n",
    "\n",
    "# Insert a single user message\n",
    "\n",
    "message = MessagePydantic(**{\n",
    "    'id': 'a0e5f98c-f6eb-47de-a6e2-387510d970f9', \n",
    "    'header': {\n",
    "        'sender': 'User', \n",
    "        'recipient': 'Assistant', \n",
    "    }, 'body': {\n",
    "        'type': 'send', \n",
    "        'role': 'user', \n",
    "        'content': 'Tell me a one paragraph story'\n",
    "    }\n",
    "})\n",
    "store.insert_message(message)\n",
    "\n",
    "# Insert a stream of assistant messages\n",
    "\n",
    "messages = [\n",
    "    MessagePydantic(**{\n",
    "        'id': 'b1e5f98c-f6eb-47de-a6e2-387510d970f9', \n",
    "        'header': {\n",
    "            'sender': 'Assistant',\n",
    "            'recipient': 'User',\n",
    "        }, 'body': {\n",
    "            'type': 'reply',\n",
    "            'role': 'assistant',\n",
    "            'chunk_no': 0,\n",
    "            'chunk': 'Once upon a time,'\n",
    "        }\n",
    "    }),\n",
    "    MessagePydantic(**{\n",
    "        'id': 'abbc7961-45dc-4973-aaf4-a6224ed35d37', \n",
    "        'header': {\n",
    "            'sender': 'Assistant',\n",
    "            'recipient': 'User',\n",
    "        }, 'body': {\n",
    "            'type': 'reply',\n",
    "            'role': 'assistant',\n",
    "            'chunk_no': 1,\n",
    "            'chunk': ' a brave knight saved a kingdom from a dragon.'\n",
    "        }\n",
    "    }),\n",
    "    MessagePydantic(**{\n",
    "        'id': 'ae3d1495-3aac-4aa8-a833-b753720c9851', \n",
    "        'header': {\n",
    "            'sender': 'Assistant',\n",
    "            'recipient': 'User',\n",
    "        }, 'body': {\n",
    "            'type': 'reply',\n",
    "            'role': 'assistant',\n",
    "            'chunk_no': 2,\n",
    "            'chunk': '<eom>',\n",
    "            'content': 'Once upon a time, a brave knight saved a kingdom from a dragon.'\n",
    "        }\n",
    "    })\n",
    "]\n",
    "store.bulk_insert_messages(messages)\n",
    "\n",
    "# Should show 4 messages\n",
    "\n",
    "messages = store.list_messages()\n",
    "for message in messages:\n",
    "    print(message)\n",
    "    assert isinstance(message, MessagePydantic)    \n",
    "assert len(messages) == 4, f\"Expected 4 messages, got {len(messages)}\"\n"
   ]
  },
  {
   "cell_type": "markdown",
   "id": "28291f68",
   "metadata": {},
   "source": [
    "get_message"
   ]
  },
  {
   "cell_type": "code",
   "execution_count": 5,
   "id": "b9d8ac6a",
   "metadata": {},
   "outputs": [
    {
     "data": {
      "text/plain": [
       "MessagePydantic(id='a0e5f98c-f6eb-47de-a6e2-387510d970f9', header=MessageHeaderPydantic(sender='User', recipient='Assistant', timestamp=1752386688.1068888, order=0), body=SendBodyPydantic(type='send', role='user', content='Tell me a one paragraph story'))"
      ]
     },
     "execution_count": 5,
     "metadata": {},
     "output_type": "execute_result"
    }
   ],
   "source": [
    "store.get_message(message_id=\"a0e5f98c-f6eb-47de-a6e2-387510d970f9\")"
   ]
  },
  {
   "cell_type": "markdown",
   "id": "d2961b54",
   "metadata": {},
   "source": [
    "update_message"
   ]
  },
  {
   "cell_type": "code",
   "execution_count": 6,
   "id": "5f117f51",
   "metadata": {},
   "outputs": [],
   "source": [
    "message_json = {\n",
    "    'id': 'a0e5f98c-f6eb-47de-a6e2-387510d970f9', \n",
    "    'header': {\n",
    "        'sender': 'User', \n",
    "        'recipient': 'Agent1', \n",
    "    }, 'body': {\n",
    "        'type': 'send', \n",
    "        'role': 'user', \n",
    "        'content': 'Tell me a one paragraph story'\n",
    "    }\n",
    "}\n",
    "store.update_message(message=MessagePydantic(**message_json))\n",
    "message = store.get_message(message_id=\"a0e5f98c-f6eb-47de-a6e2-387510d970f9\")\n",
    "assert message.header.recipient == \"Agent1\", \"Recipient should be updated to Agent1\""
   ]
  },
  {
   "cell_type": "markdown",
   "id": "0891b8b3",
   "metadata": {},
   "source": [
    "delete_message"
   ]
  },
  {
   "cell_type": "code",
   "execution_count": 7,
   "id": "201f40cd",
   "metadata": {},
   "outputs": [],
   "source": [
    "messages = store.list_messages()\n",
    "assert len(messages) == 4, f\"There should be one message in the store but got {len(messages)}\"\n",
    "\n",
    "store.delete_message(id=\"a0e5f98c-f6eb-47de-a6e2-387510d970f9\")\n",
    "messages = store.list_messages()\n",
    "assert len(messages) == 3, \"There should be no messages in the store after deletion\""
   ]
  },
  {
   "cell_type": "markdown",
   "id": "dfdc9b77",
   "metadata": {},
   "source": [
    "extract_recap"
   ]
  },
  {
   "cell_type": "code",
   "execution_count": 8,
   "id": "8d043ad4",
   "metadata": {},
   "outputs": [
    {
     "data": {
      "text/plain": [
       "'User: Tell me a one paragraph story\\nAssistant: Once upon a time, a brave knight saved a kingdom from a dragon.'"
      ]
     },
     "execution_count": 8,
     "metadata": {},
     "output_type": "execute_result"
    }
   ],
   "source": [
    "messages = [\n",
    "    MessagePydantic(**{\n",
    "        'id': 'a0e5f98c-f6eb-47de-a6e2-387510d970f9', \n",
    "        'header': {\n",
    "            'sender': 'User', \n",
    "            'recipient': 'Assistant', \n",
    "        }, 'body': {\n",
    "            'type': 'send', \n",
    "            'role': 'user', \n",
    "            'content': 'Tell me a one paragraph story'\n",
    "        }\n",
    "    }),    \n",
    "    MessagePydantic(**{\n",
    "        'id': 'b1e5f98c-f6eb-47de-a6e2-387510d970f9', \n",
    "        'header': {\n",
    "            'sender': 'Assistant',\n",
    "            'recipient': 'User',\n",
    "        }, 'body': {\n",
    "            'type': 'reply',\n",
    "            'role': 'assistant',\n",
    "            'chunk_no': 0,\n",
    "            'chunk': 'Once upon a time,'\n",
    "        }\n",
    "    }),\n",
    "    MessagePydantic(**{\n",
    "        'id': 'abbc7961-45dc-4973-aaf4-a6224ed35d37', \n",
    "        'header': {\n",
    "            'sender': 'Assistant',\n",
    "            'recipient': 'User',\n",
    "        }, 'body': {\n",
    "            'type': 'reply',\n",
    "            'role': 'assistant',\n",
    "            'chunk_no': 1,\n",
    "            'chunk': ' a brave knight saved a kingdom from a dragon.'\n",
    "        }\n",
    "    }),\n",
    "    MessagePydantic(**{\n",
    "        'id': 'ae3d1495-3aac-4aa8-a833-b753720c9851', \n",
    "        'header': {\n",
    "            'sender': 'Assistant',\n",
    "            'recipient': 'User',\n",
    "        }, 'body': {\n",
    "            'type': 'reply',\n",
    "            'role': 'assistant',\n",
    "            'chunk_no': 2,\n",
    "            'chunk': '<eom>',\n",
    "            'content': 'Once upon a time, a brave knight saved a kingdom from a dragon.'\n",
    "        }\n",
    "    })\n",
    "]\n",
    "\n",
    "from gai.messages import message_helper\n",
    "message_helper.extract_recap(messages=messages,last_n=0,max_recap_size=1000)\n"
   ]
  }
 ],
 "metadata": {
  "kernelspec": {
   "display_name": "gai-sdk",
   "language": "python",
   "name": "python3"
  },
  "language_info": {
   "codemirror_mode": {
    "name": "ipython",
    "version": 3
   },
   "file_extension": ".py",
   "mimetype": "text/x-python",
   "name": "python",
   "nbconvert_exporter": "python",
   "pygments_lexer": "ipython3",
   "version": "3.10.18"
  }
 },
 "nbformat": 4,
 "nbformat_minor": 5
}
