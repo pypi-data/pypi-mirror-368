{
 "cells": [
  {
   "cell_type": "markdown",
   "id": "366eb7bc",
   "metadata": {},
   "source": [
    "## File Monologue"
   ]
  },
  {
   "cell_type": "markdown",
   "id": "07233d99",
   "metadata": {},
   "source": [
    "Create monologue from scratch"
   ]
  },
  {
   "cell_type": "code",
   "execution_count": 1,
   "id": "a8750664",
   "metadata": {},
   "outputs": [],
   "source": [
    "import os\n",
    "from gai.lib.tests import make_local_tmp\n",
    "here = make_local_tmp()\n",
    "\n",
    "# Delete and create a new standard monologue file\n",
    "from gai.messages.monologue import FileMonologue\n",
    "agent_name = \"TestBot\"\n",
    "file_path = os.path.join(here, f\"{agent_name}.json\")\n",
    "monologue = FileMonologue(agent_name=agent_name,file_path=file_path)\n",
    "\n",
    "# Check if standard monologue id exists\n",
    "os.path.exists(file_path)\n",
    "\n",
    "messages = monologue.list_messages()\n",
    "assert len(messages) == 0\n"
   ]
  },
  {
   "cell_type": "markdown",
   "id": "27d6101a",
   "metadata": {},
   "source": [
    "Add user message\n"
   ]
  },
  {
   "cell_type": "code",
   "execution_count": 2,
   "id": "b6ed7efb",
   "metadata": {},
   "outputs": [
    {
     "name": "stdout",
     "output_type": "stream",
     "text": [
      "✓ User message added correctly\n"
     ]
    }
   ],
   "source": [
    "# Add user message\n",
    "from types import SimpleNamespace\n",
    "mock_state = SimpleNamespace(state=\"GENERATE\", input={\"step\":5}, title=\"GENERATE\")\n",
    "monologue.add_user_message(\"Hello, how are you?\", mock_state)\n",
    "messages = monologue.list_messages()\n",
    "assert len(messages) == 1\n",
    "assert messages[0].body.role == \"user\"\n",
    "assert messages[0].body.content == \"Hello, how are you?\"\n",
    "print(\"✓ User message added correctly\")"
   ]
  },
  {
   "cell_type": "markdown",
   "id": "9de2a3a3",
   "metadata": {},
   "source": [
    "Add assistant message"
   ]
  },
  {
   "cell_type": "code",
   "execution_count": 3,
   "id": "cc60ff51",
   "metadata": {},
   "outputs": [
    {
     "name": "stdout",
     "output_type": "stream",
     "text": [
      "✓ Assistant message added correctly\n"
     ]
    }
   ],
   "source": [
    "# Add assistant message\n",
    "mock_state = SimpleNamespace(state=\"GENERATE\", input={\"step\":6}, title=\"GENERATE\")\n",
    "monologue.add_assistant_message(\"I'm doing well, thank you!\", mock_state)\n",
    "messages = monologue.list_messages()\n",
    "assert len(messages) == 2\n",
    "assert messages[1].body.role == \"assistant\"\n",
    "assert messages[1].body.content == \"I'm doing well, thank you!\"\n",
    "print(\"✓ Assistant message added correctly\")"
   ]
  },
  {
   "cell_type": "markdown",
   "id": "f0379326",
   "metadata": {},
   "source": [
    "List Messages"
   ]
  },
  {
   "cell_type": "code",
   "execution_count": 4,
   "id": "5b954e54",
   "metadata": {},
   "outputs": [],
   "source": [
    "messages = monologue.list_messages()\n",
    "assert len(messages) == 2"
   ]
  },
  {
   "cell_type": "markdown",
   "id": "c1380d9b",
   "metadata": {},
   "source": [
    "Pop Message"
   ]
  },
  {
   "cell_type": "code",
   "execution_count": 5,
   "id": "7767ca4f",
   "metadata": {},
   "outputs": [],
   "source": [
    "messages = monologue.list_messages()\n",
    "last_message_id = messages[-1].id\n",
    "assert any(m.id == last_message_id for m in messages)\n",
    "\n",
    "monologue.pop()\n",
    "messages = monologue.list_messages()\n",
    "assert not any(m.id == last_message_id for m in messages)"
   ]
  },
  {
   "cell_type": "markdown",
   "id": "fe193e03",
   "metadata": {},
   "source": [
    "Create monologue from messages"
   ]
  },
  {
   "cell_type": "code",
   "execution_count": 1,
   "id": "c34d1fd7",
   "metadata": {},
   "outputs": [
    {
     "name": "stdout",
     "output_type": "stream",
     "text": [
      "✓ Batch messages added correctly\n"
     ]
    }
   ],
   "source": [
    "from gai.messages import MessagePydantic\n",
    "messages = [\n",
    "    MessagePydantic(**{\n",
    "        'id': 'b1e5f98c-f6eb-47de-a6e2-387510d970f9', \n",
    "        'header': {\n",
    "            'sender': 'User',\n",
    "            'recipient': 'Assistant',\n",
    "            \"timestamp\": 1751308157.270983,\n",
    "            \"order\": 0            \n",
    "        }, 'body': {\n",
    "            'type': 'monologue',\n",
    "            \"state_name\": \"CHAT\",\n",
    "            \"step_no\": 1,\n",
    "            \"content_type\":\"text\",\n",
    "            'role': \"user\",\n",
    "            'content': 'Tell me a one paragragh story.',\n",
    "        }\n",
    "    }),\n",
    "    MessagePydantic(**{\n",
    "        'id': 'abbc7961-45dc-4973-aaf4-a6224ed35d37', \n",
    "        'header': {\n",
    "            'sender': 'Assistant',\n",
    "            'recipient': 'User',\n",
    "            \"timestamp\": 1751308167.3488164,\n",
    "            \"order\": 1\n",
    "        }, 'body': {\n",
    "            'type': 'monologue',\n",
    "            \"state_name\": \"CHAT\",\n",
    "            \"step_no\": 2,\n",
    "            \"content_type\":\"text\",\n",
    "            'role': \"assistant\",\n",
    "            'content': [\n",
    "                {\n",
    "                    \"citations\":None,\n",
    "                    \"text\": \"I will search for a story online.\",\n",
    "                },\n",
    "                {\n",
    "                    \"id\": \"toolu_013epBSqLbV61tRCLd1aMT86\",\n",
    "                    \"input\": {\n",
    "                        \"url\": \"https://www.story.com\"\n",
    "                    },\n",
    "                    \"name\": \"scrape\",\n",
    "                    \"type\": \"tool_use\"                    \n",
    "                }\n",
    "            ]\n",
    "        }\n",
    "    }),\n",
    "    MessagePydantic(**{\n",
    "        \"id\": \"f22fd2b5-dc7e-4389-a079-703d28dd365a\",\n",
    "        \"header\": {\n",
    "            \"sender\": \"User\",\n",
    "            \"recipient\": \"Assistant\",\n",
    "            \"timestamp\": 1751308180.9790845,\n",
    "            \"order\": 2\n",
    "        },\n",
    "        \"body\": {\n",
    "            \"type\": \"monologue\",\n",
    "            \"state_name\": \"TOOL_USE\",\n",
    "            \"step_no\": 3,\n",
    "            \"content_type\": \"text\",\n",
    "            \"role\": \"user\",\n",
    "            \"content\": [\n",
    "                {\n",
    "                    \"type\": \"tool_result\",\n",
    "                    \"tool_use_id\": \"toolu_013epBSqLbV61tRCLd1aMT86\",\n",
    "                    \"content\": \"Once upon a time, in a small village, there lived a kind...\"\n",
    "                }\n",
    "            ]\n",
    "        }\n",
    "    }),\n",
    "    MessagePydantic(**{\n",
    "        'id': '787ef108-16f9-489a-a6f1-141aff5f0e49',\n",
    "        'header': {\n",
    "            'sender': 'Assistant',\n",
    "            'recipient': 'User',\n",
    "            \"timestamp\": 1751308181.9790845,\n",
    "            \"order\": 3\n",
    "        }, 'body': {\n",
    "            'type': 'monologue',\n",
    "            \"state_name\": \"TOOL_USE\",\n",
    "            \"step_no\": 4,\n",
    "            \"content_type\":\"text\",\n",
    "            'role': \"assistant\",\n",
    "            'content':\"Once upon a time, in a small village, there lived a kind...\"\n",
    "        }\n",
    "    }),\n",
    "]\n",
    "\n",
    "# Create monologue\n",
    "import os\n",
    "from gai.lib.tests import make_local_tmp\n",
    "here = make_local_tmp()\n",
    "from gai.messages.monologue import FileMonologue\n",
    "file_path = os.path.join(here,\"monologue.json\")\n",
    "monologue = FileMonologue(agent_name=\"TestBot\",file_path=file_path,messages=messages)\n",
    "messages = monologue.list_messages()\n",
    "\n",
    "assert len(messages) == 4\n",
    "assert messages[0].body.role == \"user\"\n",
    "assert messages[0].body.content == \"Tell me a one paragragh story.\"\n",
    "assert messages[1].body.role == \"assistant\"\n",
    "assert messages[1].body.content[0][\"text\"] == \"I will search for a story online.\"\n",
    "assert messages[1].body.content[1][\"type\"] == \"tool_use\"\n",
    "assert messages[2].body.role == \"user\"\n",
    "assert messages[2].body.content[0][\"type\"] == \"tool_result\"\n",
    "assert messages[3].body.role == \"assistant\"\n",
    "assert messages[3].body.content == \"Once upon a time, in a small village, there lived a kind...\"\n",
    "print(\"✓ Batch messages added correctly\")\n"
   ]
  },
  {
   "cell_type": "markdown",
   "id": "40b9c472",
   "metadata": {},
   "source": [
    "### get_last_toolcalls\n",
    "\n",
    "This is to get the tool calls from the last message in the monologue.\n",
    "\n",
    "If there are no tool calls, it will return an empty list."
   ]
  },
  {
   "cell_type": "code",
   "execution_count": 5,
   "id": "82a76be2",
   "metadata": {},
   "outputs": [
    {
     "data": {
      "text/plain": [
       "[]"
      ]
     },
     "execution_count": 5,
     "metadata": {},
     "output_type": "execute_result"
    }
   ],
   "source": [
    "monologue.get_last_toolcalls()"
   ]
  },
  {
   "cell_type": "markdown",
   "id": "1ca620f5",
   "metadata": {},
   "source": [
    "If last message is an assistant message and contains \"type\":\"tool_use\", it will return the tool calls."
   ]
  },
  {
   "cell_type": "code",
   "execution_count": 3,
   "id": "2603815d",
   "metadata": {},
   "outputs": [
    {
     "data": {
      "text/plain": [
       "[{'tool_use_id': 'toolu_013epBSqLbV61tRCLd1aMT86',\n",
       "  'tool_name': 'scrape',\n",
       "  'arguments': {'url': 'https://www.story.com'}}]"
      ]
     },
     "execution_count": 3,
     "metadata": {},
     "output_type": "execute_result"
    }
   ],
   "source": [
    "monologue.add_assistant_message(\n",
    "    content=[\n",
    "        {\n",
    "            \"citations\":None,\n",
    "            \"text\": \"I will search for a story online.\",\n",
    "        },\n",
    "        {\n",
    "            \"id\": \"toolu_013epBSqLbV61tRCLd1aMT86\",\n",
    "            \"input\": {\n",
    "                \"url\": \"https://www.story.com\"\n",
    "            },\n",
    "            \"name\": \"scrape\",\n",
    "            \"type\": \"tool_use\"                    \n",
    "        }        \n",
    "    ]\n",
    ")\n",
    "monologue.get_last_toolcalls()"
   ]
  }
 ],
 "metadata": {
  "kernelspec": {
   "display_name": "workspace",
   "language": "python",
   "name": "python3"
  },
  "language_info": {
   "codemirror_mode": {
    "name": "ipython",
    "version": 3
   },
   "file_extension": ".py",
   "mimetype": "text/x-python",
   "name": "python",
   "nbconvert_exporter": "python",
   "pygments_lexer": "ipython3",
   "version": "3.10.18"
  }
 },
 "nbformat": 4,
 "nbformat_minor": 5
}
