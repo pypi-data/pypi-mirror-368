{
 "cells": [
  {
   "cell_type": "markdown",
   "id": "67da1a9e",
   "metadata": {},
   "source": [
    "## MCP - Time"
   ]
  },
  {
   "cell_type": "markdown",
   "id": "72b12ff7",
   "metadata": {},
   "source": [
    "### a) Configure Server Parameters\n"
   ]
  },
  {
   "cell_type": "code",
   "execution_count": 3,
   "id": "87cb7dc3",
   "metadata": {},
   "outputs": [],
   "source": [
    "from mcp import StdioServerParameters\n",
    "\n",
    "server_params = StdioServerParameters(\n",
    "    command=\"npx\",\n",
    "    args=[\"-y\", \"time-mcp\"],\n",
    "    env=None,\n",
    ")\n"
   ]
  },
  {
   "cell_type": "markdown",
   "id": "146a562f",
   "metadata": {},
   "source": [
    "### b) List Tools\n"
   ]
  },
  {
   "cell_type": "code",
   "execution_count": 4,
   "id": "b984b65b",
   "metadata": {},
   "outputs": [
    {
     "name": "stdout",
     "output_type": "stream",
     "text": [
      "Tool: current_time\n",
      "Description: Get the current date and time.\n",
      "\n",
      "  Argument: format\n",
      "  Type: string\n",
      "  Description: The format of the time, default is empty string\n",
      "  Argument: timezone\n",
      "  Type: string\n",
      "  Description: The timezone of the time, IANA timezone name, e.g. Asia/Shanghai\n",
      "Tool: relative_time\n",
      "Description: Get the relative time from now.\n",
      "\n",
      "  Argument: time\n",
      "  Type: string\n",
      "  Description: The time to get the relative time from now. Format: YYYY-MM-DD HH:mm:ss\n",
      "Tool: days_in_month\n",
      "Description: Get the number of days in a month. If no date is provided, get the number of days in the current month.\n",
      "\n",
      "  Argument: date\n",
      "  Type: string\n",
      "  Description: The date to get the days in month. Format: YYYY-MM-DD\n",
      "Tool: get_timestamp\n",
      "Description: Get the timestamp for the time.\n",
      "\n",
      "  Argument: time\n",
      "  Type: string\n",
      "  Description: The time to get the timestamp. Format: YYYY-MM-DD HH:mm:ss\n",
      "Tool: convert_time\n",
      "Description: Convert time between timezones.\n",
      "\n",
      "  Argument: sourceTimezone\n",
      "  Type: string\n",
      "  Description: The source timezone. IANA timezone name, e.g. Asia/Shanghai\n",
      "  Argument: targetTimezone\n",
      "  Type: string\n",
      "  Description: The target timezone. IANA timezone name, e.g. Europe/London\n",
      "  Argument: time\n",
      "  Type: string\n",
      "  Description: Date and time in 24-hour format. e.g. 2025-03-23 12:30:00\n",
      "Tool: get_week_year\n",
      "Description: Get the week and isoWeek of the year.\n",
      "\n",
      "  Argument: date\n",
      "  Type: string\n",
      "  Description: The date to get the week and isoWeek of the year. e.g. 2025-03-23\n"
     ]
    }
   ],
   "source": [
    "from mcp.client.stdio import stdio_client\n",
    "from mcp import ClientSession\n",
    "\n",
    "async with stdio_client(server_params) as (read, write):\n",
    "    async with ClientSession(read, write) as session:\n",
    "        # Initialize the connection\n",
    "        await session.initialize()\n",
    "        tools = await session.list_tools()\n",
    "\n",
    "        # List available tools\n",
    "        for tool in tools.tools:\n",
    "            print(f\"Tool: {tool.name}\\nDescription: {tool.description}\\n\")\n",
    "            for name, prop in tool.inputSchema[\"properties\"].items():\n",
    "                print(f\"  Argument: {name}\")\n",
    "                print(f\"  Type: {prop['type']}\")\n",
    "                if \"description\" in prop:\n",
    "                    print(f\"  Description: {prop['description']}\")\n"
   ]
  },
  {
   "cell_type": "markdown",
   "id": "d6c938b6",
   "metadata": {},
   "source": [
    "#### i. Get Current Time\n"
   ]
  },
  {
   "cell_type": "code",
   "execution_count": 22,
   "id": "4b53661f",
   "metadata": {},
   "outputs": [
    {
     "name": "stdout",
     "output_type": "stream",
     "text": [
      "meta=None content=[TextContent(type='text', text='Current UTC time is 2025-Jun-14 04:59:22, and the time in utc is 2025-Jun-14 04:59:22.', annotations=None)] isError=False success=True\n"
     ]
    }
   ],
   "source": [
    "from mcp.client.stdio import stdio_client\n",
    "from mcp import ClientSession\n",
    "\n",
    "async with stdio_client(server_params) as (read, write):\n",
    "    async with ClientSession(read, write) as session:\n",
    "        # Initialize the connection\n",
    "        await session.initialize()\n",
    "\n",
    "        import os\n",
    "        tz = os.environ.get('TZ') or \"utc\"\n",
    "        resp = await session.call_tool(\"current_time\",arguments={\"format\":\"YYYY-MMM-DD HH:mm:ss\",\"timezone\":tz})\n",
    "        print(resp)\n"
   ]
  },
  {
   "cell_type": "markdown",
   "id": "5a7015ec",
   "metadata": {},
   "source": [
    "---\n",
    "\n",
    "## MCP - FileSystem"
   ]
  },
  {
   "cell_type": "markdown",
   "id": "e8cd4387",
   "metadata": {},
   "source": [
    "### a) Configure Server Parameters"
   ]
  },
  {
   "cell_type": "code",
   "execution_count": 1,
   "id": "d78839c3",
   "metadata": {},
   "outputs": [],
   "source": [
    "from mcp import StdioServerParameters\n",
    "server_params = StdioServerParameters(\n",
    "    command=\"npx\",\n",
    "    args=[\n",
    "        \"-y\",\n",
    "        \"@modelcontextprotocol/server-filesystem\",\n",
    "        \"/tmp\"\n",
    "    ],\n",
    "    env=None\n",
    ")"
   ]
  },
  {
   "cell_type": "markdown",
   "id": "d4574523",
   "metadata": {},
   "source": [
    "### b) List Tools"
   ]
  },
  {
   "cell_type": "code",
   "execution_count": 2,
   "id": "b4049b3c",
   "metadata": {},
   "outputs": [
    {
     "name": "stdout",
     "output_type": "stream",
     "text": [
      "Tool: read_file\n",
      "Description: Read the complete contents of a file from the file system. Handles various text encodings and provides detailed error messages if the file cannot be read. Use this tool when you need to examine the contents of a single file. Only works within allowed directories.\n",
      "\n",
      "  Argument: path\n",
      "  Type: string\n",
      "Tool: read_multiple_files\n",
      "Description: Read the contents of multiple files simultaneously. This is more efficient than reading files one by one when you need to analyze or compare multiple files. Each file's content is returned with its path as a reference. Failed reads for individual files won't stop the entire operation. Only works within allowed directories.\n",
      "\n",
      "  Argument: paths\n",
      "  Type: array\n",
      "Tool: write_file\n",
      "Description: Create a new file or completely overwrite an existing file with new content. Use with caution as it will overwrite existing files without warning. Handles text content with proper encoding. Only works within allowed directories.\n",
      "\n",
      "  Argument: path\n",
      "  Type: string\n",
      "  Argument: content\n",
      "  Type: string\n",
      "Tool: edit_file\n",
      "Description: Make line-based edits to a text file. Each edit replaces exact line sequences with new content. Returns a git-style diff showing the changes made. Only works within allowed directories.\n",
      "\n",
      "  Argument: path\n",
      "  Type: string\n",
      "  Argument: edits\n",
      "  Type: array\n",
      "  Argument: dryRun\n",
      "  Type: boolean\n",
      "  Description: Preview changes using git-style diff format\n",
      "Tool: create_directory\n",
      "Description: Create a new directory or ensure a directory exists. Can create multiple nested directories in one operation. If the directory already exists, this operation will succeed silently. Perfect for setting up directory structures for projects or ensuring required paths exist. Only works within allowed directories.\n",
      "\n",
      "  Argument: path\n",
      "  Type: string\n",
      "Tool: list_directory\n",
      "Description: Get a detailed listing of all files and directories in a specified path. Results clearly distinguish between files and directories with [FILE] and [DIR] prefixes. This tool is essential for understanding directory structure and finding specific files within a directory. Only works within allowed directories.\n",
      "\n",
      "  Argument: path\n",
      "  Type: string\n",
      "Tool: directory_tree\n",
      "Description: Get a recursive tree view of files and directories as a JSON structure. Each entry includes 'name', 'type' (file/directory), and 'children' for directories. Files have no children array, while directories always have a children array (which may be empty). The output is formatted with 2-space indentation for readability. Only works within allowed directories.\n",
      "\n",
      "  Argument: path\n",
      "  Type: string\n",
      "Tool: move_file\n",
      "Description: Move or rename files and directories. Can move files between directories and rename them in a single operation. If the destination exists, the operation will fail. Works across different directories and can be used for simple renaming within the same directory. Both source and destination must be within allowed directories.\n",
      "\n",
      "  Argument: source\n",
      "  Type: string\n",
      "  Argument: destination\n",
      "  Type: string\n",
      "Tool: search_files\n",
      "Description: Recursively search for files and directories matching a pattern. Searches through all subdirectories from the starting path. The search is case-insensitive and matches partial names. Returns full paths to all matching items. Great for finding files when you don't know their exact location. Only searches within allowed directories.\n",
      "\n",
      "  Argument: path\n",
      "  Type: string\n",
      "  Argument: pattern\n",
      "  Type: string\n",
      "  Argument: excludePatterns\n",
      "  Type: array\n",
      "Tool: get_file_info\n",
      "Description: Retrieve detailed metadata about a file or directory. Returns comprehensive information including size, creation time, last modified time, permissions, and type. This tool is perfect for understanding file characteristics without reading the actual content. Only works within allowed directories.\n",
      "\n",
      "  Argument: path\n",
      "  Type: string\n",
      "Tool: list_allowed_directories\n",
      "Description: Returns the list of directories that this server is allowed to access. Use this to understand which directories are available before trying to access files.\n",
      "\n"
     ]
    }
   ],
   "source": [
    "from mcp.client.stdio import stdio_client\n",
    "from mcp import ClientSession\n",
    "async with stdio_client(server_params) as (read, write):\n",
    "    async with ClientSession(\n",
    "        read, write\n",
    "    ) as session:\n",
    "\n",
    "        # Initialize the connection\n",
    "        await session.initialize()\n",
    "        tools = await session.list_tools()\n",
    "\n",
    "        # List available tools\n",
    "        for tool in tools.tools:\n",
    "            print(f\"Tool: {tool.name}\\nDescription: {tool.description}\\n\")\n",
    "            for name,prop in tool.inputSchema[\"properties\"].items():\n",
    "                print(f\"  Argument: {name}\")\n",
    "                print(f\"  Type: {prop['type']}\")\n",
    "                if \"description\" in prop:\n",
    "                    print(f\"  Description: {prop['description']}\")\n"
   ]
  },
  {
   "cell_type": "markdown",
   "id": "b6c0be15",
   "metadata": {},
   "source": [
    "#### i. List allowed directories"
   ]
  },
  {
   "cell_type": "code",
   "execution_count": 3,
   "id": "1e42a561",
   "metadata": {},
   "outputs": [
    {
     "name": "stdout",
     "output_type": "stream",
     "text": [
      "meta=None content=[TextContent(type='text', text='Allowed directories:\\n/tmp', annotations=None)] isError=False\n"
     ]
    }
   ],
   "source": [
    "from mcp.client.stdio import stdio_client\n",
    "from mcp import ClientSession\n",
    "async with stdio_client(server_params) as (read, write):\n",
    "    async with ClientSession(\n",
    "        read, write\n",
    "    ) as session:\n",
    "\n",
    "        # Initialize the connection\n",
    "        await session.initialize()\n",
    "        resp = await session.call_tool(\"list_allowed_directories\")\n",
    "        print(resp)\n",
    "\n"
   ]
  },
  {
   "cell_type": "markdown",
   "id": "d8336015",
   "metadata": {},
   "source": [
    "#### ii. List directory"
   ]
  },
  {
   "cell_type": "code",
   "execution_count": 5,
   "id": "6fa655e3",
   "metadata": {},
   "outputs": [
    {
     "name": "stdout",
     "output_type": "stream",
     "text": [
      "meta=None content=[TextContent(type='text', text='[DIR] .X11-unix\\n[DIR] devcontainercli-kakkoii1337\\n[DIR] devcontainers-1686179e-3599-4599-b59c-6768be3ec1cc1749612777360\\n[DIR] devcontainers-1977e3f8-b3f3-4a0e-97fc-00a01cf413081749613340563\\n[DIR] devcontainers-36b4afe3-1ef3-4c07-bc17-6297d7cebb851749613026450\\n[DIR] devcontainers-e960a2d9-20e5-4051-9c68-cd8c9978a7151749613230615\\n[FILE] dockerd.log\\n[DIR] kakkoii1337-code-zsh\\n[DIR] node-compile-cache\\n[DIR] pyright-1602-wU3byH4KsNDw\\n[DIR] python-languageserver-cancellation\\n[FILE] remote-wsl-loc.txt\\n[DIR] snap-private-tmp\\n[DIR] ssh-XXXXXXIIGZNm\\n[DIR] systemd-private-d936ba9b290e429aaeaedd09ea6ff704-systemd-logind.service-EPZX7z\\n[DIR] systemd-private-d936ba9b290e429aaeaedd09ea6ff704-systemd-resolved.service-6p3Xdv\\n[DIR] systemd-private-d936ba9b290e429aaeaedd09ea6ff704-systemd-timesyncd.service-kLFePw\\n[DIR] user\\n[FILE] vscode-distro-env.AuX4sW\\n[FILE] vscode-distro-env.lWaPAa\\n[FILE] vscode-ipc-16348fd2-5e05-4e92-a79a-9da14af38dbd.sock\\n[FILE] vscode-ipc-1a1fda0d-320a-46c1-8699-5ba83393f67f.sock\\n[FILE] vscode-ipc-1f25b544-91d3-4a7b-ad0c-b140b13f6a48.sock\\n[FILE] vscode-ipc-40c06149-2818-4c70-91bf-fb2907351fe2.sock\\n[FILE] vscode-ipc-61436185-bd40-4911-8165-99dac6b65acc.sock\\n[FILE] vscode-ipc-a0759caf-7557-490a-8f65-6d41b868b0ea.sock\\n[FILE] vscode-remote-containers-5198f8af-7dae-48e6-b022-6a1b9b41b294.js\\n[FILE] vscode-remote-containers-71edfcc2-2d25-47be-ae04-54da4f616cbe.js\\n[FILE] vscode-remote-containers-b42b7944-94a5-4c86-a104-04b7b13d52b0.js\\n[FILE] vscode-remote-containers-d14940db-ee83-43d2-8557-6330c1a4ffb5.js\\n[FILE] vscode-remote-containers-ipc-5198f8af-7dae-48e6-b022-6a1b9b41b294.sock\\n[FILE] vscode-remote-containers-ipc-71edfcc2-2d25-47be-ae04-54da4f616cbe.sock\\n[FILE] vscode-remote-containers-ipc-b42b7944-94a5-4c86-a104-04b7b13d52b0.sock\\n[FILE] vscode-remote-containers-ipc-d14940db-ee83-43d2-8557-6330c1a4ffb5.sock\\n[FILE] vscode-remote-containers-server-5198f8af-7dae-48e6-b022-6a1b9b41b294.js\\n[FILE] vscode-remote-containers-server-71edfcc2-2d25-47be-ae04-54da4f616cbe.js\\n[FILE] vscode-remote-containers-server-b42b7944-94a5-4c86-a104-04b7b13d52b0.js\\n[FILE] vscode-remote-containers-server-d14940db-ee83-43d2-8557-6330c1a4ffb5.js\\n[FILE] vscode-ssh-auth-5198f8af-7dae-48e6-b022-6a1b9b41b294.sock\\n[FILE] vscode-ssh-auth-71edfcc2-2d25-47be-ae04-54da4f616cbe.sock\\n[FILE] vscode-ssh-auth-b42b7944-94a5-4c86-a104-04b7b13d52b0.sock\\n[FILE] vscode-ssh-auth-d14940db-ee83-43d2-8557-6330c1a4ffb5.sock\\n[DIR] vscode-typescript1000\\n[FILE] vscode-wayland-223d6d43-a8b9-4045-8a35-507f7075b9d6.sock\\n[FILE] vscode-wayland-6e87cd96-2412-417e-a864-c11739ff9c9b.sock\\n[FILE] vscode-wayland-b31f9e36-07be-4440-bacd-1c095fb90a30.sock', annotations=None)] isError=False\n"
     ]
    }
   ],
   "source": [
    "from mcp.client.stdio import stdio_client\n",
    "from mcp import ClientSession\n",
    "async with stdio_client(server_params) as (read, write):\n",
    "    async with ClientSession(\n",
    "        read, write\n",
    "    ) as session:\n",
    "\n",
    "        # Initialize the connection\n",
    "        await session.initialize()\n",
    "        resp = await session.call_tool(\"list_directory\",arguments={\"path\":\"/tmp\"})\n",
    "        print(resp)\n",
    "\n"
   ]
  },
  {
   "cell_type": "markdown",
   "id": "0099f665",
   "metadata": {},
   "source": [
    "---\n",
    "\n",
    "## MCP - Web"
   ]
  },
  {
   "cell_type": "code",
   "execution_count": 1,
   "id": "085450a7",
   "metadata": {},
   "outputs": [],
   "source": [
    "from mcp import StdioServerParameters\n",
    "server_params = StdioServerParameters(\n",
    "    command=\"uvx\",\n",
    "    args=[\n",
    "        \"gai-tools-web\"\n",
    "    ],\n",
    "    env=None\n",
    ")"
   ]
  },
  {
   "cell_type": "code",
   "execution_count": 2,
   "id": "1b1a4ec6",
   "metadata": {},
   "outputs": [
    {
     "name": "stdout",
     "output_type": "stream",
     "text": [
      "Tool: scrape\n",
      "Description: \n",
      "    Scrape a webpage and return the parsed response.\n",
      "\n",
      "    Args:\n",
      "        - url (str): The URL of the webpage to scrape.\n",
      "    Returns:\n",
      "        - source: Source of the parsed content\n",
      "        - title: Title of the document\n",
      "        - text: Main body of the document\n",
      "        - authors: List of authors\n",
      "        - summary: Summary of the document\n",
      "        - keywords: Keywords associated with the document\n",
      "        - categories: Categories the document belongs to\n",
      "        - publish_date: Publication date of the document\n",
      "        - length: Total length of the document in characters, computed from text\n",
      "        - created_at: Creation timestamp of the parsed response\n",
      "        - links: Dictionary of links related to the document\n",
      "        - chunks: Optional list of text chunks parsed from the document\n",
      "    \n",
      "\n",
      "  Argument: url\n",
      "  Type: string\n",
      "Tool: search\n",
      "Description: \n",
      "    The 'search' function is a powerful tool that allows the AI to gather external information from the internet using Google search. It can be invoked when the AI needs to answer a question or provide information that requires up-to-date, comprehensive, and diverse sources which are not inherently known by the AI. For instance, it can be used to find current news, weather updates, latest sports scores, trending topics, specific facts, or even the current date and time. The usage of this tool should be considered when the user's query implies or explicitly requests recent or wide-ranging data, or when the AI's inherent knowledge base may not have the required or most current information. The 'search_query' parameter should be a concise and accurate representation of the information needed.\n",
      "\n",
      "    Args:\n",
      "    - search_query (str): The query to search for on the web. This should be a concise and accurate representation of the information needed.\n",
      "\n",
      "    Returns:\n",
      "    - query: str\n",
      "    - chunks: List[Chunk]\n",
      "    \n",
      "\n",
      "  Argument: search_query\n",
      "  Type: string\n",
      "Tool: screenshot\n",
      "Description: \n",
      "    Take a screenshot of a webpage and save it to a temporary file.\n",
      "\n",
      "    Use this tool when you need to:\n",
      "    - Capture visual representation of websites\n",
      "    - Get screenshots for documentation or analysis\n",
      "    - Verify how a webpage appears visually\n",
      "    - Capture dynamic content that may not be accessible via scraping\n",
      "    - Create visual records of web pages\n",
      "\n",
      "    Args:\n",
      "        url (str): The URL of the webpage to screenshot\n",
      "\n",
      "    Returns:\n",
      "        str: Path to the temporary screenshot file (PNG format).\n",
      "             IMPORTANT: You are responsible for cleaning up this file when done.\n",
      "\n",
      "    Example usage:\n",
      "        temp_path = await screenshot(\"https://example.com\")\n",
      "        # Process the screenshot...\n",
      "        os.unlink(temp_path)  # Clean up when done\n",
      "    \n",
      "\n",
      "  Argument: url\n",
      "  Type: string\n",
      "Tool: download\n",
      "Description: \n",
      "    Download a file from the web and save it to a temporary location.\n",
      "\n",
      "    Use this tool when you need to:\n",
      "    - Download files (PDFs, images, videos, documents, archives, etc.) from URLs\n",
      "    - Access file content that requires downloading rather than web scraping\n",
      "    - Obtain binary files that cannot be processed through text-based scraping\n",
      "    - Download files for further processing, analysis, or storage\n",
      "    - Get files from direct download links, file servers, or content repositories\n",
      "\n",
      "    Examples of when to use this tool:\n",
      "    - \"Download this PDF document from the URL\"\n",
      "    - \"Get the image file from this link\"\n",
      "    - \"Download the dataset file for analysis\"\n",
      "    - \"Fetch the software installer from the download page\"\n",
      "    - \"Download the CSV file containing the data\"\n",
      "\n",
      "    Do NOT use this for:\n",
      "    - Scraping webpage content (use scrape() instead)\n",
      "    - Taking screenshots of webpages (use screenshot() instead)\n",
      "    - Reading text content from web pages (use scrape() instead)\n",
      "\n",
      "    Args:\n",
      "        url (str): Direct URL to the file you want to download\n",
      "\n",
      "    Returns:\n",
      "        str: Path to the downloaded temporary file.\n",
      "             IMPORTANT: You are responsible for cleaning up this file when done.\n",
      "             The file will persist until manually deleted.\n",
      "\n",
      "    Example usage:\n",
      "        temp_path = await download(\"https://example.com/document.pdf\")\n",
      "        # Process the file...\n",
      "        os.unlink(temp_path)  # Clean up when done\n",
      "    \n",
      "\n",
      "  Argument: url\n",
      "  Type: string\n"
     ]
    }
   ],
   "source": [
    "from mcp.client.stdio import stdio_client\n",
    "from mcp import ClientSession\n",
    "async with stdio_client(server_params) as (read, write):\n",
    "    async with ClientSession(\n",
    "        read, write\n",
    "    ) as session:\n",
    "\n",
    "        # Initialize the connection\n",
    "        await session.initialize()\n",
    "        tools = await session.list_tools()\n",
    "\n",
    "        # List available tools\n",
    "        for tool in tools.tools:\n",
    "            print(f\"Tool: {tool.name}\\nDescription: {tool.description}\\n\")\n",
    "            for name,prop in tool.inputSchema[\"properties\"].items():\n",
    "                print(f\"  Argument: {name}\")\n",
    "                print(f\"  Type: {prop['type']}\")\n",
    "                if \"description\" in prop:\n",
    "                    print(f\"  Description: {prop['description']}\")\n"
   ]
  }
 ],
 "metadata": {
  "kernelspec": {
   "display_name": "hydrogen-mvp",
   "language": "python",
   "name": "python3"
  },
  "language_info": {
   "codemirror_mode": {
    "name": "ipython",
    "version": 3
   },
   "file_extension": ".py",
   "mimetype": "text/x-python",
   "name": "python",
   "nbconvert_exporter": "python",
   "pygments_lexer": "ipython3",
   "version": "3.10.18"
  }
 },
 "nbformat": 4,
 "nbformat_minor": 5
}
