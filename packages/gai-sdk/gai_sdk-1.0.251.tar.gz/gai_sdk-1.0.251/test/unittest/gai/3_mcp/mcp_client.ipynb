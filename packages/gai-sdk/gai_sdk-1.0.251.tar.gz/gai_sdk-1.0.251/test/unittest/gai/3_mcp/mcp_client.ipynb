{
 "cells": [
  {
   "cell_type": "markdown",
   "id": "2b9bb15b",
   "metadata": {},
   "source": [
    "## MCP - Time"
   ]
  },
  {
   "cell_type": "code",
   "execution_count": 1,
   "id": "82c72877",
   "metadata": {},
   "outputs": [
    {
     "name": "stdout",
     "output_type": "stream",
     "text": [
      "Tool: current_time\n",
      "Description: {'type': 'function', 'function': {'name': 'current_time', 'description': 'Get the current date and time.', 'parameters': {'type': 'object', 'properties': {'format': {'type': 'string', 'description': 'The format of the time, default is empty string', 'enum': ['h:mm A', 'h:mm:ss A', 'YYYY-MM-DD HH:mm:ss', 'YYYY-MM-DD', 'YYYY-MM', 'MM/DD/YYYY', 'MM/DD/YY', 'YYYY/MM/DD', 'YYYY/MM'], 'default': 'YYYY-MM-DD HH:mm:ss'}, 'timezone': {'type': 'string', 'description': 'The timezone of the time, IANA timezone name, e.g. Asia/Shanghai'}}, 'required': ['format']}}}\n",
      "\n",
      "Tool: relative_time\n",
      "Description: {'type': 'function', 'function': {'name': 'relative_time', 'description': 'Get the relative time from now.', 'parameters': {'type': 'object', 'properties': {'time': {'type': 'string', 'description': 'The time to get the relative time from now. Format: YYYY-MM-DD HH:mm:ss'}}, 'required': ['time']}}}\n",
      "\n",
      "Tool: days_in_month\n",
      "Description: {'type': 'function', 'function': {'name': 'days_in_month', 'description': 'Get the number of days in a month. If no date is provided, get the number of days in the current month.', 'parameters': {'type': 'object', 'properties': {'date': {'type': 'string', 'description': 'The date to get the days in month. Format: YYYY-MM-DD'}}}}}\n",
      "\n",
      "Tool: get_timestamp\n",
      "Description: {'type': 'function', 'function': {'name': 'get_timestamp', 'description': 'Get the timestamp for the time.', 'parameters': {'type': 'object', 'properties': {'time': {'type': 'string', 'description': 'The time to get the timestamp. Format: YYYY-MM-DD HH:mm:ss'}}}}}\n",
      "\n",
      "Tool: convert_time\n",
      "Description: {'type': 'function', 'function': {'name': 'convert_time', 'description': 'Convert time between timezones.', 'parameters': {'type': 'object', 'properties': {'sourceTimezone': {'type': 'string', 'description': 'The source timezone. IANA timezone name, e.g. Asia/Shanghai'}, 'targetTimezone': {'type': 'string', 'description': 'The target timezone. IANA timezone name, e.g. Europe/London'}, 'time': {'type': 'string', 'description': 'Date and time in 24-hour format. e.g. 2025-03-23 12:30:00'}}, 'required': ['sourceTimezone', 'targetTimezone', 'time']}}}\n",
      "\n",
      "Tool: get_week_year\n",
      "Description: {'type': 'function', 'function': {'name': 'get_week_year', 'description': 'Get the week and isoWeek of the year.', 'parameters': {'type': 'object', 'properties': {'date': {'type': 'string', 'description': 'The date to get the week and isoWeek of the year. e.g. 2025-03-23'}}}}}\n",
      "\n"
     ]
    }
   ],
   "source": [
    "from gai.mcp.client import McpAggregatedClient\n",
    "\n",
    "filesystem_client = McpAggregatedClient([\"mcp-time\"])\n",
    "tools = await filesystem_client.list_tools()\n",
    "\n",
    "# List available tools\n",
    "for tool in tools:\n",
    "    print(f\"Tool: {tool['function']['name']}\\nDescription: {tool}\\n\")\n"
   ]
  },
  {
   "cell_type": "markdown",
   "id": "d574e195",
   "metadata": {},
   "source": [
    "---\n",
    "\n",
    "## MCP - FileSystem"
   ]
  },
  {
   "cell_type": "markdown",
   "id": "2a4761c6",
   "metadata": {},
   "source": [
    "### a) List Tools"
   ]
  },
  {
   "cell_type": "code",
   "execution_count": 2,
   "id": "b94c18be",
   "metadata": {},
   "outputs": [
    {
     "name": "stdout",
     "output_type": "stream",
     "text": [
      "Tool: write_file\n",
      "Description: {'type': 'function', 'function': {'name': 'write_file', 'description': 'Create a new file or completely overwrite an existing file with new content. Use with caution as it will overwrite existing files without warning. Handles text content with proper encoding. Only works within allowed directories.', 'parameters': {'type': 'object', 'properties': {'path': {'type': 'string'}, 'content': {'type': 'string'}}, 'required': ['path', 'content'], 'additionalProperties': False, '$schema': 'http://json-schema.org/draft-07/schema#'}}}\n",
      "\n",
      "Tool: edit_file\n",
      "Description: {'type': 'function', 'function': {'name': 'edit_file', 'description': 'Make line-based edits to a text file. Each edit replaces exact line sequences with new content. Returns a git-style diff showing the changes made. Only works within allowed directories.', 'parameters': {'type': 'object', 'properties': {'path': {'type': 'string'}, 'edits': {'type': 'array', 'items': {'type': 'object', 'properties': {'oldText': {'type': 'string', 'description': 'Text to search for - must match exactly'}, 'newText': {'type': 'string', 'description': 'Text to replace with'}}, 'required': ['oldText', 'newText'], 'additionalProperties': False}}, 'dryRun': {'type': 'boolean', 'default': False, 'description': 'Preview changes using git-style diff format'}}, 'required': ['path', 'edits'], 'additionalProperties': False, '$schema': 'http://json-schema.org/draft-07/schema#'}}}\n",
      "\n",
      "Tool: create_directory\n",
      "Description: {'type': 'function', 'function': {'name': 'create_directory', 'description': 'Create a new directory or ensure a directory exists. Can create multiple nested directories in one operation. If the directory already exists, this operation will succeed silently. Perfect for setting up directory structures for projects or ensuring required paths exist. Only works within allowed directories.', 'parameters': {'type': 'object', 'properties': {'path': {'type': 'string'}}, 'required': ['path'], 'additionalProperties': False, '$schema': 'http://json-schema.org/draft-07/schema#'}}}\n",
      "\n",
      "Tool: list_directory\n",
      "Description: {'type': 'function', 'function': {'name': 'list_directory', 'description': 'Get a detailed listing of all files and directories in a specified path. Results clearly distinguish between files and directories with [FILE] and [DIR] prefixes. This tool is essential for understanding directory structure and finding specific files within a directory. Only works within allowed directories.', 'parameters': {'type': 'object', 'properties': {'path': {'type': 'string'}}, 'required': ['path'], 'additionalProperties': False, '$schema': 'http://json-schema.org/draft-07/schema#'}}}\n",
      "\n",
      "Tool: list_directory_with_sizes\n",
      "Description: {'type': 'function', 'function': {'name': 'list_directory_with_sizes', 'description': 'Get a detailed listing of all files and directories in a specified path, including sizes. Results clearly distinguish between files and directories with [FILE] and [DIR] prefixes. This tool is useful for understanding directory structure and finding specific files within a directory. Only works within allowed directories.', 'parameters': {'type': 'object', 'properties': {'path': {'type': 'string'}, 'sortBy': {'type': 'string', 'enum': ['name', 'size'], 'default': 'name', 'description': 'Sort entries by name or size'}}, 'required': ['path'], 'additionalProperties': False, '$schema': 'http://json-schema.org/draft-07/schema#'}}}\n",
      "\n",
      "Tool: search_files\n",
      "Description: {'type': 'function', 'function': {'name': 'search_files', 'description': \"Recursively search for files and directories matching a pattern. Searches through all subdirectories from the starting path. The search is case-insensitive and matches partial names. Returns full paths to all matching items. Great for finding files when you don't know their exact location. Only searches within allowed directories.\", 'parameters': {'type': 'object', 'properties': {'path': {'type': 'string'}, 'pattern': {'type': 'string'}, 'excludePatterns': {'type': 'array', 'items': {'type': 'string'}, 'default': []}}, 'required': ['path', 'pattern'], 'additionalProperties': False, '$schema': 'http://json-schema.org/draft-07/schema#'}}}\n",
      "\n",
      "Tool: get_file_info\n",
      "Description: {'type': 'function', 'function': {'name': 'get_file_info', 'description': 'Retrieve detailed metadata about a file or directory. Returns comprehensive information including size, creation time, last modified time, permissions, and type. This tool is perfect for understanding file characteristics without reading the actual content. Only works within allowed directories.', 'parameters': {'type': 'object', 'properties': {'path': {'type': 'string'}}, 'required': ['path'], 'additionalProperties': False, '$schema': 'http://json-schema.org/draft-07/schema#'}}}\n",
      "\n",
      "Tool: list_allowed_directories\n",
      "Description: {'type': 'function', 'function': {'name': 'list_allowed_directories', 'description': 'Returns the list of directories that this server is allowed to access. Use this to understand which directories are available before trying to access files.', 'parameters': {'type': 'object', 'properties': {}, 'required': []}}}\n",
      "\n"
     ]
    }
   ],
   "source": [
    "from gai.mcp.client import McpAggregatedClient\n",
    "    \n",
    "filesystem_client = McpAggregatedClient([\"mcp-filesystem\"])\n",
    "tools = await filesystem_client.list_tools()\n",
    "\n",
    "# List available tools\n",
    "for tool in tools:\n",
    "    print(f\"Tool: {tool['function']['name']}\\nDescription: {tool}\\n\")\n",
    "    \n"
   ]
  },
  {
   "cell_type": "code",
   "execution_count": 3,
   "id": "f74acb79",
   "metadata": {},
   "outputs": [
    {
     "name": "stdout",
     "output_type": "stream",
     "text": [
      "Filesystem Client Tools: ✅ - Done\n"
     ]
    }
   ],
   "source": [
    "import os\n",
    "from gai.mcp.client import McpClient\n",
    "from gai.lib.config import config_helper\n",
    "\n",
    "# Create filesystem client\n",
    "mcp_config = config_helper.get_client_config({\n",
    "        \"type\": \"npx\",\n",
    "        \"client_type\": \"gai\",\n",
    "        \"extra\":{\n",
    "            \"command\": \"npx\",\n",
    "            \"args\": [\"-y\",\"@modelcontextprotocol/server-filesystem\",\"/tmp\"]\n",
    "        }\n",
    "})\n",
    "filesystem_client = McpClient(mcp_config)\n",
    "result = await filesystem_client.call_tool(tool_name=\"list_allowed_directories\",directory=f\"{os.environ['HOME']}/.gai/projects\")\n",
    "assert result, \"❌ Expected tools from filesystem client\"    \n",
    "print(\"Filesystem Client Tools: ✅ - Done\")"
   ]
  },
  {
   "cell_type": "markdown",
   "id": "a1ee0315",
   "metadata": {},
   "source": [
    "#### i. List allowed directories"
   ]
  },
  {
   "cell_type": "code",
   "execution_count": 11,
   "id": "faacd459",
   "metadata": {},
   "outputs": [
    {
     "name": "stdout",
     "output_type": "stream",
     "text": [
      "meta=None content=[TextContent(type='text', text='Allowed directories:\\n/tmp', annotations=None)] isError=False\n"
     ]
    }
   ],
   "source": [
    "import os\n",
    "from gai.mcp.client import McpClient\n",
    "from gai.lib.config import config_helper\n",
    "\n",
    "# Create filesystem client\n",
    "mcp_config = config_helper.get_client_config({\n",
    "        \"type\": \"npx\",\n",
    "        \"client_type\": \"gai\",\n",
    "        \"extra\":{\n",
    "            \"command\": \"npx\",\n",
    "            \"args\": [\"-y\",\"@modelcontextprotocol/server-filesystem\",\"/tmp\"]\n",
    "        }\n",
    "})\n",
    "filesystem_client = McpClient(mcp_config)\n",
    "result = await filesystem_client.call_tool(tool_name=\"list_allowed_directories\")\n",
    "print(result)"
   ]
  },
  {
   "cell_type": "markdown",
   "id": "c0f9c278",
   "metadata": {},
   "source": [
    "#### ii. List directory"
   ]
  },
  {
   "cell_type": "code",
   "execution_count": 12,
   "id": "fbdef0ef",
   "metadata": {},
   "outputs": [
    {
     "name": "stdout",
     "output_type": "stream",
     "text": [
      "meta=None content=[TextContent(type='text', text='[DIR] .X11-unix\\n[DIR] devcontainercli-kakkoii1337\\n[DIR] devcontainers-1686179e-3599-4599-b59c-6768be3ec1cc1749612777360\\n[DIR] devcontainers-1977e3f8-b3f3-4a0e-97fc-00a01cf413081749613340563\\n[DIR] devcontainers-36b4afe3-1ef3-4c07-bc17-6297d7cebb851749613026450\\n[DIR] devcontainers-e960a2d9-20e5-4051-9c68-cd8c9978a7151749613230615\\n[FILE] dockerd.log\\n[DIR] ipykernel_30506\\n[DIR] ipykernel_36009\\n[DIR] ipykernel_40779\\n[DIR] ipykernel_46423\\n[DIR] ipykernel_46677\\n[DIR] ipykernel_48456\\n[DIR] ipykernel_49442\\n[DIR] ipykernel_49844\\n[DIR] kakkoii1337-code-zsh\\n[DIR] node-compile-cache\\n[DIR] pyright-25088-Hs41yOiRozoa\\n[DIR] python-languageserver-cancellation\\n[FILE] remote-wsl-loc.txt\\n[DIR] snap-private-tmp\\n[DIR] ssh-XXXXXXIIGZNm\\n[DIR] systemd-private-d936ba9b290e429aaeaedd09ea6ff704-systemd-logind.service-EPZX7z\\n[DIR] systemd-private-d936ba9b290e429aaeaedd09ea6ff704-systemd-resolved.service-6p3Xdv\\n[DIR] systemd-private-d936ba9b290e429aaeaedd09ea6ff704-systemd-timesyncd.service-kLFePw\\n[DIR] user\\n[FILE] vscode-distro-env.2RNrhh\\n[FILE] vscode-distro-env.AuX4sW\\n[FILE] vscode-distro-env.lWaPAa\\n[FILE] vscode-ipc-16348fd2-5e05-4e92-a79a-9da14af38dbd.sock\\n[FILE] vscode-ipc-1a1fda0d-320a-46c1-8699-5ba83393f67f.sock\\n[FILE] vscode-ipc-1f25b544-91d3-4a7b-ad0c-b140b13f6a48.sock\\n[FILE] vscode-ipc-40c06149-2818-4c70-91bf-fb2907351fe2.sock\\n[FILE] vscode-ipc-61436185-bd40-4911-8165-99dac6b65acc.sock\\n[FILE] vscode-ipc-a0759caf-7557-490a-8f65-6d41b868b0ea.sock\\n[FILE] vscode-remote-containers-5198f8af-7dae-48e6-b022-6a1b9b41b294.js\\n[FILE] vscode-remote-containers-71edfcc2-2d25-47be-ae04-54da4f616cbe.js\\n[FILE] vscode-remote-containers-b42b7944-94a5-4c86-a104-04b7b13d52b0.js\\n[FILE] vscode-remote-containers-d14940db-ee83-43d2-8557-6330c1a4ffb5.js\\n[FILE] vscode-remote-containers-ipc-5198f8af-7dae-48e6-b022-6a1b9b41b294.sock\\n[FILE] vscode-remote-containers-ipc-71edfcc2-2d25-47be-ae04-54da4f616cbe.sock\\n[FILE] vscode-remote-containers-ipc-b42b7944-94a5-4c86-a104-04b7b13d52b0.sock\\n[FILE] vscode-remote-containers-ipc-d14940db-ee83-43d2-8557-6330c1a4ffb5.sock\\n[FILE] vscode-remote-containers-server-5198f8af-7dae-48e6-b022-6a1b9b41b294.js\\n[FILE] vscode-remote-containers-server-71edfcc2-2d25-47be-ae04-54da4f616cbe.js\\n[FILE] vscode-remote-containers-server-b42b7944-94a5-4c86-a104-04b7b13d52b0.js\\n[FILE] vscode-remote-containers-server-d14940db-ee83-43d2-8557-6330c1a4ffb5.js\\n[FILE] vscode-ssh-auth-5198f8af-7dae-48e6-b022-6a1b9b41b294.sock\\n[FILE] vscode-ssh-auth-71edfcc2-2d25-47be-ae04-54da4f616cbe.sock\\n[FILE] vscode-ssh-auth-b42b7944-94a5-4c86-a104-04b7b13d52b0.sock\\n[FILE] vscode-ssh-auth-d14940db-ee83-43d2-8557-6330c1a4ffb5.sock\\n[DIR] vscode-typescript1000\\n[FILE] vscode-wayland-223d6d43-a8b9-4045-8a35-507f7075b9d6.sock\\n[FILE] vscode-wayland-6e87cd96-2412-417e-a864-c11739ff9c9b.sock\\n[FILE] vscode-wayland-b31f9e36-07be-4440-bacd-1c095fb90a30.sock', annotations=None)] isError=False\n"
     ]
    }
   ],
   "source": [
    "from gai.mcp.client import McpClient\n",
    "from gai.lib.config import config_helper\n",
    "\n",
    "# Create filesystem client\n",
    "mcp_config = config_helper.get_client_config({\n",
    "        \"type\": \"npx\",\n",
    "        \"client_type\": \"gai\",\n",
    "        \"extra\":{\n",
    "            \"command\": \"npx\",\n",
    "            \"args\": [\"-y\",\"@modelcontextprotocol/server-filesystem\",\"/tmp\"]\n",
    "        }\n",
    "})\n",
    "filesystem_client = McpClient(mcp_config)\n",
    "result = await filesystem_client.call_tool(tool_name=\"list_directory\",path=\"/tmp\")\n",
    "print(result)\n"
   ]
  },
  {
   "cell_type": "markdown",
   "id": "c0b0cc33",
   "metadata": {},
   "source": [
    "---\n",
    "\n",
    "## MCP-pseudo\n",
    "\n",
    "### a) List Tools"
   ]
  },
  {
   "cell_type": "code",
   "execution_count": 4,
   "id": "6d3e1c5b",
   "metadata": {},
   "outputs": [
    {
     "name": "stdout",
     "output_type": "stream",
     "text": [
      "Tool: user_input\n",
      "Description: {'type': 'function', 'function': {'name': 'user_input', 'description': '\\n    When you see this tool, it means that you may interrupt the conversation to ask the user for input.\\n    When calling this tool, you need to be specific and clear about what you need from the user.\\n    You need to ask in such a way that you can get a specific answer after this tool is called.\\n    This is a pseudo tool and so do not inform the user you are using it. You just have to use it.\\n    ALWAYS REMEMBER. If you need user input, you MUST call this tool.\\n    Args:\\n        N.A.\\n    Returns:\\n        str: Input from the user\\n    ', 'parameters': {'properties': {}, 'title': 'user_inputArguments', 'type': 'object'}}}\n",
      "\n"
     ]
    }
   ],
   "source": [
    "from gai.mcp.client import McpAggregatedClient\n",
    "\n",
    "filesystem_client = McpAggregatedClient([\"mcp-pseudo\"])\n",
    "tools = await filesystem_client.list_tools()\n",
    "\n",
    "# List available tools\n",
    "for tool in tools:\n",
    "    print(f\"Tool: {tool['function']['name']}\\nDescription: {tool}\\n\")\n"
   ]
  },
  {
   "cell_type": "markdown",
   "id": "71a06663",
   "metadata": {},
   "source": [
    "---\n",
    "\n",
    "## MCP - Common"
   ]
  },
  {
   "cell_type": "code",
   "execution_count": 2,
   "id": "3478a288",
   "metadata": {},
   "outputs": [
    {
     "name": "stdout",
     "output_type": "stream",
     "text": [
      "Tool: delete_file\n",
      "Description: {'type': 'function', 'function': {'name': 'delete_file', 'description': '\\n    Delete a file if it exists.\\n\\n    Args:\\n        file_path (str): Path to the file to delete.\\n\\n    Returns:\\n        bool: True if the file was deleted, False if it did not exist.\\n    ', 'parameters': {'properties': {'file_path': {'title': 'File Path', 'type': 'string'}}, 'required': ['file_path'], 'title': 'delete_fileArguments', 'type': 'object'}}}\n",
      "\n",
      "Tool: move_file\n",
      "Description: {'type': 'function', 'function': {'name': 'move_file', 'description': '\\n    Move a file from source to destination, handling cross-filesystem moves.\\n\\n    Args:\\n        src_path (str): Source file path\\n        dst_path (str): Destination file path (full path including filename)\\n\\n    Returns:\\n        str: Final destination path\\n    ', 'parameters': {'properties': {'src_path': {'title': 'Src Path', 'type': 'string'}, 'dst_path': {'title': 'Dst Path', 'type': 'string'}}, 'required': ['src_path', 'dst_path'], 'title': 'move_fileArguments', 'type': 'object'}}}\n",
      "\n",
      "Tool: is_exist\n",
      "Description: {'type': 'function', 'function': {'name': 'is_exist', 'description': '\\n    Simple check to verify if a directory exists.\\n    Args:\\n        name: Name of the directory to check.\\n        directory: Path in which to check for the directory.\\n    Returns:\\n        bool: True if the directory exists, False otherwise.\\n    ', 'parameters': {'properties': {'file_path': {'title': 'File Path', 'type': 'string'}}, 'required': ['file_path'], 'title': 'is_existArguments', 'type': 'object'}}}\n",
      "\n",
      "Tool: read_text_file\n",
      "Description: {'type': 'function', 'function': {'name': 'read_text_file', 'description': '\\n    Read the contents of a text file.\\n    Args:\\n        file_path (str): Path to the text file to read.\\n    Returns:\\n        dict: Result containing the file contents or an error message if the file does not exist.\\n    ', 'parameters': {'properties': {'file_path': {'title': 'File Path', 'type': 'string'}}, 'required': ['file_path'], 'title': 'read_text_fileArguments', 'type': 'object'}}}\n",
      "\n",
      "Tool: read_image_file\n",
      "Description: {'type': 'function', 'function': {'name': 'read_image_file', 'description': '\\n    Read the contents of an image file into a base64-encoded string.\\n    Resizes image to fit within 512x512 pixels while maintaining aspect ratio if needed.\\n    Args:\\n        file_path (str): Path to the image file to read.\\n    Returns:\\n        dict: Result containing the base64-encoded content of the image or an error message if the file does not exist.\\n    ', 'parameters': {'properties': {'file_path': {'title': 'File Path', 'type': 'string'}}, 'required': ['file_path'], 'title': 'read_image_fileArguments', 'type': 'object'}}}\n",
      "\n",
      "Tool: find_files_containing_string\n",
      "Description: {'type': 'function', 'function': {'name': 'find_files_containing_string', 'description': '\\n    Find files in a directory that contain a specific string.\\n    Args:\\n        directory (str): Directory to search in.\\n        search_string (str): String to search for in files.\\n    Returns:\\n        list: List of file paths containing the search string.\\n    ', 'parameters': {'properties': {'directory': {'title': 'Directory', 'type': 'string'}, 'search_string': {'title': 'Search String', 'type': 'string'}}, 'required': ['directory', 'search_string'], 'title': 'find_files_containing_stringArguments', 'type': 'object'}}}\n",
      "\n"
     ]
    }
   ],
   "source": [
    "from gai.mcp.client import McpAggregatedClient\n",
    "\n",
    "mcp_client = McpAggregatedClient([\"mcp-common\"])\n",
    "tools = await mcp_client.list_tools()\n",
    "\n",
    "# List available tools\n",
    "for tool in tools:\n",
    "    print(f\"Tool: {tool['function']['name']}\\nDescription: {tool}\\n\")\n"
   ]
  },
  {
   "cell_type": "markdown",
   "id": "97338632",
   "metadata": {},
   "source": [
    "#### delete_file"
   ]
  },
  {
   "cell_type": "code",
   "execution_count": 3,
   "id": "5c2931bf",
   "metadata": {},
   "outputs": [],
   "source": [
    "# Arrange\n",
    "import os\n",
    "from gai.lib.tests import make_local_tmp\n",
    "from gai.mcp.client import McpAggregatedClient\n",
    "tmp = make_local_tmp()\n",
    "file_path = os.path.join(tmp,\"tmp_1.txt\")\n",
    "with open(file_path,\"w\") as f:\n",
    "    f.write(\"Hello\")\n",
    "os.path.exists(file_path)\n",
    "\n",
    "# Act\n",
    "client = McpAggregatedClient([\"mcp-common\"])\n",
    "result = await client.call_tool(tool_name=\"delete_file\",file_path=file_path)\n",
    "\n",
    "# Assert\n",
    "assert not os.path.exists(file_path)"
   ]
  },
  {
   "cell_type": "markdown",
   "id": "2672afbb",
   "metadata": {},
   "source": [
    "#### move_file"
   ]
  },
  {
   "cell_type": "code",
   "execution_count": null,
   "id": "f7ca950d",
   "metadata": {},
   "outputs": [],
   "source": [
    "# Arrange\n",
    "import os\n",
    "from gai.lib.tests import make_local_tmp\n",
    "from gai.mcp.client import McpAggregatedClient\n",
    "tmp = make_local_tmp()\n",
    "file_path = os.path.join(tmp,\"tmp_1.txt\")\n",
    "with open(file_path,\"w\") as f:\n",
    "    f.write(\"Hello\")\n",
    "os.path.exists(file_path)\n",
    "\n",
    "# Act\n",
    "client = McpAggregatedClient([\"mcp-common\"])\n",
    "result = await client.call_tool(\n",
    "    tool_name=\"move_file\",\n",
    "    src_path=file_path,\n",
    "    dst_path=os.path.join(tmp,\"tmp_2.txt\"))\n",
    "\n",
    "# Assert\n",
    "assert not os.path.exists(os.path.join(tmp, \"tmp_1.txt\"))\n",
    "assert os.path.exists(os.path.join(tmp, \"tmp_2.txt\"))"
   ]
  },
  {
   "cell_type": "markdown",
   "id": "531c26d6",
   "metadata": {},
   "source": [
    "#### is_exist"
   ]
  },
  {
   "cell_type": "code",
   "execution_count": null,
   "id": "6741a640",
   "metadata": {},
   "outputs": [],
   "source": [
    "# Arrange\n",
    "import os\n",
    "from gai.lib.tests import make_local_tmp\n",
    "from gai.mcp.client import McpAggregatedClient\n",
    "tmp = make_local_tmp()\n",
    "file_path = os.path.join(tmp,\"tmp_1.txt\")\n",
    "with open(file_path,\"w\") as f:\n",
    "    f.write(\"Hello\")\n",
    "os.path.exists(file_path)\n",
    "\n",
    "# Act\n",
    "client = McpAggregatedClient([\"mcp-common\"])\n",
    "result = await client.call_tool(\n",
    "    tool_name=\"is_exist\",\n",
    "    file_path=file_path)\n",
    "\n",
    "assert bool(result.content[0].text)\n"
   ]
  },
  {
   "cell_type": "markdown",
   "id": "e36ea22b",
   "metadata": {},
   "source": [
    "#### read_text_file"
   ]
  },
  {
   "cell_type": "code",
   "execution_count": 5,
   "id": "2bee83e5",
   "metadata": {},
   "outputs": [],
   "source": [
    "# Arrange\n",
    "import os\n",
    "from gai.lib.tests import make_local_tmp\n",
    "from gai.mcp.client import McpAggregatedClient\n",
    "\n",
    "tmp = make_local_tmp()\n",
    "file_path = os.path.join(tmp, \"tmp_1.txt\")\n",
    "with open(file_path, \"w\") as f:\n",
    "    f.write(\"Hello\")\n",
    "os.path.exists(file_path)\n",
    "\n",
    "# Act\n",
    "client = McpAggregatedClient([\"mcp-common\"])\n",
    "result = await client.call_tool(tool_name=\"read_text_file\", file_path=file_path)\n",
    "\n",
    "assert result.content[0].text == '{\\n  \"content\": \"Hello\"\\n}'\n"
   ]
  },
  {
   "cell_type": "markdown",
   "id": "b17ea5d1",
   "metadata": {},
   "source": [
    "#### read_image_file"
   ]
  },
  {
   "cell_type": "code",
   "execution_count": 11,
   "id": "9eeb2d0a",
   "metadata": {},
   "outputs": [
    {
     "name": "stdout",
     "output_type": "stream",
     "text": [
      "meta=None content=[TextContent(type='text', text='{\\n  \"content\": {\\n    \"type\": \"image\",\\n    \"source\": {\\n      \"type\": \"base64\",\\n      \"mime_type\": \"image/jpeg\",\\n      \"data\": \"/9j/4AAQSkZJRgABAQAAAQABAAD/2wBDAAUDBAQEAwUEBAQFBQUGBwwIBwcHBw8LCwkMEQ8SEhEPERETFhwXExQaFRERGCEYGh0dHx8fExciJCIeJBweHx7/2wBDAQUFBQcGBw4ICA4eFBEUHh4eHh4eHh4eHh4eHh4eHh4eHh4eHh4eHh4eHh4eHh4eHh4eHh4eHh4eHh4eHh4eHh7/wAARCABkAGQDASIAAhEBAxEB/8QAFQABAQAAAAAAAAAAAAAAAAAAAAf/xAAUEAEAAAAAAAAAAAAAAAAAAAAA/8QAFgEBAQEAAAAAAAAAAAAAAAAAAAcI/8QAFBEBAAAAAAAAAAAAAAAAAAAAAP/aAAwDAQACEQMRAD8AlgCdNlgAAAAAAAAAAAAAAAAAAAAAAAAAAAAAAAAAAAAAAAAAAAAAAAAAAAAAAAAAAAAAAAAAAAAAAAAAAAAAAAAAAAAAAAAAAAAAAAP/2Q==\"\\n    }\\n  }\\n}', annotations=None, meta=None)] structuredContent=None isError=False\n"
     ]
    }
   ],
   "source": [
    "# Arrange\n",
    "import os\n",
    "import json\n",
    "from PIL import Image\n",
    "from gai.lib.tests import make_local_tmp\n",
    "from gai.mcp.client import McpAggregatedClient\n",
    "\n",
    "tmp = make_local_tmp()\n",
    "file_path = os.path.join(tmp, \"tmp_image.jpg\")\n",
    "\n",
    "# Create a small RGB image for testing\n",
    "img = Image.new(\"RGB\", (100, 100), color=\"red\")\n",
    "img.save(file_path)\n",
    "\n",
    "assert os.path.exists(file_path)\n",
    "\n",
    "# Act\n",
    "client = McpAggregatedClient([\"mcp-common\"])\n",
    "result = await client.call_tool(tool_name=\"read_image_file\", file_path=file_path)\n",
    "\n",
    "# Assert\n",
    "# Parse the returned JSON string from TextContent\n",
    "raw_json = result.content[0].text\n",
    "parsed = json.loads(raw_json)\n",
    "source = parsed[\"content\"][\"source\"]\n",
    "assert source[\"type\"] == \"base64\"\n",
    "assert source[\"mime_type\"] == \"image/jpeg\"\n",
    "assert isinstance(source[\"data\"], str)\n",
    "assert (\n",
    "    source[\"data\"]\n",
    "    == \"/9j/4AAQSkZJRgABAQAAAQABAAD/2wBDAAUDBAQEAwUEBAQFBQUGBwwIBwcHBw8LCwkMEQ8SEhEPERETFhwXExQaFRERGCEYGh0dHx8fExciJCIeJBweHx7/2wBDAQUFBQcGBw4ICA4eFBEUHh4eHh4eHh4eHh4eHh4eHh4eHh4eHh4eHh4eHh4eHh4eHh4eHh4eHh4eHh4eHh4eHh7/wAARCABkAGQDASIAAhEBAxEB/8QAFQABAQAAAAAAAAAAAAAAAAAAAAf/xAAUEAEAAAAAAAAAAAAAAAAAAAAA/8QAFgEBAQEAAAAAAAAAAAAAAAAAAAcI/8QAFBEBAAAAAAAAAAAAAAAAAAAAAP/aAAwDAQACEQMRAD8AlgCdNlgAAAAAAAAAAAAAAAAAAAAAAAAAAAAAAAAAAAAAAAAAAAAAAAAAAAAAAAAAAAAAAAAAAAAAAAAAAAAAAAAAAAAAAAAAAAAAAAP/2Q==\"\n",
    ")\n",
    "print(result)"
   ]
  },
  {
   "cell_type": "markdown",
   "id": "8b31e170",
   "metadata": {},
   "source": [
    "#### file_files_containing_string"
   ]
  },
  {
   "cell_type": "code",
   "execution_count": 12,
   "id": "32854a8c",
   "metadata": {},
   "outputs": [],
   "source": [
    "import os\n",
    "from gai.lib.tests import make_local_tmp\n",
    "from gai.mcp.client import McpAggregatedClient\n",
    "\n",
    "# Arrange\n",
    "tmp_dir = make_local_tmp()\n",
    "file1 = os.path.join(tmp_dir, \"file1.txt\")\n",
    "file2 = os.path.join(tmp_dir, \"file2.txt\")\n",
    "with open(file1, \"w\", encoding=\"utf-8\") as f:\n",
    "    f.write(\"this file contains the magic word banana\")\n",
    "with open(file2, \"w\", encoding=\"utf-8\") as f:\n",
    "    f.write(\"this one does not\")\n",
    "\n",
    "client = McpAggregatedClient([\"mcp-common\"])\n",
    "\n",
    "# Act\n",
    "result = await client.call_tool(\n",
    "    tool_name=\"find_files_containing_string\",\n",
    "    directory=tmp_dir,\n",
    "    search_string=\"banana\",\n",
    ")\n",
    "\n",
    "# Assert\n",
    "files = result.content[0].text\n",
    "parsed = json.loads(files)\n",
    "assert \"files\" in parsed\n",
    "assert file1 in parsed[\"files\"]\n",
    "assert file2 not in parsed[\"files\"]\n"
   ]
  },
  {
   "cell_type": "markdown",
   "id": "a66fbfd3",
   "metadata": {},
   "source": [
    "#### file_tree"
   ]
  },
  {
   "cell_type": "code",
   "execution_count": 1,
   "id": "acb2c264",
   "metadata": {},
   "outputs": [],
   "source": [
    "# Arrange\n",
    "import os\n",
    "from gai.lib.tests import make_local_tmp\n",
    "from gai.mcp.client import McpAggregatedClient\n",
    "\n",
    "tmp = make_local_tmp()\n",
    "os.makedirs(os.path.join(tmp, \"dir1\", \"subdir\"))\n",
    "with open(os.path.join(tmp, \"dir1\", \"file1.txt\"), \"w\") as f:\n",
    "    f.write(\"test\")\n",
    "with open(os.path.join(tmp, \"dir1\", \"subdir\", \"file2.txt\"), \"w\") as f:\n",
    "    f.write(\"test\")\n",
    "\n",
    "# Act\n",
    "client = McpAggregatedClient([\"mcp-common\"])\n",
    "result = await client.call_tool(tool_name=\"file_tree\", file_path=tmp)\n",
    "\n",
    "# Assert\n",
    "tree_str = result.content[0].text\n",
    "assert \"dir1\" in tree_str\n",
    "assert \"file1.txt\" in tree_str\n",
    "assert \"subdir\" in tree_str\n",
    "assert \"file2.txt\" in tree_str\n"
   ]
  },
  {
   "cell_type": "markdown",
   "id": "611a8072",
   "metadata": {},
   "source": [
    "---\n",
    "\n",
    "## MCP - web"
   ]
  },
  {
   "cell_type": "code",
   "execution_count": 3,
   "id": "9cc21711",
   "metadata": {},
   "outputs": [
    {
     "name": "stdout",
     "output_type": "stream",
     "text": [
      "Tool: scrape\n",
      "Description: {'type': 'function', 'function': {'name': 'scrape', 'description': '\\n    Scrape a webpage and return the parsed response.\\n\\n    Args:\\n        - url (str): The URL of the webpage to scrape.\\n    Returns:\\n        - source: Source of the parsed content\\n        - title: Title of the document\\n        - text: Main body of the document\\n        - authors: List of authors\\n        - summary: Summary of the document\\n        - keywords: Keywords associated with the document\\n        - categories: Categories the document belongs to\\n        - publish_date: Publication date of the document\\n        - length: Total length of the document in characters, computed from text\\n        - created_at: Creation timestamp of the parsed response\\n        - links: Dictionary of links related to the document\\n        - chunks: Optional list of text chunks parsed from the document\\n    ', 'parameters': {'properties': {'url': {'title': 'Url', 'type': 'string'}}, 'required': ['url'], 'title': 'scrapeArguments', 'type': 'object'}}}\n",
      "\n",
      "Tool: search\n",
      "Description: {'type': 'function', 'function': {'name': 'search', 'description': \"\\n    The 'search' function is a powerful tool that allows the AI to gather external information from the internet using Google search. It can be invoked when the AI needs to answer a question or provide information that requires up-to-date, comprehensive, and diverse sources which are not inherently known by the AI. For instance, it can be used to find current news, weather updates, latest sports scores, trending topics, specific facts, or even the current date and time. The usage of this tool should be considered when the user's query implies or explicitly requests recent or wide-ranging data, or when the AI's inherent knowledge base may not have the required or most current information. The 'search_query' parameter should be a concise and accurate representation of the information needed.\\n\\n    Args:\\n    - search_query (str): The query to search for on the web. This should be a concise and accurate representation of the information needed.\\n\\n    Returns:\\n    - query: str\\n    - chunks: List[Chunk]\\n    \", 'parameters': {'properties': {'search_query': {'title': 'search_query', 'type': 'string'}}, 'required': ['search_query'], 'title': 'searchArguments', 'type': 'object'}}}\n",
      "\n",
      "Tool: screenshot\n",
      "Description: {'type': 'function', 'function': {'name': 'screenshot', 'description': '\\n    Take a screenshot of a webpage and save it to a temporary file.\\n\\n    Use this tool when you need to:\\n    - Capture visual representation of websites\\n    - Get screenshots for documentation or analysis\\n    - Verify how a webpage appears visually\\n    - Capture dynamic content that may not be accessible via scraping\\n    - Create visual records of web pages\\n\\n    Args:\\n        url (str): The URL of the webpage to screenshot\\n\\n    Returns:\\n        str: Path to the temporary screenshot file (PNG format).\\n             IMPORTANT: You are responsible for cleaning up this file when done.\\n\\n    Example usage:\\n        temp_path = await screenshot(\"https://example.com\")\\n        # Process the screenshot...\\n        os.unlink(temp_path)  # Clean up when done\\n    ', 'parameters': {'properties': {'url': {'title': 'Url', 'type': 'string'}}, 'required': ['url'], 'title': 'screenshotArguments', 'type': 'object'}}}\n",
      "\n",
      "Tool: download\n",
      "Description: {'type': 'function', 'function': {'name': 'download', 'description': '\\n    Download a file from the web and save it to a temporary location.\\n\\n    Use this tool when you need to:\\n    - Download files (PDFs, images, videos, documents, archives, etc.) from URLs\\n    - Access file content that requires downloading rather than web scraping\\n    - Obtain binary files that cannot be processed through text-based scraping\\n    - Download files for further processing, analysis, or storage\\n    - Get files from direct download links, file servers, or content repositories\\n\\n    Examples of when to use this tool:\\n    - \"Download this PDF document from the URL\"\\n    - \"Get the image file from this link\"\\n    - \"Download the dataset file for analysis\"\\n    - \"Fetch the software installer from the download page\"\\n    - \"Download the CSV file containing the data\"\\n\\n    Do NOT use this for:\\n    - Scraping webpage content (use scrape() instead)\\n    - Taking screenshots of webpages (use screenshot() instead)\\n    - Reading text content from web pages (use scrape() instead)\\n\\n    Args:\\n        url (str): Direct URL to the file you want to download\\n\\n    Returns:\\n        str: Path to the downloaded temporary file.\\n             IMPORTANT: You are responsible for cleaning up this file when done.\\n             The file will persist until manually deleted.\\n\\n    Example usage:\\n        temp_path = await download(\"https://example.com/document.pdf\")\\n        # Process the file...\\n        os.unlink(temp_path)  # Clean up when done\\n    ', 'parameters': {'properties': {'url': {'title': 'Url', 'type': 'string'}}, 'required': ['url'], 'title': 'downloadArguments', 'type': 'object'}}}\n",
      "\n"
     ]
    }
   ],
   "source": [
    "from gai.mcp.client import McpAggregatedClient\n",
    "\n",
    "filesystem_client = McpAggregatedClient([\"mcp-web\"])\n",
    "tools = await filesystem_client.list_tools()\n",
    "\n",
    "# List available tools\n",
    "for tool in tools:\n",
    "    print(f\"Tool: {tool['function']['name']}\\nDescription: {tool}\\n\")\n"
   ]
  },
  {
   "cell_type": "markdown",
   "id": "f6070699",
   "metadata": {},
   "source": [
    "i. scrape"
   ]
  },
  {
   "cell_type": "code",
   "execution_count": 5,
   "id": "9967b31f",
   "metadata": {},
   "outputs": [
    {
     "data": {
      "text/plain": [
       "'{\\n  \"source\": \"https://example.com\",\\n  \"title\": \"https://example.com\",\\n  \"text\": \"Example Domain Example Domain This domain is for use in illustrative examples in documents. You may use this\\\\n    domain in literature without prior coordination or asking for permission. More information...\",\\n  \"authors\": [],\\n  \"summary\": \"Example DomainThis domain is for use in illustrative examples in documents.\\\\nYou may use this domain in literature without prior coordination or asking for permission.\\\\nMore information...\",\\n  \"keywords\": [\\n    \"example\",\\n    \"domain\",\\n    \"permissionmore\",\\n    \"information\",\\n    \"prior\",\\n    \"domainthis\",\\n    \"documents\",\\n    \"examples\",\\n    \"literature\",\\n    \"illustrative\"\\n  ],\\n  \"categories\": [],\\n  \"publish_date\": null,\\n  \"length\": 206,\\n  \"created_at\": \"2025-08-03T13:14:25.239178\",\\n  \"links\": {\\n    \"https://www.iana.org/domains/example\": \"More information...\"\\n  },\\n  \"chunks\": []\\n}'"
      ]
     },
     "execution_count": 5,
     "metadata": {},
     "output_type": "execute_result"
    }
   ],
   "source": [
    "# Arrange\n",
    "from gai.mcp.client import McpAggregatedClient\n",
    "\n",
    "# Act\n",
    "client = McpAggregatedClient([\"mcp-web\"])\n",
    "result = await client.call_tool(\n",
    "    tool_name=\"scrape\", url=\"https://example.com\"\n",
    ")\n",
    "\n",
    "# Assert\n",
    "result.content[0].text\n"
   ]
  },
  {
   "cell_type": "markdown",
   "id": "f83f4425",
   "metadata": {},
   "source": [
    "ii. search"
   ]
  },
  {
   "cell_type": "code",
   "execution_count": 4,
   "id": "3174ccb9",
   "metadata": {},
   "outputs": [
    {
     "data": {
      "text/plain": [
       "'{\\n  \"query\": \"Best Chicken Rice in Singapore\",\\n  \"chunks\": [\\n    {\\n      \"index\": 0,\\n      \"link_title\": \"https://hungrygowhere.com/what-to-eat/best-chicken-rice-singapore/\",\\n      \"link\": \"https://hungrygowhere.com/what-to-eat/best-chicken-rice-singapore/\",\\n      \"chunk\": \"Boon Tong Kee 8. Loy Kee Best Chicken Rice 9. Fiie\\'s Cafe 10. Golden Mile Thien Kee Steamboat Restaurant 11. Ji De Lai Hainanese Chicken Rice 12. Uncle Louis Famous Chicken Rice 13. Go-Ang Pratunam Chicken Rice 14. Katong Mei Wei 15. Mat Noh & Rose Authentic Ginger Fried Chicken Rice If you were to walk up to any Singaporean and ask where the best chicken rice in Singapore is, you’d probably get a plethora of responses — from childhood favourites to historical institutions. No matter the food trend that sweeps our tiny nation, this local dish remains a favourite that stands the test of time. The dish originated in Hainan, China, and was\\xa0 introduced across the way down to Singapore in the early 19th century . It has changed over time to accommodate regional tastes, giving rise to the distinctive Singaporean variety we are all familiar with. You may also find different takes on the simple concept of chicken and rice here, thanks to our multi-cultural influences. Due to the dish’s enduring popularity, chicken rice eateries are everywhere in our city and have i\",\\n      \"score\": 0.0\\n    },\\n    {\\n      \"index\": 1,\\n      \"link_title\": \"https://hungrygowhere.com/what-to-eat/best-chicken-rice-singapore/\",\\n      \"link\": \"https://hungrygowhere.com/what-to-eat/best-chicken-rice-singapore/\",\\n      \"chunk\": \"Due to the dish’s enduring popularity, chicken rice eateries are everywhere in our city and have increasingly evolved to suit our demanding palates. The list is long but here is our shortlist of 15 of the best chicken rice in Singapore . 1. Sing Swee Kee Chicken Rice Restaurant Multiple stores islandwide. Open: Operating hours vary across outlets Photo: Sing Swee Kee Chicken Rice Restaurant/Facebook Why visit? There’s a bit of history behind the name “Swee Kee” and chicken rice in Singapore, and only those born before 1997 will have probably had a chance to try the original, as it closed that same year. But its popularity lived on, with many banking on the name, including the former owners of Sing Swee Kee Chicken Rice Restaurant . In 2019, the brand was sold to Eliss Pang and her family, fellow Hainanese who saw potential in the store and the brand’s expansion. However despite the similar name, its current recipe has little relation to the original Swee Kee. While the former owners of Sing Swee Kee engaged kitchen staff from the famed store in an attempt t\",\\n      \"score\": 0.0\\n    },\\n    {\\n      \"index\": 2,\\n      \"link_title\": \"https://hungrygowhere.com/what-to-eat/best-chicken-rice-singapore/\",\\n      \"link\": \"https://hungrygowhere.com/what-to-eat/best-chicken-rice-singapore/\",\\n      \"chunk\": \"While the former owners of Sing Swee Kee engaged kitchen staff from the famed store in an attempt to recreate the recipe, Eliss’ family further tweaked it. For one, the chilli here is closer to what Eliss’ late grandmother would make, a tangier and spicier rendition that many have come to love. Crowd favourites: The classic poached chicken (ranges from S$8.40 for a single portion to S$45.60 for a whole chicken) here is always tender, juicy and sports the quintessential “jelly” between the slurpable chicken skin and flesh — a sign of a well-poached chicken. It is best eaten with the selection of sauces on the table — the aforementioned chilli, the sweet dark soy and, a personal favourite, the aromatic ginger scallion paste. What’s great about Sing Swee Kee is that its menu is extensive (going beyond just being one of the best chicken rice in Singapore ) with a robust zi char selection . A favourite is the Hainanese herbal mutton soup (from S$24), which is a soothing broth teeming with\",\\n      \"score\": 0.0\\n    },\\n    {\\n      \"index\": 0,\\n      \"link_title\": \"https://sethlui.com/best-must-try-chicken-rice-singapore/\",\\n      \"link\": \"https://sethlui.com/best-must-try-chicken-rice-singapore/\",\\n      \"chunk\": \"[Apr 2025 update] Singapore Food Chinese Food Guides By Pavin Chopra April 27, 2025 49027 Share Facebook Telegram WhatsApp Copy URL Where’s the best chicken rice in Singapore? I’d like to think that my love for chicken rice is unparalleled. Could I have it for lunch every day? Sure. Dinner as well? You bet I’ll try. In Singapore, where Hainan-adapted chicken rice is regarded as a national delicacy , there is no shortage of the dish that need not be served hot for enjoyment. Instead, save for the most convenient stall-next-door, it probably is difficult to agree on which cook did it right. As more discerning gourmands today, our idea of perfection can be marred by a snide remark from the waiter, a too-hard seat, or even an unsavoury food delay. But in the pursuit of perfection, where chefs adapt and innovate, traditional chicken rice has far outgrown the old rice ball techniques (although there are still a few stalls around carrying it) and standard offerings of supplements. So, we present to you the 15 best “clucking good” chicken rice stalls in Singapore . 1. Mat Noh &\",\\n      \"score\": 0.0\\n    },\\n    {\\n      \"index\": 1,\\n      \"link_title\": \"https://sethlui.com/best-must-try-chicken-rice-singapore/\",\\n      \"link\": \"https://sethlui.com/best-must-try-chicken-rice-singapore/\",\\n      \"chunk\": \"So, we present to you the 15 best “clucking good” chicken rice stalls in Singapore . 1. Mat Noh & Rose Authentic Ginger Fried Chicken Rice Strange to start this off with a nasi ayam entry, but this is a small ode to show how versatile “chicken rice” can mean. Mat Noh & Rose Authentic Ginger Fried Chicken Rice at Whampoa has our Editor’s stamp of approval. Sprinkled with crunchy batter, the halal stall’s Standard Chicken Rice (S$4.50) features a fleshy piece of chicken breast (you may opt for chicken wing too) resting atop a massive mound of basmati rice that is richly infused with ginger, just like its name. Feeling peckish? Adorn your plate with sides like Begedil (S$1) , Stir-fry Vegetables (S$1) and more. 91 Whampoa Drive, Whampoa Food Centre, #01-27, Singapore 320091 +65 8400 2206 Tue to Sat: 9am – 3pm Closed on Sun & Mon Facebook | Instagram 2. Zi Jing Cheng Hainanese Boneless Chicken Rice Credit Selling only Steamed Hainanese Boneless Chicke\",\\n      \"score\": 0.0\\n    },\\n    {\\n      \"index\": 2,\\n      \"link_title\": \"https://sethlui.com/best-must-try-chicken-rice-singapore/\",\\n      \"link\": \"https://sethlui.com/best-must-try-chicken-rice-singapore/\",\\n      \"chunk\": \"Zi Jing Cheng Hainanese Boneless Chicken Rice Credit Selling only Steamed Hainanese Boneless Chicken (S$3.50/ S$9/ S$13.50) , Zi Jing Cheng Hainanese Boneless Chicken Rice at Bukit Merah is according to the Michelin Guide , a stall that you can “expect to queue anytime.” Credit Although they have set menus that accommodate 1 to 3 customers, they are unsurprisingly popular for their 1-Person Meal (S$3.50) . Of course, the best things in life are hassle-free. These tender deboned chickens are served in a pool of soy sauce that complements the soft rice grains. As they are renowned for being sold out around 1pm , come early to avoid the disappointing sight of bare chicken bones hanging behind a glass-fronted counter. 120 Bukit Merah Lane 1, Alexandra Village Food Centre, #01-15, Singapore 150120 Wed to Sat: 10.30am – 2.30pm Closed on Sun to Tue 3. Hup Hong Chicken Rice Crowned as “ one of the best chicken rice in Jurong ,” Hup Hong Chicken Rice\",\\n      \"score\": 0.0\\n    },\\n    {\\n      \"index\": 0,\\n      \"link_title\": \"https://www.reddit.com/r/askSingapore/comments/1fhzc9m/chicken_rice_which_is_your_favourite/\",\\n      \"link\": \"https://www.reddit.com/r/askSingapore/comments/1fhzc9m/chicken_rice_which_is_your_favourite/\",\\n      \"chunk\": \"The thing is that the so-called authentic Hainanese-style chicken rice these days seem less authentic. Why am I saying this? That\\'s because I grew up eating the real stuff from Purvis Street where there were two very authentic Hainanese eateries that sold amazing ones. One was Yet Con . That place was good with Hainanese-style steamboat. The rice, though not as famous, was authentic as it was cooked with chicken fats to bring out the aroma. The chickens were also done to perfection. Right opposite Yet Con was a rundown, non-airconditioned chicken rice place that had a big hole in the middle of its premise (roof). This place was my favourite. Not only was the rice cooked with chicken fats, the soup was was also the best chicken broth I ever had. Back in those days, you could also ask for free refills. This place also served Hainanese Sio Bak which pickled carrot leaves were put on top and drizzled in sweet black soya sauce. One thing I forgot to mention. These two also had the authentic chicken rice chili sauce which is so different from the ones toda\",\\n      \"score\": 0.0\\n    },\\n    {\\n      \"index\": 1,\\n      \"link_title\": \"https://www.reddit.com/r/askSingapore/comments/1fhzc9m/chicken_rice_which_is_your_favourite/\",\\n      \"link\": \"https://www.reddit.com/r/askSingapore/comments/1fhzc9m/chicken_rice_which_is_your_favourite/\",\\n      \"chunk\": \"These two also had the authentic chicken rice chili sauce which is so different from the ones today. Instead of chili padis, the big, red ones which are less spicy were used. Chicken broth and calamansi juice were used for the preparation. Grated old ginger was prepared with a mix of the broth, fats and salt. My final pick for authentic Hainanese Chicken rice is Chatterbox in the 70s and 80s, not what it is now. How about my fellow Singapore redditors? Which is your favourite? Edit: Thank you to those who responded! ^.^ Read more Archived post. New comments cannot be posted and votes cannot be cast. Share MarvelRivals • Promoted She saw your defeat before the match even started. Download marvelrivals.com Sort by: Best Open comment sort options Best Top New Controversial Old Q&A Horlicksiewdai • 1y ago not the simonboy chicken rice nor tian tian my fav one is the one at amk central small s11, they offer soup as well as fried garlic bits . its not the bestest chicken rice in sg, but its the most comforting to me and i gonna eat it later\",\\n      \"score\": 0.0\\n    },\\n    {\\n      \"index\": 2,\\n      \"link_title\": \"https://www.reddit.com/r/askSingapore/comments/1fhzc9m/chicken_rice_which_is_your_favourite/\",\\n      \"link\": \"https://www.reddit.com/r/askSingapore/comments/1fhzc9m/chicken_rice_which_is_your_favourite/\",\\n      \"chunk\": \"its not the bestest chicken rice in sg, but its the most comforting to me and i gonna eat it later for dinner. track me Reply reply Share 3 more replies 3 more replies More replies mecatman • 1y ago Best for me is still 925 Yishun chicken rice . Reply reply Share 2 more replies 2 more replies More replies catinabread • 1y ago Just want to point out that most Hainanese chicken rice stalls left in SG are not authentically Hainanese. They adopt a more cantonese style where it is served in sweet soy sauce. Authentic chicken rice is served with the chicken rubbed with salt and that is it. The closest you could get back when it was still open was “ Yet Con ”. The best used to be this stall along upper thomson road that closed maybe 15 years ago, where “Chicken House” used to be. Edit: oops wrote the comment before reading the post in detail 😅 Reply reply Share 18 more replies 18 more replies More replies lansig_chan • 1y ago Not the best bu\",\\n      \"score\": 0.0\\n    }\\n  ]\\n}'"
      ]
     },
     "execution_count": 4,
     "metadata": {},
     "output_type": "execute_result"
    }
   ],
   "source": [
    "# Arrange\n",
    "from gai.mcp.client import McpAggregatedClient\n",
    "\n",
    "# Act\n",
    "client = McpAggregatedClient([\"mcp-web\"])\n",
    "result = await client.call_tool(tool_name=\"search\", search_query=\"Best Chicken Rice in Singapore\")\n",
    "\n",
    "# Assert\n",
    "result.content[0].text\n"
   ]
  },
  {
   "cell_type": "markdown",
   "id": "92f7fb85",
   "metadata": {},
   "source": [
    "iii. screenshot"
   ]
  },
  {
   "cell_type": "code",
   "execution_count": 6,
   "id": "f8a65c31",
   "metadata": {},
   "outputs": [
    {
     "data": {
      "text/plain": [
       "TextContent(type='text', text=\"Error executing tool screenshot: 500: {'code': 'unknown', 'message': 'Internal Server Error'}\", annotations=None, meta=None)"
      ]
     },
     "execution_count": 6,
     "metadata": {},
     "output_type": "execute_result"
    }
   ],
   "source": [
    "# Arrange\n",
    "from gai.mcp.client import McpAggregatedClient\n",
    "\n",
    "# Act\n",
    "client = McpAggregatedClient([\"mcp-web\"])\n",
    "result = await client.call_tool(\n",
    "    tool_name=\"screenshot\",\n",
    "    url=\"https://www.asiaone.com/world/trump-administration-says-gulf-america-name-change-now-official\",\n",
    ")\n",
    "\n",
    "# Assert\n",
    "result.content[0]\n"
   ]
  }
 ],
 "metadata": {
  "kernelspec": {
   "display_name": "gai-sdk",
   "language": "python",
   "name": "python3"
  },
  "language_info": {
   "codemirror_mode": {
    "name": "ipython",
    "version": 3
   },
   "file_extension": ".py",
   "mimetype": "text/x-python",
   "name": "python",
   "nbconvert_exporter": "python",
   "pygments_lexer": "ipython3",
   "version": "3.10.18"
  }
 },
 "nbformat": 4,
 "nbformat_minor": 5
}
