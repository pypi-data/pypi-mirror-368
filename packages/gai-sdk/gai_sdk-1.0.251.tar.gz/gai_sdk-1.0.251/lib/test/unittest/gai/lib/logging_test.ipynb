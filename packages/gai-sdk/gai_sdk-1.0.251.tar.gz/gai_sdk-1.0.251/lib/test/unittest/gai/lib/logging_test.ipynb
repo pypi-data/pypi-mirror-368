{
 "cells": [
  {
   "cell_type": "code",
   "execution_count": 1,
   "id": "024bdb6f",
   "metadata": {},
   "outputs": [
    {
     "name": "stderr",
     "output_type": "stream",
     "text": [
      "WARNING:__main__:Warning\n",
      "INFO:__main__:Info\n"
     ]
    }
   ],
   "source": [
    "import logging\n",
    "\n",
    "logging.basicConfig(level=logging.INFO, force=True)\n",
    "logger = logging.getLogger(__name__)\n",
    "logger.warning(\"Warning\")\n",
    "logger.info(\"Info\")\n",
    "logger.debug(\"Debug\")\n"
   ]
  },
  {
   "cell_type": "code",
   "execution_count": 3,
   "id": "78c83f6f",
   "metadata": {},
   "outputs": [
    {
     "data": {
      "text/html": [
       "<pre style=\"white-space:pre;overflow-x:auto;line-height:normal;font-family:Menlo,'DejaVu Sans Mono',consolas,'Courier New',monospace\"><span style=\"color: #000000; text-decoration-color: #000000; background-color: #008000\">INFO    </span> <span style=\"color: #008000; text-decoration-color: #008000\">Info</span>                                                                                                      \n",
       "</pre>\n"
      ],
      "text/plain": [
       "\u001b[30;42mINFO    \u001b[0m \u001b[32mInfo\u001b[0m                                                                                                      \n"
      ]
     },
     "metadata": {},
     "output_type": "display_data"
    },
    {
     "name": "stderr",
     "output_type": "stream",
     "text": [
      "INFO:__main__:Info\n"
     ]
    }
   ],
   "source": [
    "import os\n",
    "from gai.lib.logging import getLogger\n",
    "logger = getLogger(__name__)\n",
    "os.environ[\"LOG_LEVEL\"] = \"INFO\"\n",
    "logger.info(\"Info\")\n"
   ]
  }
 ],
 "metadata": {
  "kernelspec": {
   "display_name": "gai-mace",
   "language": "python",
   "name": "python3"
  },
  "language_info": {
   "codemirror_mode": {
    "name": "ipython",
    "version": 3
   },
   "file_extension": ".py",
   "mimetype": "text/x-python",
   "name": "python",
   "nbconvert_exporter": "python",
   "pygments_lexer": "ipython3",
   "version": "3.10.18"
  }
 },
 "nbformat": 4,
 "nbformat_minor": 5
}
