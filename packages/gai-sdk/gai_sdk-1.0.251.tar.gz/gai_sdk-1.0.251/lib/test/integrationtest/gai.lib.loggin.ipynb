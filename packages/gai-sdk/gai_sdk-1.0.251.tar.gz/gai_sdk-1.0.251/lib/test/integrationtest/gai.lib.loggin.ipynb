{
 "cells": [
  {
   "cell_type": "code",
   "execution_count": 1,
   "id": "7654bf54",
   "metadata": {},
   "outputs": [
    {
     "data": {
      "text/html": [
       "<pre style=\"white-space:pre;overflow-x:auto;line-height:normal;font-family:Menlo,'DejaVu Sans Mono',consolas,'Courier New',monospace\"><span style=\"color: #000000; text-decoration-color: #000000; background-color: #af00ff\">DEBUG   </span> <span style=\"color: #af00ff; text-decoration-color: #af00ff\">This is a debug message</span>                                                                                   \n",
       "</pre>\n"
      ],
      "text/plain": [
       "\u001b[30;48;5;129mDEBUG   \u001b[0m \u001b[38;5;129mThis is a debug message\u001b[0m                                                                                   \n"
      ]
     },
     "metadata": {},
     "output_type": "display_data"
    },
    {
     "data": {
      "text/html": [
       "<pre style=\"white-space:pre;overflow-x:auto;line-height:normal;font-family:Menlo,'DejaVu Sans Mono',consolas,'Courier New',monospace\"><span style=\"color: #000000; text-decoration-color: #000000; background-color: #008000\">INFO    </span> <span style=\"color: #008000; text-decoration-color: #008000\">This is an info message</span>                                                                                   \n",
       "</pre>\n"
      ],
      "text/plain": [
       "\u001b[30;42mINFO    \u001b[0m \u001b[32mThis is an info message\u001b[0m                                                                                   \n"
      ]
     },
     "metadata": {},
     "output_type": "display_data"
    },
    {
     "data": {
      "text/html": [
       "<pre style=\"white-space:pre;overflow-x:auto;line-height:normal;font-family:Menlo,'DejaVu Sans Mono',consolas,'Courier New',monospace\"><span style=\"color: #000000; text-decoration-color: #000000; background-color: #808000\">WARNING </span> <span style=\"color: #808000; text-decoration-color: #808000\">This is a warning message</span>                                                                                 \n",
       "</pre>\n"
      ],
      "text/plain": [
       "\u001b[30;43mWARNING \u001b[0m \u001b[33mThis is a warning message\u001b[0m                                                                                 \n"
      ]
     },
     "metadata": {},
     "output_type": "display_data"
    },
    {
     "data": {
      "text/html": [
       "<pre style=\"white-space:pre;overflow-x:auto;line-height:normal;font-family:Menlo,'DejaVu Sans Mono',consolas,'Courier New',monospace\"><span style=\"color: #000000; text-decoration-color: #000000; background-color: #800000\">ERROR   </span> <span style=\"color: #ff0000; text-decoration-color: #ff0000\">This is an error message</span>                                                                                  \n",
       "</pre>\n"
      ],
      "text/plain": [
       "\u001b[30;41mERROR   \u001b[0m \u001b[91mThis is an error message\u001b[0m                                                                                  \n"
      ]
     },
     "metadata": {},
     "output_type": "display_data"
    },
    {
     "data": {
      "text/html": [
       "<pre style=\"white-space:pre;overflow-x:auto;line-height:normal;font-family:Menlo,'DejaVu Sans Mono',consolas,'Courier New',monospace\"><span style=\"color: #ffffff; text-decoration-color: #ffffff; background-color: #800000; font-weight: bold\">CRITICAL</span> <span style=\"color: #800000; text-decoration-color: #800000\">This is a critical message</span>                                                                                \n",
       "</pre>\n"
      ],
      "text/plain": [
       "\u001b[1;38;2;255;255;255;41mCRITICAL\u001b[0m \u001b[31mThis is a critical message\u001b[0m                                                                                \n"
      ]
     },
     "metadata": {},
     "output_type": "display_data"
    }
   ],
   "source": [
    "from gai.lib.logging import getLogger\n",
    "import logging\n",
    "\n",
    "if __name__ == \"__main__\":\n",
    "    \n",
    "    logger = getLogger(\"example_logger\")\n",
    "    logger.setLevel(logging.DEBUG)  # Set the log level to DEBUG\n",
    "    logger.debug(\"This is a debug message\")\n",
    "    logger.info(\"This is an info message\")\n",
    "    logger.warning(\"This is a warning message\")\n",
    "    logger.error(\"This is an error message\")\n",
    "    logger.critical(\"This is a critical message\")"
   ]
  }
 ],
 "metadata": {
  "kernelspec": {
   "display_name": ".venv",
   "language": "python",
   "name": "python3"
  },
  "language_info": {
   "codemirror_mode": {
    "name": "ipython",
    "version": 3
   },
   "file_extension": ".py",
   "mimetype": "text/x-python",
   "name": "python",
   "nbconvert_exporter": "python",
   "pygments_lexer": "ipython3",
   "version": "3.10.12"
  }
 },
 "nbformat": 4,
 "nbformat_minor": 5
}
