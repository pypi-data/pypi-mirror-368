{
    "cells": [
        {
            "cell_type": "markdown",
            "metadata": {},
            "source": [
                "get pyproject.toml"
            ]
        },
        {
            "cell_type": "code",
            "execution_count": 2,
            "metadata": {},
            "outputs": [
                {
                    "name": "stdout",
                    "output_type": "stream",
                    "text": [
                        "/workspaces/gai/lib/pyproject.toml\n"
                    ]
                }
            ],
            "source": [
                "from gai.lib.tests import get_pyproject_path\n",
                "pyproject_path = get_pyproject_path()\n",
                "print(pyproject_path)"
            ]
        },
        {
            "cell_type": "markdown",
            "metadata": {},
            "source": [
                "test install packages"
            ]
        },
        {
            "cell_type": "code",
            "execution_count": 3,
            "metadata": {},
            "outputs": [
                {
                    "name": "stdout",
                    "output_type": "stream",
                    "text": [
                        "🔍 Testing editable install.\n"
                    ]
                },
                {
                    "name": "stderr",
                    "output_type": "stream",
                    "text": [
                        "Using CPython 3.10.16 interpreter at: \u001b[36m/usr/local/bin/python3.10\u001b[39m\n",
                        "Creating virtual environment at: \u001b[36m/tmp/tmp6uub_cko/env\u001b[39m\n",
                        "Activate with: \u001b[32msource /tmp/tmp6uub_cko/env/bin/activate\u001b[39m\n"
                    ]
                },
                {
                    "name": "stdout",
                    "output_type": "stream",
                    "text": [
                        "Looking in links: /tmp/tmpb2ks0y3g\n",
                        "Processing /tmp/tmpb2ks0y3g/setuptools-65.5.0-py3-none-any.whl\n",
                        "Processing /tmp/tmpb2ks0y3g/pip-23.0.1-py3-none-any.whl\n",
                        "Installing collected packages: setuptools, pip\n",
                        "Successfully installed pip-23.0.1 setuptools-65.5.0\n",
                        "Requirement already satisfied: pip in /tmp/tmp6uub_cko/env/lib/python3.10/site-packages (23.0.1)\n",
                        "Collecting pip\n",
                        "  Using cached pip-25.1.1-py3-none-any.whl (1.8 MB)\n",
                        "Installing collected packages: pip\n",
                        "  Attempting uninstall: pip\n",
                        "    Found existing installation: pip 23.0.1\n",
                        "    Uninstalling pip-23.0.1:\n",
                        "      Successfully uninstalled pip-23.0.1\n",
                        "Successfully installed pip-25.1.1\n",
                        "🔍 Installed gai modules:\n",
                        "  - gai-lib (version: 0.181.0) @ /workspaces/gai/lib\n",
                        "  - gai-sdk (version: 1.0.219) @ /workspaces/gai\n",
                        "🟢 Install package test passed\n"
                    ]
                },
                {
                    "name": "stderr",
                    "output_type": "stream",
                    "text": [
                        "\u001b[2mUsing Python 3.10.16 environment at: /workspaces/gai/.venv\u001b[0m\n",
                        "\u001b[2mAudited \u001b[1m1 package\u001b[0m \u001b[2min 41ms\u001b[0m\u001b[0m\n"
                    ]
                }
            ],
            "source": [
                "from gai.lib.tests import install_package_test\n",
                "install_package_test(pyproject_path)"
            ]
        }
    ],
    "metadata": {
        "kernelspec": {
            "display_name": ".venv",
            "language": "python",
            "name": "python3"
        },
        "language_info": {
            "codemirror_mode": {
                "name": "ipython",
                "version": 3
            },
            "file_extension": ".py",
            "mimetype": "text/x-python",
            "name": "python",
            "nbconvert_exporter": "python",
            "pygments_lexer": "ipython3",
            "version": "3.10.16"
        }
    },
    "nbformat": 4,
    "nbformat_minor": 2
}
