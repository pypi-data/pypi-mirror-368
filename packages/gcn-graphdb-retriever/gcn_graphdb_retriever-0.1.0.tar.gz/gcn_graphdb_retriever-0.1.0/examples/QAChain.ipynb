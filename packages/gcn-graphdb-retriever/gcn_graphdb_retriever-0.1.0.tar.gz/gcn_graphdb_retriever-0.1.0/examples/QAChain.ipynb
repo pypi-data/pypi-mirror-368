{
 "cells": [
  {
   "cell_type": "markdown",
   "id": "ae9f88ca-de59-4b61-91d2-c47a0873b5b7",
   "metadata": {},
   "source": [
    "# 1. Connect to Neo4j database"
   ]
  },
  {
   "cell_type": "code",
   "execution_count": 1,
   "id": "f0664b54-35ad-4ec3-88da-4267ec8161eb",
   "metadata": {},
   "outputs": [],
   "source": [
    "from gcn_graphdb_retriever import GCNGraphDB\n",
    "\n",
    "URI = \"bolt://localhost:7687\"\n",
    "AUTH = (\"neo4j\", \"20230049\") # Replace with your password\n",
    "graph = GCNGraphDB(URI, AUTH)"
   ]
  },
  {
   "cell_type": "code",
   "execution_count": null,
   "id": "b3350e44-5358-4d98-9ed5-9cec1427bae8",
   "metadata": {},
   "outputs": [],
   "source": []
  },
  {
   "cell_type": "code",
   "execution_count": 2,
   "id": "c252c532-b674-42e5-ad54-f714e77ceda7",
   "metadata": {},
   "outputs": [],
   "source": [
    "graph.close()"
   ]
  },
  {
   "cell_type": "code",
   "execution_count": null,
   "id": "6a69dc42-a15e-4138-80e4-c6e5bceab0ca",
   "metadata": {},
   "outputs": [],
   "source": []
  }
 ],
 "metadata": {
  "kernelspec": {
   "display_name": "Python 3 (ipykernel)",
   "language": "python",
   "name": "python3"
  },
  "language_info": {
   "codemirror_mode": {
    "name": "ipython",
    "version": 3
   },
   "file_extension": ".py",
   "mimetype": "text/x-python",
   "name": "python",
   "nbconvert_exporter": "python",
   "pygments_lexer": "ipython3",
   "version": "3.12.7"
  }
 },
 "nbformat": 4,
 "nbformat_minor": 5
}
